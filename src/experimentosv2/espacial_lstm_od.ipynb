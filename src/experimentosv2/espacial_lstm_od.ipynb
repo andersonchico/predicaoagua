{
 "cells": [
  {
   "cell_type": "markdown",
   "metadata": {},
   "source": [
    "Modelo LSTM para prever o parâmetro pH "
   ]
  },
  {
   "cell_type": "code",
   "execution_count": 26,
   "metadata": {},
   "outputs": [],
   "source": [
    "import pandas as pd\n",
    "import numpy as np\n",
    "import matplotlib.pyplot as plt\n",
    "from tensorflow.keras.models import Sequential\n",
    "from tensorflow.keras.layers import Dense, LSTM, Dropout\n",
    "from sklearn.preprocessing import MinMaxScaler\n",
    "from tensorflow.keras.callbacks import EarlyStopping\n",
    "import math\n",
    "import matplotlib.pyplot as plt\n",
    "plt.rcParams['xtick.labelsize']= 18\n",
    "plt.rcParams['ytick.labelsize']= 18\n",
    "plt.rcParams.update({'font.size':18})"
   ]
  },
  {
   "cell_type": "code",
   "execution_count": 27,
   "metadata": {},
   "outputs": [],
   "source": [
    "str_files = ''\n",
    "\n",
    "#df = pd.read_csv(str_files + \"ph.csv\",encoding='utf-8',sep=';')\n",
    "dateparse = lambda dates:pd.datetime.strptime(dates,'%d/%m/%Y')\n",
    "df = pd.read_csv(str_files + 'od.CSV',encoding='utf-8',sep=';', parse_dates = ['data_coleta'],index_col=['data_coleta'],date_parser=dateparse)"
   ]
  },
  {
   "cell_type": "code",
   "execution_count": 28,
   "metadata": {},
   "outputs": [],
   "source": [
    "#df.head()"
   ]
  },
  {
   "cell_type": "code",
   "execution_count": 29,
   "metadata": {},
   "outputs": [],
   "source": [
    "z = df.loc[df['UGRHI'] == '10 - SOROCABA/MEDIO TIETE']\n",
    "#z.info()"
   ]
  },
  {
   "cell_type": "code",
   "execution_count": 30,
   "metadata": {},
   "outputs": [],
   "source": [
    "z = z.dropna(axis=1,how='any')\n",
    "#for field in z.columns:\n",
    "    #print(field,'NaN',z[field].isnull().sum())\n",
    "#print(len(z))"
   ]
  },
  {
   "cell_type": "code",
   "execution_count": 31,
   "metadata": {},
   "outputs": [
    {
     "name": "stdout",
     "output_type": "stream",
     "text": [
      "treino: 133\n",
      "teste: 33\n"
     ]
    },
    {
     "data": {
      "text/plain": [
       "33"
      ]
     },
     "execution_count": 31,
     "metadata": {},
     "output_type": "execute_result"
    }
   ],
   "source": [
    "trainingd = z.resample('3M').mean()\n",
    "trainingd\n",
    "data = trainingd.iloc[:,1:2].values\n",
    "\n",
    "train = trainingd.iloc[0:133,1:2].values  \n",
    "test = trainingd.iloc[133:,1:2].values   \n",
    "print('treino:',len(train))\n",
    "print('teste:',len(test))\n",
    "len(test)"
   ]
  },
  {
   "cell_type": "code",
   "execution_count": 32,
   "metadata": {},
   "outputs": [],
   "source": [
    "sc = MinMaxScaler()\n",
    "train_normalizado = sc.fit_transform(train)"
   ]
  },
  {
   "cell_type": "code",
   "execution_count": 33,
   "metadata": {},
   "outputs": [
    {
     "data": {
      "text/plain": [
       "(125, 8, 1)"
      ]
     },
     "execution_count": 33,
     "metadata": {},
     "output_type": "execute_result"
    }
   ],
   "source": [
    "timestamp = 8\n",
    "previsores = []\n",
    "od_real    = []\n",
    "for i in range(timestamp, len(train)):\n",
    "    previsores.append(train_normalizado[i-timestamp:i, 0])\n",
    "    od_real.append(train_normalizado[i, 0])\n",
    "previsores, od_real = np.array(previsores), np.array(od_real)\n",
    "previsores = np.reshape(previsores, (previsores.shape[0], previsores.shape[1], 1))\n",
    "previsores.shape"
   ]
  },
  {
   "cell_type": "code",
   "execution_count": 41,
   "metadata": {},
   "outputs": [
    {
     "name": "stdout",
     "output_type": "stream",
     "text": [
      "Rede Neural LSTM com 10 neuronios nas camadas de entrada e oculta - epocas:100\n",
      "Train on 125 samples\n",
      "Epoch 1/100\n",
      "125/125 [==============================] - 18s 142ms/sample - loss: 0.1829\n",
      "Epoch 2/100\n",
      "125/125 [==============================] - 0s 3ms/sample - loss: 0.1527\n",
      "Epoch 3/100\n",
      "125/125 [==============================] - 0s 3ms/sample - loss: 0.1219\n",
      "Epoch 4/100\n",
      "125/125 [==============================] - 0s 3ms/sample - loss: 0.0959\n",
      "Epoch 5/100\n",
      "125/125 [==============================] - 0s 3ms/sample - loss: 0.0668\n",
      "Epoch 6/100\n",
      "125/125 [==============================] - 0s 3ms/sample - loss: 0.0513\n",
      "Epoch 7/100\n",
      "125/125 [==============================] - 0s 3ms/sample - loss: 0.0505\n",
      "Epoch 8/100\n",
      "125/125 [==============================] - 0s 3ms/sample - loss: 0.0468\n",
      "Epoch 9/100\n",
      "125/125 [==============================] - 0s 3ms/sample - loss: 0.0485\n",
      "Epoch 10/100\n",
      "125/125 [==============================] - 0s 4ms/sample - loss: 0.0482\n",
      "Epoch 11/100\n",
      "125/125 [==============================] - 0s 3ms/sample - loss: 0.0438\n",
      "Epoch 12/100\n",
      "125/125 [==============================] - 0s 3ms/sample - loss: 0.0415\n",
      "Epoch 13/100\n",
      "125/125 [==============================] - 0s 3ms/sample - loss: 0.0492\n",
      "Epoch 14/100\n",
      "125/125 [==============================] - 0s 3ms/sample - loss: 0.0448\n",
      "Epoch 15/100\n",
      "125/125 [==============================] - 0s 3ms/sample - loss: 0.0474\n",
      "Epoch 16/100\n",
      "125/125 [==============================] - 0s 3ms/sample - loss: 0.0433\n",
      "Epoch 17/100\n",
      "125/125 [==============================] - 0s 3ms/sample - loss: 0.0460\n",
      "Epoch 18/100\n",
      "125/125 [==============================] - 0s 3ms/sample - loss: 0.0402\n",
      "Epoch 19/100\n",
      "125/125 [==============================] - 0s 3ms/sample - loss: 0.0458\n",
      "Epoch 20/100\n",
      "125/125 [==============================] - 0s 3ms/sample - loss: 0.0413\n",
      "Epoch 21/100\n",
      "125/125 [==============================] - 0s 3ms/sample - loss: 0.0374\n",
      "Epoch 22/100\n",
      "125/125 [==============================] - 0s 3ms/sample - loss: 0.0420\n",
      "Epoch 23/100\n",
      "125/125 [==============================] - 0s 3ms/sample - loss: 0.0440\n",
      "Epoch 24/100\n",
      "125/125 [==============================] - 0s 3ms/sample - loss: 0.0427\n",
      "Epoch 25/100\n",
      "125/125 [==============================] - 0s 3ms/sample - loss: 0.0446\n",
      "Epoch 26/100\n",
      "125/125 [==============================] - 0s 3ms/sample - loss: 0.0400\n",
      "Epoch 27/100\n",
      "125/125 [==============================] - 0s 3ms/sample - loss: 0.0462\n",
      "Epoch 28/100\n",
      "125/125 [==============================] - 0s 3ms/sample - loss: 0.0360\n",
      "Epoch 29/100\n",
      "125/125 [==============================] - 0s 3ms/sample - loss: 0.0435\n",
      "Epoch 30/100\n",
      "125/125 [==============================] - 0s 3ms/sample - loss: 0.0411\n",
      "Epoch 31/100\n",
      "125/125 [==============================] - 0s 3ms/sample - loss: 0.0433\n",
      "Epoch 32/100\n",
      "125/125 [==============================] - 0s 3ms/sample - loss: 0.0481\n",
      "Epoch 33/100\n",
      "125/125 [==============================] - 0s 3ms/sample - loss: 0.0457\n",
      "Epoch 34/100\n",
      "125/125 [==============================] - 0s 4ms/sample - loss: 0.0404\n",
      "Epoch 35/100\n",
      "125/125 [==============================] - 0s 3ms/sample - loss: 0.0460\n",
      "Epoch 36/100\n",
      "125/125 [==============================] - 0s 3ms/sample - loss: 0.0418\n",
      "Epoch 37/100\n",
      "125/125 [==============================] - 0s 4ms/sample - loss: 0.0419\n",
      "Epoch 38/100\n",
      "125/125 [==============================] - 0s 3ms/sample - loss: 0.0357\n",
      "Epoch 39/100\n",
      "125/125 [==============================] - 0s 4ms/sample - loss: 0.0380\n",
      "Epoch 40/100\n",
      "125/125 [==============================] - 0s 4ms/sample - loss: 0.0374\n",
      "Epoch 41/100\n",
      "125/125 [==============================] - 0s 3ms/sample - loss: 0.0419\n",
      "Epoch 42/100\n",
      "125/125 [==============================] - 0s 4ms/sample - loss: 0.0426\n",
      "Epoch 43/100\n",
      "125/125 [==============================] - 0s 4ms/sample - loss: 0.0411\n",
      "Epoch 44/100\n",
      "125/125 [==============================] - 0s 3ms/sample - loss: 0.0445\n",
      "Epoch 45/100\n",
      "125/125 [==============================] - 0s 3ms/sample - loss: 0.0416\n",
      "Epoch 46/100\n",
      "125/125 [==============================] - 0s 3ms/sample - loss: 0.0422\n",
      "Epoch 47/100\n",
      "125/125 [==============================] - 0s 3ms/sample - loss: 0.0425\n",
      "Epoch 48/100\n",
      "125/125 [==============================] - 0s 3ms/sample - loss: 0.0392\n",
      "Epoch 49/100\n",
      "125/125 [==============================] - 0s 3ms/sample - loss: 0.0413\n",
      "Epoch 50/100\n",
      "125/125 [==============================] - 0s 3ms/sample - loss: 0.0428\n",
      "Epoch 51/100\n",
      "125/125 [==============================] - 0s 3ms/sample - loss: 0.0395\n",
      "Epoch 52/100\n",
      "125/125 [==============================] - 0s 3ms/sample - loss: 0.0384\n",
      "Epoch 53/100\n",
      "125/125 [==============================] - 0s 3ms/sample - loss: 0.0354\n",
      "Epoch 54/100\n",
      "125/125 [==============================] - 0s 3ms/sample - loss: 0.0421\n",
      "Epoch 55/100\n",
      "125/125 [==============================] - 0s 3ms/sample - loss: 0.0403\n",
      "Epoch 56/100\n",
      "125/125 [==============================] - 0s 3ms/sample - loss: 0.0390\n",
      "Epoch 57/100\n",
      "125/125 [==============================] - 0s 3ms/sample - loss: 0.0401 0s - loss: 0.040\n",
      "Epoch 58/100\n",
      "125/125 [==============================] - 0s 3ms/sample - loss: 0.0411\n",
      "Epoch 59/100\n",
      "125/125 [==============================] - 0s 3ms/sample - loss: 0.0402\n",
      "Epoch 60/100\n",
      "125/125 [==============================] - 0s 3ms/sample - loss: 0.0388\n",
      "Epoch 61/100\n",
      "125/125 [==============================] - 0s 3ms/sample - loss: 0.0452\n",
      "Epoch 62/100\n",
      "125/125 [==============================] - 0s 3ms/sample - loss: 0.0408\n",
      "Epoch 63/100\n",
      "125/125 [==============================] - 0s 3ms/sample - loss: 0.0423\n",
      "Epoch 64/100\n",
      "125/125 [==============================] - 0s 3ms/sample - loss: 0.0376\n",
      "Epoch 65/100\n",
      "125/125 [==============================] - 0s 3ms/sample - loss: 0.0420\n",
      "Epoch 66/100\n",
      "125/125 [==============================] - 0s 3ms/sample - loss: 0.0394\n",
      "Epoch 67/100\n",
      "125/125 [==============================] - 0s 3ms/sample - loss: 0.0472\n",
      "Epoch 68/100\n",
      "125/125 [==============================] - 0s 3ms/sample - loss: 0.0403\n",
      "Epoch 69/100\n",
      "125/125 [==============================] - 0s 3ms/sample - loss: 0.0391\n",
      "Epoch 70/100\n",
      "125/125 [==============================] - 0s 3ms/sample - loss: 0.0412\n",
      "Epoch 71/100\n",
      "125/125 [==============================] - 0s 3ms/sample - loss: 0.0388\n",
      "Epoch 72/100\n",
      "125/125 [==============================] - 0s 3ms/sample - loss: 0.0461\n",
      "Epoch 73/100\n",
      "125/125 [==============================] - 0s 3ms/sample - loss: 0.0443\n",
      "Epoch 74/100\n",
      "125/125 [==============================] - 0s 3ms/sample - loss: 0.0411\n",
      "Epoch 75/100\n",
      "125/125 [==============================] - 0s 3ms/sample - loss: 0.0374\n",
      "Epoch 76/100\n",
      "125/125 [==============================] - 0s 3ms/sample - loss: 0.0407\n",
      "Epoch 77/100\n",
      "125/125 [==============================] - 0s 3ms/sample - loss: 0.0436\n",
      "Epoch 78/100\n",
      "125/125 [==============================] - 0s 3ms/sample - loss: 0.0398\n",
      "Epoch 79/100\n",
      "125/125 [==============================] - 0s 3ms/sample - loss: 0.0398\n",
      "Epoch 80/100\n",
      "125/125 [==============================] - 0s 3ms/sample - loss: 0.0400\n",
      "Epoch 81/100\n",
      "125/125 [==============================] - 0s 3ms/sample - loss: 0.0411\n",
      "Epoch 82/100\n",
      "125/125 [==============================] - 0s 3ms/sample - loss: 0.0375\n",
      "Epoch 83/100\n",
      "125/125 [==============================] - 0s 3ms/sample - loss: 0.0421\n",
      "Epoch 84/100\n",
      "125/125 [==============================] - 0s 3ms/sample - loss: 0.0386\n",
      "Epoch 85/100\n",
      "125/125 [==============================] - 0s 3ms/sample - loss: 0.0407\n",
      "Epoch 86/100\n",
      "125/125 [==============================] - 0s 4ms/sample - loss: 0.0402\n",
      "Epoch 87/100\n",
      "125/125 [==============================] - 0s 3ms/sample - loss: 0.0427\n",
      "Epoch 88/100\n",
      "125/125 [==============================] - 0s 3ms/sample - loss: 0.0383\n",
      "Epoch 89/100\n",
      "125/125 [==============================] - 0s 3ms/sample - loss: 0.0390\n",
      "Epoch 90/100\n",
      "125/125 [==============================] - 0s 3ms/sample - loss: 0.0410\n",
      "Epoch 91/100\n",
      "125/125 [==============================] - 0s 3ms/sample - loss: 0.0400\n",
      "Epoch 92/100\n",
      "125/125 [==============================] - 0s 3ms/sample - loss: 0.0390\n",
      "Epoch 93/100\n",
      "125/125 [==============================] - 0s 3ms/sample - loss: 0.0387\n",
      "Epoch 94/100\n",
      "125/125 [==============================] - 0s 3ms/sample - loss: 0.0419\n",
      "Epoch 95/100\n",
      "125/125 [==============================] - 0s 3ms/sample - loss: 0.0408\n",
      "Epoch 96/100\n"
     ]
    },
    {
     "name": "stdout",
     "output_type": "stream",
     "text": [
      "125/125 [==============================] - 0s 3ms/sample - loss: 0.0397\n",
      "Epoch 97/100\n",
      "125/125 [==============================] - 0s 2ms/sample - loss: 0.0382\n",
      "Epoch 98/100\n",
      "125/125 [==============================] - 0s 2ms/sample - loss: 0.0399\n",
      "Epoch 99/100\n",
      "125/125 [==============================] - 0s 2ms/sample - loss: 0.0432\n",
      "Epoch 100/100\n",
      "125/125 [==============================] - 0s 2ms/sample - loss: 0.0407\n"
     ]
    },
    {
     "data": {
      "text/plain": [
       "<tensorflow.python.keras.callbacks.History at 0x7f1474c35ad0>"
      ]
     },
     "execution_count": 41,
     "metadata": {},
     "output_type": "execute_result"
    }
   ],
   "source": [
    "print(\"Rede Neural LSTM com 10 neuronios nas camadas de entrada e oculta - epocas:100\")\n",
    "model = Sequential() \n",
    "\n",
    "model.add(LSTM(units = 10, return_sequences = True, input_shape = (previsores.shape[1], 1))) \n",
    "model.add(Dropout(0.2))\n",
    "model.add(LSTM(units = 10, return_sequences = True))\n",
    "model.add(Dropout(0.2))\n",
    "model.add(LSTM(units = 10, return_sequences = False)) \n",
    "model.add(Dropout(0.2))\n",
    "model.add(Dense(units = 1)) \n",
    "model.compile(optimizer = 'adam', loss = 'mean_squared_error')\n",
    "\n",
    "#es = EarlyStopping(monitor='val_loss',mode='auto',verbose = 1,patience=5)\n",
    "\n",
    "model.fit(previsores, od_real, epochs = 100, batch_size = 32)\n"
   ]
  },
  {
   "cell_type": "code",
   "execution_count": 42,
   "metadata": {},
   "outputs": [],
   "source": [
    "od_real_teste = test\n",
    "entradas = data[len(data) - len(test) - timestamp:]\n",
    "entradas = entradas.reshape(-1, 1)\n",
    "entradas = sc.transform(entradas)\n",
    "\n",
    "X_teste = []\n",
    "for i in range(timestamp, timestamp + len(test)):\n",
    "    X_teste.append(entradas[i-timestamp:i, 0])\n",
    "X_teste = np.array(X_teste)\n",
    "X_teste = np.reshape(X_teste, (X_teste.shape[0], X_teste.shape[1], 1))\n",
    "previsoes = model.predict(X_teste)\n",
    "previsoes = sc.inverse_transform(previsoes)\n",
    "\n",
    "previsoes_treino = model.predict(previsores)\n",
    "previsoes_treino = sc.inverse_transform(previsoes_treino)"
   ]
  },
  {
   "cell_type": "code",
   "execution_count": 43,
   "metadata": {},
   "outputs": [
    {
     "data": {
      "image/png": "[encoded data removed]",
      "text/plain": [
       "<Figure size 432x288 with 1 Axes>"
      ]
     },
     "metadata": {
      "needs_background": "light"
     },
     "output_type": "display_data"
    }
   ],
   "source": [
    "train_predict_plot = np.empty_like(data)\n",
    "train_predict_plot[:, :] = np.nan\n",
    "train_predict_plot[timestamp: len(previsoes_treino) + timestamp, :] = previsoes_treino\n",
    "\n",
    "test_predict_plot = np.empty_like(data)\n",
    "test_predict_plot[:, :] = np.nan\n",
    "test_predict_plot[len(previsoes_treino)+(timestamp):len(data), :] = previsoes\n",
    "\n",
    "plt.plot(data, label='OD Real', color='orange')\n",
    "plt.plot(train_predict_plot, color = 'red', label = 'Treino')\n",
    "plt.plot(test_predict_plot, color = 'blue', label = 'Teste')\n",
    "plt.title('')\n",
    "plt.xlabel('Trimestre')\n",
    "plt.ylabel('Valor OD')\n",
    "plt.legend(loc='best')\n",
    "plt.show()"
   ]
  },
  {
   "cell_type": "code",
   "execution_count": 44,
   "metadata": {},
   "outputs": [
    {
     "name": "stdout",
     "output_type": "stream",
     "text": [
      "Previsão (média): 3.61\n",
      "OD Real (média): 3.71\n",
      "Diferença (média): 0.1\n"
     ]
    }
   ],
   "source": [
    "print('Previsão (média):',round(previsoes.mean(),2))\n",
    "print('OD Real (média):', round(od_real_teste.mean(),2))\n",
    "print('Diferença (média):', round(od_real_teste.mean() - previsoes.mean(),2))"
   ]
  },
  {
   "cell_type": "code",
   "execution_count": 45,
   "metadata": {},
   "outputs": [
    {
     "name": "stdout",
     "output_type": "stream",
     "text": [
      "Pontuação de Treino: 0.04 MSE (0.19 RMSE)\n"
     ]
    }
   ],
   "source": [
    "train_score10 = model.evaluate(previsores, od_real, verbose=0)\n",
    "od10_mse  = train_score10\n",
    "od10_rmse = math.sqrt(train_score10)\n",
    "\n",
    "print('Pontuação de Treino: {:.2f} MSE ({:.2f} RMSE)'.format(train_score10, math.sqrt(train_score10)))\n",
    "#test_score10 = mdl.evaluate(X_test, y_test, verbose=0)\n",
    "#print('Pontuação de teste: {:.2f} MSE ({:.2f} RMSE)'.format(test_score10, math.sqrt(test_score10)))"
   ]
  },
  {
   "cell_type": "code",
   "execution_count": 46,
   "metadata": {},
   "outputs": [
    {
     "name": "stdout",
     "output_type": "stream",
     "text": [
      "Rede Neural LSTM com 25 neuronios nas camadas de entrada e oculta - epocas:100\n",
      "Train on 125 samples\n",
      "Epoch 1/100\n",
      "125/125 [==============================] - 17s 139ms/sample - loss: 0.2144\n",
      "Epoch 2/100\n",
      "125/125 [==============================] - 0s 3ms/sample - loss: 0.1607\n",
      "Epoch 3/100\n",
      "125/125 [==============================] - 0s 3ms/sample - loss: 0.1039\n",
      "Epoch 4/100\n",
      "125/125 [==============================] - 0s 3ms/sample - loss: 0.0536\n",
      "Epoch 5/100\n",
      "125/125 [==============================] - 0s 3ms/sample - loss: 0.0408\n",
      "Epoch 6/100\n",
      "125/125 [==============================] - 0s 3ms/sample - loss: 0.0491\n",
      "Epoch 7/100\n",
      "125/125 [==============================] - 0s 3ms/sample - loss: 0.0453\n",
      "Epoch 8/100\n",
      "125/125 [==============================] - 0s 3ms/sample - loss: 0.0387\n",
      "Epoch 9/100\n",
      "125/125 [==============================] - 0s 3ms/sample - loss: 0.0398\n",
      "Epoch 10/100\n",
      "125/125 [==============================] - 0s 3ms/sample - loss: 0.0426\n",
      "Epoch 11/100\n",
      "125/125 [==============================] - 0s 3ms/sample - loss: 0.0416\n",
      "Epoch 12/100\n",
      "125/125 [==============================] - 0s 3ms/sample - loss: 0.0394\n",
      "Epoch 13/100\n",
      "125/125 [==============================] - 0s 3ms/sample - loss: 0.0380\n",
      "Epoch 14/100\n",
      "125/125 [==============================] - 0s 3ms/sample - loss: 0.0405\n",
      "Epoch 15/100\n",
      "125/125 [==============================] - 0s 3ms/sample - loss: 0.0423\n",
      "Epoch 16/100\n",
      "125/125 [==============================] - 0s 3ms/sample - loss: 0.0368\n",
      "Epoch 17/100\n",
      "125/125 [==============================] - 0s 4ms/sample - loss: 0.0388\n",
      "Epoch 18/100\n",
      "125/125 [==============================] - 0s 3ms/sample - loss: 0.0375\n",
      "Epoch 19/100\n",
      "125/125 [==============================] - 0s 3ms/sample - loss: 0.0373\n",
      "Epoch 20/100\n",
      "125/125 [==============================] - 0s 3ms/sample - loss: 0.0398\n",
      "Epoch 21/100\n",
      "125/125 [==============================] - 0s 3ms/sample - loss: 0.0389\n",
      "Epoch 22/100\n",
      "125/125 [==============================] - 0s 3ms/sample - loss: 0.0373\n",
      "Epoch 23/100\n",
      "125/125 [==============================] - 0s 4ms/sample - loss: 0.0377\n",
      "Epoch 24/100\n",
      "125/125 [==============================] - 0s 3ms/sample - loss: 0.0342\n",
      "Epoch 25/100\n",
      "125/125 [==============================] - 0s 4ms/sample - loss: 0.0431\n",
      "Epoch 26/100\n",
      "125/125 [==============================] - 0s 3ms/sample - loss: 0.0419\n",
      "Epoch 27/100\n",
      "125/125 [==============================] - 0s 3ms/sample - loss: 0.0375\n",
      "Epoch 28/100\n",
      "125/125 [==============================] - 0s 3ms/sample - loss: 0.0372\n",
      "Epoch 29/100\n",
      "125/125 [==============================] - 0s 4ms/sample - loss: 0.0380\n",
      "Epoch 30/100\n",
      "125/125 [==============================] - 0s 4ms/sample - loss: 0.0336\n",
      "Epoch 31/100\n",
      "125/125 [==============================] - 1s 4ms/sample - loss: 0.0426\n",
      "Epoch 32/100\n",
      "125/125 [==============================] - 0s 4ms/sample - loss: 0.0388\n",
      "Epoch 33/100\n",
      "125/125 [==============================] - 0s 3ms/sample - loss: 0.0361\n",
      "Epoch 34/100\n",
      "125/125 [==============================] - 0s 3ms/sample - loss: 0.0390\n",
      "Epoch 35/100\n",
      "125/125 [==============================] - 0s 4ms/sample - loss: 0.0404\n",
      "Epoch 36/100\n",
      "125/125 [==============================] - 0s 4ms/sample - loss: 0.0386\n",
      "Epoch 37/100\n",
      "125/125 [==============================] - 0s 3ms/sample - loss: 0.0397\n",
      "Epoch 38/100\n",
      "125/125 [==============================] - 0s 3ms/sample - loss: 0.0352\n",
      "Epoch 39/100\n",
      "125/125 [==============================] - 0s 3ms/sample - loss: 0.0388\n",
      "Epoch 40/100\n",
      "125/125 [==============================] - 0s 3ms/sample - loss: 0.0367\n",
      "Epoch 41/100\n",
      "125/125 [==============================] - 0s 3ms/sample - loss: 0.0377\n",
      "Epoch 42/100\n",
      "125/125 [==============================] - 0s 3ms/sample - loss: 0.0396\n",
      "Epoch 43/100\n",
      "125/125 [==============================] - 0s 3ms/sample - loss: 0.0353\n",
      "Epoch 44/100\n",
      "125/125 [==============================] - 0s 3ms/sample - loss: 0.0403\n",
      "Epoch 45/100\n",
      "125/125 [==============================] - 0s 3ms/sample - loss: 0.0396\n",
      "Epoch 46/100\n",
      "125/125 [==============================] - 0s 3ms/sample - loss: 0.0362\n",
      "Epoch 47/100\n",
      "125/125 [==============================] - 0s 3ms/sample - loss: 0.0385\n",
      "Epoch 48/100\n",
      "125/125 [==============================] - 0s 4ms/sample - loss: 0.0383\n",
      "Epoch 49/100\n",
      "125/125 [==============================] - 0s 3ms/sample - loss: 0.0381\n",
      "Epoch 50/100\n",
      "125/125 [==============================] - 0s 3ms/sample - loss: 0.0383\n",
      "Epoch 51/100\n",
      "125/125 [==============================] - 0s 3ms/sample - loss: 0.0368\n",
      "Epoch 52/100\n",
      "125/125 [==============================] - 0s 3ms/sample - loss: 0.0362\n",
      "Epoch 53/100\n",
      "125/125 [==============================] - 0s 3ms/sample - loss: 0.0384\n",
      "Epoch 54/100\n",
      "125/125 [==============================] - 0s 3ms/sample - loss: 0.0367\n",
      "Epoch 55/100\n",
      "125/125 [==============================] - 0s 4ms/sample - loss: 0.0369\n",
      "Epoch 56/100\n",
      "125/125 [==============================] - 0s 3ms/sample - loss: 0.0389\n",
      "Epoch 57/100\n",
      "125/125 [==============================] - 0s 3ms/sample - loss: 0.0398\n",
      "Epoch 58/100\n",
      "125/125 [==============================] - 0s 3ms/sample - loss: 0.0397\n",
      "Epoch 59/100\n",
      "125/125 [==============================] - 0s 3ms/sample - loss: 0.0370\n",
      "Epoch 60/100\n",
      "125/125 [==============================] - 0s 3ms/sample - loss: 0.0355\n",
      "Epoch 61/100\n",
      "125/125 [==============================] - 0s 3ms/sample - loss: 0.0394\n",
      "Epoch 62/100\n",
      "125/125 [==============================] - 0s 3ms/sample - loss: 0.0401\n",
      "Epoch 63/100\n",
      "125/125 [==============================] - 0s 3ms/sample - loss: 0.0381\n",
      "Epoch 64/100\n",
      "125/125 [==============================] - 0s 3ms/sample - loss: 0.0369\n",
      "Epoch 65/100\n",
      "125/125 [==============================] - 0s 3ms/sample - loss: 0.0375\n",
      "Epoch 66/100\n",
      "125/125 [==============================] - 0s 3ms/sample - loss: 0.0403\n",
      "Epoch 67/100\n",
      "125/125 [==============================] - 0s 3ms/sample - loss: 0.0407\n",
      "Epoch 68/100\n",
      "125/125 [==============================] - 0s 3ms/sample - loss: 0.0362\n",
      "Epoch 69/100\n",
      "125/125 [==============================] - 0s 3ms/sample - loss: 0.0376\n",
      "Epoch 70/100\n",
      "125/125 [==============================] - 0s 3ms/sample - loss: 0.0366\n",
      "Epoch 71/100\n",
      "125/125 [==============================] - 0s 3ms/sample - loss: 0.0391\n",
      "Epoch 72/100\n",
      "125/125 [==============================] - 0s 3ms/sample - loss: 0.0399\n",
      "Epoch 73/100\n",
      "125/125 [==============================] - 0s 4ms/sample - loss: 0.0382\n",
      "Epoch 74/100\n",
      "125/125 [==============================] - 0s 3ms/sample - loss: 0.0370\n",
      "Epoch 75/100\n",
      "125/125 [==============================] - 0s 3ms/sample - loss: 0.0395\n",
      "Epoch 76/100\n",
      "125/125 [==============================] - 0s 3ms/sample - loss: 0.0350\n",
      "Epoch 77/100\n",
      "125/125 [==============================] - 0s 3ms/sample - loss: 0.0361\n",
      "Epoch 78/100\n",
      "125/125 [==============================] - 0s 3ms/sample - loss: 0.0372\n",
      "Epoch 79/100\n",
      "125/125 [==============================] - 0s 3ms/sample - loss: 0.0399\n",
      "Epoch 80/100\n",
      "125/125 [==============================] - 0s 3ms/sample - loss: 0.0405\n",
      "Epoch 81/100\n",
      "125/125 [==============================] - 0s 3ms/sample - loss: 0.0370\n",
      "Epoch 82/100\n",
      "125/125 [==============================] - 0s 3ms/sample - loss: 0.0398\n",
      "Epoch 83/100\n",
      "125/125 [==============================] - 0s 3ms/sample - loss: 0.0387\n",
      "Epoch 84/100\n",
      "125/125 [==============================] - 0s 3ms/sample - loss: 0.0352\n",
      "Epoch 85/100\n",
      "125/125 [==============================] - 0s 3ms/sample - loss: 0.0380\n",
      "Epoch 86/100\n",
      "125/125 [==============================] - 0s 3ms/sample - loss: 0.0394\n",
      "Epoch 87/100\n",
      "125/125 [==============================] - 0s 3ms/sample - loss: 0.0421\n",
      "Epoch 88/100\n",
      "125/125 [==============================] - 0s 3ms/sample - loss: 0.0396\n",
      "Epoch 89/100\n",
      "125/125 [==============================] - 0s 3ms/sample - loss: 0.0377\n",
      "Epoch 90/100\n",
      "125/125 [==============================] - 0s 3ms/sample - loss: 0.0386 0s - loss: 0.037\n",
      "Epoch 91/100\n",
      "125/125 [==============================] - 0s 3ms/sample - loss: 0.0376\n",
      "Epoch 92/100\n",
      "125/125 [==============================] - 0s 3ms/sample - loss: 0.0358\n",
      "Epoch 93/100\n",
      "125/125 [==============================] - 0s 3ms/sample - loss: 0.0374\n",
      "Epoch 94/100\n",
      "125/125 [==============================] - 0s 3ms/sample - loss: 0.0374\n",
      "Epoch 95/100\n",
      "125/125 [==============================] - 0s 3ms/sample - loss: 0.0361\n",
      "Epoch 96/100\n"
     ]
    },
    {
     "name": "stdout",
     "output_type": "stream",
     "text": [
      "125/125 [==============================] - 0s 3ms/sample - loss: 0.0363\n",
      "Epoch 97/100\n",
      "125/125 [==============================] - 0s 2ms/sample - loss: 0.0364\n",
      "Epoch 98/100\n",
      "125/125 [==============================] - 0s 2ms/sample - loss: 0.0353\n",
      "Epoch 99/100\n",
      "125/125 [==============================] - 0s 2ms/sample - loss: 0.0381\n",
      "Epoch 100/100\n",
      "125/125 [==============================] - 0s 2ms/sample - loss: 0.0332\n"
     ]
    },
    {
     "data": {
      "text/plain": [
       "<tensorflow.python.keras.callbacks.History at 0x7f146105a450>"
      ]
     },
     "execution_count": 46,
     "metadata": {},
     "output_type": "execute_result"
    }
   ],
   "source": [
    "print(\"Rede Neural LSTM com 25 neuronios nas camadas de entrada e oculta - epocas:100\")\n",
    "model = Sequential() \n",
    "\n",
    "model.add(LSTM(units = 25, return_sequences = True, input_shape = (previsores.shape[1], 1))) \n",
    "model.add(Dropout(0.2))\n",
    "model.add(LSTM(units = 25, return_sequences = True))\n",
    "model.add(Dropout(0.2))\n",
    "model.add(LSTM(units = 25, return_sequences = False)) \n",
    "model.add(Dropout(0.2))\n",
    "model.add(Dense(units = 1)) \n",
    "model.compile(optimizer = 'adam', loss = 'mean_squared_error')\n",
    "\n",
    "#es = EarlyStopping(monitor='val_loss',mode='auto',verbose = 1,patience=5)\n",
    "\n",
    "model.fit(previsores, od_real, epochs = 100, batch_size = 32)"
   ]
  },
  {
   "cell_type": "code",
   "execution_count": 47,
   "metadata": {},
   "outputs": [],
   "source": [
    "od_real_teste = test\n",
    "entradas = data[len(data) - len(test) - timestamp:]\n",
    "entradas = entradas.reshape(-1, 1)\n",
    "entradas = sc.transform(entradas)\n",
    "\n",
    "X_teste = []\n",
    "for i in range(timestamp, timestamp + len(test)):\n",
    "    X_teste.append(entradas[i-timestamp:i, 0])\n",
    "X_teste = np.array(X_teste)\n",
    "X_teste = np.reshape(X_teste, (X_teste.shape[0], X_teste.shape[1], 1))\n",
    "previsoes = model.predict(X_teste)\n",
    "previsoes = sc.inverse_transform(previsoes)\n",
    "\n",
    "previsoes_treino = model.predict(previsores)\n",
    "previsoes_treino = sc.inverse_transform(previsoes_treino)"
   ]
  },
  {
   "cell_type": "code",
   "execution_count": 48,
   "metadata": {},
   "outputs": [
    {
     "data": {
      "image/png": "[encoded data removed]",
      "text/plain": [
       "<Figure size 432x288 with 1 Axes>"
      ]
     },
     "metadata": {
      "needs_background": "light"
     },
     "output_type": "display_data"
    },
    {
     "name": "stdout",
     "output_type": "stream",
     "text": [
      "Previsão (média): 3.61\n",
      "OD Real (média): 3.71\n",
      "Diferença (média): 0.1\n",
      "Pontuação de Treino: 0.03 MSE (0.19 RMSE)\n"
     ]
    }
   ],
   "source": [
    "train_predict_plot = np.empty_like(data)\n",
    "train_predict_plot[:, :] = np.nan\n",
    "train_predict_plot[timestamp: len(previsoes_treino) + timestamp, :] = previsoes_treino\n",
    "\n",
    "test_predict_plot = np.empty_like(data)\n",
    "test_predict_plot[:, :] = np.nan\n",
    "test_predict_plot[len(previsoes_treino)+(timestamp):len(data), :] = previsoes\n",
    "\n",
    "plt.plot(data, label='OD Real', color='orange')\n",
    "plt.plot(train_predict_plot, color = 'red', label = 'Treino')\n",
    "plt.plot(test_predict_plot, color = 'blue', label = 'Teste')\n",
    "plt.title('')\n",
    "plt.xlabel('Trimestre')\n",
    "plt.ylabel('Valor OD')\n",
    "plt.legend()\n",
    "plt.show()\n",
    "\n",
    "print('Previsão (média):',round(previsoes.mean(),2))\n",
    "print('OD Real (média):', round(od_real_teste.mean(),2))\n",
    "print('Diferença (média):', round(od_real_teste.mean() - previsoes.mean(),2))\n",
    "\n",
    "train_score25 = model.evaluate(previsores, od_real, verbose=0)\n",
    "od25_mse  = train_score25\n",
    "od25_rmse = math.sqrt(train_score25)\n",
    "\n",
    "print('Pontuação de Treino: {:.2f} MSE ({:.2f} RMSE)'.format(train_score25, math.sqrt(train_score25)))\n"
   ]
  },
  {
   "cell_type": "code",
   "execution_count": 49,
   "metadata": {},
   "outputs": [
    {
     "name": "stdout",
     "output_type": "stream",
     "text": [
      "Rede Neural LSTM com 50 neuronios nas camadas de entrada e oculta - epocas:100\n",
      "Train on 125 samples\n",
      "Epoch 1/100\n",
      "125/125 [==============================] - 18s 142ms/sample - loss: 0.2040\n",
      "Epoch 2/100\n",
      "125/125 [==============================] - 0s 3ms/sample - loss: 0.1119\n",
      "Epoch 3/100\n",
      "125/125 [==============================] - 0s 4ms/sample - loss: 0.0452\n",
      "Epoch 4/100\n",
      "125/125 [==============================] - 0s 3ms/sample - loss: 0.0597\n",
      "Epoch 5/100\n",
      "125/125 [==============================] - 0s 3ms/sample - loss: 0.0400\n",
      "Epoch 6/100\n",
      "125/125 [==============================] - 0s 3ms/sample - loss: 0.0398\n",
      "Epoch 7/100\n",
      "125/125 [==============================] - 0s 3ms/sample - loss: 0.0435\n",
      "Epoch 8/100\n",
      "125/125 [==============================] - 0s 3ms/sample - loss: 0.0388\n",
      "Epoch 9/100\n",
      "125/125 [==============================] - 0s 3ms/sample - loss: 0.0366\n",
      "Epoch 10/100\n",
      "125/125 [==============================] - 0s 3ms/sample - loss: 0.0399\n",
      "Epoch 11/100\n",
      "125/125 [==============================] - 0s 3ms/sample - loss: 0.0387\n",
      "Epoch 12/100\n",
      "125/125 [==============================] - 0s 3ms/sample - loss: 0.0357\n",
      "Epoch 13/100\n",
      "125/125 [==============================] - 0s 4ms/sample - loss: 0.0364\n",
      "Epoch 14/100\n",
      "125/125 [==============================] - 0s 3ms/sample - loss: 0.0343\n",
      "Epoch 15/100\n",
      "125/125 [==============================] - 0s 3ms/sample - loss: 0.0374\n",
      "Epoch 16/100\n",
      "125/125 [==============================] - 0s 4ms/sample - loss: 0.0387\n",
      "Epoch 17/100\n",
      "125/125 [==============================] - 0s 4ms/sample - loss: 0.0364\n",
      "Epoch 18/100\n",
      "125/125 [==============================] - 0s 4ms/sample - loss: 0.0378\n",
      "Epoch 19/100\n",
      "125/125 [==============================] - 0s 4ms/sample - loss: 0.0354\n",
      "Epoch 20/100\n",
      "125/125 [==============================] - 0s 4ms/sample - loss: 0.0348\n",
      "Epoch 21/100\n",
      "125/125 [==============================] - 0s 3ms/sample - loss: 0.0383\n",
      "Epoch 22/100\n",
      "125/125 [==============================] - 0s 3ms/sample - loss: 0.0361\n",
      "Epoch 23/100\n",
      "125/125 [==============================] - 0s 3ms/sample - loss: 0.0360\n",
      "Epoch 24/100\n",
      "125/125 [==============================] - 0s 3ms/sample - loss: 0.0365\n",
      "Epoch 25/100\n",
      "125/125 [==============================] - 0s 3ms/sample - loss: 0.0350\n",
      "Epoch 26/100\n",
      "125/125 [==============================] - 0s 3ms/sample - loss: 0.0357\n",
      "Epoch 27/100\n",
      "125/125 [==============================] - 0s 3ms/sample - loss: 0.0355\n",
      "Epoch 28/100\n",
      "125/125 [==============================] - 0s 3ms/sample - loss: 0.0380\n",
      "Epoch 29/100\n",
      "125/125 [==============================] - 0s 3ms/sample - loss: 0.0361\n",
      "Epoch 30/100\n",
      "125/125 [==============================] - 0s 3ms/sample - loss: 0.0359\n",
      "Epoch 31/100\n",
      "125/125 [==============================] - 0s 3ms/sample - loss: 0.0379\n",
      "Epoch 32/100\n",
      "125/125 [==============================] - 0s 3ms/sample - loss: 0.0351\n",
      "Epoch 33/100\n",
      "125/125 [==============================] - 0s 3ms/sample - loss: 0.0349\n",
      "Epoch 34/100\n",
      "125/125 [==============================] - 0s 3ms/sample - loss: 0.0373\n",
      "Epoch 35/100\n",
      "125/125 [==============================] - 0s 3ms/sample - loss: 0.0378\n",
      "Epoch 36/100\n",
      "125/125 [==============================] - 0s 3ms/sample - loss: 0.0394\n",
      "Epoch 37/100\n",
      "125/125 [==============================] - 0s 3ms/sample - loss: 0.0358\n",
      "Epoch 38/100\n",
      "125/125 [==============================] - 0s 3ms/sample - loss: 0.0373\n",
      "Epoch 39/100\n",
      "125/125 [==============================] - 0s 3ms/sample - loss: 0.0384\n",
      "Epoch 40/100\n",
      "125/125 [==============================] - 0s 3ms/sample - loss: 0.0376\n",
      "Epoch 41/100\n",
      "125/125 [==============================] - 1s 4ms/sample - loss: 0.0367\n",
      "Epoch 42/100\n",
      "125/125 [==============================] - 0s 3ms/sample - loss: 0.0393\n",
      "Epoch 43/100\n",
      "125/125 [==============================] - 0s 3ms/sample - loss: 0.0374\n",
      "Epoch 44/100\n",
      "125/125 [==============================] - 0s 3ms/sample - loss: 0.0362\n",
      "Epoch 45/100\n",
      "125/125 [==============================] - 0s 3ms/sample - loss: 0.0389\n",
      "Epoch 46/100\n",
      "125/125 [==============================] - 0s 3ms/sample - loss: 0.0362\n",
      "Epoch 47/100\n",
      "125/125 [==============================] - 0s 4ms/sample - loss: 0.0358\n",
      "Epoch 48/100\n",
      "125/125 [==============================] - 0s 4ms/sample - loss: 0.0383\n",
      "Epoch 49/100\n",
      "125/125 [==============================] - 0s 4ms/sample - loss: 0.0353\n",
      "Epoch 50/100\n",
      "125/125 [==============================] - 0s 4ms/sample - loss: 0.0370\n",
      "Epoch 51/100\n",
      "125/125 [==============================] - 0s 4ms/sample - loss: 0.0345\n",
      "Epoch 52/100\n",
      "125/125 [==============================] - 0s 4ms/sample - loss: 0.0360\n",
      "Epoch 53/100\n",
      "125/125 [==============================] - 1s 4ms/sample - loss: 0.0347\n",
      "Epoch 54/100\n",
      "125/125 [==============================] - 0s 3ms/sample - loss: 0.0364\n",
      "Epoch 55/100\n",
      "125/125 [==============================] - 0s 3ms/sample - loss: 0.0378\n",
      "Epoch 56/100\n",
      "125/125 [==============================] - 0s 3ms/sample - loss: 0.0373\n",
      "Epoch 57/100\n",
      "125/125 [==============================] - 0s 3ms/sample - loss: 0.0374\n",
      "Epoch 58/100\n",
      "125/125 [==============================] - 0s 3ms/sample - loss: 0.0361\n",
      "Epoch 59/100\n",
      "125/125 [==============================] - 0s 3ms/sample - loss: 0.0374\n",
      "Epoch 60/100\n",
      "125/125 [==============================] - 0s 3ms/sample - loss: 0.0381\n",
      "Epoch 61/100\n",
      "125/125 [==============================] - 0s 3ms/sample - loss: 0.0366\n",
      "Epoch 62/100\n",
      "125/125 [==============================] - 0s 3ms/sample - loss: 0.0330\n",
      "Epoch 63/100\n",
      "125/125 [==============================] - 0s 3ms/sample - loss: 0.0348\n",
      "Epoch 64/100\n",
      "125/125 [==============================] - 0s 3ms/sample - loss: 0.0392\n",
      "Epoch 65/100\n",
      "125/125 [==============================] - 0s 4ms/sample - loss: 0.0358\n",
      "Epoch 66/100\n",
      "125/125 [==============================] - 0s 3ms/sample - loss: 0.0356\n",
      "Epoch 67/100\n",
      "125/125 [==============================] - 0s 3ms/sample - loss: 0.0370\n",
      "Epoch 68/100\n",
      "125/125 [==============================] - 0s 3ms/sample - loss: 0.0349\n",
      "Epoch 69/100\n",
      "125/125 [==============================] - 0s 3ms/sample - loss: 0.0383\n",
      "Epoch 70/100\n",
      "125/125 [==============================] - 0s 3ms/sample - loss: 0.0371\n",
      "Epoch 71/100\n",
      "125/125 [==============================] - 0s 3ms/sample - loss: 0.0395\n",
      "Epoch 72/100\n",
      "125/125 [==============================] - 0s 3ms/sample - loss: 0.0373\n",
      "Epoch 73/100\n",
      "125/125 [==============================] - 0s 3ms/sample - loss: 0.0351\n",
      "Epoch 74/100\n",
      "125/125 [==============================] - 0s 3ms/sample - loss: 0.0353\n",
      "Epoch 75/100\n",
      "125/125 [==============================] - 0s 4ms/sample - loss: 0.0373\n",
      "Epoch 76/100\n",
      "125/125 [==============================] - 0s 3ms/sample - loss: 0.0390\n",
      "Epoch 77/100\n",
      "125/125 [==============================] - 0s 4ms/sample - loss: 0.0356\n",
      "Epoch 78/100\n",
      "125/125 [==============================] - 0s 3ms/sample - loss: 0.0378\n",
      "Epoch 79/100\n",
      "125/125 [==============================] - 0s 3ms/sample - loss: 0.0388\n",
      "Epoch 80/100\n",
      "125/125 [==============================] - 0s 3ms/sample - loss: 0.0372\n",
      "Epoch 81/100\n",
      "125/125 [==============================] - 0s 3ms/sample - loss: 0.0376\n",
      "Epoch 82/100\n",
      "125/125 [==============================] - 0s 3ms/sample - loss: 0.0362\n",
      "Epoch 83/100\n",
      "125/125 [==============================] - 0s 3ms/sample - loss: 0.0373\n",
      "Epoch 84/100\n",
      "125/125 [==============================] - 0s 3ms/sample - loss: 0.0373\n",
      "Epoch 85/100\n",
      "125/125 [==============================] - 0s 3ms/sample - loss: 0.0337\n",
      "Epoch 86/100\n",
      "125/125 [==============================] - 0s 3ms/sample - loss: 0.0363\n",
      "Epoch 87/100\n",
      "125/125 [==============================] - 0s 3ms/sample - loss: 0.0373\n",
      "Epoch 88/100\n",
      "125/125 [==============================] - 0s 3ms/sample - loss: 0.0366\n",
      "Epoch 89/100\n",
      "125/125 [==============================] - 0s 3ms/sample - loss: 0.0396\n",
      "Epoch 90/100\n",
      "125/125 [==============================] - 0s 3ms/sample - loss: 0.0357\n",
      "Epoch 91/100\n",
      "125/125 [==============================] - 0s 4ms/sample - loss: 0.0382\n",
      "Epoch 92/100\n",
      "125/125 [==============================] - 0s 3ms/sample - loss: 0.0380\n",
      "Epoch 93/100\n",
      "125/125 [==============================] - 0s 4ms/sample - loss: 0.0379\n",
      "Epoch 94/100\n",
      "125/125 [==============================] - 0s 4ms/sample - loss: 0.0364\n",
      "Epoch 95/100\n",
      "125/125 [==============================] - 0s 3ms/sample - loss: 0.0384\n",
      "Epoch 96/100\n"
     ]
    },
    {
     "name": "stdout",
     "output_type": "stream",
     "text": [
      "125/125 [==============================] - 0s 3ms/sample - loss: 0.0355\n",
      "Epoch 97/100\n",
      "125/125 [==============================] - 0s 3ms/sample - loss: 0.0355\n",
      "Epoch 98/100\n",
      "125/125 [==============================] - 0s 2ms/sample - loss: 0.0387\n",
      "Epoch 99/100\n",
      "125/125 [==============================] - 0s 2ms/sample - loss: 0.0361\n",
      "Epoch 100/100\n",
      "125/125 [==============================] - 0s 2ms/sample - loss: 0.0380\n"
     ]
    },
    {
     "data": {
      "text/plain": [
       "<tensorflow.python.keras.callbacks.History at 0x7f1451072c90>"
      ]
     },
     "execution_count": 49,
     "metadata": {},
     "output_type": "execute_result"
    }
   ],
   "source": [
    "print(\"Rede Neural LSTM com 50 neuronios nas camadas de entrada e oculta - epocas:100\")\n",
    "model = Sequential() \n",
    "\n",
    "model.add(LSTM(units = 50, return_sequences = True, input_shape = (previsores.shape[1], 1))) \n",
    "model.add(Dropout(0.2))\n",
    "model.add(LSTM(units = 50, return_sequences = True))\n",
    "model.add(Dropout(0.2))\n",
    "model.add(LSTM(units = 50, return_sequences = False)) \n",
    "model.add(Dropout(0.2))\n",
    "model.add(Dense(units = 1)) \n",
    "model.compile(optimizer = 'adam', loss = 'mean_squared_error')\n",
    "\n",
    "#es = EarlyStopping(monitor='val_loss',mode='auto',verbose = 1,patience=5)\n",
    "\n",
    "model.fit(previsores, od_real, epochs = 100, batch_size = 32)"
   ]
  },
  {
   "cell_type": "code",
   "execution_count": 50,
   "metadata": {},
   "outputs": [],
   "source": [
    "od_real_teste = test\n",
    "entradas = data[len(data) - len(test) - timestamp:]\n",
    "entradas = entradas.reshape(-1, 1)\n",
    "entradas = sc.transform(entradas)\n",
    "\n",
    "X_teste = []\n",
    "for i in range(timestamp, timestamp + len(test)):\n",
    "    X_teste.append(entradas[i-timestamp:i, 0])\n",
    "X_teste = np.array(X_teste)\n",
    "X_teste = np.reshape(X_teste, (X_teste.shape[0], X_teste.shape[1], 1))\n",
    "previsoes = model.predict(X_teste)\n",
    "previsoes = sc.inverse_transform(previsoes)\n",
    "\n",
    "previsoes_treino = model.predict(previsores)\n",
    "previsoes_treino = sc.inverse_transform(previsoes_treino)\n",
    "#len(previsoes)"
   ]
  },
  {
   "cell_type": "code",
   "execution_count": 51,
   "metadata": {},
   "outputs": [
    {
     "data": {
      "image/png": "[encoded data removed]",
      "text/plain": [
       "<Figure size 432x288 with 1 Axes>"
      ]
     },
     "metadata": {
      "needs_background": "light"
     },
     "output_type": "display_data"
    },
    {
     "name": "stdout",
     "output_type": "stream",
     "text": [
      "Previsão (média): 3.71\n",
      "OD Real (média): 3.71\n",
      "Diferença (média): 0.0\n",
      "Pontuação de Treino: 0.04 MSE (0.19 RMSE)\n"
     ]
    }
   ],
   "source": [
    "train_predict_plot = np.empty_like(data)\n",
    "train_predict_plot[:, :] = np.nan\n",
    "train_predict_plot[timestamp: len(previsoes_treino) + timestamp, :] = previsoes_treino\n",
    "\n",
    "test_predict_plot = np.empty_like(data)\n",
    "test_predict_plot[:, :] = np.nan\n",
    "test_predict_plot[len(previsoes_treino)+(timestamp):len(data), :] = previsoes\n",
    "\n",
    "plt.plot(data, label='OD Real', color='orange')\n",
    "plt.plot(train_predict_plot, color = 'red', label = 'Treino')\n",
    "plt.plot(test_predict_plot, color = 'blue', label = 'Teste')\n",
    "plt.title('')\n",
    "plt.xlabel('Trimestre')\n",
    "plt.ylabel('Valor OD')\n",
    "plt.legend()\n",
    "plt.show()\n",
    "\n",
    "print('Previsão (média):',round(previsoes.mean(),2))\n",
    "print('OD Real (média):', round(od_real_teste.mean(),2))\n",
    "print('Diferença (média):', round(od_real_teste.mean() - previsoes.mean(),2))\n",
    "\n",
    "train_score50 = model.evaluate(previsores, od_real, verbose=0)\n",
    "od50_mse  = train_score50\n",
    "od50_rmse = math.sqrt(train_score50)\n",
    "\n",
    "print('Pontuação de Treino: {:.2f} MSE ({:.2f} RMSE)'.format(train_score50, math.sqrt(train_score50)))\n",
    "    \n"
   ]
  },
  {
   "cell_type": "code",
   "execution_count": 52,
   "metadata": {},
   "outputs": [
    {
     "name": "stdout",
     "output_type": "stream",
     "text": [
      "od_media_mse: 0.035\n",
      "od_media_rmse: 0.187\n"
     ]
    }
   ],
   "source": [
    "od_media_mse = (od10_mse+od25_mse+od50_mse)/3\n",
    "od_media_rmse = (od10_rmse+od25_rmse+od50_rmse)/3\n",
    "\n",
    "print('od_media_mse:', round(od_media_mse,3))\n",
    "print('od_media_rmse:', round(od_media_rmse,3))"
   ]
  },
  {
   "cell_type": "code",
   "execution_count": null,
   "metadata": {},
   "outputs": [],
   "source": []
  },
  {
   "cell_type": "code",
   "execution_count": null,
   "metadata": {},
   "outputs": [],
   "source": []
  },
  {
   "cell_type": "code",
   "execution_count": null,
   "metadata": {},
   "outputs": [],
   "source": []
  },
  {
   "cell_type": "code",
   "execution_count": null,
   "metadata": {},
   "outputs": [],
   "source": []
  },
  {
   "cell_type": "code",
   "execution_count": null,
   "metadata": {},
   "outputs": [],
   "source": []
  },
  {
   "cell_type": "code",
   "execution_count": null,
   "metadata": {},
   "outputs": [],
   "source": []
  },
  {
   "cell_type": "code",
   "execution_count": null,
   "metadata": {},
   "outputs": [],
   "source": []
  },
  {
   "cell_type": "code",
   "execution_count": null,
   "metadata": {},
   "outputs": [],
   "source": []
  },
  {
   "cell_type": "code",
   "execution_count": null,
   "metadata": {},
   "outputs": [],
   "source": []
  },
  {
   "cell_type": "code",
   "execution_count": null,
   "metadata": {},
   "outputs": [],
   "source": []
  },
  {
   "cell_type": "code",
   "execution_count": null,
   "metadata": {},
   "outputs": [],
   "source": []
  },
  {
   "cell_type": "code",
   "execution_count": null,
   "metadata": {},
   "outputs": [],
   "source": []
  },
  {
   "cell_type": "code",
   "execution_count": 33,
   "metadata": {},
   "outputs": [],
   "source": []
  },
  {
   "cell_type": "code",
   "execution_count": null,
   "metadata": {},
   "outputs": [],
   "source": []
  },
  {
   "cell_type": "code",
   "execution_count": null,
   "metadata": {},
   "outputs": [],
   "source": []
  },
  {
   "cell_type": "code",
   "execution_count": null,
   "metadata": {},
   "outputs": [],
   "source": []
  },
  {
   "cell_type": "code",
   "execution_count": null,
   "metadata": {},
   "outputs": [],
   "source": []
  },
  {
   "cell_type": "code",
   "execution_count": null,
   "metadata": {},
   "outputs": [],
   "source": []
  },
  {
   "cell_type": "code",
   "execution_count": 22,
   "metadata": {},
   "outputs": [],
   "source": []
  },
  {
   "cell_type": "code",
   "execution_count": null,
   "metadata": {},
   "outputs": [],
   "source": []
  },
  {
   "cell_type": "code",
   "execution_count": null,
   "metadata": {},
   "outputs": [],
   "source": []
  },
  {
   "cell_type": "code",
   "execution_count": null,
   "metadata": {},
   "outputs": [],
   "source": []
  },
  {
   "cell_type": "code",
   "execution_count": null,
   "metadata": {},
   "outputs": [],
   "source": []
  },
  {
   "cell_type": "code",
   "execution_count": null,
   "metadata": {},
   "outputs": [],
   "source": []
  },
  {
   "cell_type": "code",
   "execution_count": null,
   "metadata": {},
   "outputs": [],
   "source": []
  },
  {
   "cell_type": "code",
   "execution_count": 75,
   "metadata": {},
   "outputs": [],
   "source": []
  },
  {
   "cell_type": "code",
   "execution_count": 76,
   "metadata": {},
   "outputs": [],
   "source": []
  },
  {
   "cell_type": "code",
   "execution_count": null,
   "metadata": {},
   "outputs": [],
   "source": []
  },
  {
   "cell_type": "code",
   "execution_count": null,
   "metadata": {},
   "outputs": [],
   "source": []
  },
  {
   "cell_type": "code",
   "execution_count": 79,
   "metadata": {},
   "outputs": [],
   "source": []
  },
  {
   "cell_type": "code",
   "execution_count": null,
   "metadata": {},
   "outputs": [],
   "source": []
  },
  {
   "cell_type": "code",
   "execution_count": null,
   "metadata": {},
   "outputs": [],
   "source": []
  },
  {
   "cell_type": "code",
   "execution_count": null,
   "metadata": {},
   "outputs": [],
   "source": []
  },
  {
   "cell_type": "code",
   "execution_count": null,
   "metadata": {},
   "outputs": [],
   "source": []
  }
 ],
 "metadata": {
  "kernelspec": {
   "display_name": "Python 3",
   "language": "python",
   "name": "python3"
  },
  "language_info": {
   "codemirror_mode": {
    "name": "ipython",
    "version": 3
   },
   "file_extension": ".py",
   "mimetype": "text/x-python",
   "name": "python",
   "nbconvert_exporter": "python",
   "pygments_lexer": "ipython3",
   "version": "3.7.4"
  }
 },
 "nbformat": 4,
 "nbformat_minor": 2
}
