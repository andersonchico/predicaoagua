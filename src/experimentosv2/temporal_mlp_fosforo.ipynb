{
 "cells": [
  {
   "cell_type": "markdown",
   "metadata": {},
   "source": [
    "Temporal MLP - ph"
   ]
  },
  {
   "cell_type": "code",
   "execution_count": 1,
   "metadata": {},
   "outputs": [],
   "source": [
    "import pandas as pd\n",
    "import numpy as np\n",
    "import matplotlib.pyplot as plt\n",
    "from tensorflow.keras.models import Sequential\n",
    "from tensorflow.keras.layers import Dense, LSTM\n",
    "from sklearn.preprocessing import MinMaxScaler\n",
    "import math"
   ]
  },
  {
   "cell_type": "code",
   "execution_count": 2,
   "metadata": {},
   "outputs": [],
   "source": [
    "str_files = ''\n",
    "\n",
    "#df = pd.read_csv(str_files + \"ph.csv\",encoding='utf-8',sep=';')\n",
    "dateparse = lambda dates:pd.datetime.strptime(dates,'%d/%m/%Y')\n",
    "df = pd.read_csv(str_files + 'Fosforo.CSV',encoding='utf-8',sep=';', parse_dates = ['data_coleta'],index_col=['data_coleta'],date_parser=dateparse)"
   ]
  },
  {
   "cell_type": "code",
   "execution_count": 3,
   "metadata": {},
   "outputs": [],
   "source": [
    "z = df.loc[df['UGRHI'] == '10 - SOROCABA/MEDIO TIETE']"
   ]
  },
  {
   "cell_type": "code",
   "execution_count": 4,
   "metadata": {},
   "outputs": [],
   "source": [
    "z = z.dropna(axis=1,how='any')"
   ]
  },
  {
   "cell_type": "code",
   "execution_count": 5,
   "metadata": {},
   "outputs": [
    {
     "name": "stdout",
     "output_type": "stream",
     "text": [
      "treino: 132\n",
      "teste: 34\n"
     ]
    }
   ],
   "source": [
    "trainingd = z.resample('3M').mean()\n",
    "trainingd\n",
    "data = trainingd.iloc[:,1:2].values\n",
    "train = trainingd.iloc[0:132,1:2].values  \n",
    "test = trainingd.iloc[132:,1:2].values   \n",
    "print('treino:',len(train))\n",
    "print('teste:',len(test))"
   ]
  },
  {
   "cell_type": "code",
   "execution_count": 6,
   "metadata": {},
   "outputs": [],
   "source": [
    "sc = MinMaxScaler()\n",
    "train = sc.fit_transform(train)"
   ]
  },
  {
   "cell_type": "code",
   "execution_count": 7,
   "metadata": {},
   "outputs": [],
   "source": [
    "def prepare_data(data, lags):\n",
    "    X, y = [], []\n",
    "    for row in range(len(data) - lags - 1):\n",
    "        a = data[row:(row + lags), 0]\n",
    "        X.append(a)\n",
    "        y.append(data[row + lags, 0])\n",
    "    return np.array(X), np.array(y)  "
   ]
  },
  {
   "cell_type": "code",
   "execution_count": 8,
   "metadata": {},
   "outputs": [],
   "source": [
    "sc = MinMaxScaler()\n",
    "test = sc.fit_transform(test)"
   ]
  },
  {
   "cell_type": "code",
   "execution_count": 9,
   "metadata": {},
   "outputs": [
    {
     "name": "stdout",
     "output_type": "stream",
     "text": [
      "130\n"
     ]
    }
   ],
   "source": [
    "lags = 1\n",
    "X_train, y_train = prepare_data(train, lags)\n",
    "X_test, y_test = prepare_data(test, lags)\n",
    "y_true = y_test   \n",
    "print(len(X_train))"
   ]
  },
  {
   "cell_type": "code",
   "execution_count": 10,
   "metadata": {},
   "outputs": [
    {
     "name": "stdout",
     "output_type": "stream",
     "text": [
      "Train on 130 samples\n",
      "Epoch 1/100\n",
      "130/130 - 2s - loss: 0.0154\n",
      "Epoch 2/100\n",
      "130/130 - 0s - loss: 0.0152\n",
      "Epoch 3/100\n",
      "130/130 - 0s - loss: 0.0151\n",
      "Epoch 4/100\n",
      "130/130 - 0s - loss: 0.0149\n",
      "Epoch 5/100\n",
      "130/130 - 0s - loss: 0.0145\n",
      "Epoch 6/100\n",
      "130/130 - 0s - loss: 0.0143\n",
      "Epoch 7/100\n",
      "130/130 - 0s - loss: 0.0141\n",
      "Epoch 8/100\n",
      "130/130 - 0s - loss: 0.0139\n",
      "Epoch 9/100\n",
      "130/130 - 0s - loss: 0.0137\n",
      "Epoch 10/100\n",
      "130/130 - 0s - loss: 0.0135\n",
      "Epoch 11/100\n",
      "130/130 - 0s - loss: 0.0133\n",
      "Epoch 12/100\n",
      "130/130 - 0s - loss: 0.0131\n",
      "Epoch 13/100\n",
      "130/130 - 0s - loss: 0.0129\n",
      "Epoch 14/100\n",
      "130/130 - 0s - loss: 0.0126\n",
      "Epoch 15/100\n",
      "130/130 - 0s - loss: 0.0125\n",
      "Epoch 16/100\n",
      "130/130 - 0s - loss: 0.0123\n",
      "Epoch 17/100\n",
      "130/130 - 0s - loss: 0.0120\n",
      "Epoch 18/100\n",
      "130/130 - 0s - loss: 0.0119\n",
      "Epoch 19/100\n",
      "130/130 - 0s - loss: 0.0118\n",
      "Epoch 20/100\n",
      "130/130 - 0s - loss: 0.0115\n",
      "Epoch 21/100\n",
      "130/130 - 0s - loss: 0.0114\n",
      "Epoch 22/100\n",
      "130/130 - 0s - loss: 0.0112\n",
      "Epoch 23/100\n",
      "130/130 - 0s - loss: 0.0111\n",
      "Epoch 24/100\n",
      "130/130 - 0s - loss: 0.0109\n",
      "Epoch 25/100\n",
      "130/130 - 0s - loss: 0.0109\n",
      "Epoch 26/100\n",
      "130/130 - 0s - loss: 0.0106\n",
      "Epoch 27/100\n",
      "130/130 - 0s - loss: 0.0106\n",
      "Epoch 28/100\n",
      "130/130 - 0s - loss: 0.0104\n",
      "Epoch 29/100\n",
      "130/130 - 0s - loss: 0.0103\n",
      "Epoch 30/100\n",
      "130/130 - 0s - loss: 0.0102\n",
      "Epoch 31/100\n",
      "130/130 - 0s - loss: 0.0101\n",
      "Epoch 32/100\n",
      "130/130 - 0s - loss: 0.0100\n",
      "Epoch 33/100\n",
      "130/130 - 0s - loss: 0.0099\n",
      "Epoch 34/100\n",
      "130/130 - 0s - loss: 0.0098\n",
      "Epoch 35/100\n",
      "130/130 - 0s - loss: 0.0097\n",
      "Epoch 36/100\n",
      "130/130 - 0s - loss: 0.0095\n",
      "Epoch 37/100\n",
      "130/130 - 0s - loss: 0.0094\n",
      "Epoch 38/100\n",
      "130/130 - 0s - loss: 0.0093\n",
      "Epoch 39/100\n",
      "130/130 - 0s - loss: 0.0093\n",
      "Epoch 40/100\n",
      "130/130 - 0s - loss: 0.0092\n",
      "Epoch 41/100\n",
      "130/130 - 0s - loss: 0.0091\n",
      "Epoch 42/100\n",
      "130/130 - 0s - loss: 0.0090\n",
      "Epoch 43/100\n",
      "130/130 - 0s - loss: 0.0090\n",
      "Epoch 44/100\n",
      "130/130 - 0s - loss: 0.0089\n",
      "Epoch 45/100\n",
      "130/130 - 0s - loss: 0.0088\n",
      "Epoch 46/100\n",
      "130/130 - 0s - loss: 0.0088\n",
      "Epoch 47/100\n",
      "130/130 - 0s - loss: 0.0087\n",
      "Epoch 48/100\n",
      "130/130 - 0s - loss: 0.0087\n",
      "Epoch 49/100\n",
      "130/130 - 0s - loss: 0.0086\n",
      "Epoch 50/100\n",
      "130/130 - 0s - loss: 0.0085\n",
      "Epoch 51/100\n",
      "130/130 - 0s - loss: 0.0085\n",
      "Epoch 52/100\n",
      "130/130 - 0s - loss: 0.0085\n",
      "Epoch 53/100\n",
      "130/130 - 0s - loss: 0.0084\n",
      "Epoch 54/100\n",
      "130/130 - 0s - loss: 0.0084\n",
      "Epoch 55/100\n",
      "130/130 - 0s - loss: 0.0083\n",
      "Epoch 56/100\n",
      "130/130 - 0s - loss: 0.0083\n",
      "Epoch 57/100\n",
      "130/130 - 0s - loss: 0.0083\n",
      "Epoch 58/100\n",
      "130/130 - 0s - loss: 0.0082\n",
      "Epoch 59/100\n",
      "130/130 - 0s - loss: 0.0081\n",
      "Epoch 60/100\n",
      "130/130 - 0s - loss: 0.0080\n",
      "Epoch 61/100\n",
      "130/130 - 0s - loss: 0.0080\n",
      "Epoch 62/100\n",
      "130/130 - 0s - loss: 0.0079\n",
      "Epoch 63/100\n",
      "130/130 - 0s - loss: 0.0079\n",
      "Epoch 64/100\n",
      "130/130 - 0s - loss: 0.0079\n",
      "Epoch 65/100\n",
      "130/130 - 0s - loss: 0.0078\n",
      "Epoch 66/100\n",
      "130/130 - 0s - loss: 0.0078\n",
      "Epoch 67/100\n",
      "130/130 - 0s - loss: 0.0078\n",
      "Epoch 68/100\n",
      "130/130 - 0s - loss: 0.0078\n",
      "Epoch 69/100\n",
      "130/130 - 0s - loss: 0.0078\n",
      "Epoch 70/100\n",
      "130/130 - 0s - loss: 0.0078\n",
      "Epoch 71/100\n",
      "130/130 - 0s - loss: 0.0077\n",
      "Epoch 72/100\n",
      "130/130 - 0s - loss: 0.0077\n",
      "Epoch 73/100\n",
      "130/130 - 0s - loss: 0.0078\n",
      "Epoch 74/100\n",
      "130/130 - 0s - loss: 0.0078\n",
      "Epoch 75/100\n",
      "130/130 - 0s - loss: 0.0078\n",
      "Epoch 76/100\n",
      "130/130 - 0s - loss: 0.0078\n",
      "Epoch 77/100\n",
      "130/130 - 0s - loss: 0.0078\n",
      "Epoch 78/100\n",
      "130/130 - 0s - loss: 0.0078\n",
      "Epoch 79/100\n",
      "130/130 - 0s - loss: 0.0078\n",
      "Epoch 80/100\n",
      "130/130 - 0s - loss: 0.0077\n",
      "Epoch 81/100\n",
      "130/130 - 0s - loss: 0.0077\n",
      "Epoch 82/100\n",
      "130/130 - 0s - loss: 0.0077\n",
      "Epoch 83/100\n",
      "130/130 - 0s - loss: 0.0077\n",
      "Epoch 84/100\n",
      "130/130 - 0s - loss: 0.0077\n",
      "Epoch 85/100\n",
      "130/130 - 0s - loss: 0.0077\n",
      "Epoch 86/100\n",
      "130/130 - 0s - loss: 0.0076\n",
      "Epoch 87/100\n",
      "130/130 - 0s - loss: 0.0076\n",
      "Epoch 88/100\n",
      "130/130 - 0s - loss: 0.0076\n",
      "Epoch 89/100\n",
      "130/130 - 0s - loss: 0.0076\n",
      "Epoch 90/100\n",
      "130/130 - 0s - loss: 0.0076\n",
      "Epoch 91/100\n",
      "130/130 - 0s - loss: 0.0076\n",
      "Epoch 92/100\n",
      "130/130 - 0s - loss: 0.0076\n",
      "Epoch 93/100\n",
      "130/130 - 0s - loss: 0.0076\n",
      "Epoch 94/100\n",
      "130/130 - 0s - loss: 0.0076\n",
      "Epoch 95/100\n",
      "130/130 - 0s - loss: 0.0076\n",
      "Epoch 96/100\n",
      "130/130 - 0s - loss: 0.0076\n",
      "Epoch 97/100\n",
      "130/130 - 0s - loss: 0.0076\n",
      "Epoch 98/100\n",
      "130/130 - 0s - loss: 0.0076\n",
      "Epoch 99/100\n",
      "130/130 - 0s - loss: 0.0076\n",
      "Epoch 100/100\n",
      "130/130 - 0s - loss: 0.0076\n"
     ]
    },
    {
     "data": {
      "text/plain": [
       "<tensorflow.python.keras.callbacks.History at 0x7f4825fef690>"
      ]
     },
     "execution_count": 10,
     "metadata": {},
     "output_type": "execute_result"
    }
   ],
   "source": [
    "mdl = Sequential()\n",
    "mdl.add(Dense(10, input_dim=lags, activation='relu'))\n",
    "mdl.add(Dense(1))\n",
    "mdl.compile(loss='mean_squared_error', optimizer='adam')\n",
    "mdl.fit(X_train, y_train, epochs=100, batch_size=32, verbose=2)"
   ]
  },
  {
   "cell_type": "code",
   "execution_count": 11,
   "metadata": {},
   "outputs": [
    {
     "name": "stdout",
     "output_type": "stream",
     "text": [
      "Pontuação de Treino: 0.01 MSE (0.09 RMSE)\n",
      "Pontuação de teste: 0.40 MSE (0.63 RMSE)\n"
     ]
    }
   ],
   "source": [
    "train_score10 = mdl.evaluate(X_train, y_train, verbose=0)\n",
    "print('Pontuação de Treino: {:.2f} MSE ({:.2f} RMSE)'.format(train_score10, math.sqrt(train_score10)))\n",
    "test_score10 = mdl.evaluate(X_test, y_test, verbose=0)\n",
    "print('Pontuação de teste: {:.2f} MSE ({:.2f} RMSE)'.format(test_score10, math.sqrt(test_score10)))"
   ]
  },
  {
   "cell_type": "code",
   "execution_count": 12,
   "metadata": {},
   "outputs": [
    {
     "name": "stdout",
     "output_type": "stream",
     "text": [
      "y_test: 32\n",
      "X_test: 32\n"
     ]
    },
    {
     "data": {
      "image/png": "[encoded data removed]",
      "text/plain": [
       "<Figure size 432x288 with 1 Axes>"
      ]
     },
     "metadata": {
      "needs_background": "light"
     },
     "output_type": "display_data"
    }
   ],
   "source": [
    "print('y_test:',len(y_test))\n",
    "print('X_test:',len(X_test))\n",
    "plt.plot(y_test, label='Dados Previstos | y ou t+1', color='#006699')\n",
    "plt.plot(X_test, label='Dados teste | X ou t', color='orange')\n",
    "plt.legend(loc='upper left')\n",
    "plt.title('Dados de Teste - com um 3m a +')\n",
    "plt.show()"
   ]
  },
  {
   "cell_type": "code",
   "execution_count": 13,
   "metadata": {},
   "outputs": [],
   "source": [
    "train_predict = mdl.predict(X_train)\n",
    "test_predict = mdl.predict(X_test)"
   ]
  },
  {
   "cell_type": "code",
   "execution_count": 14,
   "metadata": {},
   "outputs": [],
   "source": [
    "train_predict = sc.inverse_transform(train_predict)\n",
    "test_predict = sc.inverse_transform(test_predict)"
   ]
  },
  {
   "cell_type": "code",
   "execution_count": 15,
   "metadata": {},
   "outputs": [],
   "source": [
    "train_predict_plot = np.empty_like(data)\n",
    "train_predict_plot[:, :] = np.nan\n",
    "train_predict_plot[lags: len(train_predict) + lags, :] = train_predict"
   ]
  },
  {
   "cell_type": "code",
   "execution_count": 16,
   "metadata": {},
   "outputs": [],
   "source": [
    "test_predict_plot = np.empty_like(data)\n",
    "test_predict_plot[:, :] = np.nan\n",
    "test_predict_plot[len(train_predict)+(lags*2)+1:len(data)-1, :] = test_predict"
   ]
  },
  {
   "cell_type": "code",
   "execution_count": 17,
   "metadata": {},
   "outputs": [
    {
     "data": {
      "image/png": "[encoded data removed]",
      "text/plain": [
       "<Figure size 432x288 with 1 Axes>"
      ]
     },
     "metadata": {
      "needs_background": "light"
     },
     "output_type": "display_data"
    }
   ],
   "source": [
    "plt.plot(data, label='Observado', color='#006699');\n",
    "plt.plot(train_predict_plot, label='Previsão para os Dados de Treino', color='#006699', alpha=0.5);\n",
    "plt.plot(test_predict_plot, label='Previsão para os Dados de Teste', color='#ff0066');\n",
    "plt.legend(loc='best');\n",
    "plt.title('Rede Neural Artificial')\n",
    "plt.show()"
   ]
  },
  {
   "cell_type": "code",
   "execution_count": 18,
   "metadata": {},
   "outputs": [
    {
     "name": "stdout",
     "output_type": "stream",
     "text": [
      "Train on 130 samples\n",
      "Epoch 1/100\n",
      "130/130 - 1s - loss: 0.0089\n",
      "Epoch 2/100\n",
      "130/130 - 0s - loss: 0.0087\n",
      "Epoch 3/100\n",
      "130/130 - 0s - loss: 0.0086\n",
      "Epoch 4/100\n",
      "130/130 - 0s - loss: 0.0084\n",
      "Epoch 5/100\n",
      "130/130 - 0s - loss: 0.0084\n",
      "Epoch 6/100\n",
      "130/130 - 0s - loss: 0.0083\n",
      "Epoch 7/100\n",
      "130/130 - 0s - loss: 0.0082\n",
      "Epoch 8/100\n",
      "130/130 - 0s - loss: 0.0081\n",
      "Epoch 9/100\n",
      "130/130 - 0s - loss: 0.0081\n",
      "Epoch 10/100\n",
      "130/130 - 0s - loss: 0.0080\n",
      "Epoch 11/100\n",
      "130/130 - 0s - loss: 0.0079\n",
      "Epoch 12/100\n",
      "130/130 - 0s - loss: 0.0079\n",
      "Epoch 13/100\n",
      "130/130 - 0s - loss: 0.0078\n",
      "Epoch 14/100\n",
      "130/130 - 0s - loss: 0.0079\n",
      "Epoch 15/100\n",
      "130/130 - 0s - loss: 0.0079\n",
      "Epoch 16/100\n",
      "130/130 - 0s - loss: 0.0078\n",
      "Epoch 17/100\n",
      "130/130 - 0s - loss: 0.0077\n",
      "Epoch 18/100\n",
      "130/130 - 0s - loss: 0.0077\n",
      "Epoch 19/100\n",
      "130/130 - 0s - loss: 0.0077\n",
      "Epoch 20/100\n",
      "130/130 - 0s - loss: 0.0077\n",
      "Epoch 21/100\n",
      "130/130 - 0s - loss: 0.0076\n",
      "Epoch 22/100\n",
      "130/130 - 0s - loss: 0.0076\n",
      "Epoch 23/100\n",
      "130/130 - 0s - loss: 0.0076\n",
      "Epoch 24/100\n",
      "130/130 - 0s - loss: 0.0076\n",
      "Epoch 25/100\n",
      "130/130 - 0s - loss: 0.0076\n",
      "Epoch 26/100\n",
      "130/130 - 0s - loss: 0.0076\n",
      "Epoch 27/100\n",
      "130/130 - 0s - loss: 0.0076\n",
      "Epoch 28/100\n",
      "130/130 - 0s - loss: 0.0077\n",
      "Epoch 29/100\n",
      "130/130 - 0s - loss: 0.0076\n",
      "Epoch 30/100\n",
      "130/130 - 0s - loss: 0.0079\n",
      "Epoch 31/100\n",
      "130/130 - 0s - loss: 0.0080\n",
      "Epoch 32/100\n",
      "130/130 - 0s - loss: 0.0079\n",
      "Epoch 33/100\n",
      "130/130 - 0s - loss: 0.0078\n",
      "Epoch 34/100\n",
      "130/130 - 0s - loss: 0.0077\n",
      "Epoch 35/100\n",
      "130/130 - 0s - loss: 0.0076\n",
      "Epoch 36/100\n",
      "130/130 - 0s - loss: 0.0076\n",
      "Epoch 37/100\n",
      "130/130 - 0s - loss: 0.0076\n",
      "Epoch 38/100\n",
      "130/130 - 0s - loss: 0.0076\n",
      "Epoch 39/100\n",
      "130/130 - 0s - loss: 0.0076\n",
      "Epoch 40/100\n",
      "130/130 - 0s - loss: 0.0076\n",
      "Epoch 41/100\n",
      "130/130 - 0s - loss: 0.0076\n",
      "Epoch 42/100\n",
      "130/130 - 0s - loss: 0.0076\n",
      "Epoch 43/100\n",
      "130/130 - 0s - loss: 0.0076\n",
      "Epoch 44/100\n",
      "130/130 - 0s - loss: 0.0076\n",
      "Epoch 45/100\n",
      "130/130 - 0s - loss: 0.0076\n",
      "Epoch 46/100\n",
      "130/130 - 0s - loss: 0.0076\n",
      "Epoch 47/100\n",
      "130/130 - 0s - loss: 0.0076\n",
      "Epoch 48/100\n",
      "130/130 - 0s - loss: 0.0076\n",
      "Epoch 49/100\n",
      "130/130 - 0s - loss: 0.0076\n",
      "Epoch 50/100\n",
      "130/130 - 0s - loss: 0.0076\n",
      "Epoch 51/100\n",
      "130/130 - 0s - loss: 0.0076\n",
      "Epoch 52/100\n",
      "130/130 - 0s - loss: 0.0076\n",
      "Epoch 53/100\n",
      "130/130 - 0s - loss: 0.0076\n",
      "Epoch 54/100\n",
      "130/130 - 0s - loss: 0.0076\n",
      "Epoch 55/100\n",
      "130/130 - 0s - loss: 0.0076\n",
      "Epoch 56/100\n",
      "130/130 - 0s - loss: 0.0076\n",
      "Epoch 57/100\n",
      "130/130 - 0s - loss: 0.0076\n",
      "Epoch 58/100\n",
      "130/130 - 0s - loss: 0.0076\n",
      "Epoch 59/100\n",
      "130/130 - 0s - loss: 0.0076\n",
      "Epoch 60/100\n",
      "130/130 - 0s - loss: 0.0076\n",
      "Epoch 61/100\n",
      "130/130 - 0s - loss: 0.0076\n",
      "Epoch 62/100\n",
      "130/130 - 0s - loss: 0.0076\n",
      "Epoch 63/100\n",
      "130/130 - 0s - loss: 0.0076\n",
      "Epoch 64/100\n",
      "130/130 - 0s - loss: 0.0076\n",
      "Epoch 65/100\n",
      "130/130 - 0s - loss: 0.0076\n",
      "Epoch 66/100\n",
      "130/130 - 0s - loss: 0.0076\n",
      "Epoch 67/100\n",
      "130/130 - 0s - loss: 0.0076\n",
      "Epoch 68/100\n",
      "130/130 - 0s - loss: 0.0076\n",
      "Epoch 69/100\n",
      "130/130 - 0s - loss: 0.0076\n",
      "Epoch 70/100\n",
      "130/130 - 0s - loss: 0.0076\n",
      "Epoch 71/100\n",
      "130/130 - 0s - loss: 0.0076\n",
      "Epoch 72/100\n",
      "130/130 - 0s - loss: 0.0076\n",
      "Epoch 73/100\n",
      "130/130 - 0s - loss: 0.0076\n",
      "Epoch 74/100\n",
      "130/130 - 0s - loss: 0.0076\n",
      "Epoch 75/100\n",
      "130/130 - 0s - loss: 0.0076\n",
      "Epoch 76/100\n",
      "130/130 - 0s - loss: 0.0076\n",
      "Epoch 77/100\n",
      "130/130 - 0s - loss: 0.0076\n",
      "Epoch 78/100\n",
      "130/130 - 0s - loss: 0.0076\n",
      "Epoch 79/100\n",
      "130/130 - 0s - loss: 0.0076\n",
      "Epoch 80/100\n",
      "130/130 - 0s - loss: 0.0076\n",
      "Epoch 81/100\n",
      "130/130 - 0s - loss: 0.0076\n",
      "Epoch 82/100\n",
      "130/130 - 0s - loss: 0.0076\n",
      "Epoch 83/100\n",
      "130/130 - 0s - loss: 0.0076\n",
      "Epoch 84/100\n",
      "130/130 - 0s - loss: 0.0076\n",
      "Epoch 85/100\n",
      "130/130 - 0s - loss: 0.0076\n",
      "Epoch 86/100\n",
      "130/130 - 0s - loss: 0.0076\n",
      "Epoch 87/100\n",
      "130/130 - 0s - loss: 0.0076\n",
      "Epoch 88/100\n",
      "130/130 - 0s - loss: 0.0076\n",
      "Epoch 89/100\n",
      "130/130 - 0s - loss: 0.0076\n",
      "Epoch 90/100\n",
      "130/130 - 0s - loss: 0.0076\n",
      "Epoch 91/100\n",
      "130/130 - 0s - loss: 0.0076\n",
      "Epoch 92/100\n",
      "130/130 - 0s - loss: 0.0076\n",
      "Epoch 93/100\n",
      "130/130 - 0s - loss: 0.0075\n",
      "Epoch 94/100\n",
      "130/130 - 0s - loss: 0.0076\n",
      "Epoch 95/100\n",
      "130/130 - 0s - loss: 0.0076\n",
      "Epoch 96/100\n",
      "130/130 - 0s - loss: 0.0076\n",
      "Epoch 97/100\n",
      "130/130 - 0s - loss: 0.0076\n",
      "Epoch 98/100\n",
      "130/130 - 0s - loss: 0.0076\n",
      "Epoch 99/100\n",
      "130/130 - 0s - loss: 0.0076\n",
      "Epoch 100/100\n",
      "130/130 - 0s - loss: 0.0076\n"
     ]
    },
    {
     "data": {
      "text/plain": [
       "<tensorflow.python.keras.callbacks.History at 0x7f4810efd690>"
      ]
     },
     "execution_count": 18,
     "metadata": {},
     "output_type": "execute_result"
    }
   ],
   "source": [
    "mdl = Sequential()\n",
    "mdl.add(Dense(25, input_dim=lags, activation='relu'))\n",
    "mdl.add(Dense(1))\n",
    "mdl.compile(loss='mean_squared_error', optimizer='adam')\n",
    "mdl.fit(X_train, y_train, epochs=100, batch_size=32, verbose=2)"
   ]
  },
  {
   "cell_type": "code",
   "execution_count": 19,
   "metadata": {},
   "outputs": [
    {
     "name": "stdout",
     "output_type": "stream",
     "text": [
      "Pontuação de Treino: 0.01 MSE (0.09 RMSE)\n",
      "Pontuação de teste: 0.38 MSE (0.62 RMSE)\n"
     ]
    }
   ],
   "source": [
    "train_score25 = mdl.evaluate(X_train, y_train, verbose=0)\n",
    "print('Pontuação de Treino: {:.2f} MSE ({:.2f} RMSE)'.format(train_score25, math.sqrt(train_score25)))\n",
    "test_score25 = mdl.evaluate(X_test, y_test, verbose=0)\n",
    "print('Pontuação de teste: {:.2f} MSE ({:.2f} RMSE)'.format(test_score25, math.sqrt(test_score25)))"
   ]
  },
  {
   "cell_type": "code",
   "execution_count": 20,
   "metadata": {},
   "outputs": [
    {
     "name": "stdout",
     "output_type": "stream",
     "text": [
      "y_test: 32\n",
      "X_test: 32\n"
     ]
    },
    {
     "data": {
      "image/png": "[encoded data removed]",
      "text/plain": [
       "<Figure size 432x288 with 1 Axes>"
      ]
     },
     "metadata": {
      "needs_background": "light"
     },
     "output_type": "display_data"
    }
   ],
   "source": [
    "print('y_test:',len(y_test))\n",
    "print('X_test:',len(X_test))\n",
    "plt.plot(y_test, label='Dados Previstos | y ou t+1', color='#006699')\n",
    "plt.plot(X_test, label='Dados teste | X ou t', color='orange')\n",
    "plt.legend(loc='upper left')\n",
    "plt.title('Dados Passados de um Período')\n",
    "plt.show()"
   ]
  },
  {
   "cell_type": "code",
   "execution_count": 21,
   "metadata": {},
   "outputs": [],
   "source": [
    "train_predict = mdl.predict(X_train)\n",
    "test_predict = mdl.predict(X_test)"
   ]
  },
  {
   "cell_type": "code",
   "execution_count": 22,
   "metadata": {},
   "outputs": [],
   "source": [
    "train_predict = sc.inverse_transform(train_predict)\n",
    "test_predict = sc.inverse_transform(test_predict)"
   ]
  },
  {
   "cell_type": "code",
   "execution_count": 23,
   "metadata": {},
   "outputs": [],
   "source": [
    "train_predict_plot = np.empty_like(data)\n",
    "train_predict_plot[:, :] = np.nan\n",
    "train_predict_plot[lags: len(train_predict) + lags, :] = train_predict"
   ]
  },
  {
   "cell_type": "code",
   "execution_count": 24,
   "metadata": {},
   "outputs": [],
   "source": [
    "test_predict_plot = np.empty_like(data)\n",
    "test_predict_plot[:, :] = np.nan\n",
    "test_predict_plot[len(train_predict)+(lags*2)+1:len(data)-1, :] = test_predict"
   ]
  },
  {
   "cell_type": "code",
   "execution_count": 25,
   "metadata": {},
   "outputs": [
    {
     "data": {
      "image/png": "[encoded data removed]",
      "text/plain": [
       "<Figure size 432x288 with 1 Axes>"
      ]
     },
     "metadata": {
      "needs_background": "light"
     },
     "output_type": "display_data"
    }
   ],
   "source": [
    "plt.plot(data, label='Observado', color='#006699');\n",
    "plt.plot(train_predict_plot, label='Previsão para os Dados de Treino', color='#006699', alpha=0.5);\n",
    "plt.plot(test_predict_plot, label='Previsão para os Dados de Teste', color='#ff0066');\n",
    "plt.legend(loc='best');\n",
    "plt.title('Rede Neural Artificial')\n",
    "plt.show()"
   ]
  },
  {
   "cell_type": "code",
   "execution_count": 26,
   "metadata": {},
   "outputs": [
    {
     "name": "stdout",
     "output_type": "stream",
     "text": [
      "Train on 130 samples\n",
      "Epoch 1/100\n",
      "130/130 - 1s - loss: 0.0083\n",
      "Epoch 2/100\n",
      "130/130 - 0s - loss: 0.0083\n",
      "Epoch 3/100\n",
      "130/130 - 0s - loss: 0.0081\n",
      "Epoch 4/100\n",
      "130/130 - 0s - loss: 0.0081\n",
      "Epoch 5/100\n",
      "130/130 - 0s - loss: 0.0080\n",
      "Epoch 6/100\n",
      "130/130 - 0s - loss: 0.0079\n",
      "Epoch 7/100\n",
      "130/130 - 0s - loss: 0.0079\n",
      "Epoch 8/100\n",
      "130/130 - 0s - loss: 0.0078\n",
      "Epoch 9/100\n",
      "130/130 - 0s - loss: 0.0078\n",
      "Epoch 10/100\n",
      "130/130 - 0s - loss: 0.0078\n",
      "Epoch 11/100\n",
      "130/130 - 0s - loss: 0.0077\n",
      "Epoch 12/100\n",
      "130/130 - 0s - loss: 0.0077\n",
      "Epoch 13/100\n",
      "130/130 - 0s - loss: 0.0076\n",
      "Epoch 14/100\n",
      "130/130 - 0s - loss: 0.0077\n",
      "Epoch 15/100\n",
      "130/130 - 0s - loss: 0.0076\n",
      "Epoch 16/100\n",
      "130/130 - 0s - loss: 0.0076\n",
      "Epoch 17/100\n",
      "130/130 - 0s - loss: 0.0076\n",
      "Epoch 18/100\n",
      "130/130 - 0s - loss: 0.0076\n",
      "Epoch 19/100\n",
      "130/130 - 0s - loss: 0.0076\n",
      "Epoch 20/100\n",
      "130/130 - 0s - loss: 0.0076\n",
      "Epoch 21/100\n",
      "130/130 - 0s - loss: 0.0076\n",
      "Epoch 22/100\n",
      "130/130 - 0s - loss: 0.0076\n",
      "Epoch 23/100\n",
      "130/130 - 0s - loss: 0.0076\n",
      "Epoch 24/100\n",
      "130/130 - 0s - loss: 0.0076\n",
      "Epoch 25/100\n",
      "130/130 - 0s - loss: 0.0076\n",
      "Epoch 26/100\n",
      "130/130 - 0s - loss: 0.0076\n",
      "Epoch 27/100\n",
      "130/130 - 0s - loss: 0.0076\n",
      "Epoch 28/100\n",
      "130/130 - 0s - loss: 0.0076\n",
      "Epoch 29/100\n",
      "130/130 - 0s - loss: 0.0076\n",
      "Epoch 30/100\n",
      "130/130 - 0s - loss: 0.0075\n",
      "Epoch 31/100\n",
      "130/130 - 0s - loss: 0.0076\n",
      "Epoch 32/100\n",
      "130/130 - 0s - loss: 0.0076\n",
      "Epoch 33/100\n",
      "130/130 - 0s - loss: 0.0076\n",
      "Epoch 34/100\n",
      "130/130 - 0s - loss: 0.0076\n",
      "Epoch 35/100\n",
      "130/130 - 0s - loss: 0.0076\n",
      "Epoch 36/100\n",
      "130/130 - 0s - loss: 0.0076\n",
      "Epoch 37/100\n",
      "130/130 - 0s - loss: 0.0076\n",
      "Epoch 38/100\n",
      "130/130 - 0s - loss: 0.0076\n",
      "Epoch 39/100\n",
      "130/130 - 0s - loss: 0.0075\n",
      "Epoch 40/100\n",
      "130/130 - 0s - loss: 0.0075\n",
      "Epoch 41/100\n",
      "130/130 - 0s - loss: 0.0075\n",
      "Epoch 42/100\n",
      "130/130 - 0s - loss: 0.0075\n",
      "Epoch 43/100\n",
      "130/130 - 0s - loss: 0.0076\n",
      "Epoch 44/100\n",
      "130/130 - 0s - loss: 0.0076\n",
      "Epoch 45/100\n",
      "130/130 - 0s - loss: 0.0076\n",
      "Epoch 46/100\n",
      "130/130 - 0s - loss: 0.0076\n",
      "Epoch 47/100\n",
      "130/130 - 0s - loss: 0.0076\n",
      "Epoch 48/100\n",
      "130/130 - 0s - loss: 0.0076\n",
      "Epoch 49/100\n",
      "130/130 - 0s - loss: 0.0075\n",
      "Epoch 50/100\n",
      "130/130 - 0s - loss: 0.0076\n",
      "Epoch 51/100\n",
      "130/130 - 0s - loss: 0.0076\n",
      "Epoch 52/100\n",
      "130/130 - 0s - loss: 0.0076\n",
      "Epoch 53/100\n",
      "130/130 - 0s - loss: 0.0076\n",
      "Epoch 54/100\n",
      "130/130 - 0s - loss: 0.0076\n",
      "Epoch 55/100\n",
      "130/130 - 0s - loss: 0.0076\n",
      "Epoch 56/100\n",
      "130/130 - 0s - loss: 0.0076\n",
      "Epoch 57/100\n",
      "130/130 - 0s - loss: 0.0076\n",
      "Epoch 58/100\n",
      "130/130 - 0s - loss: 0.0076\n",
      "Epoch 59/100\n",
      "130/130 - 0s - loss: 0.0076\n",
      "Epoch 60/100\n",
      "130/130 - 0s - loss: 0.0076\n",
      "Epoch 61/100\n",
      "130/130 - 0s - loss: 0.0076\n",
      "Epoch 62/100\n",
      "130/130 - 0s - loss: 0.0076\n",
      "Epoch 63/100\n",
      "130/130 - 0s - loss: 0.0076\n",
      "Epoch 64/100\n",
      "130/130 - 0s - loss: 0.0076\n",
      "Epoch 65/100\n",
      "130/130 - 0s - loss: 0.0076\n",
      "Epoch 66/100\n",
      "130/130 - 0s - loss: 0.0075\n",
      "Epoch 67/100\n",
      "130/130 - 0s - loss: 0.0075\n",
      "Epoch 68/100\n",
      "130/130 - 0s - loss: 0.0076\n",
      "Epoch 69/100\n",
      "130/130 - 0s - loss: 0.0076\n",
      "Epoch 70/100\n",
      "130/130 - 0s - loss: 0.0076\n",
      "Epoch 71/100\n",
      "130/130 - 0s - loss: 0.0076\n",
      "Epoch 72/100\n",
      "130/130 - 0s - loss: 0.0076\n",
      "Epoch 73/100\n",
      "130/130 - 0s - loss: 0.0076\n",
      "Epoch 74/100\n",
      "130/130 - 0s - loss: 0.0076\n",
      "Epoch 75/100\n",
      "130/130 - 0s - loss: 0.0076\n",
      "Epoch 76/100\n",
      "130/130 - 0s - loss: 0.0076\n",
      "Epoch 77/100\n",
      "130/130 - 0s - loss: 0.0076\n",
      "Epoch 78/100\n",
      "130/130 - 0s - loss: 0.0076\n",
      "Epoch 79/100\n",
      "130/130 - 0s - loss: 0.0076\n",
      "Epoch 80/100\n",
      "130/130 - 0s - loss: 0.0076\n",
      "Epoch 81/100\n",
      "130/130 - 0s - loss: 0.0075\n",
      "Epoch 82/100\n",
      "130/130 - 0s - loss: 0.0075\n",
      "Epoch 83/100\n",
      "130/130 - 0s - loss: 0.0076\n",
      "Epoch 84/100\n",
      "130/130 - 0s - loss: 0.0076\n",
      "Epoch 85/100\n",
      "130/130 - 0s - loss: 0.0076\n",
      "Epoch 86/100\n",
      "130/130 - 0s - loss: 0.0076\n",
      "Epoch 87/100\n",
      "130/130 - 0s - loss: 0.0076\n",
      "Epoch 88/100\n",
      "130/130 - 0s - loss: 0.0076\n",
      "Epoch 89/100\n",
      "130/130 - 0s - loss: 0.0076\n",
      "Epoch 90/100\n",
      "130/130 - 0s - loss: 0.0076\n",
      "Epoch 91/100\n",
      "130/130 - 0s - loss: 0.0076\n",
      "Epoch 92/100\n",
      "130/130 - 0s - loss: 0.0076\n",
      "Epoch 93/100\n",
      "130/130 - 0s - loss: 0.0076\n",
      "Epoch 94/100\n",
      "130/130 - 0s - loss: 0.0076\n",
      "Epoch 95/100\n",
      "130/130 - 0s - loss: 0.0076\n",
      "Epoch 96/100\n",
      "130/130 - 0s - loss: 0.0076\n",
      "Epoch 97/100\n",
      "130/130 - 0s - loss: 0.0076\n",
      "Epoch 98/100\n",
      "130/130 - 0s - loss: 0.0076\n",
      "Epoch 99/100\n",
      "130/130 - 0s - loss: 0.0076\n",
      "Epoch 100/100\n",
      "130/130 - 0s - loss: 0.0076\n"
     ]
    },
    {
     "data": {
      "text/plain": [
       "<tensorflow.python.keras.callbacks.History at 0x7f480ddc94d0>"
      ]
     },
     "execution_count": 26,
     "metadata": {},
     "output_type": "execute_result"
    }
   ],
   "source": [
    "mdl = Sequential()\n",
    "mdl.add(Dense(50, input_dim=lags, activation='relu'))\n",
    "mdl.add(Dense(1))\n",
    "mdl.compile(loss='mean_squared_error', optimizer='adam')\n",
    "mdl.fit(X_train, y_train, epochs=100, batch_size=32, verbose=2)"
   ]
  },
  {
   "cell_type": "code",
   "execution_count": 27,
   "metadata": {},
   "outputs": [
    {
     "name": "stdout",
     "output_type": "stream",
     "text": [
      "Pontuação de Treino: 0.01 MSE (0.09 RMSE)\n",
      "Pontuação de teste: 0.38 MSE (0.62 RMSE)\n"
     ]
    }
   ],
   "source": [
    "train_score50 = mdl.evaluate(X_train, y_train, verbose=0)\n",
    "print('Pontuação de Treino: {:.2f} MSE ({:.2f} RMSE)'.format(train_score50, math.sqrt(train_score50)))\n",
    "test_score50 = mdl.evaluate(X_test, y_test, verbose=0)\n",
    "print('Pontuação de teste: {:.2f} MSE ({:.2f} RMSE)'.format(test_score50, math.sqrt(test_score50)))"
   ]
  },
  {
   "cell_type": "code",
   "execution_count": null,
   "metadata": {},
   "outputs": [],
   "source": []
  }
 ],
 "metadata": {
  "kernelspec": {
   "display_name": "Python 3",
   "language": "python",
   "name": "python3"
  },
  "language_info": {
   "codemirror_mode": {
    "name": "ipython",
    "version": 3
   },
   "file_extension": ".py",
   "mimetype": "text/x-python",
   "name": "python",
   "nbconvert_exporter": "python",
   "pygments_lexer": "ipython3",
   "version": "3.7.4"
  }
 },
 "nbformat": 4,
 "nbformat_minor": 2
}
