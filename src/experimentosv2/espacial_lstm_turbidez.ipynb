{
 "cells": [
  {
   "cell_type": "markdown",
   "metadata": {},
   "source": [
    "Modelo LSTM para prever o parâmetro Turbidez "
   ]
  },
  {
   "cell_type": "code",
   "execution_count": 2,
   "metadata": {},
   "outputs": [],
   "source": [
    "import pandas as pd\n",
    "import numpy as np\n",
    "import matplotlib.pyplot as plt\n",
    "from tensorflow.keras.models import Sequential\n",
    "from tensorflow.keras.layers import Dense, LSTM, Dropout\n",
    "from sklearn.preprocessing import MinMaxScaler\n",
    "from tensorflow.keras.callbacks import EarlyStopping\n",
    "import math\n",
    "import matplotlib.pyplot as plt\n",
    "plt.rcParams['xtick.labelsize']= 18\n",
    "plt.rcParams['ytick.labelsize']= 18\n",
    "plt.rcParams.update({'font.size':18})"
   ]
  },
  {
   "cell_type": "code",
   "execution_count": 4,
   "metadata": {},
   "outputs": [],
   "source": [
    "str_files = ''\n",
    "\n",
    "#df = pd.read_csv(str_files + \"ph.csv\",encoding='utf-8',sep=';')\n",
    "dateparse = lambda dates:pd.datetime.strptime(dates,'%d/%m/%Y')\n",
    "df = pd.read_csv(str_files + 'turbidez.CSV',encoding='utf-8',sep=';', parse_dates = ['data_coleta'],index_col=['data_coleta'],date_parser=dateparse)"
   ]
  },
  {
   "cell_type": "code",
   "execution_count": 5,
   "metadata": {},
   "outputs": [],
   "source": [
    "#df.head()"
   ]
  },
  {
   "cell_type": "code",
   "execution_count": 6,
   "metadata": {},
   "outputs": [],
   "source": [
    "z = df.loc[df['UGRHI'] == '10 - SOROCABA/MEDIO TIETE']\n",
    "#z.info()"
   ]
  },
  {
   "cell_type": "code",
   "execution_count": 7,
   "metadata": {},
   "outputs": [],
   "source": [
    "z = z.dropna(axis=1,how='any')\n",
    "#for field in z.columns:\n",
    "    #print(field,'NaN',z[field].isnull().sum())\n",
    "#print(len(z))"
   ]
  },
  {
   "cell_type": "code",
   "execution_count": 8,
   "metadata": {},
   "outputs": [
    {
     "name": "stdout",
     "output_type": "stream",
     "text": [
      "treino: 133\n",
      "teste: 33\n"
     ]
    },
    {
     "data": {
      "text/plain": [
       "33"
      ]
     },
     "execution_count": 8,
     "metadata": {},
     "output_type": "execute_result"
    }
   ],
   "source": [
    "trainingd = z.resample('3M').mean()\n",
    "trainingd\n",
    "data = trainingd.iloc[:,1:2].values\n",
    "\n",
    "train = trainingd.iloc[0:133,1:2].values  \n",
    "test = trainingd.iloc[133:,1:2].values   \n",
    "print('treino:',len(train))\n",
    "print('teste:',len(test))\n",
    "len(test)"
   ]
  },
  {
   "cell_type": "code",
   "execution_count": 9,
   "metadata": {},
   "outputs": [],
   "source": [
    "sc = MinMaxScaler()\n",
    "train_normalizado = sc.fit_transform(train)"
   ]
  },
  {
   "cell_type": "code",
   "execution_count": 10,
   "metadata": {},
   "outputs": [
    {
     "data": {
      "text/plain": [
       "(125, 8, 1)"
      ]
     },
     "execution_count": 10,
     "metadata": {},
     "output_type": "execute_result"
    }
   ],
   "source": [
    "timestamp = 8\n",
    "previsores = []\n",
    "turbidez_real    = []\n",
    "for i in range(timestamp, len(train)):\n",
    "    previsores.append(train_normalizado[i-timestamp:i, 0])\n",
    "    turbidez_real.append(train_normalizado[i, 0])\n",
    "previsores, turbidez_real = np.array(previsores), np.array(turbidez_real)\n",
    "previsores = np.reshape(previsores, (previsores.shape[0], previsores.shape[1], 1))\n",
    "previsores.shape"
   ]
  },
  {
   "cell_type": "code",
   "execution_count": 11,
   "metadata": {},
   "outputs": [
    {
     "name": "stdout",
     "output_type": "stream",
     "text": [
      "Rede Neural LSTM com 10 neuronios nas camadas de entrada e oculta - epocas:100\n",
      "Train on 125 samples\n",
      "Epoch 1/100\n",
      "125/125 [==============================] - 14s 108ms/sample - loss: 0.0473\n",
      "Epoch 2/100\n",
      "125/125 [==============================] - 0s 3ms/sample - loss: 0.0395\n",
      "Epoch 3/100\n",
      "125/125 [==============================] - 0s 2ms/sample - loss: 0.0304\n",
      "Epoch 4/100\n",
      "125/125 [==============================] - 0s 3ms/sample - loss: 0.0273\n",
      "Epoch 5/100\n",
      "125/125 [==============================] - 0s 2ms/sample - loss: 0.0270\n",
      "Epoch 6/100\n",
      "125/125 [==============================] - 0s 3ms/sample - loss: 0.0256\n",
      "Epoch 7/100\n",
      "125/125 [==============================] - 0s 3ms/sample - loss: 0.0258\n",
      "Epoch 8/100\n",
      "125/125 [==============================] - 0s 3ms/sample - loss: 0.0265\n",
      "Epoch 9/100\n",
      "125/125 [==============================] - 0s 2ms/sample - loss: 0.0273\n",
      "Epoch 10/100\n",
      "125/125 [==============================] - 0s 3ms/sample - loss: 0.0252\n",
      "Epoch 11/100\n",
      "125/125 [==============================] - 0s 2ms/sample - loss: 0.0248\n",
      "Epoch 12/100\n",
      "125/125 [==============================] - 0s 3ms/sample - loss: 0.0259\n",
      "Epoch 13/100\n",
      "125/125 [==============================] - 0s 2ms/sample - loss: 0.0253\n",
      "Epoch 14/100\n",
      "125/125 [==============================] - 0s 3ms/sample - loss: 0.0266\n",
      "Epoch 15/100\n",
      "125/125 [==============================] - 0s 3ms/sample - loss: 0.0258\n",
      "Epoch 16/100\n",
      "125/125 [==============================] - 0s 3ms/sample - loss: 0.0247\n",
      "Epoch 17/100\n",
      "125/125 [==============================] - 0s 3ms/sample - loss: 0.0263\n",
      "Epoch 18/100\n",
      "125/125 [==============================] - 0s 3ms/sample - loss: 0.0239\n",
      "Epoch 19/100\n",
      "125/125 [==============================] - 0s 3ms/sample - loss: 0.0245\n",
      "Epoch 20/100\n",
      "125/125 [==============================] - 0s 3ms/sample - loss: 0.0263\n",
      "Epoch 21/100\n",
      "125/125 [==============================] - 0s 3ms/sample - loss: 0.0261\n",
      "Epoch 22/100\n",
      "125/125 [==============================] - 0s 3ms/sample - loss: 0.0243\n",
      "Epoch 23/100\n",
      "125/125 [==============================] - 0s 3ms/sample - loss: 0.0227\n",
      "Epoch 24/100\n",
      "125/125 [==============================] - 0s 4ms/sample - loss: 0.0254\n",
      "Epoch 25/100\n",
      "125/125 [==============================] - 0s 4ms/sample - loss: 0.0244\n",
      "Epoch 26/100\n",
      "125/125 [==============================] - 0s 4ms/sample - loss: 0.0239\n",
      "Epoch 27/100\n",
      "125/125 [==============================] - 0s 4ms/sample - loss: 0.0267\n",
      "Epoch 28/100\n",
      "125/125 [==============================] - 0s 3ms/sample - loss: 0.0241\n",
      "Epoch 29/100\n",
      "125/125 [==============================] - 0s 3ms/sample - loss: 0.0254\n",
      "Epoch 30/100\n",
      "125/125 [==============================] - 0s 3ms/sample - loss: 0.0253\n",
      "Epoch 31/100\n",
      "125/125 [==============================] - 0s 3ms/sample - loss: 0.0231\n",
      "Epoch 32/100\n",
      "125/125 [==============================] - 0s 3ms/sample - loss: 0.0255\n",
      "Epoch 33/100\n",
      "125/125 [==============================] - 0s 2ms/sample - loss: 0.0240\n",
      "Epoch 34/100\n",
      "125/125 [==============================] - 0s 3ms/sample - loss: 0.0261\n",
      "Epoch 35/100\n",
      "125/125 [==============================] - 0s 3ms/sample - loss: 0.0253\n",
      "Epoch 36/100\n",
      "125/125 [==============================] - 0s 3ms/sample - loss: 0.0241\n",
      "Epoch 37/100\n",
      "125/125 [==============================] - 0s 3ms/sample - loss: 0.0235\n",
      "Epoch 38/100\n",
      "125/125 [==============================] - 0s 2ms/sample - loss: 0.0230\n",
      "Epoch 39/100\n",
      "125/125 [==============================] - 0s 3ms/sample - loss: 0.0241\n",
      "Epoch 40/100\n",
      "125/125 [==============================] - 0s 2ms/sample - loss: 0.0212\n",
      "Epoch 41/100\n",
      "125/125 [==============================] - 0s 3ms/sample - loss: 0.0250\n",
      "Epoch 42/100\n",
      "125/125 [==============================] - 0s 3ms/sample - loss: 0.0265\n",
      "Epoch 43/100\n",
      "125/125 [==============================] - 0s 3ms/sample - loss: 0.0245\n",
      "Epoch 44/100\n",
      "125/125 [==============================] - 0s 3ms/sample - loss: 0.0243\n",
      "Epoch 45/100\n",
      "125/125 [==============================] - 0s 3ms/sample - loss: 0.0234\n",
      "Epoch 46/100\n",
      "125/125 [==============================] - 0s 2ms/sample - loss: 0.0230\n",
      "Epoch 47/100\n",
      "125/125 [==============================] - 0s 3ms/sample - loss: 0.0258\n",
      "Epoch 48/100\n",
      "125/125 [==============================] - 0s 2ms/sample - loss: 0.0261\n",
      "Epoch 49/100\n",
      "125/125 [==============================] - 0s 3ms/sample - loss: 0.0232\n",
      "Epoch 50/100\n",
      "125/125 [==============================] - 0s 3ms/sample - loss: 0.0213\n",
      "Epoch 51/100\n",
      "125/125 [==============================] - 0s 3ms/sample - loss: 0.0245\n",
      "Epoch 52/100\n",
      "125/125 [==============================] - 0s 3ms/sample - loss: 0.0248\n",
      "Epoch 53/100\n",
      "125/125 [==============================] - 0s 3ms/sample - loss: 0.0232\n",
      "Epoch 54/100\n",
      "125/125 [==============================] - 0s 2ms/sample - loss: 0.0228\n",
      "Epoch 55/100\n",
      "125/125 [==============================] - 0s 3ms/sample - loss: 0.0241\n",
      "Epoch 56/100\n",
      "125/125 [==============================] - 0s 3ms/sample - loss: 0.0267\n",
      "Epoch 57/100\n",
      "125/125 [==============================] - 0s 3ms/sample - loss: 0.0241\n",
      "Epoch 58/100\n",
      "125/125 [==============================] - 0s 3ms/sample - loss: 0.0247\n",
      "Epoch 59/100\n",
      "125/125 [==============================] - 0s 2ms/sample - loss: 0.0252\n",
      "Epoch 60/100\n",
      "125/125 [==============================] - 0s 3ms/sample - loss: 0.0233\n",
      "Epoch 61/100\n",
      "125/125 [==============================] - 0s 2ms/sample - loss: 0.0236\n",
      "Epoch 62/100\n",
      "125/125 [==============================] - 0s 2ms/sample - loss: 0.0225\n",
      "Epoch 63/100\n",
      "125/125 [==============================] - 0s 3ms/sample - loss: 0.0243\n",
      "Epoch 64/100\n",
      "125/125 [==============================] - 0s 3ms/sample - loss: 0.0273\n",
      "Epoch 65/100\n",
      "125/125 [==============================] - 0s 3ms/sample - loss: 0.0250\n",
      "Epoch 66/100\n",
      "125/125 [==============================] - 0s 2ms/sample - loss: 0.0229\n",
      "Epoch 67/100\n",
      "125/125 [==============================] - 0s 3ms/sample - loss: 0.0246\n",
      "Epoch 68/100\n",
      "125/125 [==============================] - 0s 3ms/sample - loss: 0.0224\n",
      "Epoch 69/100\n",
      "125/125 [==============================] - 0s 3ms/sample - loss: 0.0219\n",
      "Epoch 70/100\n",
      "125/125 [==============================] - 0s 3ms/sample - loss: 0.0238\n",
      "Epoch 71/100\n",
      "125/125 [==============================] - 0s 3ms/sample - loss: 0.0237\n",
      "Epoch 72/100\n",
      "125/125 [==============================] - 0s 3ms/sample - loss: 0.0235\n",
      "Epoch 73/100\n",
      "125/125 [==============================] - 0s 2ms/sample - loss: 0.0239\n",
      "Epoch 74/100\n",
      "125/125 [==============================] - 0s 3ms/sample - loss: 0.0225\n",
      "Epoch 75/100\n",
      "125/125 [==============================] - 0s 2ms/sample - loss: 0.0233\n",
      "Epoch 76/100\n",
      "125/125 [==============================] - 0s 2ms/sample - loss: 0.0228\n",
      "Epoch 77/100\n",
      "125/125 [==============================] - 0s 3ms/sample - loss: 0.0255\n",
      "Epoch 78/100\n",
      "125/125 [==============================] - 0s 3ms/sample - loss: 0.0232\n",
      "Epoch 79/100\n",
      "125/125 [==============================] - 0s 3ms/sample - loss: 0.0225\n",
      "Epoch 80/100\n",
      "125/125 [==============================] - 0s 3ms/sample - loss: 0.0221\n",
      "Epoch 81/100\n",
      "125/125 [==============================] - 0s 3ms/sample - loss: 0.0237\n",
      "Epoch 82/100\n",
      "125/125 [==============================] - 0s 3ms/sample - loss: 0.0227\n",
      "Epoch 83/100\n",
      "125/125 [==============================] - 0s 3ms/sample - loss: 0.0224\n",
      "Epoch 84/100\n",
      "125/125 [==============================] - 0s 3ms/sample - loss: 0.0225\n",
      "Epoch 85/100\n",
      "125/125 [==============================] - 0s 3ms/sample - loss: 0.0223\n",
      "Epoch 86/100\n",
      "125/125 [==============================] - 0s 3ms/sample - loss: 0.0232\n",
      "Epoch 87/100\n",
      "125/125 [==============================] - 0s 3ms/sample - loss: 0.0215\n",
      "Epoch 88/100\n",
      "125/125 [==============================] - 0s 2ms/sample - loss: 0.0230\n",
      "Epoch 89/100\n",
      "125/125 [==============================] - 0s 3ms/sample - loss: 0.0247\n",
      "Epoch 90/100\n",
      "125/125 [==============================] - 0s 2ms/sample - loss: 0.0238\n",
      "Epoch 91/100\n",
      "125/125 [==============================] - 0s 3ms/sample - loss: 0.0243\n",
      "Epoch 92/100\n",
      "125/125 [==============================] - 0s 3ms/sample - loss: 0.0238\n",
      "Epoch 93/100\n",
      "125/125 [==============================] - 0s 3ms/sample - loss: 0.0222\n",
      "Epoch 94/100\n",
      "125/125 [==============================] - 0s 3ms/sample - loss: 0.0214\n",
      "Epoch 95/100\n",
      "125/125 [==============================] - 0s 3ms/sample - loss: 0.0228\n",
      "Epoch 96/100\n"
     ]
    },
    {
     "name": "stdout",
     "output_type": "stream",
     "text": [
      "125/125 [==============================] - 0s 2ms/sample - loss: 0.0237\n",
      "Epoch 97/100\n",
      "125/125 [==============================] - 0s 2ms/sample - loss: 0.0230\n",
      "Epoch 98/100\n",
      "125/125 [==============================] - 0s 2ms/sample - loss: 0.0225\n",
      "Epoch 99/100\n",
      "125/125 [==============================] - 0s 2ms/sample - loss: 0.0226\n",
      "Epoch 100/100\n",
      "125/125 [==============================] - 0s 2ms/sample - loss: 0.0237\n"
     ]
    },
    {
     "data": {
      "text/plain": [
       "<tensorflow.python.keras.callbacks.History at 0x7f9ca49e07d0>"
      ]
     },
     "execution_count": 11,
     "metadata": {},
     "output_type": "execute_result"
    }
   ],
   "source": [
    "print(\"Rede Neural LSTM com 10 neuronios nas camadas de entrada e oculta - epocas:100\")\n",
    "model = Sequential() \n",
    "\n",
    "model.add(LSTM(units = 10, return_sequences = True, input_shape = (previsores.shape[1], 1))) \n",
    "model.add(Dropout(0.2))\n",
    "model.add(LSTM(units = 10, return_sequences = True))\n",
    "model.add(Dropout(0.2))\n",
    "model.add(LSTM(units = 10, return_sequences = False)) \n",
    "model.add(Dropout(0.2))\n",
    "model.add(Dense(units = 1)) \n",
    "model.compile(optimizer = 'adam', loss = 'mean_squared_error')\n",
    "\n",
    "#es = EarlyStopping(monitor='val_loss',mode='auto',verbose = 1,patience=5)\n",
    "\n",
    "model.fit(previsores, turbidez_real, epochs = 100, batch_size = 32)\n"
   ]
  },
  {
   "cell_type": "code",
   "execution_count": 12,
   "metadata": {},
   "outputs": [],
   "source": [
    "turbidez_real_teste = test\n",
    "entradas = data[len(data) - len(test) - timestamp:]\n",
    "entradas = entradas.reshape(-1, 1)\n",
    "entradas = sc.transform(entradas)\n",
    "\n",
    "X_teste = []\n",
    "for i in range(timestamp, timestamp + len(test)):\n",
    "    X_teste.append(entradas[i-timestamp:i, 0])\n",
    "X_teste = np.array(X_teste)\n",
    "X_teste = np.reshape(X_teste, (X_teste.shape[0], X_teste.shape[1], 1))\n",
    "previsoes = model.predict(X_teste)\n",
    "previsoes = sc.inverse_transform(previsoes)"
   ]
  },
  {
   "cell_type": "code",
   "execution_count": 13,
   "metadata": {},
   "outputs": [
    {
     "data": {
      "image/png": "[encoded data removed]",
      "text/plain": [
       "<Figure size 432x288 with 1 Axes>"
      ]
     },
     "metadata": {
      "needs_background": "light"
     },
     "output_type": "display_data"
    }
   ],
   "source": [
    "previsoes_treino = model.predict(previsores)\n",
    "previsoes_treino = sc.inverse_transform(previsoes_treino)\n",
    "\n",
    "train_predict_plot = np.empty_like(data)\n",
    "train_predict_plot[:, :] = np.nan\n",
    "train_predict_plot[timestamp: len(previsoes_treino) + timestamp, :] = previsoes_treino\n",
    "\n",
    "test_predict_plot = np.empty_like(data)\n",
    "test_predict_plot[:, :] = np.nan\n",
    "test_predict_plot[len(previsoes_treino)+(timestamp):len(data), :] = previsoes\n",
    "\n",
    "plt.plot(data, label='Turbidez Real', color='orange')\n",
    "plt.plot(train_predict_plot, color = 'red', label = 'Treino')\n",
    "plt.plot(test_predict_plot, color = 'blue', label = 'Teste')\n",
    "plt.title('')\n",
    "plt.xlabel('Trimestre')\n",
    "plt.ylabel('Valor Turbidez')\n",
    "plt.legend(loc='best')\n",
    "plt.show()"
   ]
  },
  {
   "cell_type": "code",
   "execution_count": 14,
   "metadata": {},
   "outputs": [
    {
     "name": "stdout",
     "output_type": "stream",
     "text": [
      "Previsão (média): 52.52\n",
      "Turbidez Real (média): 46.72\n",
      "Diferença (média): -5.8\n"
     ]
    }
   ],
   "source": [
    "print('Previsão (média):',round(previsoes.mean(),2))\n",
    "print('Turbidez Real (média):', round(turbidez_real_teste.mean(),2))\n",
    "print('Diferença (média):', round(turbidez_real_teste.mean() - previsoes.mean(),2))"
   ]
  },
  {
   "cell_type": "code",
   "execution_count": 15,
   "metadata": {},
   "outputs": [
    {
     "name": "stdout",
     "output_type": "stream",
     "text": [
      "Pontuação de Treino: 0.02 MSE (0.15 RMSE)\n"
     ]
    }
   ],
   "source": [
    "train_score10 = model.evaluate(previsores, turbidez_real, verbose=0)\n",
    "ph10_mse  = train_score10\n",
    "ph10_rmse = math.sqrt(train_score10)\n",
    "\n",
    "print('Pontuação de Treino: {:.2f} MSE ({:.2f} RMSE)'.format(train_score10, math.sqrt(train_score10)))\n",
    "#test_score10 = mdl.evaluate(X_test, y_test, verbose=0)\n",
    "#print('Pontuação de teste: {:.2f} MSE ({:.2f} RMSE)'.format(test_score10, math.sqrt(test_score10)))"
   ]
  },
  {
   "cell_type": "code",
   "execution_count": 16,
   "metadata": {},
   "outputs": [
    {
     "name": "stdout",
     "output_type": "stream",
     "text": [
      "Rede Neural LSTM com 25 neuronios nas camadas de entrada e oculta - epocas:100\n",
      "Train on 125 samples\n",
      "Epoch 1/100\n",
      "125/125 [==============================] - 14s 110ms/sample - loss: 0.0443\n",
      "Epoch 2/100\n",
      "125/125 [==============================] - 0s 3ms/sample - loss: 0.0318\n",
      "Epoch 3/100\n",
      "125/125 [==============================] - 0s 2ms/sample - loss: 0.0235\n",
      "Epoch 4/100\n",
      "125/125 [==============================] - 0s 3ms/sample - loss: 0.0265\n",
      "Epoch 5/100\n",
      "125/125 [==============================] - 0s 3ms/sample - loss: 0.0261\n",
      "Epoch 6/100\n",
      "125/125 [==============================] - 0s 3ms/sample - loss: 0.0238\n",
      "Epoch 7/100\n",
      "125/125 [==============================] - 0s 3ms/sample - loss: 0.0255\n",
      "Epoch 8/100\n",
      "125/125 [==============================] - 0s 3ms/sample - loss: 0.0264\n",
      "Epoch 9/100\n",
      "125/125 [==============================] - 0s 3ms/sample - loss: 0.0249\n",
      "Epoch 10/100\n",
      "125/125 [==============================] - 0s 3ms/sample - loss: 0.0250\n",
      "Epoch 11/100\n",
      "125/125 [==============================] - 0s 3ms/sample - loss: 0.0254\n",
      "Epoch 12/100\n",
      "125/125 [==============================] - 0s 3ms/sample - loss: 0.0248\n",
      "Epoch 13/100\n",
      "125/125 [==============================] - 0s 3ms/sample - loss: 0.0261\n",
      "Epoch 14/100\n",
      "125/125 [==============================] - 0s 3ms/sample - loss: 0.0233\n",
      "Epoch 15/100\n",
      "125/125 [==============================] - 0s 3ms/sample - loss: 0.0225\n",
      "Epoch 16/100\n",
      "125/125 [==============================] - 0s 3ms/sample - loss: 0.0234\n",
      "Epoch 17/100\n",
      "125/125 [==============================] - 0s 3ms/sample - loss: 0.0230\n",
      "Epoch 18/100\n",
      "125/125 [==============================] - 0s 3ms/sample - loss: 0.0232\n",
      "Epoch 19/100\n",
      "125/125 [==============================] - 0s 3ms/sample - loss: 0.0236\n",
      "Epoch 20/100\n",
      "125/125 [==============================] - 0s 3ms/sample - loss: 0.0229\n",
      "Epoch 21/100\n",
      "125/125 [==============================] - 0s 3ms/sample - loss: 0.0228\n",
      "Epoch 22/100\n",
      "125/125 [==============================] - 0s 3ms/sample - loss: 0.0223\n",
      "Epoch 23/100\n",
      "125/125 [==============================] - 0s 3ms/sample - loss: 0.0244\n",
      "Epoch 24/100\n",
      "125/125 [==============================] - 0s 3ms/sample - loss: 0.0231\n",
      "Epoch 25/100\n",
      "125/125 [==============================] - 0s 3ms/sample - loss: 0.0237\n",
      "Epoch 26/100\n",
      "125/125 [==============================] - 0s 3ms/sample - loss: 0.0232\n",
      "Epoch 27/100\n",
      "125/125 [==============================] - 0s 3ms/sample - loss: 0.0226\n",
      "Epoch 28/100\n",
      "125/125 [==============================] - 0s 3ms/sample - loss: 0.0240\n",
      "Epoch 29/100\n",
      "125/125 [==============================] - 0s 3ms/sample - loss: 0.0232\n",
      "Epoch 30/100\n",
      "125/125 [==============================] - 0s 3ms/sample - loss: 0.0247\n",
      "Epoch 31/100\n",
      "125/125 [==============================] - 0s 3ms/sample - loss: 0.0231\n",
      "Epoch 32/100\n",
      "125/125 [==============================] - 0s 3ms/sample - loss: 0.0248\n",
      "Epoch 33/100\n",
      "125/125 [==============================] - 0s 3ms/sample - loss: 0.0227\n",
      "Epoch 34/100\n",
      "125/125 [==============================] - 0s 3ms/sample - loss: 0.0215\n",
      "Epoch 35/100\n",
      "125/125 [==============================] - 0s 3ms/sample - loss: 0.0227\n",
      "Epoch 36/100\n",
      "125/125 [==============================] - 0s 3ms/sample - loss: 0.0236\n",
      "Epoch 37/100\n",
      "125/125 [==============================] - 0s 3ms/sample - loss: 0.0228\n",
      "Epoch 38/100\n",
      "125/125 [==============================] - 0s 3ms/sample - loss: 0.0240\n",
      "Epoch 39/100\n",
      "125/125 [==============================] - 0s 3ms/sample - loss: 0.0222\n",
      "Epoch 40/100\n",
      "125/125 [==============================] - 0s 3ms/sample - loss: 0.0229\n",
      "Epoch 41/100\n",
      "125/125 [==============================] - 0s 3ms/sample - loss: 0.0233\n",
      "Epoch 42/100\n",
      "125/125 [==============================] - 0s 3ms/sample - loss: 0.0231\n",
      "Epoch 43/100\n",
      "125/125 [==============================] - 0s 3ms/sample - loss: 0.0248\n",
      "Epoch 44/100\n",
      "125/125 [==============================] - 0s 2ms/sample - loss: 0.0236\n",
      "Epoch 45/100\n",
      "125/125 [==============================] - 0s 3ms/sample - loss: 0.0229\n",
      "Epoch 46/100\n",
      "125/125 [==============================] - 0s 3ms/sample - loss: 0.0229\n",
      "Epoch 47/100\n",
      "125/125 [==============================] - 0s 3ms/sample - loss: 0.0226\n",
      "Epoch 48/100\n",
      "125/125 [==============================] - 0s 2ms/sample - loss: 0.0247\n",
      "Epoch 49/100\n",
      "125/125 [==============================] - 0s 3ms/sample - loss: 0.0243\n",
      "Epoch 50/100\n",
      "125/125 [==============================] - 0s 3ms/sample - loss: 0.0227\n",
      "Epoch 51/100\n",
      "125/125 [==============================] - 0s 3ms/sample - loss: 0.0231\n",
      "Epoch 52/100\n",
      "125/125 [==============================] - 0s 3ms/sample - loss: 0.0236\n",
      "Epoch 53/100\n",
      "125/125 [==============================] - 0s 3ms/sample - loss: 0.0234\n",
      "Epoch 54/100\n",
      "125/125 [==============================] - 0s 3ms/sample - loss: 0.0231\n",
      "Epoch 55/100\n",
      "125/125 [==============================] - 0s 3ms/sample - loss: 0.0229\n",
      "Epoch 56/100\n",
      "125/125 [==============================] - 0s 3ms/sample - loss: 0.0222\n",
      "Epoch 57/100\n",
      "125/125 [==============================] - 0s 3ms/sample - loss: 0.0236\n",
      "Epoch 58/100\n",
      "125/125 [==============================] - 0s 3ms/sample - loss: 0.0230\n",
      "Epoch 59/100\n",
      "125/125 [==============================] - 0s 3ms/sample - loss: 0.0222\n",
      "Epoch 60/100\n",
      "125/125 [==============================] - 0s 3ms/sample - loss: 0.0225\n",
      "Epoch 61/100\n",
      "125/125 [==============================] - 0s 3ms/sample - loss: 0.0230\n",
      "Epoch 62/100\n",
      "125/125 [==============================] - 0s 3ms/sample - loss: 0.0228\n",
      "Epoch 63/100\n",
      "125/125 [==============================] - 0s 3ms/sample - loss: 0.0227\n",
      "Epoch 64/100\n",
      "125/125 [==============================] - 0s 3ms/sample - loss: 0.0238\n",
      "Epoch 65/100\n",
      "125/125 [==============================] - 0s 3ms/sample - loss: 0.0227\n",
      "Epoch 66/100\n",
      "125/125 [==============================] - 0s 3ms/sample - loss: 0.0237\n",
      "Epoch 67/100\n",
      "125/125 [==============================] - 0s 3ms/sample - loss: 0.0246\n",
      "Epoch 68/100\n",
      "125/125 [==============================] - 0s 3ms/sample - loss: 0.0218\n",
      "Epoch 69/100\n",
      "125/125 [==============================] - 0s 3ms/sample - loss: 0.0215\n",
      "Epoch 70/100\n",
      "125/125 [==============================] - 0s 3ms/sample - loss: 0.0222\n",
      "Epoch 71/100\n",
      "125/125 [==============================] - 0s 3ms/sample - loss: 0.0225\n",
      "Epoch 72/100\n",
      "125/125 [==============================] - 0s 3ms/sample - loss: 0.0218\n",
      "Epoch 73/100\n",
      "125/125 [==============================] - 0s 3ms/sample - loss: 0.0238\n",
      "Epoch 74/100\n",
      "125/125 [==============================] - 0s 3ms/sample - loss: 0.0230\n",
      "Epoch 75/100\n",
      "125/125 [==============================] - 0s 3ms/sample - loss: 0.0239\n",
      "Epoch 76/100\n",
      "125/125 [==============================] - 0s 3ms/sample - loss: 0.0235\n",
      "Epoch 77/100\n",
      "125/125 [==============================] - 0s 3ms/sample - loss: 0.0228\n",
      "Epoch 78/100\n",
      "125/125 [==============================] - 0s 3ms/sample - loss: 0.0226\n",
      "Epoch 79/100\n",
      "125/125 [==============================] - 0s 3ms/sample - loss: 0.0224\n",
      "Epoch 80/100\n",
      "125/125 [==============================] - 0s 3ms/sample - loss: 0.0226\n",
      "Epoch 81/100\n",
      "125/125 [==============================] - 0s 3ms/sample - loss: 0.0212\n",
      "Epoch 82/100\n",
      "125/125 [==============================] - 0s 3ms/sample - loss: 0.0227\n",
      "Epoch 83/100\n",
      "125/125 [==============================] - 0s 3ms/sample - loss: 0.0236\n",
      "Epoch 84/100\n",
      "125/125 [==============================] - 0s 3ms/sample - loss: 0.0244\n",
      "Epoch 85/100\n",
      "125/125 [==============================] - 0s 3ms/sample - loss: 0.0238\n",
      "Epoch 86/100\n",
      "125/125 [==============================] - 0s 3ms/sample - loss: 0.0227\n",
      "Epoch 87/100\n",
      "125/125 [==============================] - 0s 3ms/sample - loss: 0.0241\n",
      "Epoch 88/100\n",
      "125/125 [==============================] - 0s 3ms/sample - loss: 0.0227\n",
      "Epoch 89/100\n",
      "125/125 [==============================] - 0s 3ms/sample - loss: 0.0231\n",
      "Epoch 90/100\n",
      "125/125 [==============================] - 0s 3ms/sample - loss: 0.0235\n",
      "Epoch 91/100\n",
      "125/125 [==============================] - 0s 3ms/sample - loss: 0.0230\n",
      "Epoch 92/100\n",
      "125/125 [==============================] - 0s 3ms/sample - loss: 0.0225\n",
      "Epoch 93/100\n",
      "125/125 [==============================] - 0s 3ms/sample - loss: 0.0221\n",
      "Epoch 94/100\n",
      "125/125 [==============================] - 0s 3ms/sample - loss: 0.0222\n",
      "Epoch 95/100\n",
      "125/125 [==============================] - 0s 3ms/sample - loss: 0.0226\n",
      "Epoch 96/100\n"
     ]
    },
    {
     "name": "stdout",
     "output_type": "stream",
     "text": [
      "125/125 [==============================] - 0s 3ms/sample - loss: 0.0236\n",
      "Epoch 97/100\n",
      "125/125 [==============================] - 0s 2ms/sample - loss: 0.0224\n",
      "Epoch 98/100\n",
      "125/125 [==============================] - 0s 2ms/sample - loss: 0.0226\n",
      "Epoch 99/100\n",
      "125/125 [==============================] - 0s 2ms/sample - loss: 0.0225\n",
      "Epoch 100/100\n",
      "125/125 [==============================] - 0s 2ms/sample - loss: 0.0228\n"
     ]
    },
    {
     "data": {
      "text/plain": [
       "<tensorflow.python.keras.callbacks.History at 0x7f9c8af745d0>"
      ]
     },
     "execution_count": 16,
     "metadata": {},
     "output_type": "execute_result"
    }
   ],
   "source": [
    "print(\"Rede Neural LSTM com 25 neuronios nas camadas de entrada e oculta - epocas:100\")\n",
    "model = Sequential() \n",
    "\n",
    "model.add(LSTM(units = 25, return_sequences = True, input_shape = (previsores.shape[1], 1))) \n",
    "model.add(Dropout(0.2))\n",
    "model.add(LSTM(units = 25, return_sequences = True))\n",
    "model.add(Dropout(0.2))\n",
    "model.add(LSTM(units = 25, return_sequences = False)) \n",
    "model.add(Dropout(0.2))\n",
    "model.add(Dense(units = 1)) \n",
    "model.compile(optimizer = 'adam', loss = 'mean_squared_error')\n",
    "\n",
    "#es = EarlyStopping(monitor='val_loss',mode='auto',verbose = 1,patience=5)\n",
    "\n",
    "model.fit(previsores, turbidez_real, epochs = 100, batch_size = 32)"
   ]
  },
  {
   "cell_type": "code",
   "execution_count": 17,
   "metadata": {},
   "outputs": [],
   "source": [
    "turbidez_real_teste = test\n",
    "entradas = data[len(data) - len(test) - timestamp:]\n",
    "entradas = entradas.reshape(-1, 1)\n",
    "entradas = sc.transform(entradas)\n",
    "\n",
    "X_teste = []\n",
    "for i in range(timestamp, timestamp + len(test)):\n",
    "    X_teste.append(entradas[i-timestamp:i, 0])\n",
    "X_teste = np.array(X_teste)\n",
    "X_teste = np.reshape(X_teste, (X_teste.shape[0], X_teste.shape[1], 1))\n",
    "previsoes = model.predict(X_teste)\n",
    "previsoes = sc.inverse_transform(previsoes)"
   ]
  },
  {
   "cell_type": "code",
   "execution_count": 18,
   "metadata": {},
   "outputs": [
    {
     "data": {
      "image/png": "[encoded data removed]",
      "text/plain": [
       "<Figure size 432x288 with 1 Axes>"
      ]
     },
     "metadata": {
      "needs_background": "light"
     },
     "output_type": "display_data"
    },
    {
     "name": "stdout",
     "output_type": "stream",
     "text": [
      "Previsão (média): 56.25\n",
      "Turbidez Real (média): 46.72\n",
      "Diferença (média): -9.53\n",
      "Pontuação de Treino: 0.02 MSE (0.15 RMSE)\n"
     ]
    }
   ],
   "source": [
    "previsoes_treino = model.predict(previsores)\n",
    "previsoes_treino = sc.inverse_transform(previsoes_treino)\n",
    "\n",
    "train_predict_plot = np.empty_like(data)\n",
    "train_predict_plot[:, :] = np.nan\n",
    "train_predict_plot[timestamp: len(previsoes_treino) + timestamp, :] = previsoes_treino\n",
    "\n",
    "test_predict_plot = np.empty_like(data)\n",
    "test_predict_plot[:, :] = np.nan\n",
    "test_predict_plot[len(previsoes_treino)+(timestamp):len(data), :] = previsoes\n",
    "\n",
    "plt.plot(data, label='Turbidez Real', color='orange')\n",
    "plt.plot(train_predict_plot, color = 'red', label = 'Treino')\n",
    "plt.plot(test_predict_plot, color = 'blue', label = 'Teste')\n",
    "plt.title('')\n",
    "plt.xlabel('Trimestre')\n",
    "plt.ylabel('Valor Turbidez')\n",
    "plt.legend(loc='best')\n",
    "plt.show()\n",
    "\n",
    "print('Previsão (média):',round(previsoes.mean(),2))\n",
    "print('Turbidez Real (média):', round(turbidez_real_teste.mean(),2))\n",
    "print('Diferença (média):', round(turbidez_real_teste.mean() - previsoes.mean(),2))\n",
    "\n",
    "train_score25 = model.evaluate(previsores, turbidez_real, verbose=0)\n",
    "ph25_mse  = train_score25\n",
    "ph25_rmse = math.sqrt(train_score25)\n",
    "\n",
    "print('Pontuação de Treino: {:.2f} MSE ({:.2f} RMSE)'.format(train_score25, math.sqrt(train_score25)))\n"
   ]
  },
  {
   "cell_type": "code",
   "execution_count": 19,
   "metadata": {},
   "outputs": [
    {
     "name": "stdout",
     "output_type": "stream",
     "text": [
      "Rede Neural LSTM com 50 neuronios nas camadas de entrada e oculta - epocas:100\n",
      "Train on 125 samples\n",
      "Epoch 1/100\n",
      "125/125 [==============================] - 14s 113ms/sample - loss: 0.0420\n",
      "Epoch 2/100\n",
      "125/125 [==============================] - 0s 3ms/sample - loss: 0.0238\n",
      "Epoch 3/100\n",
      "125/125 [==============================] - 0s 3ms/sample - loss: 0.0275\n",
      "Epoch 4/100\n",
      "125/125 [==============================] - 0s 4ms/sample - loss: 0.0252\n",
      "Epoch 5/100\n",
      "125/125 [==============================] - 0s 3ms/sample - loss: 0.0244\n",
      "Epoch 6/100\n",
      "125/125 [==============================] - 0s 4ms/sample - loss: 0.0259\n",
      "Epoch 7/100\n",
      "125/125 [==============================] - 1s 4ms/sample - loss: 0.0257\n",
      "Epoch 8/100\n",
      "125/125 [==============================] - 1s 5ms/sample - loss: 0.0239\n",
      "Epoch 9/100\n",
      "125/125 [==============================] - 0s 3ms/sample - loss: 0.0238\n",
      "Epoch 10/100\n",
      "125/125 [==============================] - 0s 3ms/sample - loss: 0.0236\n",
      "Epoch 11/100\n",
      "125/125 [==============================] - 0s 3ms/sample - loss: 0.0232\n",
      "Epoch 12/100\n",
      "125/125 [==============================] - 0s 3ms/sample - loss: 0.0239\n",
      "Epoch 13/100\n",
      "125/125 [==============================] - 0s 4ms/sample - loss: 0.0235\n",
      "Epoch 14/100\n",
      "125/125 [==============================] - 0s 3ms/sample - loss: 0.0230\n",
      "Epoch 15/100\n",
      "125/125 [==============================] - 0s 4ms/sample - loss: 0.0238\n",
      "Epoch 16/100\n",
      "125/125 [==============================] - 0s 3ms/sample - loss: 0.0228\n",
      "Epoch 17/100\n",
      "125/125 [==============================] - 1s 5ms/sample - loss: 0.0243\n",
      "Epoch 18/100\n",
      "125/125 [==============================] - 1s 4ms/sample - loss: 0.0243\n",
      "Epoch 19/100\n",
      "125/125 [==============================] - 0s 3ms/sample - loss: 0.0232\n",
      "Epoch 20/100\n",
      "125/125 [==============================] - 0s 3ms/sample - loss: 0.0235\n",
      "Epoch 21/100\n",
      "125/125 [==============================] - 0s 3ms/sample - loss: 0.0231\n",
      "Epoch 22/100\n",
      "125/125 [==============================] - 0s 4ms/sample - loss: 0.0224\n",
      "Epoch 23/100\n",
      "125/125 [==============================] - 0s 4ms/sample - loss: 0.0233\n",
      "Epoch 24/100\n",
      "125/125 [==============================] - 1s 4ms/sample - loss: 0.0227\n",
      "Epoch 25/100\n",
      "125/125 [==============================] - 0s 3ms/sample - loss: 0.0232\n",
      "Epoch 26/100\n",
      "125/125 [==============================] - 1s 5ms/sample - loss: 0.0240\n",
      "Epoch 27/100\n",
      "125/125 [==============================] - 0s 4ms/sample - loss: 0.0225\n",
      "Epoch 28/100\n",
      "125/125 [==============================] - 0s 3ms/sample - loss: 0.0227\n",
      "Epoch 29/100\n",
      "125/125 [==============================] - 0s 3ms/sample - loss: 0.0221\n",
      "Epoch 30/100\n",
      "125/125 [==============================] - 0s 4ms/sample - loss: 0.0228\n",
      "Epoch 31/100\n",
      "125/125 [==============================] - 0s 4ms/sample - loss: 0.0234\n",
      "Epoch 32/100\n",
      "125/125 [==============================] - 0s 3ms/sample - loss: 0.0239\n",
      "Epoch 33/100\n",
      "125/125 [==============================] - 0s 3ms/sample - loss: 0.0228\n",
      "Epoch 34/100\n",
      "125/125 [==============================] - 0s 3ms/sample - loss: 0.0232\n",
      "Epoch 35/100\n",
      "125/125 [==============================] - 0s 3ms/sample - loss: 0.0238\n",
      "Epoch 36/100\n",
      "125/125 [==============================] - 0s 3ms/sample - loss: 0.0237\n",
      "Epoch 37/100\n",
      "125/125 [==============================] - 0s 3ms/sample - loss: 0.0237\n",
      "Epoch 38/100\n",
      "125/125 [==============================] - 0s 3ms/sample - loss: 0.0234\n",
      "Epoch 39/100\n",
      "125/125 [==============================] - ETA: 0s - loss: 0.023 - 0s 4ms/sample - loss: 0.0231\n",
      "Epoch 40/100\n",
      "125/125 [==============================] - 0s 3ms/sample - loss: 0.0240\n",
      "Epoch 41/100\n",
      "125/125 [==============================] - 0s 3ms/sample - loss: 0.0228\n",
      "Epoch 42/100\n",
      "125/125 [==============================] - 0s 3ms/sample - loss: 0.0225\n",
      "Epoch 43/100\n",
      "125/125 [==============================] - 0s 3ms/sample - loss: 0.0218\n",
      "Epoch 44/100\n",
      "125/125 [==============================] - 0s 3ms/sample - loss: 0.0231\n",
      "Epoch 45/100\n",
      "125/125 [==============================] - 0s 3ms/sample - loss: 0.0238\n",
      "Epoch 46/100\n",
      "125/125 [==============================] - 0s 3ms/sample - loss: 0.0231\n",
      "Epoch 47/100\n",
      "125/125 [==============================] - 0s 4ms/sample - loss: 0.0225\n",
      "Epoch 48/100\n",
      "125/125 [==============================] - 0s 3ms/sample - loss: 0.0221\n",
      "Epoch 49/100\n",
      "125/125 [==============================] - 0s 3ms/sample - loss: 0.0234\n",
      "Epoch 50/100\n",
      "125/125 [==============================] - 0s 3ms/sample - loss: 0.0236\n",
      "Epoch 51/100\n",
      "125/125 [==============================] - 0s 3ms/sample - loss: 0.0225\n",
      "Epoch 52/100\n",
      "125/125 [==============================] - 0s 3ms/sample - loss: 0.0228\n",
      "Epoch 53/100\n",
      "125/125 [==============================] - 0s 2ms/sample - loss: 0.0237\n",
      "Epoch 54/100\n",
      "125/125 [==============================] - 0s 3ms/sample - loss: 0.0234\n",
      "Epoch 55/100\n",
      "125/125 [==============================] - 0s 3ms/sample - loss: 0.0233\n",
      "Epoch 56/100\n",
      "125/125 [==============================] - 0s 3ms/sample - loss: 0.0226\n",
      "Epoch 57/100\n",
      "125/125 [==============================] - 0s 3ms/sample - loss: 0.0227\n",
      "Epoch 58/100\n",
      "125/125 [==============================] - 0s 3ms/sample - loss: 0.0235\n",
      "Epoch 59/100\n",
      "125/125 [==============================] - 0s 3ms/sample - loss: 0.0237\n",
      "Epoch 60/100\n",
      "125/125 [==============================] - 0s 3ms/sample - loss: 0.0232\n",
      "Epoch 61/100\n",
      "125/125 [==============================] - 0s 3ms/sample - loss: 0.0224\n",
      "Epoch 62/100\n",
      "125/125 [==============================] - 0s 3ms/sample - loss: 0.0228\n",
      "Epoch 63/100\n",
      "125/125 [==============================] - 0s 3ms/sample - loss: 0.0226\n",
      "Epoch 64/100\n",
      "125/125 [==============================] - 0s 2ms/sample - loss: 0.0240\n",
      "Epoch 65/100\n",
      "125/125 [==============================] - 0s 3ms/sample - loss: 0.0225\n",
      "Epoch 66/100\n",
      "125/125 [==============================] - 0s 3ms/sample - loss: 0.0239\n",
      "Epoch 67/100\n",
      "125/125 [==============================] - 0s 3ms/sample - loss: 0.0242\n",
      "Epoch 68/100\n",
      "125/125 [==============================] - 0s 3ms/sample - loss: 0.0227\n",
      "Epoch 69/100\n",
      "125/125 [==============================] - 0s 3ms/sample - loss: 0.0231\n",
      "Epoch 70/100\n",
      "125/125 [==============================] - 0s 3ms/sample - loss: 0.0232\n",
      "Epoch 71/100\n",
      "125/125 [==============================] - 0s 3ms/sample - loss: 0.0235\n",
      "Epoch 72/100\n",
      "125/125 [==============================] - 0s 3ms/sample - loss: 0.0229\n",
      "Epoch 73/100\n",
      "125/125 [==============================] - 0s 3ms/sample - loss: 0.0220\n",
      "Epoch 74/100\n",
      "125/125 [==============================] - 0s 3ms/sample - loss: 0.0228\n",
      "Epoch 75/100\n",
      "125/125 [==============================] - 0s 3ms/sample - loss: 0.0221\n",
      "Epoch 76/100\n",
      "125/125 [==============================] - 0s 3ms/sample - loss: 0.0229\n",
      "Epoch 77/100\n",
      "125/125 [==============================] - 0s 3ms/sample - loss: 0.0222\n",
      "Epoch 78/100\n",
      "125/125 [==============================] - 0s 3ms/sample - loss: 0.0230\n",
      "Epoch 79/100\n",
      "125/125 [==============================] - 0s 3ms/sample - loss: 0.0221\n",
      "Epoch 80/100\n",
      "125/125 [==============================] - 0s 3ms/sample - loss: 0.0234\n",
      "Epoch 81/100\n",
      "125/125 [==============================] - 0s 3ms/sample - loss: 0.0221\n",
      "Epoch 82/100\n",
      "125/125 [==============================] - 0s 3ms/sample - loss: 0.0214\n",
      "Epoch 83/100\n",
      "125/125 [==============================] - 0s 3ms/sample - loss: 0.0232\n",
      "Epoch 84/100\n",
      "125/125 [==============================] - 0s 3ms/sample - loss: 0.0234\n",
      "Epoch 85/100\n",
      "125/125 [==============================] - 0s 3ms/sample - loss: 0.0227\n",
      "Epoch 86/100\n",
      "125/125 [==============================] - 0s 3ms/sample - loss: 0.0227\n",
      "Epoch 87/100\n",
      "125/125 [==============================] - 0s 3ms/sample - loss: 0.0228\n",
      "Epoch 88/100\n",
      "125/125 [==============================] - 0s 3ms/sample - loss: 0.0221\n",
      "Epoch 89/100\n",
      "125/125 [==============================] - 0s 3ms/sample - loss: 0.0225\n",
      "Epoch 90/100\n",
      "125/125 [==============================] - 0s 3ms/sample - loss: 0.0239\n",
      "Epoch 91/100\n",
      "125/125 [==============================] - 0s 3ms/sample - loss: 0.0231\n",
      "Epoch 92/100\n",
      "125/125 [==============================] - 0s 3ms/sample - loss: 0.0217\n",
      "Epoch 93/100\n",
      "125/125 [==============================] - 0s 3ms/sample - loss: 0.0228\n",
      "Epoch 94/100\n",
      "125/125 [==============================] - 0s 3ms/sample - loss: 0.0230\n",
      "Epoch 95/100\n",
      "125/125 [==============================] - 0s 3ms/sample - loss: 0.0217\n"
     ]
    },
    {
     "name": "stdout",
     "output_type": "stream",
     "text": [
      "Epoch 96/100\n",
      "125/125 [==============================] - 0s 2ms/sample - loss: 0.0233\n",
      "Epoch 97/100\n",
      "125/125 [==============================] - 0s 2ms/sample - loss: 0.0227\n",
      "Epoch 98/100\n",
      "125/125 [==============================] - 0s 2ms/sample - loss: 0.0225\n",
      "Epoch 99/100\n",
      "125/125 [==============================] - 0s 2ms/sample - loss: 0.0235\n",
      "Epoch 100/100\n",
      "125/125 [==============================] - 0s 2ms/sample - loss: 0.0228\n"
     ]
    },
    {
     "data": {
      "text/plain": [
       "<tensorflow.python.keras.callbacks.History at 0x7f9c7f058890>"
      ]
     },
     "execution_count": 19,
     "metadata": {},
     "output_type": "execute_result"
    }
   ],
   "source": [
    "print(\"Rede Neural LSTM com 50 neuronios nas camadas de entrada e oculta - epocas:100\")\n",
    "model = Sequential() \n",
    "\n",
    "model.add(LSTM(units = 50, return_sequences = True, input_shape = (previsores.shape[1], 1))) \n",
    "model.add(Dropout(0.2))\n",
    "model.add(LSTM(units = 50, return_sequences = True))\n",
    "model.add(Dropout(0.2))\n",
    "model.add(LSTM(units = 50, return_sequences = False)) \n",
    "model.add(Dropout(0.2))\n",
    "model.add(Dense(units = 1)) \n",
    "model.compile(optimizer = 'adam', loss = 'mean_squared_error')\n",
    "\n",
    "#es = EarlyStopping(monitor='val_loss',mode='auto',verbose = 1,patience=5)\n",
    "\n",
    "model.fit(previsores, turbidez_real, epochs = 100, batch_size = 32)"
   ]
  },
  {
   "cell_type": "code",
   "execution_count": 20,
   "metadata": {},
   "outputs": [],
   "source": [
    "turbidez_real_teste = test\n",
    "entradas = data[len(data) - len(test) - timestamp:]\n",
    "entradas = entradas.reshape(-1, 1)\n",
    "entradas = sc.transform(entradas)\n",
    "\n",
    "X_teste = []\n",
    "for i in range(timestamp, timestamp + len(test)):\n",
    "    X_teste.append(entradas[i-timestamp:i, 0])\n",
    "X_teste = np.array(X_teste)\n",
    "X_teste = np.reshape(X_teste, (X_teste.shape[0], X_teste.shape[1], 1))\n",
    "previsoes = model.predict(X_teste)\n",
    "previsoes = sc.inverse_transform(previsoes)"
   ]
  },
  {
   "cell_type": "code",
   "execution_count": 22,
   "metadata": {},
   "outputs": [
    {
     "data": {
      "image/png": "[encoded data removed]",
      "text/plain": [
       "<Figure size 432x288 with 1 Axes>"
      ]
     },
     "metadata": {
      "needs_background": "light"
     },
     "output_type": "display_data"
    },
    {
     "name": "stdout",
     "output_type": "stream",
     "text": [
      "Previsão (média): 57.89\n",
      "Turbidez Real (média): 46.72\n",
      "Diferença (média): -11.17\n",
      "Pontuação de Treino: 0.02 MSE (0.15 RMSE)\n"
     ]
    }
   ],
   "source": [
    "previsoes_treino = model.predict(previsores)\n",
    "previsoes_treino = sc.inverse_transform(previsoes_treino)\n",
    "\n",
    "train_predict_plot = np.empty_like(data)\n",
    "train_predict_plot[:, :] = np.nan\n",
    "train_predict_plot[timestamp: len(previsoes_treino) + timestamp, :] = previsoes_treino\n",
    "\n",
    "test_predict_plot = np.empty_like(data)\n",
    "test_predict_plot[:, :] = np.nan\n",
    "test_predict_plot[len(previsoes_treino)+(timestamp):len(data), :] = previsoes\n",
    "\n",
    "plt.plot(data, label='pH Turbidez', color='orange')\n",
    "plt.plot(train_predict_plot, color = 'red', label = 'Treino')\n",
    "plt.plot(test_predict_plot, color = 'blue', label = 'Teste')\n",
    "plt.title('')\n",
    "plt.xlabel('Trimestre')\n",
    "plt.ylabel('Valor Turbidez')\n",
    "plt.legend(loc='best')\n",
    "plt.show()\n",
    "\n",
    "print('Previsão (média):',round(previsoes.mean(),2))\n",
    "print('Turbidez Real (média):', round(turbidez_real_teste.mean(),2))\n",
    "print('Diferença (média):', round(turbidez_real_teste.mean() - previsoes.mean(),2))\n",
    "\n",
    "train_score50 = model.evaluate(previsores, turbidez_real, verbose=0)\n",
    "ph50_mse  = train_score50\n",
    "ph50_rmse = math.sqrt(train_score50)\n",
    "\n",
    "print('Pontuação de Treino: {:.2f} MSE ({:.2f} RMSE)'.format(train_score50, math.sqrt(train_score50)))\n",
    "    \n"
   ]
  },
  {
   "cell_type": "code",
   "execution_count": 23,
   "metadata": {},
   "outputs": [
    {
     "name": "stdout",
     "output_type": "stream",
     "text": [
      "Turbidez_media_mse: 0.022\n",
      "Turbidez_media_rmse: 0.149\n"
     ]
    }
   ],
   "source": [
    "ph_media_mse = (ph10_mse+ph25_mse+ph50_mse)/3\n",
    "ph_media_rmse = (ph10_rmse+ph25_rmse+ph50_rmse)/3\n",
    "\n",
    "print('Turbidez_media_mse:', round(ph_media_mse,3))\n",
    "print('Turbidez_media_rmse:', round(ph_media_rmse,3))"
   ]
  },
  {
   "cell_type": "code",
   "execution_count": null,
   "metadata": {},
   "outputs": [],
   "source": []
  },
  {
   "cell_type": "code",
   "execution_count": null,
   "metadata": {},
   "outputs": [],
   "source": []
  },
  {
   "cell_type": "code",
   "execution_count": null,
   "metadata": {},
   "outputs": [],
   "source": [
    "\n"
   ]
  },
  {
   "cell_type": "code",
   "execution_count": null,
   "metadata": {},
   "outputs": [],
   "source": []
  },
  {
   "cell_type": "code",
   "execution_count": null,
   "metadata": {},
   "outputs": [],
   "source": []
  },
  {
   "cell_type": "code",
   "execution_count": null,
   "metadata": {},
   "outputs": [],
   "source": []
  },
  {
   "cell_type": "code",
   "execution_count": null,
   "metadata": {},
   "outputs": [],
   "source": []
  },
  {
   "cell_type": "code",
   "execution_count": null,
   "metadata": {},
   "outputs": [],
   "source": []
  },
  {
   "cell_type": "code",
   "execution_count": null,
   "metadata": {},
   "outputs": [],
   "source": []
  },
  {
   "cell_type": "code",
   "execution_count": null,
   "metadata": {},
   "outputs": [],
   "source": []
  },
  {
   "cell_type": "code",
   "execution_count": null,
   "metadata": {},
   "outputs": [],
   "source": []
  },
  {
   "cell_type": "code",
   "execution_count": null,
   "metadata": {},
   "outputs": [],
   "source": [
    "\n",
    "    \n"
   ]
  },
  {
   "cell_type": "code",
   "execution_count": 33,
   "metadata": {},
   "outputs": [],
   "source": []
  },
  {
   "cell_type": "code",
   "execution_count": null,
   "metadata": {},
   "outputs": [],
   "source": []
  },
  {
   "cell_type": "code",
   "execution_count": null,
   "metadata": {},
   "outputs": [],
   "source": []
  },
  {
   "cell_type": "code",
   "execution_count": null,
   "metadata": {},
   "outputs": [],
   "source": []
  },
  {
   "cell_type": "code",
   "execution_count": null,
   "metadata": {},
   "outputs": [],
   "source": [
    "\n"
   ]
  },
  {
   "cell_type": "code",
   "execution_count": null,
   "metadata": {},
   "outputs": [],
   "source": []
  },
  {
   "cell_type": "code",
   "execution_count": null,
   "metadata": {},
   "outputs": [],
   "source": []
  },
  {
   "cell_type": "code",
   "execution_count": null,
   "metadata": {},
   "outputs": [],
   "source": []
  },
  {
   "cell_type": "code",
   "execution_count": null,
   "metadata": {},
   "outputs": [],
   "source": []
  },
  {
   "cell_type": "code",
   "execution_count": null,
   "metadata": {},
   "outputs": [],
   "source": []
  },
  {
   "cell_type": "code",
   "execution_count": null,
   "metadata": {},
   "outputs": [],
   "source": []
  },
  {
   "cell_type": "code",
   "execution_count": null,
   "metadata": {},
   "outputs": [],
   "source": []
  },
  {
   "cell_type": "code",
   "execution_count": null,
   "metadata": {},
   "outputs": [],
   "source": [
    "    \n"
   ]
  },
  {
   "cell_type": "code",
   "execution_count": null,
   "metadata": {},
   "outputs": [],
   "source": []
  },
  {
   "cell_type": "code",
   "execution_count": null,
   "metadata": {},
   "outputs": [],
   "source": []
  },
  {
   "cell_type": "code",
   "execution_count": null,
   "metadata": {},
   "outputs": [],
   "source": []
  },
  {
   "cell_type": "code",
   "execution_count": null,
   "metadata": {},
   "outputs": [],
   "source": []
  },
  {
   "cell_type": "code",
   "execution_count": null,
   "metadata": {},
   "outputs": [],
   "source": []
  },
  {
   "cell_type": "code",
   "execution_count": null,
   "metadata": {},
   "outputs": [],
   "source": []
  },
  {
   "cell_type": "code",
   "execution_count": null,
   "metadata": {},
   "outputs": [],
   "source": []
  },
  {
   "cell_type": "code",
   "execution_count": null,
   "metadata": {},
   "outputs": [],
   "source": []
  },
  {
   "cell_type": "code",
   "execution_count": null,
   "metadata": {},
   "outputs": [],
   "source": []
  },
  {
   "cell_type": "code",
   "execution_count": null,
   "metadata": {},
   "outputs": [],
   "source": []
  },
  {
   "cell_type": "code",
   "execution_count": null,
   "metadata": {},
   "outputs": [],
   "source": []
  },
  {
   "cell_type": "code",
   "execution_count": null,
   "metadata": {},
   "outputs": [],
   "source": []
  },
  {
   "cell_type": "code",
   "execution_count": null,
   "metadata": {},
   "outputs": [],
   "source": []
  },
  {
   "cell_type": "code",
   "execution_count": null,
   "metadata": {},
   "outputs": [],
   "source": []
  },
  {
   "cell_type": "code",
   "execution_count": null,
   "metadata": {},
   "outputs": [],
   "source": []
  },
  {
   "cell_type": "code",
   "execution_count": null,
   "metadata": {},
   "outputs": [],
   "source": []
  },
  {
   "cell_type": "code",
   "execution_count": null,
   "metadata": {},
   "outputs": [],
   "source": []
  },
  {
   "cell_type": "code",
   "execution_count": null,
   "metadata": {},
   "outputs": [],
   "source": []
  },
  {
   "cell_type": "code",
   "execution_count": null,
   "metadata": {},
   "outputs": [],
   "source": []
  },
  {
   "cell_type": "code",
   "execution_count": null,
   "metadata": {},
   "outputs": [],
   "source": []
  },
  {
   "cell_type": "code",
   "execution_count": null,
   "metadata": {},
   "outputs": [],
   "source": []
  },
  {
   "cell_type": "code",
   "execution_count": null,
   "metadata": {},
   "outputs": [],
   "source": []
  },
  {
   "cell_type": "code",
   "execution_count": null,
   "metadata": {},
   "outputs": [],
   "source": []
  },
  {
   "cell_type": "code",
   "execution_count": null,
   "metadata": {},
   "outputs": [],
   "source": []
  },
  {
   "cell_type": "code",
   "execution_count": null,
   "metadata": {},
   "outputs": [],
   "source": []
  },
  {
   "cell_type": "code",
   "execution_count": null,
   "metadata": {},
   "outputs": [],
   "source": []
  },
  {
   "cell_type": "code",
   "execution_count": null,
   "metadata": {},
   "outputs": [],
   "source": []
  },
  {
   "cell_type": "code",
   "execution_count": null,
   "metadata": {},
   "outputs": [],
   "source": []
  },
  {
   "cell_type": "code",
   "execution_count": null,
   "metadata": {},
   "outputs": [],
   "source": []
  },
  {
   "cell_type": "code",
   "execution_count": null,
   "metadata": {},
   "outputs": [],
   "source": []
  },
  {
   "cell_type": "code",
   "execution_count": null,
   "metadata": {},
   "outputs": [],
   "source": []
  },
  {
   "cell_type": "code",
   "execution_count": null,
   "metadata": {},
   "outputs": [],
   "source": []
  },
  {
   "cell_type": "code",
   "execution_count": null,
   "metadata": {},
   "outputs": [],
   "source": []
  },
  {
   "cell_type": "code",
   "execution_count": null,
   "metadata": {},
   "outputs": [],
   "source": []
  },
  {
   "cell_type": "code",
   "execution_count": null,
   "metadata": {},
   "outputs": [],
   "source": []
  }
 ],
 "metadata": {
  "kernelspec": {
   "display_name": "Python 3",
   "language": "python",
   "name": "python3"
  },
  "language_info": {
   "codemirror_mode": {
    "name": "ipython",
    "version": 3
   },
   "file_extension": ".py",
   "mimetype": "text/x-python",
   "name": "python",
   "nbconvert_exporter": "python",
   "pygments_lexer": "ipython3",
   "version": "3.7.4"
  }
 },
 "nbformat": 4,
 "nbformat_minor": 2
}
