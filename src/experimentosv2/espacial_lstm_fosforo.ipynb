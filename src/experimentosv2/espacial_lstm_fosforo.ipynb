{
 "cells": [
  {
   "cell_type": "markdown",
   "metadata": {},
   "source": [
    "Modelo LSTM para prever o parâmetro Fósforo "
   ]
  },
  {
   "cell_type": "code",
   "execution_count": 2,
   "metadata": {},
   "outputs": [],
   "source": [
    "import pandas as pd\n",
    "import numpy as np\n",
    "import matplotlib.pyplot as plt\n",
    "from tensorflow.keras.models import Sequential\n",
    "from tensorflow.keras.layers import Dense, LSTM, Dropout\n",
    "from sklearn.preprocessing import MinMaxScaler\n",
    "from tensorflow.keras.callbacks import EarlyStopping\n",
    "import math\n",
    "import matplotlib.pyplot as plt\n",
    "plt.rcParams['xtick.labelsize']= 18\n",
    "plt.rcParams['ytick.labelsize']= 18\n",
    "plt.rcParams.update({'font.size':18})"
   ]
  },
  {
   "cell_type": "code",
   "execution_count": 3,
   "metadata": {},
   "outputs": [],
   "source": [
    "str_files = ''\n",
    "\n",
    "#df = pd.read_csv(str_files + \"ph.csv\",encoding='utf-8',sep=';')\n",
    "dateparse = lambda dates:pd.datetime.strptime(dates,'%d/%m/%Y')\n",
    "df = pd.read_csv(str_files + 'Fosforo.CSV',encoding='utf-8',sep=';', parse_dates = ['data_coleta'],index_col=['data_coleta'],date_parser=dateparse)"
   ]
  },
  {
   "cell_type": "code",
   "execution_count": 4,
   "metadata": {},
   "outputs": [],
   "source": [
    "#df.head()"
   ]
  },
  {
   "cell_type": "code",
   "execution_count": 5,
   "metadata": {},
   "outputs": [],
   "source": [
    "z = df.loc[df['UGRHI'] == '10 - SOROCABA/MEDIO TIETE']\n",
    "#z.info()"
   ]
  },
  {
   "cell_type": "code",
   "execution_count": 6,
   "metadata": {},
   "outputs": [],
   "source": [
    "z = z.dropna(axis=1,how='any')\n",
    "#for field in z.columns:\n",
    "    #print(field,'NaN',z[field].isnull().sum())\n",
    "#print(len(z))"
   ]
  },
  {
   "cell_type": "code",
   "execution_count": 7,
   "metadata": {},
   "outputs": [
    {
     "name": "stdout",
     "output_type": "stream",
     "text": [
      "treino: 133\n",
      "teste: 33\n"
     ]
    },
    {
     "data": {
      "text/plain": [
       "33"
      ]
     },
     "execution_count": 7,
     "metadata": {},
     "output_type": "execute_result"
    }
   ],
   "source": [
    "trainingd = z.resample('3M').mean()\n",
    "trainingd\n",
    "data = trainingd.iloc[:,1:2].values\n",
    "\n",
    "train = trainingd.iloc[0:133,1:2].values  \n",
    "test = trainingd.iloc[133:,1:2].values   \n",
    "print('treino:',len(train))\n",
    "print('teste:',len(test))\n",
    "len(test)"
   ]
  },
  {
   "cell_type": "code",
   "execution_count": 8,
   "metadata": {},
   "outputs": [],
   "source": [
    "sc = MinMaxScaler()\n",
    "train_normalizado = sc.fit_transform(train)"
   ]
  },
  {
   "cell_type": "code",
   "execution_count": 9,
   "metadata": {},
   "outputs": [
    {
     "data": {
      "text/plain": [
       "(125, 8, 1)"
      ]
     },
     "execution_count": 9,
     "metadata": {},
     "output_type": "execute_result"
    }
   ],
   "source": [
    "timestamp = 8\n",
    "previsores = []\n",
    "fosforo_real    = []\n",
    "for i in range(timestamp, len(train)):\n",
    "    previsores.append(train_normalizado[i-timestamp:i, 0])\n",
    "    fosforo_real.append(train_normalizado[i, 0])\n",
    "previsores, fosforo_real = np.array(previsores), np.array(fosforo_real)\n",
    "previsores = np.reshape(previsores, (previsores.shape[0], previsores.shape[1], 1))\n",
    "previsores.shape"
   ]
  },
  {
   "cell_type": "code",
   "execution_count": 10,
   "metadata": {},
   "outputs": [
    {
     "name": "stdout",
     "output_type": "stream",
     "text": [
      "Rede Neural LSTM com 10 neuronios nas camadas de entrada e oculta - epocas:100\n",
      "Train on 125 samples\n",
      "Epoch 1/100\n",
      "125/125 [==============================] - 17s 137ms/sample - loss: 9.0113e-05\n",
      "Epoch 2/100\n",
      "125/125 [==============================] - 0s 3ms/sample - loss: 6.6875e-05\n",
      "Epoch 3/100\n",
      "125/125 [==============================] - 0s 3ms/sample - loss: 6.2904e-05\n",
      "Epoch 4/100\n",
      "125/125 [==============================] - 0s 3ms/sample - loss: 4.7537e-05\n",
      "Epoch 5/100\n",
      "125/125 [==============================] - 0s 2ms/sample - loss: 5.3190e-05\n",
      "Epoch 6/100\n",
      "125/125 [==============================] - 0s 3ms/sample - loss: 4.9432e-05\n",
      "Epoch 7/100\n",
      "125/125 [==============================] - 0s 3ms/sample - loss: 4.6830e-05\n",
      "Epoch 8/100\n",
      "125/125 [==============================] - 0s 2ms/sample - loss: 4.4552e-05\n",
      "Epoch 9/100\n",
      "125/125 [==============================] - ETA: 0s - loss: 4.6270e-0 - 0s 3ms/sample - loss: 4.7277e-05\n",
      "Epoch 10/100\n",
      "125/125 [==============================] - 0s 3ms/sample - loss: 4.4363e-05\n",
      "Epoch 11/100\n",
      "125/125 [==============================] - 0s 3ms/sample - loss: 4.4110e-05\n",
      "Epoch 12/100\n",
      "125/125 [==============================] - 0s 3ms/sample - loss: 4.6844e-05\n",
      "Epoch 13/100\n",
      "125/125 [==============================] - 0s 3ms/sample - loss: 4.3739e-05\n",
      "Epoch 14/100\n",
      "125/125 [==============================] - 0s 3ms/sample - loss: 4.2675e-05\n",
      "Epoch 15/100\n",
      "125/125 [==============================] - 0s 3ms/sample - loss: 4.5794e-05\n",
      "Epoch 16/100\n",
      "125/125 [==============================] - 0s 3ms/sample - loss: 4.2647e-05\n",
      "Epoch 17/100\n",
      "125/125 [==============================] - 0s 3ms/sample - loss: 4.3615e-05\n",
      "Epoch 18/100\n",
      "125/125 [==============================] - 0s 3ms/sample - loss: 4.5069e-05\n",
      "Epoch 19/100\n",
      "125/125 [==============================] - 0s 3ms/sample - loss: 4.0875e-05\n",
      "Epoch 20/100\n",
      "125/125 [==============================] - 0s 3ms/sample - loss: 4.3452e-05\n",
      "Epoch 21/100\n",
      "125/125 [==============================] - 0s 3ms/sample - loss: 4.3314e-05\n",
      "Epoch 22/100\n",
      "125/125 [==============================] - 0s 3ms/sample - loss: 4.4507e-05\n",
      "Epoch 23/100\n",
      "125/125 [==============================] - 0s 3ms/sample - loss: 4.4200e-05\n",
      "Epoch 24/100\n",
      "125/125 [==============================] - 0s 3ms/sample - loss: 4.2520e-05\n",
      "Epoch 25/100\n",
      "125/125 [==============================] - 0s 3ms/sample - loss: 4.2933e-05\n",
      "Epoch 26/100\n",
      "125/125 [==============================] - 0s 3ms/sample - loss: 4.4035e-05\n",
      "Epoch 27/100\n",
      "125/125 [==============================] - 0s 3ms/sample - loss: 4.3067e-05\n",
      "Epoch 28/100\n",
      "125/125 [==============================] - 0s 3ms/sample - loss: 4.2665e-05\n",
      "Epoch 29/100\n",
      "125/125 [==============================] - 0s 3ms/sample - loss: 4.2523e-05\n",
      "Epoch 30/100\n",
      "125/125 [==============================] - 0s 3ms/sample - loss: 4.3971e-05\n",
      "Epoch 31/100\n",
      "125/125 [==============================] - 0s 3ms/sample - loss: 4.1122e-05\n",
      "Epoch 32/100\n",
      "125/125 [==============================] - 0s 3ms/sample - loss: 4.4077e-05\n",
      "Epoch 33/100\n",
      "125/125 [==============================] - 0s 3ms/sample - loss: 4.4126e-05\n",
      "Epoch 34/100\n",
      "125/125 [==============================] - 0s 3ms/sample - loss: 4.2382e-05\n",
      "Epoch 35/100\n",
      "125/125 [==============================] - 0s 3ms/sample - loss: 4.2031e-05\n",
      "Epoch 36/100\n",
      "125/125 [==============================] - 0s 3ms/sample - loss: 4.4254e-05\n",
      "Epoch 37/100\n",
      "125/125 [==============================] - 0s 3ms/sample - loss: 4.2680e-05\n",
      "Epoch 38/100\n",
      "125/125 [==============================] - 0s 3ms/sample - loss: 4.1356e-05\n",
      "Epoch 39/100\n",
      "125/125 [==============================] - 0s 3ms/sample - loss: 4.3710e-05\n",
      "Epoch 40/100\n",
      "125/125 [==============================] - 0s 3ms/sample - loss: 4.2867e-05\n",
      "Epoch 41/100\n",
      "125/125 [==============================] - 0s 3ms/sample - loss: 4.2079e-05\n",
      "Epoch 42/100\n",
      "125/125 [==============================] - 0s 3ms/sample - loss: 4.3689e-05\n",
      "Epoch 43/100\n",
      "125/125 [==============================] - 0s 3ms/sample - loss: 4.3357e-05\n",
      "Epoch 44/100\n",
      "125/125 [==============================] - 0s 3ms/sample - loss: 4.4287e-05\n",
      "Epoch 45/100\n",
      "125/125 [==============================] - 0s 3ms/sample - loss: 4.2988e-05\n",
      "Epoch 46/100\n",
      "125/125 [==============================] - 0s 3ms/sample - loss: 4.2068e-05\n",
      "Epoch 47/100\n",
      "125/125 [==============================] - 0s 3ms/sample - loss: 4.2471e-05\n",
      "Epoch 48/100\n",
      "125/125 [==============================] - 0s 3ms/sample - loss: 4.2123e-05\n",
      "Epoch 49/100\n",
      "125/125 [==============================] - 0s 3ms/sample - loss: 4.2521e-05\n",
      "Epoch 50/100\n",
      "125/125 [==============================] - 0s 3ms/sample - loss: 4.4784e-05\n",
      "Epoch 51/100\n",
      "125/125 [==============================] - 0s 3ms/sample - loss: 4.1551e-05\n",
      "Epoch 52/100\n",
      "125/125 [==============================] - 0s 3ms/sample - loss: 4.4088e-05\n",
      "Epoch 53/100\n",
      "125/125 [==============================] - 0s 3ms/sample - loss: 4.2479e-05\n",
      "Epoch 54/100\n",
      "125/125 [==============================] - 0s 3ms/sample - loss: 4.4744e-05\n",
      "Epoch 55/100\n",
      "125/125 [==============================] - 0s 3ms/sample - loss: 4.5596e-05\n",
      "Epoch 56/100\n",
      "125/125 [==============================] - 0s 3ms/sample - loss: 4.3446e-05\n",
      "Epoch 57/100\n",
      "125/125 [==============================] - 0s 3ms/sample - loss: 4.3662e-05\n",
      "Epoch 58/100\n",
      "125/125 [==============================] - 0s 3ms/sample - loss: 4.4620e-05\n",
      "Epoch 59/100\n",
      "125/125 [==============================] - 0s 3ms/sample - loss: 4.1916e-05\n",
      "Epoch 60/100\n",
      "125/125 [==============================] - 0s 3ms/sample - loss: 4.3839e-05\n",
      "Epoch 61/100\n",
      "125/125 [==============================] - 0s 3ms/sample - loss: 4.4006e-05\n",
      "Epoch 62/100\n",
      "125/125 [==============================] - 0s 3ms/sample - loss: 4.3238e-05\n",
      "Epoch 63/100\n",
      "125/125 [==============================] - 0s 3ms/sample - loss: 4.1985e-05\n",
      "Epoch 64/100\n",
      "125/125 [==============================] - 0s 3ms/sample - loss: 4.1144e-05\n",
      "Epoch 65/100\n",
      "125/125 [==============================] - 0s 3ms/sample - loss: 4.4554e-05\n",
      "Epoch 66/100\n",
      "125/125 [==============================] - 0s 3ms/sample - loss: 4.4297e-05\n",
      "Epoch 67/100\n",
      "125/125 [==============================] - 0s 3ms/sample - loss: 4.2354e-05\n",
      "Epoch 68/100\n",
      "125/125 [==============================] - 0s 3ms/sample - loss: 4.2576e-05\n",
      "Epoch 69/100\n",
      "125/125 [==============================] - 0s 3ms/sample - loss: 4.2920e-05\n",
      "Epoch 70/100\n",
      "125/125 [==============================] - 0s 3ms/sample - loss: 4.2786e-05\n",
      "Epoch 71/100\n",
      "125/125 [==============================] - 0s 3ms/sample - loss: 4.1716e-05\n",
      "Epoch 72/100\n",
      "125/125 [==============================] - 0s 3ms/sample - loss: 4.3321e-05\n",
      "Epoch 73/100\n",
      "125/125 [==============================] - 0s 3ms/sample - loss: 4.2272e-05\n",
      "Epoch 74/100\n",
      "125/125 [==============================] - 0s 3ms/sample - loss: 4.1345e-05\n",
      "Epoch 75/100\n",
      "125/125 [==============================] - 0s 3ms/sample - loss: 4.2227e-05\n",
      "Epoch 76/100\n",
      "125/125 [==============================] - 0s 3ms/sample - loss: 4.2026e-05\n",
      "Epoch 77/100\n",
      "125/125 [==============================] - 0s 3ms/sample - loss: 4.2133e-05\n",
      "Epoch 78/100\n",
      "125/125 [==============================] - 0s 3ms/sample - loss: 4.1191e-05\n",
      "Epoch 79/100\n",
      "125/125 [==============================] - 0s 3ms/sample - loss: 4.1132e-05\n",
      "Epoch 80/100\n",
      "125/125 [==============================] - 0s 2ms/sample - loss: 4.2054e-05\n",
      "Epoch 81/100\n",
      "125/125 [==============================] - 0s 3ms/sample - loss: 4.3000e-05\n",
      "Epoch 82/100\n",
      "125/125 [==============================] - 0s 3ms/sample - loss: 4.1812e-05\n",
      "Epoch 83/100\n",
      "125/125 [==============================] - 0s 3ms/sample - loss: 4.6827e-05\n",
      "Epoch 84/100\n",
      "125/125 [==============================] - 0s 3ms/sample - loss: 4.1995e-05\n",
      "Epoch 85/100\n",
      "125/125 [==============================] - 0s 3ms/sample - loss: 4.2248e-05\n",
      "Epoch 86/100\n",
      "125/125 [==============================] - 0s 3ms/sample - loss: 4.3601e-05\n",
      "Epoch 87/100\n",
      "125/125 [==============================] - 0s 3ms/sample - loss: 4.5159e-05\n",
      "Epoch 88/100\n",
      "125/125 [==============================] - 0s 3ms/sample - loss: 4.3339e-05\n",
      "Epoch 89/100\n",
      "125/125 [==============================] - 0s 3ms/sample - loss: 4.2213e-05\n",
      "Epoch 90/100\n",
      "125/125 [==============================] - 0s 3ms/sample - loss: 4.2718e-05\n",
      "Epoch 91/100\n"
     ]
    },
    {
     "name": "stdout",
     "output_type": "stream",
     "text": [
      "125/125 [==============================] - 0s 3ms/sample - loss: 4.1632e-05\n",
      "Epoch 92/100\n",
      "125/125 [==============================] - 0s 2ms/sample - loss: 4.1340e-05\n",
      "Epoch 93/100\n",
      "125/125 [==============================] - 0s 2ms/sample - loss: 4.2676e-05\n",
      "Epoch 94/100\n",
      "125/125 [==============================] - 0s 2ms/sample - loss: 4.2640e-05\n",
      "Epoch 95/100\n",
      "125/125 [==============================] - 0s 2ms/sample - loss: 4.4294e-05\n",
      "Epoch 96/100\n",
      "125/125 [==============================] - 0s 2ms/sample - loss: 4.4376e-05\n",
      "Epoch 97/100\n",
      "125/125 [==============================] - 0s 2ms/sample - loss: 4.3887e-05\n",
      "Epoch 98/100\n",
      "125/125 [==============================] - 0s 2ms/sample - loss: 4.3716e-05\n",
      "Epoch 99/100\n",
      "125/125 [==============================] - 0s 2ms/sample - loss: 4.2604e-05\n",
      "Epoch 100/100\n",
      "125/125 [==============================] - 0s 2ms/sample - loss: 4.1237e-05\n"
     ]
    },
    {
     "data": {
      "text/plain": [
       "<tensorflow.python.keras.callbacks.History at 0x7fe458ed4790>"
      ]
     },
     "execution_count": 10,
     "metadata": {},
     "output_type": "execute_result"
    }
   ],
   "source": [
    "print(\"Rede Neural LSTM com 10 neuronios nas camadas de entrada e oculta - epocas:100\")\n",
    "model = Sequential() \n",
    "\n",
    "model.add(LSTM(units = 10, return_sequences = True, input_shape = (previsores.shape[1], 1))) \n",
    "model.add(Dropout(0.2))\n",
    "model.add(LSTM(units = 10, return_sequences = True))\n",
    "model.add(Dropout(0.2))\n",
    "model.add(LSTM(units = 10, return_sequences = False)) \n",
    "model.add(Dropout(0.2))\n",
    "model.add(Dense(units = 1)) \n",
    "model.compile(optimizer = 'adam', loss = 'mean_squared_error')\n",
    "\n",
    "#es = EarlyStopping(monitor='val_loss',mode='auto',verbose = 1,patience=5)\n",
    "\n",
    "model.fit(previsores, fosforo_real, epochs = 100, batch_size = 32)\n"
   ]
  },
  {
   "cell_type": "code",
   "execution_count": 11,
   "metadata": {},
   "outputs": [],
   "source": [
    "fosforo_real_teste = test\n",
    "entradas = data[len(data) - len(test) - timestamp:]\n",
    "entradas = entradas.reshape(-1, 1)\n",
    "entradas = sc.transform(entradas)\n",
    "\n",
    "X_teste = []\n",
    "for i in range(timestamp, timestamp + len(test)):\n",
    "    X_teste.append(entradas[i-timestamp:i, 0])\n",
    "X_teste = np.array(X_teste)\n",
    "X_teste = np.reshape(X_teste, (X_teste.shape[0], X_teste.shape[1], 1))\n",
    "previsoes = model.predict(X_teste)\n",
    "previsoes = sc.inverse_transform(previsoes)"
   ]
  },
  {
   "cell_type": "code",
   "execution_count": 20,
   "metadata": {},
   "outputs": [
    {
     "data": {
      "image/png": "[encoded data removed]",
      "text/plain": [
       "<Figure size 432x288 with 1 Axes>"
      ]
     },
     "metadata": {
      "needs_background": "light"
     },
     "output_type": "display_data"
    }
   ],
   "source": [
    "previsoes_treino = model.predict(previsores)\n",
    "previsoes_treino = sc.inverse_transform(previsoes_treino)\n",
    "\n",
    "train_predict_plot = np.empty_like(data)\n",
    "train_predict_plot[:, :] = np.nan\n",
    "train_predict_plot[timestamp: len(previsoes_treino) + timestamp, :] = previsoes_treino\n",
    "\n",
    "test_predict_plot = np.empty_like(data)\n",
    "test_predict_plot[:, :] = np.nan\n",
    "test_predict_plot[len(previsoes_treino)+(timestamp):len(data), :] = previsoes\n",
    "\n",
    "plt.plot(data, label='Fósforo Real', color='orange')\n",
    "plt.plot(train_predict_plot, color = 'red', label = 'Treino')\n",
    "plt.plot(test_predict_plot, color = 'blue', label = 'Teste')\n",
    "plt.title('')\n",
    "plt.ylim(-0.03,4)\n",
    "plt.xlabel('Trimestre')\n",
    "plt.ylabel('Valor Fosforo')\n",
    "plt.legend(loc='best')\n",
    "plt.show()"
   ]
  },
  {
   "cell_type": "code",
   "execution_count": 21,
   "metadata": {},
   "outputs": [
    {
     "name": "stdout",
     "output_type": "stream",
     "text": [
      "Previsão (média): 0.77\n",
      "Fosforo Real (média): 1.12\n",
      "Diferença (média): 0.35\n"
     ]
    }
   ],
   "source": [
    "print('Previsão (média):',round(previsoes.mean(),2))\n",
    "print('Fosforo Real (média):', round(fosforo_real_teste.mean(),2))\n",
    "print('Diferença (média):', round(fosforo_real_teste.mean() - previsoes.mean(),2))"
   ]
  },
  {
   "cell_type": "code",
   "execution_count": 22,
   "metadata": {},
   "outputs": [
    {
     "name": "stdout",
     "output_type": "stream",
     "text": [
      "Pontuação de Treino: 0.00 MSE (0.01 RMSE)\n"
     ]
    }
   ],
   "source": [
    "train_score10 = model.evaluate(previsores, fosforo_real, verbose=0)\n",
    "ph10_mse  = train_score10\n",
    "ph10_rmse = math.sqrt(train_score10)\n",
    "\n",
    "print('Pontuação de Treino: {:.2f} MSE ({:.2f} RMSE)'.format(train_score10, math.sqrt(train_score10)))\n",
    "#test_score10 = mdl.evaluate(X_test, y_test, verbose=0)\n",
    "#print('Pontuação de teste: {:.2f} MSE ({:.2f} RMSE)'.format(test_score10, math.sqrt(test_score10)))"
   ]
  },
  {
   "cell_type": "code",
   "execution_count": 23,
   "metadata": {},
   "outputs": [
    {
     "name": "stdout",
     "output_type": "stream",
     "text": [
      "Rede Neural LSTM com 25 neuronios nas camadas de entrada e oculta - epocas:100\n",
      "Train on 125 samples\n",
      "Epoch 1/100\n",
      "125/125 [==============================] - 14s 113ms/sample - loss: 9.8212e-05\n",
      "Epoch 2/100\n",
      "125/125 [==============================] - 0s 3ms/sample - loss: 6.1843e-05\n",
      "Epoch 3/100\n",
      "125/125 [==============================] - 0s 2ms/sample - loss: 6.3749e-05\n",
      "Epoch 4/100\n",
      "125/125 [==============================] - 0s 3ms/sample - loss: 5.1237e-05\n",
      "Epoch 5/100\n",
      "125/125 [==============================] - 0s 2ms/sample - loss: 5.3061e-05\n",
      "Epoch 6/100\n",
      "125/125 [==============================] - 0s 3ms/sample - loss: 4.6166e-05\n",
      "Epoch 7/100\n",
      "125/125 [==============================] - 0s 2ms/sample - loss: 5.0971e-05\n",
      "Epoch 8/100\n",
      "125/125 [==============================] - 0s 3ms/sample - loss: 4.8026e-05\n",
      "Epoch 9/100\n",
      "125/125 [==============================] - 0s 3ms/sample - loss: 4.6258e-05\n",
      "Epoch 10/100\n",
      "125/125 [==============================] - 0s 2ms/sample - loss: 4.5192e-05\n",
      "Epoch 11/100\n",
      "125/125 [==============================] - 0s 3ms/sample - loss: 4.2060e-05\n",
      "Epoch 12/100\n",
      "125/125 [==============================] - 0s 2ms/sample - loss: 4.5005e-05\n",
      "Epoch 13/100\n",
      "125/125 [==============================] - 0s 3ms/sample - loss: 4.3164e-05\n",
      "Epoch 14/100\n",
      "125/125 [==============================] - 0s 3ms/sample - loss: 4.1551e-05\n",
      "Epoch 15/100\n",
      "125/125 [==============================] - 0s 3ms/sample - loss: 4.1766e-05\n",
      "Epoch 16/100\n",
      "125/125 [==============================] - 0s 3ms/sample - loss: 4.2176e-05\n",
      "Epoch 17/100\n",
      "125/125 [==============================] - 0s 3ms/sample - loss: 4.3248e-05\n",
      "Epoch 18/100\n",
      "125/125 [==============================] - 0s 3ms/sample - loss: 4.3194e-05\n",
      "Epoch 19/100\n",
      "125/125 [==============================] - 0s 3ms/sample - loss: 4.2594e-05\n",
      "Epoch 20/100\n",
      "125/125 [==============================] - 0s 3ms/sample - loss: 4.3676e-05\n",
      "Epoch 21/100\n",
      "125/125 [==============================] - 0s 3ms/sample - loss: 4.3216e-05\n",
      "Epoch 22/100\n",
      "125/125 [==============================] - ETA: 0s - loss: 3.8038e-0 - 0s 3ms/sample - loss: 4.2635e-05\n",
      "Epoch 23/100\n",
      "125/125 [==============================] - 0s 3ms/sample - loss: 4.1083e-05\n",
      "Epoch 24/100\n",
      "125/125 [==============================] - 0s 3ms/sample - loss: 4.2645e-05\n",
      "Epoch 25/100\n",
      "125/125 [==============================] - 0s 3ms/sample - loss: 4.0353e-05\n",
      "Epoch 26/100\n",
      "125/125 [==============================] - 0s 3ms/sample - loss: 4.5203e-05\n",
      "Epoch 27/100\n",
      "125/125 [==============================] - 0s 3ms/sample - loss: 4.3782e-05\n",
      "Epoch 28/100\n",
      "125/125 [==============================] - 0s 3ms/sample - loss: 4.1330e-05\n",
      "Epoch 29/100\n",
      "125/125 [==============================] - 0s 3ms/sample - loss: 4.2105e-05\n",
      "Epoch 30/100\n",
      "125/125 [==============================] - 0s 3ms/sample - loss: 4.4891e-05\n",
      "Epoch 31/100\n",
      "125/125 [==============================] - 0s 3ms/sample - loss: 4.3824e-05\n",
      "Epoch 32/100\n",
      "125/125 [==============================] - 0s 4ms/sample - loss: 4.3095e-05\n",
      "Epoch 33/100\n",
      "125/125 [==============================] - 0s 3ms/sample - loss: 4.2141e-05\n",
      "Epoch 34/100\n",
      "125/125 [==============================] - 0s 3ms/sample - loss: 4.1009e-05\n",
      "Epoch 35/100\n",
      "125/125 [==============================] - 0s 3ms/sample - loss: 4.0541e-05\n",
      "Epoch 36/100\n",
      "125/125 [==============================] - 0s 3ms/sample - loss: 4.5031e-05\n",
      "Epoch 37/100\n",
      "125/125 [==============================] - 0s 3ms/sample - loss: 4.3826e-05\n",
      "Epoch 38/100\n",
      "125/125 [==============================] - 0s 3ms/sample - loss: 4.1921e-05\n",
      "Epoch 39/100\n",
      "125/125 [==============================] - 0s 3ms/sample - loss: 4.5933e-05\n",
      "Epoch 40/100\n",
      "125/125 [==============================] - 0s 3ms/sample - loss: 4.4425e-05\n",
      "Epoch 41/100\n",
      "125/125 [==============================] - 0s 3ms/sample - loss: 4.1262e-05\n",
      "Epoch 42/100\n",
      "125/125 [==============================] - 0s 3ms/sample - loss: 4.0437e-05\n",
      "Epoch 43/100\n",
      "125/125 [==============================] - 0s 3ms/sample - loss: 4.4713e-05\n",
      "Epoch 44/100\n",
      "125/125 [==============================] - 0s 3ms/sample - loss: 4.2705e-05\n",
      "Epoch 45/100\n",
      "125/125 [==============================] - 0s 3ms/sample - loss: 4.4147e-05\n",
      "Epoch 46/100\n",
      "125/125 [==============================] - 0s 4ms/sample - loss: 4.1957e-05\n",
      "Epoch 47/100\n",
      "125/125 [==============================] - 0s 3ms/sample - loss: 4.2247e-05\n",
      "Epoch 48/100\n",
      "125/125 [==============================] - 0s 3ms/sample - loss: 4.1492e-05\n",
      "Epoch 49/100\n",
      "125/125 [==============================] - 0s 3ms/sample - loss: 4.4769e-05\n",
      "Epoch 50/100\n",
      "125/125 [==============================] - 0s 3ms/sample - loss: 4.3477e-05\n",
      "Epoch 51/100\n",
      "125/125 [==============================] - 0s 3ms/sample - loss: 4.6486e-05\n",
      "Epoch 52/100\n",
      "125/125 [==============================] - 0s 3ms/sample - loss: 4.2310e-05\n",
      "Epoch 53/100\n",
      "125/125 [==============================] - 0s 2ms/sample - loss: 4.6158e-05\n",
      "Epoch 54/100\n",
      "125/125 [==============================] - 0s 3ms/sample - loss: 4.2765e-05\n",
      "Epoch 55/100\n",
      "125/125 [==============================] - 0s 3ms/sample - loss: 4.3979e-05\n",
      "Epoch 56/100\n",
      "125/125 [==============================] - 0s 3ms/sample - loss: 4.4728e-05\n",
      "Epoch 57/100\n",
      "125/125 [==============================] - 0s 3ms/sample - loss: 4.4002e-05\n",
      "Epoch 58/100\n",
      "125/125 [==============================] - 0s 3ms/sample - loss: 4.1489e-05\n",
      "Epoch 59/100\n",
      "125/125 [==============================] - 0s 3ms/sample - loss: 4.1722e-05\n",
      "Epoch 60/100\n",
      "125/125 [==============================] - 0s 3ms/sample - loss: 4.3333e-05\n",
      "Epoch 61/100\n",
      "125/125 [==============================] - 0s 3ms/sample - loss: 4.3936e-05\n",
      "Epoch 62/100\n",
      "125/125 [==============================] - 0s 3ms/sample - loss: 4.4529e-05\n",
      "Epoch 63/100\n",
      "125/125 [==============================] - 0s 3ms/sample - loss: 4.1065e-05\n",
      "Epoch 64/100\n",
      "125/125 [==============================] - 0s 3ms/sample - loss: 4.2088e-05\n",
      "Epoch 65/100\n",
      "125/125 [==============================] - 0s 3ms/sample - loss: 4.2533e-05\n",
      "Epoch 66/100\n",
      "125/125 [==============================] - 0s 3ms/sample - loss: 4.1916e-05\n",
      "Epoch 67/100\n",
      "125/125 [==============================] - 0s 3ms/sample - loss: 4.1331e-05\n",
      "Epoch 68/100\n",
      "125/125 [==============================] - 0s 3ms/sample - loss: 4.2035e-05\n",
      "Epoch 69/100\n",
      "125/125 [==============================] - 0s 3ms/sample - loss: 4.3722e-05\n",
      "Epoch 70/100\n",
      "125/125 [==============================] - 0s 3ms/sample - loss: 4.4640e-05\n",
      "Epoch 71/100\n",
      "125/125 [==============================] - 0s 3ms/sample - loss: 4.2269e-05\n",
      "Epoch 72/100\n",
      "125/125 [==============================] - 0s 3ms/sample - loss: 4.2518e-05\n",
      "Epoch 73/100\n",
      "125/125 [==============================] - 0s 3ms/sample - loss: 4.1652e-05\n",
      "Epoch 74/100\n",
      "125/125 [==============================] - 0s 3ms/sample - loss: 4.0155e-05\n",
      "Epoch 75/100\n",
      "125/125 [==============================] - 0s 3ms/sample - loss: 4.3109e-05\n",
      "Epoch 76/100\n",
      "125/125 [==============================] - 0s 3ms/sample - loss: 4.2819e-05\n",
      "Epoch 77/100\n",
      "125/125 [==============================] - 0s 3ms/sample - loss: 4.3587e-05\n",
      "Epoch 78/100\n",
      "125/125 [==============================] - 0s 3ms/sample - loss: 4.2793e-05\n",
      "Epoch 79/100\n",
      "125/125 [==============================] - 0s 3ms/sample - loss: 4.6247e-05\n",
      "Epoch 80/100\n",
      "125/125 [==============================] - 0s 3ms/sample - loss: 4.0388e-05\n",
      "Epoch 81/100\n",
      "125/125 [==============================] - 0s 3ms/sample - loss: 4.3116e-05\n",
      "Epoch 82/100\n",
      "125/125 [==============================] - 0s 3ms/sample - loss: 4.7672e-05\n",
      "Epoch 83/100\n",
      "125/125 [==============================] - 0s 3ms/sample - loss: 4.4477e-05\n",
      "Epoch 84/100\n",
      "125/125 [==============================] - 0s 3ms/sample - loss: 4.2447e-05\n",
      "Epoch 85/100\n",
      "125/125 [==============================] - 0s 3ms/sample - loss: 4.2372e-05\n",
      "Epoch 86/100\n",
      "125/125 [==============================] - 0s 3ms/sample - loss: 4.3991e-05\n",
      "Epoch 87/100\n",
      "125/125 [==============================] - 0s 3ms/sample - loss: 4.2989e-05\n",
      "Epoch 88/100\n",
      "125/125 [==============================] - 0s 3ms/sample - loss: 4.1589e-05\n",
      "Epoch 89/100\n",
      "125/125 [==============================] - 0s 3ms/sample - loss: 4.3366e-05\n",
      "Epoch 90/100\n",
      "125/125 [==============================] - 0s 3ms/sample - loss: 4.1631e-05\n",
      "Epoch 91/100\n"
     ]
    },
    {
     "name": "stdout",
     "output_type": "stream",
     "text": [
      "125/125 [==============================] - 0s 3ms/sample - loss: 4.1930e-05\n",
      "Epoch 92/100\n",
      "125/125 [==============================] - 0s 2ms/sample - loss: 4.3076e-05\n",
      "Epoch 93/100\n",
      "125/125 [==============================] - 0s 2ms/sample - loss: 4.3198e-05\n",
      "Epoch 94/100\n",
      "125/125 [==============================] - 0s 2ms/sample - loss: 4.2740e-05\n",
      "Epoch 95/100\n",
      "125/125 [==============================] - 0s 2ms/sample - loss: 4.3285e-05\n",
      "Epoch 96/100\n",
      "125/125 [==============================] - 0s 2ms/sample - loss: 4.0813e-05\n",
      "Epoch 97/100\n",
      "125/125 [==============================] - 0s 2ms/sample - loss: 4.6752e-05\n",
      "Epoch 98/100\n",
      "125/125 [==============================] - 0s 2ms/sample - loss: 4.2894e-05\n",
      "Epoch 99/100\n",
      "125/125 [==============================] - 0s 2ms/sample - loss: 4.3251e-05\n",
      "Epoch 100/100\n",
      "125/125 [==============================] - 0s 2ms/sample - loss: 4.4474e-05\n"
     ]
    },
    {
     "data": {
      "text/plain": [
       "<tensorflow.python.keras.callbacks.History at 0x7fe44315e6d0>"
      ]
     },
     "execution_count": 23,
     "metadata": {},
     "output_type": "execute_result"
    }
   ],
   "source": [
    "print(\"Rede Neural LSTM com 25 neuronios nas camadas de entrada e oculta - epocas:100\")\n",
    "model = Sequential() \n",
    "\n",
    "model.add(LSTM(units = 25, return_sequences = True, input_shape = (previsores.shape[1], 1))) \n",
    "model.add(Dropout(0.2))\n",
    "model.add(LSTM(units = 25, return_sequences = True))\n",
    "model.add(Dropout(0.2))\n",
    "model.add(LSTM(units = 25, return_sequences = False)) \n",
    "model.add(Dropout(0.2))\n",
    "model.add(Dense(units = 1)) \n",
    "model.compile(optimizer = 'adam', loss = 'mean_squared_error')\n",
    "\n",
    "#es = EarlyStopping(monitor='val_loss',mode='auto',verbose = 1,patience=5)\n",
    "\n",
    "model.fit(previsores, fosforo_real, epochs = 100, batch_size = 32)"
   ]
  },
  {
   "cell_type": "code",
   "execution_count": 24,
   "metadata": {},
   "outputs": [],
   "source": [
    "fosforo_real_teste = test\n",
    "entradas = data[len(data) - len(test) - timestamp:]\n",
    "entradas = entradas.reshape(-1, 1)\n",
    "entradas = sc.transform(entradas)\n",
    "\n",
    "X_teste = []\n",
    "for i in range(timestamp, timestamp + len(test)):\n",
    "    X_teste.append(entradas[i-timestamp:i, 0])\n",
    "X_teste = np.array(X_teste)\n",
    "X_teste = np.reshape(X_teste, (X_teste.shape[0], X_teste.shape[1], 1))\n",
    "previsoes = model.predict(X_teste)\n",
    "previsoes = sc.inverse_transform(previsoes)"
   ]
  },
  {
   "cell_type": "code",
   "execution_count": 26,
   "metadata": {},
   "outputs": [
    {
     "data": {
      "image/png": "[encoded data removed]",
      "text/plain": [
       "<Figure size 432x288 with 1 Axes>"
      ]
     },
     "metadata": {
      "needs_background": "light"
     },
     "output_type": "display_data"
    },
    {
     "name": "stdout",
     "output_type": "stream",
     "text": [
      "Previsão (média): 0.69\n",
      "Fósforo Real (média): 1.12\n",
      "Diferença (média): 0.42\n",
      "Pontuação de Treino: 0.00 MSE (0.01 RMSE)\n"
     ]
    }
   ],
   "source": [
    "previsoes_treino = model.predict(previsores)\n",
    "previsoes_treino = sc.inverse_transform(previsoes_treino)\n",
    "\n",
    "train_predict_plot = np.empty_like(data)\n",
    "train_predict_plot[:, :] = np.nan\n",
    "train_predict_plot[timestamp: len(previsoes_treino) + timestamp, :] = previsoes_treino\n",
    "\n",
    "test_predict_plot = np.empty_like(data)\n",
    "test_predict_plot[:, :] = np.nan\n",
    "test_predict_plot[len(previsoes_treino)+(timestamp):len(data), :] = previsoes\n",
    "\n",
    "plt.plot(data, label='Fósforo Real', color='orange')\n",
    "plt.plot(train_predict_plot, color = 'red', label = 'Treino')\n",
    "plt.plot(test_predict_plot, color = 'blue', label = 'Teste')\n",
    "plt.title('')\n",
    "plt.ylim(-0.03,4)\n",
    "plt.xlabel('Trimestre')\n",
    "plt.ylabel('Valor Fósforo')\n",
    "plt.legend(loc='best')\n",
    "plt.show()\n",
    "\n",
    "print('Previsão (média):',round(previsoes.mean(),2))\n",
    "print('Fósforo Real (média):', round(fosforo_real_teste.mean(),2))\n",
    "print('Diferença (média):', round(fosforo_real_teste.mean() - previsoes.mean(),2))\n",
    "\n",
    "train_score25 = model.evaluate(previsores, fosforo_real, verbose=0)\n",
    "ph25_mse  = train_score25\n",
    "ph25_rmse = math.sqrt(train_score25)\n",
    "\n",
    "print('Pontuação de Treino: {:.2f} MSE ({:.2f} RMSE)'.format(train_score25, math.sqrt(train_score25)))\n"
   ]
  },
  {
   "cell_type": "code",
   "execution_count": 27,
   "metadata": {},
   "outputs": [
    {
     "name": "stdout",
     "output_type": "stream",
     "text": [
      "Rede Neural LSTM com 50 neuronios nas camadas de entrada e oculta - epocas:100\n",
      "Train on 125 samples\n",
      "Epoch 1/100\n",
      "125/125 [==============================] - 16s 125ms/sample - loss: 9.0795e-05\n",
      "Epoch 2/100\n",
      "125/125 [==============================] - 0s 3ms/sample - loss: 5.7553e-05\n",
      "Epoch 3/100\n",
      "125/125 [==============================] - 0s 3ms/sample - loss: 4.9163e-05\n",
      "Epoch 4/100\n",
      "125/125 [==============================] - 0s 3ms/sample - loss: 5.1118e-05\n",
      "Epoch 5/100\n",
      "125/125 [==============================] - 0s 3ms/sample - loss: 4.4885e-05\n",
      "Epoch 6/100\n",
      "125/125 [==============================] - 0s 3ms/sample - loss: 4.4894e-05\n",
      "Epoch 7/100\n",
      "125/125 [==============================] - 0s 3ms/sample - loss: 4.6522e-05\n",
      "Epoch 8/100\n",
      "125/125 [==============================] - 0s 3ms/sample - loss: 4.2277e-05\n",
      "Epoch 9/100\n",
      "125/125 [==============================] - 0s 3ms/sample - loss: 4.0611e-05\n",
      "Epoch 10/100\n",
      "125/125 [==============================] - 0s 3ms/sample - loss: 4.5580e-05\n",
      "Epoch 11/100\n",
      "125/125 [==============================] - 0s 4ms/sample - loss: 4.2129e-05\n",
      "Epoch 12/100\n",
      "125/125 [==============================] - 0s 3ms/sample - loss: 4.5496e-05\n",
      "Epoch 13/100\n",
      "125/125 [==============================] - 0s 3ms/sample - loss: 4.4848e-05\n",
      "Epoch 14/100\n",
      "125/125 [==============================] - 0s 3ms/sample - loss: 4.2783e-05\n",
      "Epoch 15/100\n",
      "125/125 [==============================] - 0s 3ms/sample - loss: 4.2817e-05\n",
      "Epoch 16/100\n",
      "125/125 [==============================] - 0s 3ms/sample - loss: 4.3402e-05\n",
      "Epoch 17/100\n",
      "125/125 [==============================] - 0s 3ms/sample - loss: 4.2763e-05\n",
      "Epoch 18/100\n",
      "125/125 [==============================] - 0s 3ms/sample - loss: 4.7325e-05\n",
      "Epoch 19/100\n",
      "125/125 [==============================] - 0s 3ms/sample - loss: 4.5267e-05\n",
      "Epoch 20/100\n",
      "125/125 [==============================] - 0s 3ms/sample - loss: 4.6740e-05\n",
      "Epoch 21/100\n",
      "125/125 [==============================] - 0s 3ms/sample - loss: 4.1233e-05\n",
      "Epoch 22/100\n",
      "125/125 [==============================] - 0s 3ms/sample - loss: 4.3282e-05\n",
      "Epoch 23/100\n",
      "125/125 [==============================] - 0s 3ms/sample - loss: 4.4493e-05\n",
      "Epoch 24/100\n",
      "125/125 [==============================] - 0s 4ms/sample - loss: 4.3479e-05\n",
      "Epoch 25/100\n",
      "125/125 [==============================] - 0s 3ms/sample - loss: 4.2866e-05\n",
      "Epoch 26/100\n",
      "125/125 [==============================] - 0s 3ms/sample - loss: 4.2171e-05\n",
      "Epoch 27/100\n",
      "125/125 [==============================] - 0s 3ms/sample - loss: 4.7085e-05\n",
      "Epoch 28/100\n",
      "125/125 [==============================] - 0s 3ms/sample - loss: 4.3890e-05\n",
      "Epoch 29/100\n",
      "125/125 [==============================] - 0s 4ms/sample - loss: 4.0979e-05\n",
      "Epoch 30/100\n",
      "125/125 [==============================] - 0s 4ms/sample - loss: 4.5472e-05\n",
      "Epoch 31/100\n",
      "125/125 [==============================] - 0s 3ms/sample - loss: 4.1171e-05\n",
      "Epoch 32/100\n",
      "125/125 [==============================] - 0s 3ms/sample - loss: 4.5563e-05\n",
      "Epoch 33/100\n",
      "125/125 [==============================] - 0s 4ms/sample - loss: 4.1945e-05\n",
      "Epoch 34/100\n",
      "125/125 [==============================] - 0s 3ms/sample - loss: 4.2914e-05\n",
      "Epoch 35/100\n",
      "125/125 [==============================] - 0s 3ms/sample - loss: 4.5131e-05\n",
      "Epoch 36/100\n",
      "125/125 [==============================] - 0s 3ms/sample - loss: 4.1228e-05\n",
      "Epoch 37/100\n",
      "125/125 [==============================] - 0s 3ms/sample - loss: 4.6746e-05\n",
      "Epoch 38/100\n",
      "125/125 [==============================] - 0s 3ms/sample - loss: 4.3579e-05\n",
      "Epoch 39/100\n",
      "125/125 [==============================] - 0s 3ms/sample - loss: 4.6274e-05\n",
      "Epoch 40/100\n",
      "125/125 [==============================] - 0s 4ms/sample - loss: 4.0411e-05\n",
      "Epoch 41/100\n",
      "125/125 [==============================] - 0s 3ms/sample - loss: 4.2700e-05\n",
      "Epoch 42/100\n",
      "125/125 [==============================] - 0s 3ms/sample - loss: 4.7281e-05\n",
      "Epoch 43/100\n",
      "125/125 [==============================] - 0s 3ms/sample - loss: 4.2828e-05\n",
      "Epoch 44/100\n",
      "125/125 [==============================] - 0s 3ms/sample - loss: 4.3407e-05\n",
      "Epoch 45/100\n",
      "125/125 [==============================] - 0s 3ms/sample - loss: 4.4173e-05\n",
      "Epoch 46/100\n",
      "125/125 [==============================] - 0s 3ms/sample - loss: 4.2207e-05\n",
      "Epoch 47/100\n",
      "125/125 [==============================] - 0s 3ms/sample - loss: 4.5800e-05\n",
      "Epoch 48/100\n",
      "125/125 [==============================] - 0s 3ms/sample - loss: 4.7130e-05\n",
      "Epoch 49/100\n",
      "125/125 [==============================] - 0s 3ms/sample - loss: 4.1902e-05\n",
      "Epoch 50/100\n",
      "125/125 [==============================] - 0s 3ms/sample - loss: 4.4476e-05\n",
      "Epoch 51/100\n",
      "125/125 [==============================] - 0s 4ms/sample - loss: 4.5986e-05\n",
      "Epoch 52/100\n",
      "125/125 [==============================] - 1s 4ms/sample - loss: 5.1857e-05\n",
      "Epoch 53/100\n",
      "125/125 [==============================] - 0s 3ms/sample - loss: 4.0037e-05\n",
      "Epoch 54/100\n",
      "125/125 [==============================] - 0s 3ms/sample - loss: 4.5073e-05\n",
      "Epoch 55/100\n",
      "125/125 [==============================] - 0s 3ms/sample - loss: 4.6361e-05\n",
      "Epoch 56/100\n",
      "125/125 [==============================] - 0s 3ms/sample - loss: 4.4705e-05\n",
      "Epoch 57/100\n",
      "125/125 [==============================] - 0s 4ms/sample - loss: 4.2905e-05\n",
      "Epoch 58/100\n",
      "125/125 [==============================] - 0s 2ms/sample - loss: 4.6211e-05\n",
      "Epoch 59/100\n",
      "125/125 [==============================] - 0s 3ms/sample - loss: 4.4378e-05\n",
      "Epoch 60/100\n",
      "125/125 [==============================] - 0s 3ms/sample - loss: 4.2465e-05\n",
      "Epoch 61/100\n",
      "125/125 [==============================] - 0s 3ms/sample - loss: 4.2609e-05\n",
      "Epoch 62/100\n",
      "125/125 [==============================] - 0s 3ms/sample - loss: 4.4757e-05\n",
      "Epoch 63/100\n",
      "125/125 [==============================] - 0s 3ms/sample - loss: 4.2514e-05\n",
      "Epoch 64/100\n",
      "125/125 [==============================] - 0s 3ms/sample - loss: 4.5204e-05\n",
      "Epoch 65/100\n",
      "125/125 [==============================] - 0s 3ms/sample - loss: 4.7866e-05\n",
      "Epoch 66/100\n",
      "125/125 [==============================] - 0s 3ms/sample - loss: 4.4571e-05\n",
      "Epoch 67/100\n",
      "125/125 [==============================] - 0s 3ms/sample - loss: 4.4918e-05\n",
      "Epoch 68/100\n",
      "125/125 [==============================] - 0s 3ms/sample - loss: 4.2071e-05\n",
      "Epoch 69/100\n",
      "125/125 [==============================] - 0s 3ms/sample - loss: 4.3670e-05\n",
      "Epoch 70/100\n",
      "125/125 [==============================] - 0s 3ms/sample - loss: 4.1923e-05\n",
      "Epoch 71/100\n",
      "125/125 [==============================] - 0s 3ms/sample - loss: 4.4084e-05\n",
      "Epoch 72/100\n",
      "125/125 [==============================] - 0s 3ms/sample - loss: 4.0429e-05\n",
      "Epoch 73/100\n",
      "125/125 [==============================] - 0s 3ms/sample - loss: 4.2961e-05\n",
      "Epoch 74/100\n",
      "125/125 [==============================] - 0s 3ms/sample - loss: 4.4321e-05\n",
      "Epoch 75/100\n",
      "125/125 [==============================] - 0s 3ms/sample - loss: 4.4271e-05\n",
      "Epoch 76/100\n",
      "125/125 [==============================] - 0s 3ms/sample - loss: 4.3917e-05\n",
      "Epoch 77/100\n",
      "125/125 [==============================] - 0s 3ms/sample - loss: 4.3518e-05\n",
      "Epoch 78/100\n",
      "125/125 [==============================] - 0s 3ms/sample - loss: 4.4773e-05\n",
      "Epoch 79/100\n",
      "125/125 [==============================] - 0s 3ms/sample - loss: 4.1927e-05\n",
      "Epoch 80/100\n",
      "125/125 [==============================] - 0s 3ms/sample - loss: 4.4460e-05\n",
      "Epoch 81/100\n",
      "125/125 [==============================] - 0s 3ms/sample - loss: 4.2771e-05\n",
      "Epoch 82/100\n",
      "125/125 [==============================] - 0s 3ms/sample - loss: 4.3028e-05\n",
      "Epoch 83/100\n",
      "125/125 [==============================] - 0s 3ms/sample - loss: 5.0012e-05\n",
      "Epoch 84/100\n",
      "125/125 [==============================] - 0s 3ms/sample - loss: 4.7660e-05\n",
      "Epoch 85/100\n",
      "125/125 [==============================] - 0s 3ms/sample - loss: 4.3517e-05\n",
      "Epoch 86/100\n",
      "125/125 [==============================] - 0s 3ms/sample - loss: 4.4405e-05\n",
      "Epoch 87/100\n",
      "125/125 [==============================] - 0s 3ms/sample - loss: 4.3353e-05\n",
      "Epoch 88/100\n",
      "125/125 [==============================] - 0s 3ms/sample - loss: 4.5545e-05\n",
      "Epoch 89/100\n",
      "125/125 [==============================] - 0s 3ms/sample - loss: 4.3678e-05\n",
      "Epoch 90/100\n",
      "125/125 [==============================] - 0s 3ms/sample - loss: 4.7556e-05\n",
      "Epoch 91/100\n",
      "125/125 [==============================] - 0s 3ms/sample - loss: 5.3955e-05\n"
     ]
    },
    {
     "name": "stdout",
     "output_type": "stream",
     "text": [
      "Epoch 92/100\n",
      "125/125 [==============================] - 0s 2ms/sample - loss: 4.6513e-05\n",
      "Epoch 93/100\n",
      "125/125 [==============================] - 0s 2ms/sample - loss: 4.7046e-05\n",
      "Epoch 94/100\n",
      "125/125 [==============================] - 0s 2ms/sample - loss: 4.6584e-05\n",
      "Epoch 95/100\n",
      "125/125 [==============================] - 0s 2ms/sample - loss: 4.6418e-05\n",
      "Epoch 96/100\n",
      "125/125 [==============================] - 0s 2ms/sample - loss: 4.3664e-05\n",
      "Epoch 97/100\n",
      "125/125 [==============================] - 0s 2ms/sample - loss: 4.4995e-05\n",
      "Epoch 98/100\n",
      "125/125 [==============================] - 0s 2ms/sample - loss: 4.4156e-05\n",
      "Epoch 99/100\n",
      "125/125 [==============================] - 0s 2ms/sample - loss: 4.6618e-05\n",
      "Epoch 100/100\n",
      "125/125 [==============================] - 0s 2ms/sample - loss: 4.3413e-05\n"
     ]
    },
    {
     "data": {
      "text/plain": [
       "<tensorflow.python.keras.callbacks.History at 0x7fe42f0d3650>"
      ]
     },
     "execution_count": 27,
     "metadata": {},
     "output_type": "execute_result"
    }
   ],
   "source": [
    "print(\"Rede Neural LSTM com 50 neuronios nas camadas de entrada e oculta - epocas:100\")\n",
    "model = Sequential() \n",
    "\n",
    "model.add(LSTM(units = 50, return_sequences = True, input_shape = (previsores.shape[1], 1))) \n",
    "model.add(Dropout(0.2))\n",
    "model.add(LSTM(units = 50, return_sequences = True))\n",
    "model.add(Dropout(0.2))\n",
    "model.add(LSTM(units = 50, return_sequences = False)) \n",
    "model.add(Dropout(0.2))\n",
    "model.add(Dense(units = 1)) \n",
    "model.compile(optimizer = 'adam', loss = 'mean_squared_error')\n",
    "\n",
    "#es = EarlyStopping(monitor='val_loss',mode='auto',verbose = 1,patience=5)\n",
    "\n",
    "model.fit(previsores, fosforo_real, epochs = 100, batch_size = 32)"
   ]
  },
  {
   "cell_type": "code",
   "execution_count": 28,
   "metadata": {},
   "outputs": [],
   "source": [
    "fosforo_real_teste = test\n",
    "entradas = data[len(data) - len(test) - timestamp:]\n",
    "entradas = entradas.reshape(-1, 1)\n",
    "entradas = sc.transform(entradas)\n",
    "\n",
    "X_teste = []\n",
    "for i in range(timestamp, timestamp + len(test)):\n",
    "    X_teste.append(entradas[i-timestamp:i, 0])\n",
    "X_teste = np.array(X_teste)\n",
    "X_teste = np.reshape(X_teste, (X_teste.shape[0], X_teste.shape[1], 1))\n",
    "previsoes = model.predict(X_teste)\n",
    "previsoes = sc.inverse_transform(previsoes)"
   ]
  },
  {
   "cell_type": "code",
   "execution_count": 29,
   "metadata": {},
   "outputs": [
    {
     "data": {
      "image/png": "[encoded data removed]",
      "text/plain": [
       "<Figure size 432x288 with 1 Axes>"
      ]
     },
     "metadata": {
      "needs_background": "light"
     },
     "output_type": "display_data"
    },
    {
     "name": "stdout",
     "output_type": "stream",
     "text": [
      "Previsão (média): 0.67\n",
      "Fósforo Real (média): 1.12\n",
      "Diferença (média): 0.45\n",
      "Pontuação de Treino: 0.00 MSE (0.01 RMSE)\n"
     ]
    }
   ],
   "source": [
    "previsoes_treino = model.predict(previsores)\n",
    "previsoes_treino = sc.inverse_transform(previsoes_treino)\n",
    "\n",
    "train_predict_plot = np.empty_like(data)\n",
    "train_predict_plot[:, :] = np.nan\n",
    "train_predict_plot[timestamp: len(previsoes_treino) + timestamp, :] = previsoes_treino\n",
    "\n",
    "test_predict_plot = np.empty_like(data)\n",
    "test_predict_plot[:, :] = np.nan\n",
    "test_predict_plot[len(previsoes_treino)+(timestamp):len(data), :] = previsoes\n",
    "\n",
    "plt.plot(data, label='Fósforo Real', color='orange')\n",
    "plt.plot(train_predict_plot, color = 'red', label = 'Treino')\n",
    "plt.plot(test_predict_plot, color = 'blue', label = 'Teste')\n",
    "plt.title('')\n",
    "plt.ylim(-0.03,4)\n",
    "plt.xlabel('Trimestre')\n",
    "plt.ylabel('Valor Fósforo')\n",
    "plt.legend(loc='best')\n",
    "plt.show()\n",
    "\n",
    "print('Previsão (média):',round(previsoes.mean(),2))\n",
    "print('Fósforo Real (média):', round(fosforo_real_teste.mean(),2))\n",
    "print('Diferença (média):', round(fosforo_real_teste.mean() - previsoes.mean(),2))\n",
    "\n",
    "train_score50 = model.evaluate(previsores, fosforo_real, verbose=0)\n",
    "ph50_mse  = train_score50\n",
    "ph50_rmse = math.sqrt(train_score50)\n",
    "\n",
    "print('Pontuação de Treino: {:.2f} MSE ({:.2f} RMSE)'.format(train_score50, math.sqrt(train_score50)))\n",
    "    \n"
   ]
  },
  {
   "cell_type": "code",
   "execution_count": 30,
   "metadata": {},
   "outputs": [
    {
     "name": "stdout",
     "output_type": "stream",
     "text": [
      "Fosforo_media_mse: 0.0\n",
      "Fosforo_media_rmse: 0.006\n"
     ]
    }
   ],
   "source": [
    "ph_media_mse = (ph10_mse+ph25_mse+ph50_mse)/3\n",
    "ph_media_rmse = (ph10_rmse+ph25_rmse+ph50_rmse)/3\n",
    "\n",
    "print('Fosforo_media_mse:', round(ph_media_mse,3))\n",
    "print('Fosforo_media_rmse:', round(ph_media_rmse,3))"
   ]
  },
  {
   "cell_type": "code",
   "execution_count": null,
   "metadata": {},
   "outputs": [],
   "source": []
  },
  {
   "cell_type": "code",
   "execution_count": null,
   "metadata": {},
   "outputs": [],
   "source": []
  },
  {
   "cell_type": "code",
   "execution_count": null,
   "metadata": {},
   "outputs": [],
   "source": [
    "\n"
   ]
  },
  {
   "cell_type": "code",
   "execution_count": null,
   "metadata": {},
   "outputs": [],
   "source": []
  },
  {
   "cell_type": "code",
   "execution_count": null,
   "metadata": {},
   "outputs": [],
   "source": []
  },
  {
   "cell_type": "code",
   "execution_count": null,
   "metadata": {},
   "outputs": [],
   "source": []
  },
  {
   "cell_type": "code",
   "execution_count": null,
   "metadata": {},
   "outputs": [],
   "source": []
  },
  {
   "cell_type": "code",
   "execution_count": null,
   "metadata": {},
   "outputs": [],
   "source": []
  },
  {
   "cell_type": "code",
   "execution_count": null,
   "metadata": {},
   "outputs": [],
   "source": []
  },
  {
   "cell_type": "code",
   "execution_count": null,
   "metadata": {},
   "outputs": [],
   "source": []
  },
  {
   "cell_type": "code",
   "execution_count": null,
   "metadata": {},
   "outputs": [],
   "source": []
  },
  {
   "cell_type": "code",
   "execution_count": null,
   "metadata": {},
   "outputs": [],
   "source": [
    "\n",
    "    \n"
   ]
  },
  {
   "cell_type": "code",
   "execution_count": 33,
   "metadata": {},
   "outputs": [],
   "source": []
  },
  {
   "cell_type": "code",
   "execution_count": null,
   "metadata": {},
   "outputs": [],
   "source": []
  },
  {
   "cell_type": "code",
   "execution_count": null,
   "metadata": {},
   "outputs": [],
   "source": []
  },
  {
   "cell_type": "code",
   "execution_count": null,
   "metadata": {},
   "outputs": [],
   "source": []
  },
  {
   "cell_type": "code",
   "execution_count": null,
   "metadata": {},
   "outputs": [],
   "source": [
    "\n"
   ]
  },
  {
   "cell_type": "code",
   "execution_count": null,
   "metadata": {},
   "outputs": [],
   "source": []
  },
  {
   "cell_type": "code",
   "execution_count": null,
   "metadata": {},
   "outputs": [],
   "source": []
  },
  {
   "cell_type": "code",
   "execution_count": null,
   "metadata": {},
   "outputs": [],
   "source": []
  },
  {
   "cell_type": "code",
   "execution_count": null,
   "metadata": {},
   "outputs": [],
   "source": []
  },
  {
   "cell_type": "code",
   "execution_count": null,
   "metadata": {},
   "outputs": [],
   "source": []
  },
  {
   "cell_type": "code",
   "execution_count": null,
   "metadata": {},
   "outputs": [],
   "source": []
  },
  {
   "cell_type": "code",
   "execution_count": null,
   "metadata": {},
   "outputs": [],
   "source": []
  },
  {
   "cell_type": "code",
   "execution_count": null,
   "metadata": {},
   "outputs": [],
   "source": [
    "    \n"
   ]
  },
  {
   "cell_type": "code",
   "execution_count": null,
   "metadata": {},
   "outputs": [],
   "source": []
  },
  {
   "cell_type": "code",
   "execution_count": null,
   "metadata": {},
   "outputs": [],
   "source": []
  },
  {
   "cell_type": "code",
   "execution_count": null,
   "metadata": {},
   "outputs": [],
   "source": []
  },
  {
   "cell_type": "code",
   "execution_count": null,
   "metadata": {},
   "outputs": [],
   "source": []
  },
  {
   "cell_type": "code",
   "execution_count": null,
   "metadata": {},
   "outputs": [],
   "source": []
  },
  {
   "cell_type": "code",
   "execution_count": null,
   "metadata": {},
   "outputs": [],
   "source": []
  },
  {
   "cell_type": "code",
   "execution_count": null,
   "metadata": {},
   "outputs": [],
   "source": []
  },
  {
   "cell_type": "code",
   "execution_count": null,
   "metadata": {},
   "outputs": [],
   "source": []
  },
  {
   "cell_type": "code",
   "execution_count": null,
   "metadata": {},
   "outputs": [],
   "source": []
  },
  {
   "cell_type": "code",
   "execution_count": null,
   "metadata": {},
   "outputs": [],
   "source": []
  },
  {
   "cell_type": "code",
   "execution_count": null,
   "metadata": {},
   "outputs": [],
   "source": []
  },
  {
   "cell_type": "code",
   "execution_count": null,
   "metadata": {},
   "outputs": [],
   "source": []
  },
  {
   "cell_type": "code",
   "execution_count": null,
   "metadata": {},
   "outputs": [],
   "source": []
  },
  {
   "cell_type": "code",
   "execution_count": null,
   "metadata": {},
   "outputs": [],
   "source": []
  },
  {
   "cell_type": "code",
   "execution_count": null,
   "metadata": {},
   "outputs": [],
   "source": []
  },
  {
   "cell_type": "code",
   "execution_count": null,
   "metadata": {},
   "outputs": [],
   "source": []
  },
  {
   "cell_type": "code",
   "execution_count": null,
   "metadata": {},
   "outputs": [],
   "source": []
  },
  {
   "cell_type": "code",
   "execution_count": null,
   "metadata": {},
   "outputs": [],
   "source": []
  },
  {
   "cell_type": "code",
   "execution_count": null,
   "metadata": {},
   "outputs": [],
   "source": []
  },
  {
   "cell_type": "code",
   "execution_count": null,
   "metadata": {},
   "outputs": [],
   "source": []
  },
  {
   "cell_type": "code",
   "execution_count": null,
   "metadata": {},
   "outputs": [],
   "source": []
  },
  {
   "cell_type": "code",
   "execution_count": null,
   "metadata": {},
   "outputs": [],
   "source": []
  },
  {
   "cell_type": "code",
   "execution_count": null,
   "metadata": {},
   "outputs": [],
   "source": []
  },
  {
   "cell_type": "code",
   "execution_count": null,
   "metadata": {},
   "outputs": [],
   "source": []
  },
  {
   "cell_type": "code",
   "execution_count": null,
   "metadata": {},
   "outputs": [],
   "source": []
  },
  {
   "cell_type": "code",
   "execution_count": null,
   "metadata": {},
   "outputs": [],
   "source": []
  },
  {
   "cell_type": "code",
   "execution_count": null,
   "metadata": {},
   "outputs": [],
   "source": []
  },
  {
   "cell_type": "code",
   "execution_count": null,
   "metadata": {},
   "outputs": [],
   "source": []
  },
  {
   "cell_type": "code",
   "execution_count": null,
   "metadata": {},
   "outputs": [],
   "source": []
  },
  {
   "cell_type": "code",
   "execution_count": null,
   "metadata": {},
   "outputs": [],
   "source": []
  },
  {
   "cell_type": "code",
   "execution_count": null,
   "metadata": {},
   "outputs": [],
   "source": []
  },
  {
   "cell_type": "code",
   "execution_count": null,
   "metadata": {},
   "outputs": [],
   "source": []
  },
  {
   "cell_type": "code",
   "execution_count": null,
   "metadata": {},
   "outputs": [],
   "source": []
  },
  {
   "cell_type": "code",
   "execution_count": null,
   "metadata": {},
   "outputs": [],
   "source": []
  },
  {
   "cell_type": "code",
   "execution_count": null,
   "metadata": {},
   "outputs": [],
   "source": []
  }
 ],
 "metadata": {
  "kernelspec": {
   "display_name": "Python 3",
   "language": "python",
   "name": "python3"
  },
  "language_info": {
   "codemirror_mode": {
    "name": "ipython",
    "version": 3
   },
   "file_extension": ".py",
   "mimetype": "text/x-python",
   "name": "python",
   "nbconvert_exporter": "python",
   "pygments_lexer": "ipython3",
   "version": "3.7.4"
  }
 },
 "nbformat": 4,
 "nbformat_minor": 2
}
