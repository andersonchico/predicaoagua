{
 "cells": [
  {
   "cell_type": "markdown",
   "metadata": {},
   "source": [
    "Modelo LSTM para prever o parâmetro DBO "
   ]
  },
  {
   "cell_type": "code",
   "execution_count": 14,
   "metadata": {},
   "outputs": [],
   "source": [
    "import pandas as pd\n",
    "import numpy as np\n",
    "import matplotlib.pyplot as plt\n",
    "from tensorflow.keras.models import Sequential\n",
    "from tensorflow.keras.layers import Dense, LSTM, Dropout\n",
    "from sklearn.preprocessing import MinMaxScaler\n",
    "from tensorflow.keras.callbacks import EarlyStopping\n",
    "import math\n",
    "import matplotlib.pyplot as plt\n",
    "plt.rcParams['xtick.labelsize']= 18\n",
    "plt.rcParams['ytick.labelsize']= 18\n",
    "plt.rcParams.update({'font.size':18})"
   ]
  },
  {
   "cell_type": "code",
   "execution_count": 15,
   "metadata": {},
   "outputs": [],
   "source": [
    "str_files = ''\n",
    "\n",
    "#df = pd.read_csv(str_files + \"ph.csv\",encoding='utf-8',sep=';')\n",
    "dateparse = lambda dates:pd.datetime.strptime(dates,'%d/%m/%Y')\n",
    "df = pd.read_csv(str_files + 'dbo.CSV',encoding='utf-8',sep=';', parse_dates = ['data_coleta'],index_col=['data_coleta'],date_parser=dateparse)"
   ]
  },
  {
   "cell_type": "code",
   "execution_count": 16,
   "metadata": {},
   "outputs": [],
   "source": [
    "#df.head()"
   ]
  },
  {
   "cell_type": "code",
   "execution_count": 17,
   "metadata": {},
   "outputs": [],
   "source": [
    "z = df.loc[df['UGRHI'] == '10 - SOROCABA/MEDIO TIETE']\n",
    "#z.info()"
   ]
  },
  {
   "cell_type": "code",
   "execution_count": 18,
   "metadata": {},
   "outputs": [],
   "source": [
    "z = z.dropna(axis=1,how='any')\n",
    "#for field in z.columns:\n",
    "    #print(field,'NaN',z[field].isnull().sum())\n",
    "#print(len(z))"
   ]
  },
  {
   "cell_type": "code",
   "execution_count": 19,
   "metadata": {},
   "outputs": [
    {
     "name": "stdout",
     "output_type": "stream",
     "text": [
      "treino: 133\n",
      "teste: 33\n"
     ]
    },
    {
     "data": {
      "text/plain": [
       "33"
      ]
     },
     "execution_count": 19,
     "metadata": {},
     "output_type": "execute_result"
    }
   ],
   "source": [
    "trainingd = z.resample('3M').mean()\n",
    "trainingd\n",
    "data = trainingd.iloc[:,1:2].values\n",
    "\n",
    "train = trainingd.iloc[0:133,1:2].values  \n",
    "test = trainingd.iloc[133:,1:2].values   \n",
    "print('treino:',len(train))\n",
    "print('teste:',len(test))\n",
    "len(test)"
   ]
  },
  {
   "cell_type": "code",
   "execution_count": 20,
   "metadata": {},
   "outputs": [],
   "source": [
    "sc = MinMaxScaler()\n",
    "train_normalizado = sc.fit_transform(train)"
   ]
  },
  {
   "cell_type": "code",
   "execution_count": 21,
   "metadata": {},
   "outputs": [
    {
     "data": {
      "text/plain": [
       "(125, 8, 1)"
      ]
     },
     "execution_count": 21,
     "metadata": {},
     "output_type": "execute_result"
    }
   ],
   "source": [
    "timestamp = 8\n",
    "previsores = []\n",
    "dbo_real    = []\n",
    "for i in range(timestamp, len(train)):\n",
    "    previsores.append(train_normalizado[i-timestamp:i, 0])\n",
    "    dbo_real.append(train_normalizado[i, 0])\n",
    "previsores, dbo_real = np.array(previsores), np.array(dbo_real)\n",
    "previsores = np.reshape(previsores, (previsores.shape[0], previsores.shape[1], 1))\n",
    "previsores.shape"
   ]
  },
  {
   "cell_type": "code",
   "execution_count": 22,
   "metadata": {},
   "outputs": [
    {
     "name": "stdout",
     "output_type": "stream",
     "text": [
      "Rede Neural LSTM com 10 neuronios nas camadas de entrada e oculta - epocas:100\n",
      "Train on 125 samples\n",
      "Epoch 1/100\n",
      "125/125 [==============================] - 14s 114ms/sample - loss: 0.2128\n",
      "Epoch 2/100\n",
      "125/125 [==============================] - 0s 3ms/sample - loss: 0.1789\n",
      "Epoch 3/100\n",
      "125/125 [==============================] - 0s 2ms/sample - loss: 0.1486\n",
      "Epoch 4/100\n",
      "125/125 [==============================] - 0s 3ms/sample - loss: 0.1177\n",
      "Epoch 5/100\n",
      "125/125 [==============================] - 0s 2ms/sample - loss: 0.0878\n",
      "Epoch 6/100\n",
      "125/125 [==============================] - 0s 3ms/sample - loss: 0.0680\n",
      "Epoch 7/100\n",
      "125/125 [==============================] - 0s 2ms/sample - loss: 0.0548\n",
      "Epoch 8/100\n",
      "125/125 [==============================] - 0s 3ms/sample - loss: 0.0412\n",
      "Epoch 9/100\n",
      "125/125 [==============================] - 0s 2ms/sample - loss: 0.0413\n",
      "Epoch 10/100\n",
      "125/125 [==============================] - 0s 3ms/sample - loss: 0.0419\n",
      "Epoch 11/100\n",
      "125/125 [==============================] - 0s 3ms/sample - loss: 0.0447\n",
      "Epoch 12/100\n",
      "125/125 [==============================] - 0s 3ms/sample - loss: 0.0399\n",
      "Epoch 13/100\n",
      "125/125 [==============================] - 0s 3ms/sample - loss: 0.0380\n",
      "Epoch 14/100\n",
      "125/125 [==============================] - 0s 3ms/sample - loss: 0.0419\n",
      "Epoch 15/100\n",
      "125/125 [==============================] - 0s 3ms/sample - loss: 0.0375\n",
      "Epoch 16/100\n",
      "125/125 [==============================] - 0s 3ms/sample - loss: 0.0415\n",
      "Epoch 17/100\n",
      "125/125 [==============================] - 0s 3ms/sample - loss: 0.0373\n",
      "Epoch 18/100\n",
      "125/125 [==============================] - 0s 2ms/sample - loss: 0.0327\n",
      "Epoch 19/100\n",
      "125/125 [==============================] - 0s 3ms/sample - loss: 0.0361\n",
      "Epoch 20/100\n",
      "125/125 [==============================] - 0s 3ms/sample - loss: 0.0323\n",
      "Epoch 21/100\n",
      "125/125 [==============================] - 0s 2ms/sample - loss: 0.0383\n",
      "Epoch 22/100\n",
      "125/125 [==============================] - 0s 3ms/sample - loss: 0.0283\n",
      "Epoch 23/100\n",
      "125/125 [==============================] - 0s 3ms/sample - loss: 0.0353\n",
      "Epoch 24/100\n",
      "125/125 [==============================] - 0s 3ms/sample - loss: 0.0346\n",
      "Epoch 25/100\n",
      "125/125 [==============================] - 0s 3ms/sample - loss: 0.0397\n",
      "Epoch 26/100\n",
      "125/125 [==============================] - 0s 3ms/sample - loss: 0.0355\n",
      "Epoch 27/100\n",
      "125/125 [==============================] - 0s 3ms/sample - loss: 0.0332\n",
      "Epoch 28/100\n",
      "125/125 [==============================] - 0s 3ms/sample - loss: 0.0303\n",
      "Epoch 29/100\n",
      "125/125 [==============================] - 0s 3ms/sample - loss: 0.0334\n",
      "Epoch 30/100\n",
      "125/125 [==============================] - 0s 3ms/sample - loss: 0.0301\n",
      "Epoch 31/100\n",
      "125/125 [==============================] - 0s 3ms/sample - loss: 0.0359\n",
      "Epoch 32/100\n",
      "125/125 [==============================] - 0s 3ms/sample - loss: 0.0311\n",
      "Epoch 33/100\n",
      "125/125 [==============================] - 0s 2ms/sample - loss: 0.0353\n",
      "Epoch 34/100\n",
      "125/125 [==============================] - 0s 3ms/sample - loss: 0.0258\n",
      "Epoch 35/100\n",
      "125/125 [==============================] - 0s 3ms/sample - loss: 0.0356\n",
      "Epoch 36/100\n",
      "125/125 [==============================] - 0s 3ms/sample - loss: 0.0306\n",
      "Epoch 37/100\n",
      "125/125 [==============================] - 0s 3ms/sample - loss: 0.0292\n",
      "Epoch 38/100\n",
      "125/125 [==============================] - 0s 3ms/sample - loss: 0.0377\n",
      "Epoch 39/100\n",
      "125/125 [==============================] - 0s 3ms/sample - loss: 0.0323\n",
      "Epoch 40/100\n",
      "125/125 [==============================] - 0s 3ms/sample - loss: 0.0276\n",
      "Epoch 41/100\n",
      "125/125 [==============================] - 0s 3ms/sample - loss: 0.0338\n",
      "Epoch 42/100\n",
      "125/125 [==============================] - 0s 2ms/sample - loss: 0.0339\n",
      "Epoch 43/100\n",
      "125/125 [==============================] - 0s 3ms/sample - loss: 0.0331\n",
      "Epoch 44/100\n",
      "125/125 [==============================] - 0s 2ms/sample - loss: 0.0287\n",
      "Epoch 45/100\n",
      "125/125 [==============================] - 0s 3ms/sample - loss: 0.0337\n",
      "Epoch 46/100\n",
      "125/125 [==============================] - 0s 3ms/sample - loss: 0.0350\n",
      "Epoch 47/100\n",
      "125/125 [==============================] - 0s 3ms/sample - loss: 0.0350\n",
      "Epoch 48/100\n",
      "125/125 [==============================] - 0s 2ms/sample - loss: 0.0332\n",
      "Epoch 49/100\n",
      "125/125 [==============================] - 0s 3ms/sample - loss: 0.0301\n",
      "Epoch 50/100\n",
      "125/125 [==============================] - 0s 3ms/sample - loss: 0.0283\n",
      "Epoch 51/100\n",
      "125/125 [==============================] - 0s 2ms/sample - loss: 0.0301\n",
      "Epoch 52/100\n",
      "125/125 [==============================] - 0s 3ms/sample - loss: 0.0306\n",
      "Epoch 53/100\n",
      "125/125 [==============================] - 0s 3ms/sample - loss: 0.0317\n",
      "Epoch 54/100\n",
      "125/125 [==============================] - 0s 2ms/sample - loss: 0.0290\n",
      "Epoch 55/100\n",
      "125/125 [==============================] - 0s 2ms/sample - loss: 0.0330\n",
      "Epoch 56/100\n",
      "125/125 [==============================] - 0s 3ms/sample - loss: 0.0285\n",
      "Epoch 57/100\n",
      "125/125 [==============================] - 0s 2ms/sample - loss: 0.0310\n",
      "Epoch 58/100\n",
      "125/125 [==============================] - 0s 3ms/sample - loss: 0.0284\n",
      "Epoch 59/100\n",
      "125/125 [==============================] - 0s 3ms/sample - loss: 0.0265\n",
      "Epoch 60/100\n",
      "125/125 [==============================] - 0s 3ms/sample - loss: 0.0346\n",
      "Epoch 61/100\n",
      "125/125 [==============================] - 0s 3ms/sample - loss: 0.0321\n",
      "Epoch 62/100\n",
      "125/125 [==============================] - 0s 3ms/sample - loss: 0.0349\n",
      "Epoch 63/100\n",
      "125/125 [==============================] - 0s 3ms/sample - loss: 0.0330\n",
      "Epoch 64/100\n",
      "125/125 [==============================] - 0s 2ms/sample - loss: 0.0329\n",
      "Epoch 65/100\n",
      "125/125 [==============================] - 0s 3ms/sample - loss: 0.0347\n",
      "Epoch 66/100\n",
      "125/125 [==============================] - 0s 3ms/sample - loss: 0.0306\n",
      "Epoch 67/100\n",
      "125/125 [==============================] - 0s 3ms/sample - loss: 0.0335\n",
      "Epoch 68/100\n",
      "125/125 [==============================] - 0s 3ms/sample - loss: 0.0338\n",
      "Epoch 69/100\n",
      "125/125 [==============================] - 0s 3ms/sample - loss: 0.0310\n",
      "Epoch 70/100\n",
      "125/125 [==============================] - 0s 3ms/sample - loss: 0.0292\n",
      "Epoch 71/100\n",
      "125/125 [==============================] - 0s 3ms/sample - loss: 0.0321\n",
      "Epoch 72/100\n",
      "125/125 [==============================] - 0s 3ms/sample - loss: 0.0316\n",
      "Epoch 73/100\n",
      "125/125 [==============================] - 0s 2ms/sample - loss: 0.0280\n",
      "Epoch 74/100\n",
      "125/125 [==============================] - 0s 3ms/sample - loss: 0.0263\n",
      "Epoch 75/100\n",
      "125/125 [==============================] - 0s 2ms/sample - loss: 0.0284\n",
      "Epoch 76/100\n",
      "125/125 [==============================] - 0s 3ms/sample - loss: 0.0306\n",
      "Epoch 77/100\n",
      "125/125 [==============================] - 0s 3ms/sample - loss: 0.0308\n",
      "Epoch 78/100\n",
      "125/125 [==============================] - 0s 2ms/sample - loss: 0.0271\n",
      "Epoch 79/100\n",
      "125/125 [==============================] - 0s 2ms/sample - loss: 0.0307\n",
      "Epoch 80/100\n",
      "125/125 [==============================] - 0s 3ms/sample - loss: 0.0314\n",
      "Epoch 81/100\n",
      "125/125 [==============================] - 0s 3ms/sample - loss: 0.0289\n",
      "Epoch 82/100\n",
      "125/125 [==============================] - 0s 2ms/sample - loss: 0.0269\n",
      "Epoch 83/100\n",
      "125/125 [==============================] - 0s 3ms/sample - loss: 0.0303\n",
      "Epoch 84/100\n",
      "125/125 [==============================] - 0s 3ms/sample - loss: 0.0287\n",
      "Epoch 85/100\n",
      "125/125 [==============================] - 0s 3ms/sample - loss: 0.0296\n",
      "Epoch 86/100\n",
      "125/125 [==============================] - 0s 3ms/sample - loss: 0.0300\n",
      "Epoch 87/100\n",
      "125/125 [==============================] - 0s 3ms/sample - loss: 0.0282\n",
      "Epoch 88/100\n",
      "125/125 [==============================] - 0s 3ms/sample - loss: 0.0292\n",
      "Epoch 89/100\n",
      "125/125 [==============================] - 0s 3ms/sample - loss: 0.0307\n",
      "Epoch 90/100\n",
      "125/125 [==============================] - 0s 3ms/sample - loss: 0.0309\n",
      "Epoch 91/100\n",
      "125/125 [==============================] - 0s 3ms/sample - loss: 0.0288\n",
      "Epoch 92/100\n",
      "125/125 [==============================] - 0s 3ms/sample - loss: 0.0313\n",
      "Epoch 93/100\n",
      "125/125 [==============================] - 0s 3ms/sample - loss: 0.0290\n",
      "Epoch 94/100\n",
      "125/125 [==============================] - 0s 3ms/sample - loss: 0.0277\n",
      "Epoch 95/100\n",
      "125/125 [==============================] - 0s 3ms/sample - loss: 0.0303\n",
      "Epoch 96/100\n"
     ]
    },
    {
     "name": "stdout",
     "output_type": "stream",
     "text": [
      "125/125 [==============================] - 0s 2ms/sample - loss: 0.0276\n",
      "Epoch 97/100\n",
      "125/125 [==============================] - 0s 2ms/sample - loss: 0.0298\n",
      "Epoch 98/100\n",
      "125/125 [==============================] - 0s 2ms/sample - loss: 0.0299\n",
      "Epoch 99/100\n",
      "125/125 [==============================] - 0s 2ms/sample - loss: 0.0283\n",
      "Epoch 100/100\n",
      "125/125 [==============================] - 0s 2ms/sample - loss: 0.0308\n"
     ]
    },
    {
     "data": {
      "text/plain": [
       "<tensorflow.python.keras.callbacks.History at 0x7fab5d549210>"
      ]
     },
     "execution_count": 22,
     "metadata": {},
     "output_type": "execute_result"
    }
   ],
   "source": [
    "print(\"Rede Neural LSTM com 10 neuronios nas camadas de entrada e oculta - epocas:100\")\n",
    "model = Sequential() \n",
    "\n",
    "model.add(LSTM(units = 10, return_sequences = True, input_shape = (previsores.shape[1], 1))) \n",
    "model.add(Dropout(0.2))\n",
    "model.add(LSTM(units = 10, return_sequences = True))\n",
    "model.add(Dropout(0.2))\n",
    "model.add(LSTM(units = 10, return_sequences = False)) \n",
    "model.add(Dropout(0.2))\n",
    "model.add(Dense(units = 1)) \n",
    "model.compile(optimizer = 'adam', loss = 'mean_squared_error')\n",
    "\n",
    "#es = EarlyStopping(monitor='val_loss',mode='auto',verbose = 1,patience=5)\n",
    "\n",
    "model.fit(previsores, dbo_real, epochs = 100, batch_size = 32)\n"
   ]
  },
  {
   "cell_type": "code",
   "execution_count": 24,
   "metadata": {},
   "outputs": [],
   "source": [
    "dbo_real_teste = test\n",
    "entradas = data[len(data) - len(test) - timestamp:]\n",
    "entradas = entradas.reshape(-1, 1)\n",
    "entradas = sc.transform(entradas)\n",
    "\n",
    "X_teste = []\n",
    "for i in range(timestamp, timestamp + len(test)):\n",
    "    X_teste.append(entradas[i-timestamp:i, 0])\n",
    "X_teste = np.array(X_teste)\n",
    "X_teste = np.reshape(X_teste, (X_teste.shape[0], X_teste.shape[1], 1))\n",
    "previsoes = model.predict(X_teste)\n",
    "previsoes = sc.inverse_transform(previsoes)"
   ]
  },
  {
   "cell_type": "code",
   "execution_count": 25,
   "metadata": {},
   "outputs": [
    {
     "data": {
      "image/png": "[encoded data removed]",
      "text/plain": [
       "<Figure size 432x288 with 1 Axes>"
      ]
     },
     "metadata": {
      "needs_background": "light"
     },
     "output_type": "display_data"
    }
   ],
   "source": [
    "previsoes_treino = model.predict(previsores)\n",
    "previsoes_treino = sc.inverse_transform(previsoes_treino)\n",
    "\n",
    "train_predict_plot = np.empty_like(data)\n",
    "train_predict_plot[:, :] = np.nan\n",
    "train_predict_plot[timestamp: len(previsoes_treino) + timestamp, :] = previsoes_treino\n",
    "\n",
    "test_predict_plot = np.empty_like(data)\n",
    "test_predict_plot[:, :] = np.nan\n",
    "test_predict_plot[len(previsoes_treino)+(timestamp):len(data), :] = previsoes\n",
    "\n",
    "plt.plot(data, label='DBO Real', color='orange')\n",
    "plt.plot(train_predict_plot, color = 'red', label = 'Treino')\n",
    "plt.plot(test_predict_plot, color = 'blue', label = 'Teste')\n",
    "plt.title('')\n",
    "plt.xlabel('Trimestre')\n",
    "plt.ylabel('Valor DBO')\n",
    "plt.legend(loc='best')\n",
    "plt.show()"
   ]
  },
  {
   "cell_type": "code",
   "execution_count": 26,
   "metadata": {},
   "outputs": [
    {
     "name": "stdout",
     "output_type": "stream",
     "text": [
      "Previsão (média): 20.16\n",
      "DBO Real (média): 20.01\n",
      "Diferença (média): -0.15\n"
     ]
    }
   ],
   "source": [
    "print('Previsão (média):',round(previsoes.mean(),2))\n",
    "print('DBO Real (média):', round(dbo_real_teste.mean(),2))\n",
    "print('Diferença (média):', round(dbo_real_teste.mean() - previsoes.mean(),2))"
   ]
  },
  {
   "cell_type": "code",
   "execution_count": 27,
   "metadata": {},
   "outputs": [
    {
     "name": "stdout",
     "output_type": "stream",
     "text": [
      "Pontuação de Treino: 0.02 MSE (0.15 RMSE)\n"
     ]
    }
   ],
   "source": [
    "train_score10 = model.evaluate(previsores, dbo_real, verbose=0)\n",
    "ph10_mse  = train_score10\n",
    "ph10_rmse = math.sqrt(train_score10)\n",
    "\n",
    "print('Pontuação de Treino: {:.2f} MSE ({:.2f} RMSE)'.format(train_score10, math.sqrt(train_score10)))\n",
    "#test_score10 = mdl.evaluate(X_test, y_test, verbose=0)\n",
    "#print('Pontuação de teste: {:.2f} MSE ({:.2f} RMSE)'.format(test_score10, math.sqrt(test_score10)))"
   ]
  },
  {
   "cell_type": "code",
   "execution_count": 28,
   "metadata": {},
   "outputs": [
    {
     "name": "stdout",
     "output_type": "stream",
     "text": [
      "Rede Neural LSTM com 25 neuronios nas camadas de entrada e oculta - epocas:100\n",
      "Train on 125 samples\n",
      "Epoch 1/100\n",
      "125/125 [==============================] - 14s 110ms/sample - loss: 0.1983\n",
      "Epoch 2/100\n",
      "125/125 [==============================] - 0s 3ms/sample - loss: 0.1476\n",
      "Epoch 3/100\n",
      "125/125 [==============================] - 0s 3ms/sample - loss: 0.0929\n",
      "Epoch 4/100\n",
      "125/125 [==============================] - 0s 3ms/sample - loss: 0.0474\n",
      "Epoch 5/100\n",
      "125/125 [==============================] - 0s 2ms/sample - loss: 0.0430\n",
      "Epoch 6/100\n",
      "125/125 [==============================] - 0s 3ms/sample - loss: 0.0498\n",
      "Epoch 7/100\n",
      "125/125 [==============================] - 0s 3ms/sample - loss: 0.0377\n",
      "Epoch 8/100\n",
      "125/125 [==============================] - 0s 2ms/sample - loss: 0.0307\n",
      "Epoch 9/100\n",
      "125/125 [==============================] - 0s 3ms/sample - loss: 0.0341\n",
      "Epoch 10/100\n",
      "125/125 [==============================] - 0s 3ms/sample - loss: 0.0406\n",
      "Epoch 11/100\n",
      "125/125 [==============================] - 0s 3ms/sample - loss: 0.0301\n",
      "Epoch 12/100\n",
      "125/125 [==============================] - 0s 3ms/sample - loss: 0.0334\n",
      "Epoch 13/100\n",
      "125/125 [==============================] - 0s 3ms/sample - loss: 0.0283\n",
      "Epoch 14/100\n",
      "125/125 [==============================] - 0s 3ms/sample - loss: 0.0314\n",
      "Epoch 15/100\n",
      "125/125 [==============================] - 0s 3ms/sample - loss: 0.0329\n",
      "Epoch 16/100\n",
      "125/125 [==============================] - 0s 3ms/sample - loss: 0.0314\n",
      "Epoch 17/100\n",
      "125/125 [==============================] - 0s 3ms/sample - loss: 0.0269\n",
      "Epoch 18/100\n",
      "125/125 [==============================] - 0s 3ms/sample - loss: 0.0276\n",
      "Epoch 19/100\n",
      "125/125 [==============================] - 0s 3ms/sample - loss: 0.0286\n",
      "Epoch 20/100\n",
      "125/125 [==============================] - 0s 3ms/sample - loss: 0.0291\n",
      "Epoch 21/100\n",
      "125/125 [==============================] - 0s 3ms/sample - loss: 0.0289\n",
      "Epoch 22/100\n",
      "125/125 [==============================] - 0s 2ms/sample - loss: 0.0291\n",
      "Epoch 23/100\n",
      "125/125 [==============================] - 0s 3ms/sample - loss: 0.0291\n",
      "Epoch 24/100\n",
      "125/125 [==============================] - 0s 3ms/sample - loss: 0.0303\n",
      "Epoch 25/100\n",
      "125/125 [==============================] - 0s 3ms/sample - loss: 0.0305\n",
      "Epoch 26/100\n",
      "125/125 [==============================] - 0s 3ms/sample - loss: 0.0289\n",
      "Epoch 27/100\n",
      "125/125 [==============================] - 0s 3ms/sample - loss: 0.0284\n",
      "Epoch 28/100\n",
      "125/125 [==============================] - 0s 3ms/sample - loss: 0.0271\n",
      "Epoch 29/100\n",
      "125/125 [==============================] - 0s 2ms/sample - loss: 0.0283\n",
      "Epoch 30/100\n",
      "125/125 [==============================] - 0s 3ms/sample - loss: 0.0294\n",
      "Epoch 31/100\n",
      "125/125 [==============================] - 0s 3ms/sample - loss: 0.0323\n",
      "Epoch 32/100\n",
      "125/125 [==============================] - 0s 3ms/sample - loss: 0.0292\n",
      "Epoch 33/100\n",
      "125/125 [==============================] - 0s 3ms/sample - loss: 0.0281\n",
      "Epoch 34/100\n",
      "125/125 [==============================] - 0s 3ms/sample - loss: 0.0272\n",
      "Epoch 35/100\n",
      "125/125 [==============================] - 0s 2ms/sample - loss: 0.0279\n",
      "Epoch 36/100\n",
      "125/125 [==============================] - 0s 3ms/sample - loss: 0.0286\n",
      "Epoch 37/100\n",
      "125/125 [==============================] - 0s 3ms/sample - loss: 0.0297\n",
      "Epoch 38/100\n",
      "125/125 [==============================] - 0s 3ms/sample - loss: 0.0259\n",
      "Epoch 39/100\n",
      "125/125 [==============================] - 0s 3ms/sample - loss: 0.0247\n",
      "Epoch 40/100\n",
      "125/125 [==============================] - 0s 3ms/sample - loss: 0.0282\n",
      "Epoch 41/100\n",
      "125/125 [==============================] - 0s 3ms/sample - loss: 0.0263\n",
      "Epoch 42/100\n",
      "125/125 [==============================] - 0s 2ms/sample - loss: 0.0269\n",
      "Epoch 43/100\n",
      "125/125 [==============================] - 0s 3ms/sample - loss: 0.0265\n",
      "Epoch 44/100\n",
      "125/125 [==============================] - 0s 3ms/sample - loss: 0.0269\n",
      "Epoch 45/100\n",
      "125/125 [==============================] - 0s 3ms/sample - loss: 0.0271\n",
      "Epoch 46/100\n",
      "125/125 [==============================] - 0s 3ms/sample - loss: 0.0262\n",
      "Epoch 47/100\n",
      "125/125 [==============================] - 0s 3ms/sample - loss: 0.0248\n",
      "Epoch 48/100\n",
      "125/125 [==============================] - 0s 3ms/sample - loss: 0.0266\n",
      "Epoch 49/100\n",
      "125/125 [==============================] - 0s 3ms/sample - loss: 0.0251\n",
      "Epoch 50/100\n",
      "125/125 [==============================] - 0s 3ms/sample - loss: 0.0249\n",
      "Epoch 51/100\n",
      "125/125 [==============================] - 0s 2ms/sample - loss: 0.0257\n",
      "Epoch 52/100\n",
      "125/125 [==============================] - 0s 3ms/sample - loss: 0.0260\n",
      "Epoch 53/100\n",
      "125/125 [==============================] - 0s 3ms/sample - loss: 0.0266\n",
      "Epoch 54/100\n",
      "125/125 [==============================] - 0s 3ms/sample - loss: 0.0254\n",
      "Epoch 55/100\n",
      "125/125 [==============================] - 0s 2ms/sample - loss: 0.0276\n",
      "Epoch 56/100\n",
      "125/125 [==============================] - 0s 3ms/sample - loss: 0.0269\n",
      "Epoch 57/100\n",
      "125/125 [==============================] - 0s 3ms/sample - loss: 0.0237\n",
      "Epoch 58/100\n",
      "125/125 [==============================] - 0s 3ms/sample - loss: 0.0280\n",
      "Epoch 59/100\n",
      "125/125 [==============================] - 0s 3ms/sample - loss: 0.0253\n",
      "Epoch 60/100\n",
      "125/125 [==============================] - 0s 3ms/sample - loss: 0.0271\n",
      "Epoch 61/100\n",
      "125/125 [==============================] - 0s 3ms/sample - loss: 0.0272\n",
      "Epoch 62/100\n",
      "125/125 [==============================] - 0s 3ms/sample - loss: 0.0281\n",
      "Epoch 63/100\n",
      "125/125 [==============================] - 0s 3ms/sample - loss: 0.0288\n",
      "Epoch 64/100\n",
      "125/125 [==============================] - 0s 3ms/sample - loss: 0.0251\n",
      "Epoch 65/100\n",
      "125/125 [==============================] - 0s 3ms/sample - loss: 0.0273\n",
      "Epoch 66/100\n",
      "125/125 [==============================] - 0s 3ms/sample - loss: 0.0266\n",
      "Epoch 67/100\n",
      "125/125 [==============================] - 0s 3ms/sample - loss: 0.0246\n",
      "Epoch 68/100\n",
      "125/125 [==============================] - 0s 3ms/sample - loss: 0.0239\n",
      "Epoch 69/100\n",
      "125/125 [==============================] - 0s 3ms/sample - loss: 0.0249\n",
      "Epoch 70/100\n",
      "125/125 [==============================] - 0s 3ms/sample - loss: 0.0268\n",
      "Epoch 71/100\n",
      "125/125 [==============================] - 0s 3ms/sample - loss: 0.0269\n",
      "Epoch 72/100\n",
      "125/125 [==============================] - 0s 3ms/sample - loss: 0.0257\n",
      "Epoch 73/100\n",
      "125/125 [==============================] - 0s 3ms/sample - loss: 0.0281\n",
      "Epoch 74/100\n",
      "125/125 [==============================] - 0s 3ms/sample - loss: 0.0266\n",
      "Epoch 75/100\n",
      "125/125 [==============================] - 0s 3ms/sample - loss: 0.0264\n",
      "Epoch 76/100\n",
      "125/125 [==============================] - 0s 3ms/sample - loss: 0.0251\n",
      "Epoch 77/100\n",
      "125/125 [==============================] - 0s 2ms/sample - loss: 0.0232\n",
      "Epoch 78/100\n",
      "125/125 [==============================] - 0s 3ms/sample - loss: 0.0247\n",
      "Epoch 79/100\n",
      "125/125 [==============================] - 0s 3ms/sample - loss: 0.0265\n",
      "Epoch 80/100\n",
      "125/125 [==============================] - 0s 3ms/sample - loss: 0.0262\n",
      "Epoch 81/100\n",
      "125/125 [==============================] - 0s 3ms/sample - loss: 0.0261\n",
      "Epoch 82/100\n",
      "125/125 [==============================] - 0s 3ms/sample - loss: 0.0245\n",
      "Epoch 83/100\n",
      "125/125 [==============================] - 0s 3ms/sample - loss: 0.0226\n",
      "Epoch 84/100\n",
      "125/125 [==============================] - 0s 3ms/sample - loss: 0.0272\n",
      "Epoch 85/100\n",
      "125/125 [==============================] - 0s 3ms/sample - loss: 0.0262\n",
      "Epoch 86/100\n",
      "125/125 [==============================] - 0s 3ms/sample - loss: 0.0251\n",
      "Epoch 87/100\n",
      "125/125 [==============================] - 0s 3ms/sample - loss: 0.0256\n",
      "Epoch 88/100\n",
      "125/125 [==============================] - 0s 3ms/sample - loss: 0.0273\n",
      "Epoch 89/100\n",
      "125/125 [==============================] - 0s 3ms/sample - loss: 0.0260\n",
      "Epoch 90/100\n",
      "125/125 [==============================] - 0s 3ms/sample - loss: 0.0258\n",
      "Epoch 91/100\n",
      "125/125 [==============================] - 0s 3ms/sample - loss: 0.0245\n",
      "Epoch 92/100\n",
      "125/125 [==============================] - 0s 3ms/sample - loss: 0.0255\n",
      "Epoch 93/100\n",
      "125/125 [==============================] - 0s 3ms/sample - loss: 0.0254\n",
      "Epoch 94/100\n",
      "125/125 [==============================] - 0s 3ms/sample - loss: 0.0237\n",
      "Epoch 95/100\n",
      "125/125 [==============================] - 0s 3ms/sample - loss: 0.0281\n",
      "Epoch 96/100\n"
     ]
    },
    {
     "name": "stdout",
     "output_type": "stream",
     "text": [
      "125/125 [==============================] - 0s 3ms/sample - loss: 0.0272\n",
      "Epoch 97/100\n",
      "125/125 [==============================] - 0s 2ms/sample - loss: 0.0271\n",
      "Epoch 98/100\n",
      "125/125 [==============================] - 0s 2ms/sample - loss: 0.0274\n",
      "Epoch 99/100\n",
      "125/125 [==============================] - 0s 2ms/sample - loss: 0.0300\n",
      "Epoch 100/100\n",
      "125/125 [==============================] - 0s 3ms/sample - loss: 0.0263\n"
     ]
    },
    {
     "data": {
      "text/plain": [
       "<tensorflow.python.keras.callbacks.History at 0x7fab47b02610>"
      ]
     },
     "execution_count": 28,
     "metadata": {},
     "output_type": "execute_result"
    }
   ],
   "source": [
    "print(\"Rede Neural LSTM com 25 neuronios nas camadas de entrada e oculta - epocas:100\")\n",
    "model = Sequential() \n",
    "\n",
    "model.add(LSTM(units = 25, return_sequences = True, input_shape = (previsores.shape[1], 1))) \n",
    "model.add(Dropout(0.2))\n",
    "model.add(LSTM(units = 25, return_sequences = True))\n",
    "model.add(Dropout(0.2))\n",
    "model.add(LSTM(units = 25, return_sequences = False)) \n",
    "model.add(Dropout(0.2))\n",
    "model.add(Dense(units = 1)) \n",
    "model.compile(optimizer = 'adam', loss = 'mean_squared_error')\n",
    "\n",
    "#es = EarlyStopping(monitor='val_loss',mode='auto',verbose = 1,patience=5)\n",
    "\n",
    "model.fit(previsores, dbo_real, epochs = 100, batch_size = 32)"
   ]
  },
  {
   "cell_type": "code",
   "execution_count": 29,
   "metadata": {},
   "outputs": [],
   "source": [
    "dbo_real_teste = test\n",
    "entradas = data[len(data) - len(test) - timestamp:]\n",
    "entradas = entradas.reshape(-1, 1)\n",
    "entradas = sc.transform(entradas)\n",
    "\n",
    "X_teste = []\n",
    "for i in range(timestamp, timestamp + len(test)):\n",
    "    X_teste.append(entradas[i-timestamp:i, 0])\n",
    "X_teste = np.array(X_teste)\n",
    "X_teste = np.reshape(X_teste, (X_teste.shape[0], X_teste.shape[1], 1))\n",
    "previsoes = model.predict(X_teste)\n",
    "previsoes = sc.inverse_transform(previsoes)"
   ]
  },
  {
   "cell_type": "code",
   "execution_count": 30,
   "metadata": {},
   "outputs": [
    {
     "data": {
      "image/png": "[encoded data removed]",
      "text/plain": [
       "<Figure size 432x288 with 1 Axes>"
      ]
     },
     "metadata": {
      "needs_background": "light"
     },
     "output_type": "display_data"
    },
    {
     "name": "stdout",
     "output_type": "stream",
     "text": [
      "Previsão (média): 19.53\n",
      "DBO Real (média): 20.01\n",
      "Diferença (média): 0.48\n",
      "Pontuação de Treino: 0.02 MSE (0.15 RMSE)\n"
     ]
    }
   ],
   "source": [
    "previsoes_treino = model.predict(previsores)\n",
    "previsoes_treino = sc.inverse_transform(previsoes_treino)\n",
    "\n",
    "train_predict_plot = np.empty_like(data)\n",
    "train_predict_plot[:, :] = np.nan\n",
    "train_predict_plot[timestamp: len(previsoes_treino) + timestamp, :] = previsoes_treino\n",
    "\n",
    "test_predict_plot = np.empty_like(data)\n",
    "test_predict_plot[:, :] = np.nan\n",
    "test_predict_plot[len(previsoes_treino)+(timestamp):len(data), :] = previsoes\n",
    "\n",
    "plt.plot(data, label='DBO Real', color='orange')\n",
    "plt.plot(train_predict_plot, color = 'red', label = 'Treino')\n",
    "plt.plot(test_predict_plot, color = 'blue', label = 'Teste')\n",
    "plt.title('')\n",
    "plt.xlabel('Trimestre')\n",
    "plt.ylabel('Valor DBO')\n",
    "plt.legend(loc='best')\n",
    "plt.show()\n",
    "\n",
    "print('Previsão (média):',round(previsoes.mean(),2))\n",
    "print('DBO Real (média):', round(dbo_real_teste.mean(),2))\n",
    "print('Diferença (média):', round(dbo_real_teste.mean() - previsoes.mean(),2))\n",
    "\n",
    "train_score25 = model.evaluate(previsores, dbo_real, verbose=0)\n",
    "ph25_mse  = train_score25\n",
    "ph25_rmse = math.sqrt(train_score25)\n",
    "\n",
    "print('Pontuação de Treino: {:.2f} MSE ({:.2f} RMSE)'.format(train_score25, math.sqrt(train_score25)))\n"
   ]
  },
  {
   "cell_type": "code",
   "execution_count": 31,
   "metadata": {},
   "outputs": [
    {
     "name": "stdout",
     "output_type": "stream",
     "text": [
      "Rede Neural LSTM com 50 neuronios nas camadas de entrada e oculta - epocas:100\n",
      "Train on 125 samples\n",
      "Epoch 1/100\n",
      "125/125 [==============================] - 14s 116ms/sample - loss: 0.1883\n",
      "Epoch 2/100\n",
      "125/125 [==============================] - 0s 3ms/sample - loss: 0.1003\n",
      "Epoch 3/100\n",
      "125/125 [==============================] - 0s 3ms/sample - loss: 0.0392\n",
      "Epoch 4/100\n",
      "125/125 [==============================] - 0s 3ms/sample - loss: 0.0517\n",
      "Epoch 5/100\n",
      "125/125 [==============================] - 0s 3ms/sample - loss: 0.0352\n",
      "Epoch 6/100\n",
      "125/125 [==============================] - 0s 3ms/sample - loss: 0.0366\n",
      "Epoch 7/100\n",
      "125/125 [==============================] - 0s 4ms/sample - loss: 0.0345\n",
      "Epoch 8/100\n",
      "125/125 [==============================] - 0s 3ms/sample - loss: 0.0336\n",
      "Epoch 9/100\n",
      "125/125 [==============================] - 0s 3ms/sample - loss: 0.0298\n",
      "Epoch 10/100\n",
      "125/125 [==============================] - 0s 3ms/sample - loss: 0.0278\n",
      "Epoch 11/100\n",
      "125/125 [==============================] - 0s 3ms/sample - loss: 0.0281\n",
      "Epoch 12/100\n",
      "125/125 [==============================] - 0s 3ms/sample - loss: 0.0261\n",
      "Epoch 13/100\n",
      "125/125 [==============================] - 0s 3ms/sample - loss: 0.0262\n",
      "Epoch 14/100\n",
      "125/125 [==============================] - 0s 3ms/sample - loss: 0.0250\n",
      "Epoch 15/100\n",
      "125/125 [==============================] - 0s 3ms/sample - loss: 0.0258\n",
      "Epoch 16/100\n",
      "125/125 [==============================] - 0s 4ms/sample - loss: 0.0280\n",
      "Epoch 17/100\n",
      "125/125 [==============================] - 0s 3ms/sample - loss: 0.0242\n",
      "Epoch 18/100\n",
      "125/125 [==============================] - 1s 4ms/sample - loss: 0.0257 0s - loss: 0.02\n",
      "Epoch 19/100\n",
      "125/125 [==============================] - 1s 4ms/sample - loss: 0.0280\n",
      "Epoch 20/100\n",
      "125/125 [==============================] - 0s 3ms/sample - loss: 0.0249\n",
      "Epoch 21/100\n",
      "125/125 [==============================] - 0s 4ms/sample - loss: 0.0278\n",
      "Epoch 22/100\n",
      "125/125 [==============================] - 0s 3ms/sample - loss: 0.0255\n",
      "Epoch 23/100\n",
      "125/125 [==============================] - 1s 4ms/sample - loss: 0.0266\n",
      "Epoch 24/100\n",
      "125/125 [==============================] - 0s 3ms/sample - loss: 0.0278\n",
      "Epoch 25/100\n",
      "125/125 [==============================] - 0s 4ms/sample - loss: 0.0258\n",
      "Epoch 26/100\n",
      "125/125 [==============================] - 0s 3ms/sample - loss: 0.0272\n",
      "Epoch 27/100\n",
      "125/125 [==============================] - 0s 4ms/sample - loss: 0.0264\n",
      "Epoch 28/100\n",
      "125/125 [==============================] - 0s 3ms/sample - loss: 0.0257\n",
      "Epoch 29/100\n",
      "125/125 [==============================] - 0s 3ms/sample - loss: 0.0254\n",
      "Epoch 30/100\n",
      "125/125 [==============================] - 0s 3ms/sample - loss: 0.0246\n",
      "Epoch 31/100\n",
      "125/125 [==============================] - 0s 3ms/sample - loss: 0.0263\n",
      "Epoch 32/100\n",
      "125/125 [==============================] - 0s 3ms/sample - loss: 0.0277\n",
      "Epoch 33/100\n",
      "125/125 [==============================] - 0s 3ms/sample - loss: 0.0253\n",
      "Epoch 34/100\n",
      "125/125 [==============================] - 0s 3ms/sample - loss: 0.0264\n",
      "Epoch 35/100\n",
      "125/125 [==============================] - 0s 3ms/sample - loss: 0.0245\n",
      "Epoch 36/100\n",
      "125/125 [==============================] - 0s 3ms/sample - loss: 0.0255\n",
      "Epoch 37/100\n",
      "125/125 [==============================] - 0s 3ms/sample - loss: 0.0236\n",
      "Epoch 38/100\n",
      "125/125 [==============================] - 0s 3ms/sample - loss: 0.0244\n",
      "Epoch 39/100\n",
      "125/125 [==============================] - 0s 3ms/sample - loss: 0.0250\n",
      "Epoch 40/100\n",
      "125/125 [==============================] - 0s 3ms/sample - loss: 0.0259\n",
      "Epoch 41/100\n",
      "125/125 [==============================] - 0s 3ms/sample - loss: 0.0240\n",
      "Epoch 42/100\n",
      "125/125 [==============================] - 0s 3ms/sample - loss: 0.0234\n",
      "Epoch 43/100\n",
      "125/125 [==============================] - 0s 3ms/sample - loss: 0.0259\n",
      "Epoch 44/100\n",
      "125/125 [==============================] - 0s 3ms/sample - loss: 0.0250\n",
      "Epoch 45/100\n",
      "125/125 [==============================] - 0s 3ms/sample - loss: 0.0241\n",
      "Epoch 46/100\n",
      "125/125 [==============================] - 0s 3ms/sample - loss: 0.0250\n",
      "Epoch 47/100\n",
      "125/125 [==============================] - 0s 3ms/sample - loss: 0.0232\n",
      "Epoch 48/100\n",
      "125/125 [==============================] - 0s 3ms/sample - loss: 0.0239\n",
      "Epoch 49/100\n",
      "125/125 [==============================] - 0s 3ms/sample - loss: 0.0253\n",
      "Epoch 50/100\n",
      "125/125 [==============================] - 0s 3ms/sample - loss: 0.0256\n",
      "Epoch 51/100\n",
      "125/125 [==============================] - 0s 3ms/sample - loss: 0.0248\n",
      "Epoch 52/100\n",
      "125/125 [==============================] - 0s 3ms/sample - loss: 0.0251\n",
      "Epoch 53/100\n",
      "125/125 [==============================] - 0s 3ms/sample - loss: 0.0246\n",
      "Epoch 54/100\n",
      "125/125 [==============================] - 0s 3ms/sample - loss: 0.0273\n",
      "Epoch 55/100\n",
      "125/125 [==============================] - 0s 4ms/sample - loss: 0.0262\n",
      "Epoch 56/100\n",
      "125/125 [==============================] - 0s 3ms/sample - loss: 0.0267\n",
      "Epoch 57/100\n",
      "125/125 [==============================] - 0s 4ms/sample - loss: 0.0240\n",
      "Epoch 58/100\n",
      "125/125 [==============================] - 0s 3ms/sample - loss: 0.0279\n",
      "Epoch 59/100\n",
      "125/125 [==============================] - 0s 3ms/sample - loss: 0.0243\n",
      "Epoch 60/100\n",
      "125/125 [==============================] - 0s 3ms/sample - loss: 0.0253\n",
      "Epoch 61/100\n",
      "125/125 [==============================] - 0s 4ms/sample - loss: 0.0264\n",
      "Epoch 62/100\n",
      "125/125 [==============================] - 0s 3ms/sample - loss: 0.0240\n",
      "Epoch 63/100\n",
      "125/125 [==============================] - 0s 3ms/sample - loss: 0.0260\n",
      "Epoch 64/100\n",
      "125/125 [==============================] - 0s 4ms/sample - loss: 0.0256\n",
      "Epoch 65/100\n",
      "125/125 [==============================] - 0s 3ms/sample - loss: 0.0253\n",
      "Epoch 66/100\n",
      "125/125 [==============================] - 0s 3ms/sample - loss: 0.0245\n",
      "Epoch 67/100\n",
      "125/125 [==============================] - 0s 4ms/sample - loss: 0.0244\n",
      "Epoch 68/100\n",
      "125/125 [==============================] - 0s 3ms/sample - loss: 0.0266\n",
      "Epoch 69/100\n",
      "125/125 [==============================] - 0s 3ms/sample - loss: 0.0246\n",
      "Epoch 70/100\n",
      "125/125 [==============================] - 0s 3ms/sample - loss: 0.0256\n",
      "Epoch 71/100\n",
      "125/125 [==============================] - 0s 3ms/sample - loss: 0.0261\n",
      "Epoch 72/100\n",
      "125/125 [==============================] - 0s 3ms/sample - loss: 0.0254\n",
      "Epoch 73/100\n",
      "125/125 [==============================] - 0s 3ms/sample - loss: 0.0235\n",
      "Epoch 74/100\n",
      "125/125 [==============================] - 0s 3ms/sample - loss: 0.0236\n",
      "Epoch 75/100\n",
      "125/125 [==============================] - 0s 3ms/sample - loss: 0.0271\n",
      "Epoch 76/100\n",
      "125/125 [==============================] - 0s 3ms/sample - loss: 0.0253\n",
      "Epoch 77/100\n",
      "125/125 [==============================] - 0s 3ms/sample - loss: 0.0255\n",
      "Epoch 78/100\n",
      "125/125 [==============================] - 0s 3ms/sample - loss: 0.0241\n",
      "Epoch 79/100\n",
      "125/125 [==============================] - 0s 3ms/sample - loss: 0.0239\n",
      "Epoch 80/100\n",
      "125/125 [==============================] - 1s 4ms/sample - loss: 0.0243\n",
      "Epoch 81/100\n",
      "125/125 [==============================] - 0s 3ms/sample - loss: 0.0251\n",
      "Epoch 82/100\n",
      "125/125 [==============================] - 0s 3ms/sample - loss: 0.0249\n",
      "Epoch 83/100\n",
      "125/125 [==============================] - 0s 3ms/sample - loss: 0.0257\n",
      "Epoch 84/100\n",
      "125/125 [==============================] - 0s 3ms/sample - loss: 0.0253\n",
      "Epoch 85/100\n",
      "125/125 [==============================] - 0s 3ms/sample - loss: 0.0222\n",
      "Epoch 86/100\n",
      "125/125 [==============================] - 0s 3ms/sample - loss: 0.0248\n",
      "Epoch 87/100\n",
      "125/125 [==============================] - 0s 3ms/sample - loss: 0.0246\n",
      "Epoch 88/100\n",
      "125/125 [==============================] - 0s 3ms/sample - loss: 0.0266\n",
      "Epoch 89/100\n",
      "125/125 [==============================] - 0s 3ms/sample - loss: 0.0250\n",
      "Epoch 90/100\n",
      "125/125 [==============================] - 0s 3ms/sample - loss: 0.0243\n",
      "Epoch 91/100\n",
      "125/125 [==============================] - 0s 4ms/sample - loss: 0.0239\n",
      "Epoch 92/100\n",
      "125/125 [==============================] - 1s 4ms/sample - loss: 0.0267\n",
      "Epoch 93/100\n",
      "125/125 [==============================] - 0s 4ms/sample - loss: 0.0244\n",
      "Epoch 94/100\n",
      "125/125 [==============================] - 0s 4ms/sample - loss: 0.0237\n",
      "Epoch 95/100\n",
      "125/125 [==============================] - 0s 3ms/sample - loss: 0.0253\n",
      "Epoch 96/100\n"
     ]
    },
    {
     "name": "stdout",
     "output_type": "stream",
     "text": [
      "125/125 [==============================] - 0s 3ms/sample - loss: 0.0235\n",
      "Epoch 97/100\n",
      "125/125 [==============================] - 0s 2ms/sample - loss: 0.0249\n",
      "Epoch 98/100\n",
      "125/125 [==============================] - 0s 2ms/sample - loss: 0.0265\n",
      "Epoch 99/100\n",
      "125/125 [==============================] - 0s 2ms/sample - loss: 0.0255\n",
      "Epoch 100/100\n",
      "125/125 [==============================] - 0s 2ms/sample - loss: 0.0257\n"
     ]
    },
    {
     "data": {
      "text/plain": [
       "<tensorflow.python.keras.callbacks.History at 0x7fab338dc550>"
      ]
     },
     "execution_count": 31,
     "metadata": {},
     "output_type": "execute_result"
    }
   ],
   "source": [
    "print(\"Rede Neural LSTM com 50 neuronios nas camadas de entrada e oculta - epocas:100\")\n",
    "model = Sequential() \n",
    "\n",
    "model.add(LSTM(units = 50, return_sequences = True, input_shape = (previsores.shape[1], 1))) \n",
    "model.add(Dropout(0.2))\n",
    "model.add(LSTM(units = 50, return_sequences = True))\n",
    "model.add(Dropout(0.2))\n",
    "model.add(LSTM(units = 50, return_sequences = False)) \n",
    "model.add(Dropout(0.2))\n",
    "model.add(Dense(units = 1)) \n",
    "model.compile(optimizer = 'adam', loss = 'mean_squared_error')\n",
    "\n",
    "#es = EarlyStopping(monitor='val_loss',mode='auto',verbose = 1,patience=5)\n",
    "\n",
    "model.fit(previsores, dbo_real, epochs = 100, batch_size = 32)"
   ]
  },
  {
   "cell_type": "code",
   "execution_count": 32,
   "metadata": {},
   "outputs": [],
   "source": [
    "dbo_real_teste = test\n",
    "entradas = data[len(data) - len(test) - timestamp:]\n",
    "entradas = entradas.reshape(-1, 1)\n",
    "entradas = sc.transform(entradas)\n",
    "\n",
    "X_teste = []\n",
    "for i in range(timestamp, timestamp + len(test)):\n",
    "    X_teste.append(entradas[i-timestamp:i, 0])\n",
    "X_teste = np.array(X_teste)\n",
    "X_teste = np.reshape(X_teste, (X_teste.shape[0], X_teste.shape[1], 1))\n",
    "previsoes = model.predict(X_teste)\n",
    "previsoes = sc.inverse_transform(previsoes)"
   ]
  },
  {
   "cell_type": "code",
   "execution_count": 33,
   "metadata": {},
   "outputs": [
    {
     "data": {
      "image/png": "[encoded data removed]",
      "text/plain": [
       "<Figure size 432x288 with 1 Axes>"
      ]
     },
     "metadata": {
      "needs_background": "light"
     },
     "output_type": "display_data"
    },
    {
     "name": "stdout",
     "output_type": "stream",
     "text": [
      "Previsão (média): 19.4\n",
      "DBO Real (média): 20.01\n",
      "Diferença (média): 0.6\n",
      "Pontuação de Treino: 0.02 MSE (0.15 RMSE)\n"
     ]
    }
   ],
   "source": [
    "previsoes_treino = model.predict(previsores)\n",
    "previsoes_treino = sc.inverse_transform(previsoes_treino)\n",
    "\n",
    "train_predict_plot = np.empty_like(data)\n",
    "train_predict_plot[:, :] = np.nan\n",
    "train_predict_plot[timestamp: len(previsoes_treino) + timestamp, :] = previsoes_treino\n",
    "\n",
    "test_predict_plot = np.empty_like(data)\n",
    "test_predict_plot[:, :] = np.nan\n",
    "test_predict_plot[len(previsoes_treino)+(timestamp):len(data), :] = previsoes\n",
    "\n",
    "plt.plot(data, label='DBO Real', color='orange')\n",
    "plt.plot(train_predict_plot, color = 'red', label = 'Treino')\n",
    "plt.plot(test_predict_plot, color = 'blue', label = 'Teste')\n",
    "plt.title('')\n",
    "plt.xlabel('Trimestre')\n",
    "plt.ylabel('Valor DBO')\n",
    "plt.legend(loc='best')\n",
    "plt.show()\n",
    "\n",
    "print('Previsão (média):',round(previsoes.mean(),2))\n",
    "print('DBO Real (média):', round(dbo_real_teste.mean(),2))\n",
    "print('Diferença (média):', round(dbo_real_teste.mean() - previsoes.mean(),2))\n",
    "\n",
    "train_score50 = model.evaluate(previsores, dbo_real, verbose=0)\n",
    "ph50_mse  = train_score50\n",
    "ph50_rmse = math.sqrt(train_score50)\n",
    "\n",
    "print('Pontuação de Treino: {:.2f} MSE ({:.2f} RMSE)'.format(train_score50, math.sqrt(train_score50)))\n",
    "    \n"
   ]
  },
  {
   "cell_type": "code",
   "execution_count": 34,
   "metadata": {},
   "outputs": [
    {
     "name": "stdout",
     "output_type": "stream",
     "text": [
      "dbo_media_mse: 0.023\n",
      "dbo_media_rmse: 0.152\n"
     ]
    }
   ],
   "source": [
    "ph_media_mse = (ph10_mse+ph25_mse+ph50_mse)/3\n",
    "ph_media_rmse = (ph10_rmse+ph25_rmse+ph50_rmse)/3\n",
    "\n",
    "print('dbo_media_mse:', round(ph_media_mse,3))\n",
    "print('dbo_media_rmse:', round(ph_media_rmse,3))"
   ]
  },
  {
   "cell_type": "code",
   "execution_count": null,
   "metadata": {},
   "outputs": [],
   "source": []
  },
  {
   "cell_type": "code",
   "execution_count": null,
   "metadata": {},
   "outputs": [],
   "source": []
  },
  {
   "cell_type": "code",
   "execution_count": null,
   "metadata": {},
   "outputs": [],
   "source": [
    "\n"
   ]
  },
  {
   "cell_type": "code",
   "execution_count": null,
   "metadata": {},
   "outputs": [],
   "source": []
  },
  {
   "cell_type": "code",
   "execution_count": null,
   "metadata": {},
   "outputs": [],
   "source": []
  },
  {
   "cell_type": "code",
   "execution_count": null,
   "metadata": {},
   "outputs": [],
   "source": []
  },
  {
   "cell_type": "code",
   "execution_count": null,
   "metadata": {},
   "outputs": [],
   "source": []
  },
  {
   "cell_type": "code",
   "execution_count": null,
   "metadata": {},
   "outputs": [],
   "source": []
  },
  {
   "cell_type": "code",
   "execution_count": null,
   "metadata": {},
   "outputs": [],
   "source": []
  },
  {
   "cell_type": "code",
   "execution_count": null,
   "metadata": {},
   "outputs": [],
   "source": []
  },
  {
   "cell_type": "code",
   "execution_count": null,
   "metadata": {},
   "outputs": [],
   "source": []
  },
  {
   "cell_type": "code",
   "execution_count": null,
   "metadata": {},
   "outputs": [],
   "source": [
    "\n",
    "    \n"
   ]
  },
  {
   "cell_type": "code",
   "execution_count": 33,
   "metadata": {},
   "outputs": [],
   "source": []
  },
  {
   "cell_type": "code",
   "execution_count": null,
   "metadata": {},
   "outputs": [],
   "source": []
  },
  {
   "cell_type": "code",
   "execution_count": null,
   "metadata": {},
   "outputs": [],
   "source": []
  },
  {
   "cell_type": "code",
   "execution_count": null,
   "metadata": {},
   "outputs": [],
   "source": []
  },
  {
   "cell_type": "code",
   "execution_count": null,
   "metadata": {},
   "outputs": [],
   "source": [
    "\n"
   ]
  },
  {
   "cell_type": "code",
   "execution_count": null,
   "metadata": {},
   "outputs": [],
   "source": []
  },
  {
   "cell_type": "code",
   "execution_count": null,
   "metadata": {},
   "outputs": [],
   "source": []
  },
  {
   "cell_type": "code",
   "execution_count": null,
   "metadata": {},
   "outputs": [],
   "source": []
  },
  {
   "cell_type": "code",
   "execution_count": null,
   "metadata": {},
   "outputs": [],
   "source": []
  },
  {
   "cell_type": "code",
   "execution_count": null,
   "metadata": {},
   "outputs": [],
   "source": []
  },
  {
   "cell_type": "code",
   "execution_count": null,
   "metadata": {},
   "outputs": [],
   "source": []
  },
  {
   "cell_type": "code",
   "execution_count": null,
   "metadata": {},
   "outputs": [],
   "source": []
  },
  {
   "cell_type": "code",
   "execution_count": null,
   "metadata": {},
   "outputs": [],
   "source": [
    "    \n"
   ]
  },
  {
   "cell_type": "code",
   "execution_count": null,
   "metadata": {},
   "outputs": [],
   "source": []
  },
  {
   "cell_type": "code",
   "execution_count": null,
   "metadata": {},
   "outputs": [],
   "source": []
  },
  {
   "cell_type": "code",
   "execution_count": null,
   "metadata": {},
   "outputs": [],
   "source": []
  },
  {
   "cell_type": "code",
   "execution_count": null,
   "metadata": {},
   "outputs": [],
   "source": []
  },
  {
   "cell_type": "code",
   "execution_count": null,
   "metadata": {},
   "outputs": [],
   "source": []
  },
  {
   "cell_type": "code",
   "execution_count": null,
   "metadata": {},
   "outputs": [],
   "source": []
  },
  {
   "cell_type": "code",
   "execution_count": null,
   "metadata": {},
   "outputs": [],
   "source": []
  },
  {
   "cell_type": "code",
   "execution_count": null,
   "metadata": {},
   "outputs": [],
   "source": []
  },
  {
   "cell_type": "code",
   "execution_count": null,
   "metadata": {},
   "outputs": [],
   "source": []
  },
  {
   "cell_type": "code",
   "execution_count": null,
   "metadata": {},
   "outputs": [],
   "source": []
  },
  {
   "cell_type": "code",
   "execution_count": null,
   "metadata": {},
   "outputs": [],
   "source": []
  },
  {
   "cell_type": "code",
   "execution_count": null,
   "metadata": {},
   "outputs": [],
   "source": []
  },
  {
   "cell_type": "code",
   "execution_count": null,
   "metadata": {},
   "outputs": [],
   "source": []
  },
  {
   "cell_type": "code",
   "execution_count": null,
   "metadata": {},
   "outputs": [],
   "source": []
  },
  {
   "cell_type": "code",
   "execution_count": null,
   "metadata": {},
   "outputs": [],
   "source": []
  },
  {
   "cell_type": "code",
   "execution_count": null,
   "metadata": {},
   "outputs": [],
   "source": []
  },
  {
   "cell_type": "code",
   "execution_count": null,
   "metadata": {},
   "outputs": [],
   "source": []
  },
  {
   "cell_type": "code",
   "execution_count": null,
   "metadata": {},
   "outputs": [],
   "source": []
  },
  {
   "cell_type": "code",
   "execution_count": null,
   "metadata": {},
   "outputs": [],
   "source": []
  },
  {
   "cell_type": "code",
   "execution_count": null,
   "metadata": {},
   "outputs": [],
   "source": []
  },
  {
   "cell_type": "code",
   "execution_count": null,
   "metadata": {},
   "outputs": [],
   "source": []
  },
  {
   "cell_type": "code",
   "execution_count": null,
   "metadata": {},
   "outputs": [],
   "source": []
  },
  {
   "cell_type": "code",
   "execution_count": null,
   "metadata": {},
   "outputs": [],
   "source": []
  },
  {
   "cell_type": "code",
   "execution_count": null,
   "metadata": {},
   "outputs": [],
   "source": []
  },
  {
   "cell_type": "code",
   "execution_count": null,
   "metadata": {},
   "outputs": [],
   "source": []
  },
  {
   "cell_type": "code",
   "execution_count": null,
   "metadata": {},
   "outputs": [],
   "source": []
  },
  {
   "cell_type": "code",
   "execution_count": null,
   "metadata": {},
   "outputs": [],
   "source": []
  },
  {
   "cell_type": "code",
   "execution_count": null,
   "metadata": {},
   "outputs": [],
   "source": []
  },
  {
   "cell_type": "code",
   "execution_count": null,
   "metadata": {},
   "outputs": [],
   "source": []
  },
  {
   "cell_type": "code",
   "execution_count": null,
   "metadata": {},
   "outputs": [],
   "source": []
  },
  {
   "cell_type": "code",
   "execution_count": null,
   "metadata": {},
   "outputs": [],
   "source": []
  },
  {
   "cell_type": "code",
   "execution_count": null,
   "metadata": {},
   "outputs": [],
   "source": []
  },
  {
   "cell_type": "code",
   "execution_count": null,
   "metadata": {},
   "outputs": [],
   "source": []
  },
  {
   "cell_type": "code",
   "execution_count": null,
   "metadata": {},
   "outputs": [],
   "source": []
  },
  {
   "cell_type": "code",
   "execution_count": null,
   "metadata": {},
   "outputs": [],
   "source": []
  }
 ],
 "metadata": {
  "kernelspec": {
   "display_name": "Python 3",
   "language": "python",
   "name": "python3"
  },
  "language_info": {
   "codemirror_mode": {
    "name": "ipython",
    "version": 3
   },
   "file_extension": ".py",
   "mimetype": "text/x-python",
   "name": "python",
   "nbconvert_exporter": "python",
   "pygments_lexer": "ipython3",
   "version": "3.7.4"
  }
 },
 "nbformat": 4,
 "nbformat_minor": 2
}
