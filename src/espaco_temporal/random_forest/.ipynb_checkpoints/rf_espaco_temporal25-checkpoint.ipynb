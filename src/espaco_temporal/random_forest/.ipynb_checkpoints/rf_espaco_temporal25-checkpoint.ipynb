{
 "cells": [
  {
   "cell_type": "code",
   "execution_count": 3,
   "metadata": {},
   "outputs": [],
   "source": [
    "import pandas as pd\n",
    "import numpy as np\n",
    "import matplotlib.pyplot as plt\n",
    "from sklearn.preprocessing import MinMaxScaler\n",
    "import math\n",
    "from sklearn.ensemble import RandomForestRegressor\n",
    "from sklearn.metrics import mean_absolute_error\n",
    "from sklearn.metrics import mean_squared_error\n",
    "from sklearn.metrics import r2_score\n",
    "\n",
    "plt.rcParams['xtick.labelsize'] = 24\n",
    "plt.rcParams['ytick.labelsize'] = 24\n",
    "plt.rcParams.update({'font.size':20})\n",
    "plt.rcParams[\"figure.figsize\"] = (10,6)"
   ]
  },
  {
   "cell_type": "code",
   "execution_count": 4,
   "metadata": {},
   "outputs": [],
   "source": [
    "str_files = ''\n",
    "#Carrega os dados do arquivo .csv\n",
    "#df = pd.read_csv(str_files + \"ph.csv\",encoding='utf-8',sep=';')\n",
    "dateparse = lambda dates:pd.datetime.strptime(dates,'%d/%m/%Y')\n",
    "df = pd.read_csv(str_files + 'ph.CSV',encoding='utf-8',sep=';', parse_dates = ['data_coleta'],index_col=['data_coleta'],date_parser=dateparse)"
   ]
  },
  {
   "cell_type": "code",
   "execution_count": 5,
   "metadata": {},
   "outputs": [],
   "source": [
    "#Seleciona os dados da UGRHI 10 - SOROCABA/MEDIO TIETE\n",
    "z = df.loc[df['UGRHI'] == '10 - SOROCABA/MEDIO TIETE']"
   ]
  },
  {
   "cell_type": "code",
   "execution_count": 6,
   "metadata": {},
   "outputs": [],
   "source": [
    "#Agrupa os dados pela media bimestral\n",
    "trainingd = z.resample('2M').mean()"
   ]
  },
  {
   "cell_type": "code",
   "execution_count": 7,
   "metadata": {},
   "outputs": [
    {
     "data": {
      "text/html": [
       "<div>\n",
       "<style scoped>\n",
       "    .dataframe tbody tr th:only-of-type {\n",
       "        vertical-align: middle;\n",
       "    }\n",
       "\n",
       "    .dataframe tbody tr th {\n",
       "        vertical-align: top;\n",
       "    }\n",
       "\n",
       "    .dataframe thead th {\n",
       "        text-align: right;\n",
       "    }\n",
       "</style>\n",
       "<table border=\"1\" class=\"dataframe\">\n",
       "  <thead>\n",
       "    <tr style=\"text-align: right;\">\n",
       "      <th></th>\n",
       "      <th>valor</th>\n",
       "    </tr>\n",
       "    <tr>\n",
       "      <th>data_coleta</th>\n",
       "      <th></th>\n",
       "    </tr>\n",
       "  </thead>\n",
       "  <tbody>\n",
       "    <tr>\n",
       "      <td>1978-01-31</td>\n",
       "      <td>7.100</td>\n",
       "    </tr>\n",
       "    <tr>\n",
       "      <td>1978-03-31</td>\n",
       "      <td>6.625</td>\n",
       "    </tr>\n",
       "    <tr>\n",
       "      <td>1978-05-31</td>\n",
       "      <td>6.650</td>\n",
       "    </tr>\n",
       "    <tr>\n",
       "      <td>1978-07-31</td>\n",
       "      <td>6.625</td>\n",
       "    </tr>\n",
       "    <tr>\n",
       "      <td>1978-09-30</td>\n",
       "      <td>6.575</td>\n",
       "    </tr>\n",
       "    <tr>\n",
       "      <td>...</td>\n",
       "      <td>...</td>\n",
       "    </tr>\n",
       "    <tr>\n",
       "      <td>2018-07-31</td>\n",
       "      <td>7.266</td>\n",
       "    </tr>\n",
       "    <tr>\n",
       "      <td>2018-09-30</td>\n",
       "      <td>7.250</td>\n",
       "    </tr>\n",
       "    <tr>\n",
       "      <td>2018-11-30</td>\n",
       "      <td>7.244</td>\n",
       "    </tr>\n",
       "    <tr>\n",
       "      <td>2019-01-31</td>\n",
       "      <td>7.136</td>\n",
       "    </tr>\n",
       "    <tr>\n",
       "      <td>2019-03-31</td>\n",
       "      <td>7.650</td>\n",
       "    </tr>\n",
       "  </tbody>\n",
       "</table>\n",
       "<p>248 rows × 1 columns</p>\n",
       "</div>"
      ],
      "text/plain": [
       "             valor\n",
       "data_coleta       \n",
       "1978-01-31   7.100\n",
       "1978-03-31   6.625\n",
       "1978-05-31   6.650\n",
       "1978-07-31   6.625\n",
       "1978-09-30   6.575\n",
       "...            ...\n",
       "2018-07-31   7.266\n",
       "2018-09-30   7.250\n",
       "2018-11-30   7.244\n",
       "2019-01-31   7.136\n",
       "2019-03-31   7.650\n",
       "\n",
       "[248 rows x 1 columns]"
      ]
     },
     "execution_count": 7,
     "metadata": {},
     "output_type": "execute_result"
    }
   ],
   "source": [
    "trainingd\n",
    "#Remove as colunas que não serão utilizadas no experimento.\n",
    "trainingd = trainingd.drop(['cod_interaguas', 'sinal','Altitude'], axis=1)\n",
    "trainingd"
   ]
  },
  {
   "cell_type": "code",
   "execution_count": 8,
   "metadata": {},
   "outputs": [
    {
     "name": "stdout",
     "output_type": "stream",
     "text": [
      "primeiro_quartil: valor    6.9\n",
      "Name: 0.25, dtype: float64\n",
      "terceiro_quartil: valor    7.2685\n",
      "Name: 0.75, dtype: float64\n",
      "fig: valor    0.3685\n",
      "dtype: float64\n",
      "Inferior: valor    6.34725\n",
      "dtype: float64\n",
      "Superior: valor    7.82125\n",
      "dtype: float64\n"
     ]
    },
    {
     "name": "stderr",
     "output_type": "stream",
     "text": [
      "C:\\Users\\Anderson\\Anaconda3\\lib\\site-packages\\ipykernel_launcher.py:30: UserWarning: Boolean Series key will be reindexed to match DataFrame index.\n"
     ]
    },
    {
     "data": {
      "text/html": [
       "<div>\n",
       "<style scoped>\n",
       "    .dataframe tbody tr th:only-of-type {\n",
       "        vertical-align: middle;\n",
       "    }\n",
       "\n",
       "    .dataframe tbody tr th {\n",
       "        vertical-align: top;\n",
       "    }\n",
       "\n",
       "    .dataframe thead th {\n",
       "        text-align: right;\n",
       "    }\n",
       "</style>\n",
       "<table border=\"1\" class=\"dataframe\">\n",
       "  <thead>\n",
       "    <tr style=\"text-align: right;\">\n",
       "      <th></th>\n",
       "      <th>valor</th>\n",
       "    </tr>\n",
       "    <tr>\n",
       "      <th>data_coleta</th>\n",
       "      <th></th>\n",
       "    </tr>\n",
       "  </thead>\n",
       "  <tbody>\n",
       "    <tr>\n",
       "      <td>1987-01-31</td>\n",
       "      <td>6.2</td>\n",
       "    </tr>\n",
       "  </tbody>\n",
       "</table>\n",
       "</div>"
      ],
      "text/plain": [
       "             valor\n",
       "data_coleta       \n",
       "1987-01-31     6.2"
      ]
     },
     "execution_count": 8,
     "metadata": {},
     "output_type": "execute_result"
    }
   ],
   "source": [
    "#Regra 1.5*FIG --> Calcula-se o limite inferior e superior do diagrama de caixa.\n",
    "\n",
    "#Ordena o dataframe\n",
    "trainingds = trainingd.sort_values('valor',axis=0)\n",
    "\n",
    "trainingds\n",
    "\n",
    "tamanho = len(trainingds)\n",
    "#Calcula o 1Q, ou seja, os primeiros 25% do diagrama de caixa.\n",
    "primeiro_quartil = trainingds.quantile(q=0.25, axis=0, numeric_only=True, interpolation='linear')\n",
    "#Calcula o 3Q, ou seja, 75% do diagrama de caixa.\n",
    "terceiro_quartil = trainingds.quantile(q=0.75, axis=0, numeric_only=True, interpolation='linear')\n",
    "\n",
    "print('primeiro_quartil:',primeiro_quartil)\n",
    "print('terceiro_quartil:',terceiro_quartil)\n",
    "\n",
    "#Calcula-se o interquartil(FIQ).\n",
    "fig = terceiro_quartil - primeiro_quartil\n",
    "print('fig:',fig)\n",
    "\n",
    "#Calcula o limite inferior.\n",
    "inferior = primeiro_quartil - (1.5*fig)\n",
    "#Calcula o limite superior.\n",
    "superior = terceiro_quartil + (1.5*fig)\n",
    "\n",
    "print('Inferior:',inferior)\n",
    "print('Superior:',superior)\n",
    "\n",
    "#Seleciona os valores abaixo  do limite inferior, ou seja, os outlier.\n",
    "outlier = trainingd[(trainingds.valor < 6.34725)]\n",
    "\n",
    "outlier"
   ]
  },
  {
   "cell_type": "code",
   "execution_count": 9,
   "metadata": {},
   "outputs": [
    {
     "data": {
      "text/html": [
       "<div>\n",
       "<style scoped>\n",
       "    .dataframe tbody tr th:only-of-type {\n",
       "        vertical-align: middle;\n",
       "    }\n",
       "\n",
       "    .dataframe tbody tr th {\n",
       "        vertical-align: top;\n",
       "    }\n",
       "\n",
       "    .dataframe thead th {\n",
       "        text-align: right;\n",
       "    }\n",
       "</style>\n",
       "<table border=\"1\" class=\"dataframe\">\n",
       "  <thead>\n",
       "    <tr style=\"text-align: right;\">\n",
       "      <th></th>\n",
       "      <th>valor</th>\n",
       "    </tr>\n",
       "    <tr>\n",
       "      <th>data_coleta</th>\n",
       "      <th></th>\n",
       "    </tr>\n",
       "  </thead>\n",
       "  <tbody>\n",
       "  </tbody>\n",
       "</table>\n",
       "</div>"
      ],
      "text/plain": [
       "Empty DataFrame\n",
       "Columns: [valor]\n",
       "Index: []"
      ]
     },
     "execution_count": 9,
     "metadata": {},
     "output_type": "execute_result"
    }
   ],
   "source": [
    "#Substituição do outlier pelo valor médio da serie dos dados.\n",
    "trainingd.loc[trainingd['valor'] == 6.20] = 7.08\n",
    "\n",
    "ugrhi10 = trainingd\n",
    "\n",
    "outlier = trainingd[(trainingd.valor < 6.34725)]\n",
    "\n",
    "outlier"
   ]
  },
  {
   "cell_type": "code",
   "execution_count": 10,
   "metadata": {},
   "outputs": [
    {
     "data": {
      "text/html": [
       "<div>\n",
       "<style scoped>\n",
       "    .dataframe tbody tr th:only-of-type {\n",
       "        vertical-align: middle;\n",
       "    }\n",
       "\n",
       "    .dataframe tbody tr th {\n",
       "        vertical-align: top;\n",
       "    }\n",
       "\n",
       "    .dataframe thead th {\n",
       "        text-align: right;\n",
       "    }\n",
       "</style>\n",
       "<table border=\"1\" class=\"dataframe\">\n",
       "  <thead>\n",
       "    <tr style=\"text-align: right;\">\n",
       "      <th></th>\n",
       "      <th>valor</th>\n",
       "    </tr>\n",
       "    <tr>\n",
       "      <th>data_coleta</th>\n",
       "      <th></th>\n",
       "    </tr>\n",
       "  </thead>\n",
       "  <tbody>\n",
       "    <tr>\n",
       "      <td>1978-01-31</td>\n",
       "      <td>7.100</td>\n",
       "    </tr>\n",
       "    <tr>\n",
       "      <td>1978-03-31</td>\n",
       "      <td>6.625</td>\n",
       "    </tr>\n",
       "    <tr>\n",
       "      <td>1978-05-31</td>\n",
       "      <td>6.650</td>\n",
       "    </tr>\n",
       "    <tr>\n",
       "      <td>1978-07-31</td>\n",
       "      <td>6.625</td>\n",
       "    </tr>\n",
       "    <tr>\n",
       "      <td>1978-09-30</td>\n",
       "      <td>6.575</td>\n",
       "    </tr>\n",
       "    <tr>\n",
       "      <td>...</td>\n",
       "      <td>...</td>\n",
       "    </tr>\n",
       "    <tr>\n",
       "      <td>2018-07-31</td>\n",
       "      <td>7.266</td>\n",
       "    </tr>\n",
       "    <tr>\n",
       "      <td>2018-09-30</td>\n",
       "      <td>7.250</td>\n",
       "    </tr>\n",
       "    <tr>\n",
       "      <td>2018-11-30</td>\n",
       "      <td>7.244</td>\n",
       "    </tr>\n",
       "    <tr>\n",
       "      <td>2019-01-31</td>\n",
       "      <td>7.136</td>\n",
       "    </tr>\n",
       "    <tr>\n",
       "      <td>2019-03-31</td>\n",
       "      <td>7.650</td>\n",
       "    </tr>\n",
       "  </tbody>\n",
       "</table>\n",
       "<p>248 rows × 1 columns</p>\n",
       "</div>"
      ],
      "text/plain": [
       "             valor\n",
       "data_coleta       \n",
       "1978-01-31   7.100\n",
       "1978-03-31   6.625\n",
       "1978-05-31   6.650\n",
       "1978-07-31   6.625\n",
       "1978-09-30   6.575\n",
       "...            ...\n",
       "2018-07-31   7.266\n",
       "2018-09-30   7.250\n",
       "2018-11-30   7.244\n",
       "2019-01-31   7.136\n",
       "2019-03-31   7.650\n",
       "\n",
       "[248 rows x 1 columns]"
      ]
     },
     "execution_count": 10,
     "metadata": {},
     "output_type": "execute_result"
    }
   ],
   "source": [
    "ugrhi10"
   ]
  },
  {
   "cell_type": "code",
   "execution_count": 11,
   "metadata": {},
   "outputs": [],
   "source": [
    "#Seleciona os dados da UGRHI 10 - SOROCABA/MEDIO TIETE\n",
    "z = df.loc[df['UGRHI'] == '06 - ALTO TIÊTE']"
   ]
  },
  {
   "cell_type": "code",
   "execution_count": 12,
   "metadata": {},
   "outputs": [],
   "source": [
    "#Agrupa os dados pela media bimestral\n",
    "trainingd = z.resample('2M').mean()"
   ]
  },
  {
   "cell_type": "code",
   "execution_count": 13,
   "metadata": {},
   "outputs": [
    {
     "data": {
      "text/html": [
       "<div>\n",
       "<style scoped>\n",
       "    .dataframe tbody tr th:only-of-type {\n",
       "        vertical-align: middle;\n",
       "    }\n",
       "\n",
       "    .dataframe tbody tr th {\n",
       "        vertical-align: top;\n",
       "    }\n",
       "\n",
       "    .dataframe thead th {\n",
       "        text-align: right;\n",
       "    }\n",
       "</style>\n",
       "<table border=\"1\" class=\"dataframe\">\n",
       "  <thead>\n",
       "    <tr style=\"text-align: right;\">\n",
       "      <th></th>\n",
       "      <th>valor</th>\n",
       "    </tr>\n",
       "    <tr>\n",
       "      <th>data_coleta</th>\n",
       "      <th></th>\n",
       "    </tr>\n",
       "  </thead>\n",
       "  <tbody>\n",
       "    <tr>\n",
       "      <td>1978-01-31</td>\n",
       "      <td>6.680000</td>\n",
       "    </tr>\n",
       "    <tr>\n",
       "      <td>1978-03-31</td>\n",
       "      <td>6.680000</td>\n",
       "    </tr>\n",
       "    <tr>\n",
       "      <td>1978-05-31</td>\n",
       "      <td>6.440000</td>\n",
       "    </tr>\n",
       "    <tr>\n",
       "      <td>1978-07-31</td>\n",
       "      <td>6.560000</td>\n",
       "    </tr>\n",
       "    <tr>\n",
       "      <td>1978-09-30</td>\n",
       "      <td>6.110000</td>\n",
       "    </tr>\n",
       "    <tr>\n",
       "      <td>...</td>\n",
       "      <td>...</td>\n",
       "    </tr>\n",
       "    <tr>\n",
       "      <td>2019-01-31</td>\n",
       "      <td>7.056429</td>\n",
       "    </tr>\n",
       "    <tr>\n",
       "      <td>2019-03-31</td>\n",
       "      <td>7.323333</td>\n",
       "    </tr>\n",
       "    <tr>\n",
       "      <td>2019-05-31</td>\n",
       "      <td>7.405000</td>\n",
       "    </tr>\n",
       "    <tr>\n",
       "      <td>2019-07-31</td>\n",
       "      <td>7.345000</td>\n",
       "    </tr>\n",
       "    <tr>\n",
       "      <td>2019-09-30</td>\n",
       "      <td>7.336667</td>\n",
       "    </tr>\n",
       "  </tbody>\n",
       "</table>\n",
       "<p>251 rows × 1 columns</p>\n",
       "</div>"
      ],
      "text/plain": [
       "                valor\n",
       "data_coleta          \n",
       "1978-01-31   6.680000\n",
       "1978-03-31   6.680000\n",
       "1978-05-31   6.440000\n",
       "1978-07-31   6.560000\n",
       "1978-09-30   6.110000\n",
       "...               ...\n",
       "2019-01-31   7.056429\n",
       "2019-03-31   7.323333\n",
       "2019-05-31   7.405000\n",
       "2019-07-31   7.345000\n",
       "2019-09-30   7.336667\n",
       "\n",
       "[251 rows x 1 columns]"
      ]
     },
     "execution_count": 13,
     "metadata": {},
     "output_type": "execute_result"
    }
   ],
   "source": [
    "trainingd\n",
    "#Remove as colunas que não serão utilizadas no experimento.\n",
    "trainingd = trainingd.drop(['cod_interaguas', 'sinal','Altitude'], axis=1)\n",
    "trainingd"
   ]
  },
  {
   "cell_type": "code",
   "execution_count": 14,
   "metadata": {},
   "outputs": [
    {
     "name": "stdout",
     "output_type": "stream",
     "text": [
      "valor NaN: 2\n"
     ]
    }
   ],
   "source": [
    "for field in trainingd.columns:\n",
    "    print(field, 'NaN:', trainingd[field].isnull().sum())"
   ]
  },
  {
   "cell_type": "code",
   "execution_count": 15,
   "metadata": {},
   "outputs": [],
   "source": [
    "trainingd = trainingd.dropna(axis=0,how='any')\n"
   ]
  },
  {
   "cell_type": "code",
   "execution_count": 16,
   "metadata": {},
   "outputs": [
    {
     "name": "stdout",
     "output_type": "stream",
     "text": [
      "valor NaN: 0\n"
     ]
    },
    {
     "data": {
      "text/html": [
       "<div>\n",
       "<style scoped>\n",
       "    .dataframe tbody tr th:only-of-type {\n",
       "        vertical-align: middle;\n",
       "    }\n",
       "\n",
       "    .dataframe tbody tr th {\n",
       "        vertical-align: top;\n",
       "    }\n",
       "\n",
       "    .dataframe thead th {\n",
       "        text-align: right;\n",
       "    }\n",
       "</style>\n",
       "<table border=\"1\" class=\"dataframe\">\n",
       "  <thead>\n",
       "    <tr style=\"text-align: right;\">\n",
       "      <th></th>\n",
       "      <th>valor</th>\n",
       "    </tr>\n",
       "    <tr>\n",
       "      <th>data_coleta</th>\n",
       "      <th></th>\n",
       "    </tr>\n",
       "  </thead>\n",
       "  <tbody>\n",
       "    <tr>\n",
       "      <td>1978-01-31</td>\n",
       "      <td>6.680000</td>\n",
       "    </tr>\n",
       "    <tr>\n",
       "      <td>1978-03-31</td>\n",
       "      <td>6.680000</td>\n",
       "    </tr>\n",
       "    <tr>\n",
       "      <td>1978-05-31</td>\n",
       "      <td>6.440000</td>\n",
       "    </tr>\n",
       "    <tr>\n",
       "      <td>1978-07-31</td>\n",
       "      <td>6.560000</td>\n",
       "    </tr>\n",
       "    <tr>\n",
       "      <td>1978-09-30</td>\n",
       "      <td>6.110000</td>\n",
       "    </tr>\n",
       "    <tr>\n",
       "      <td>...</td>\n",
       "      <td>...</td>\n",
       "    </tr>\n",
       "    <tr>\n",
       "      <td>2019-01-31</td>\n",
       "      <td>7.056429</td>\n",
       "    </tr>\n",
       "    <tr>\n",
       "      <td>2019-03-31</td>\n",
       "      <td>7.323333</td>\n",
       "    </tr>\n",
       "    <tr>\n",
       "      <td>2019-05-31</td>\n",
       "      <td>7.405000</td>\n",
       "    </tr>\n",
       "    <tr>\n",
       "      <td>2019-07-31</td>\n",
       "      <td>7.345000</td>\n",
       "    </tr>\n",
       "    <tr>\n",
       "      <td>2019-09-30</td>\n",
       "      <td>7.336667</td>\n",
       "    </tr>\n",
       "  </tbody>\n",
       "</table>\n",
       "<p>249 rows × 1 columns</p>\n",
       "</div>"
      ],
      "text/plain": [
       "                valor\n",
       "data_coleta          \n",
       "1978-01-31   6.680000\n",
       "1978-03-31   6.680000\n",
       "1978-05-31   6.440000\n",
       "1978-07-31   6.560000\n",
       "1978-09-30   6.110000\n",
       "...               ...\n",
       "2019-01-31   7.056429\n",
       "2019-03-31   7.323333\n",
       "2019-05-31   7.405000\n",
       "2019-07-31   7.345000\n",
       "2019-09-30   7.336667\n",
       "\n",
       "[249 rows x 1 columns]"
      ]
     },
     "execution_count": 16,
     "metadata": {},
     "output_type": "execute_result"
    }
   ],
   "source": [
    "for field in trainingd.columns:\n",
    "    print(field, 'NaN:', trainingd[field].isnull().sum())\n",
    "trainingd"
   ]
  },
  {
   "cell_type": "code",
   "execution_count": 17,
   "metadata": {},
   "outputs": [
    {
     "name": "stdout",
     "output_type": "stream",
     "text": [
      "primeiro_quartil: valor    6.583333\n",
      "Name: 0.25, dtype: float64\n",
      "terceiro_quartil: valor    7.002667\n",
      "Name: 0.75, dtype: float64\n",
      "fig: valor    0.419333\n",
      "dtype: float64\n",
      "Inferior: valor    5.954333\n",
      "dtype: float64\n",
      "Superior: valor    7.631667\n",
      "dtype: float64\n"
     ]
    },
    {
     "name": "stderr",
     "output_type": "stream",
     "text": [
      "C:\\Users\\Anderson\\Anaconda3\\lib\\site-packages\\ipykernel_launcher.py:30: UserWarning: Boolean Series key will be reindexed to match DataFrame index.\n"
     ]
    },
    {
     "data": {
      "text/html": [
       "<div>\n",
       "<style scoped>\n",
       "    .dataframe tbody tr th:only-of-type {\n",
       "        vertical-align: middle;\n",
       "    }\n",
       "\n",
       "    .dataframe tbody tr th {\n",
       "        vertical-align: top;\n",
       "    }\n",
       "\n",
       "    .dataframe thead th {\n",
       "        text-align: right;\n",
       "    }\n",
       "</style>\n",
       "<table border=\"1\" class=\"dataframe\">\n",
       "  <thead>\n",
       "    <tr style=\"text-align: right;\">\n",
       "      <th></th>\n",
       "      <th>valor</th>\n",
       "    </tr>\n",
       "    <tr>\n",
       "      <th>data_coleta</th>\n",
       "      <th></th>\n",
       "    </tr>\n",
       "  </thead>\n",
       "  <tbody>\n",
       "    <tr>\n",
       "      <td>1979-11-30</td>\n",
       "      <td>5.916667</td>\n",
       "    </tr>\n",
       "    <tr>\n",
       "      <td>1985-03-31</td>\n",
       "      <td>5.883333</td>\n",
       "    </tr>\n",
       "  </tbody>\n",
       "</table>\n",
       "</div>"
      ],
      "text/plain": [
       "                valor\n",
       "data_coleta          \n",
       "1979-11-30   5.916667\n",
       "1985-03-31   5.883333"
      ]
     },
     "execution_count": 17,
     "metadata": {},
     "output_type": "execute_result"
    }
   ],
   "source": [
    "#Regra 1.5*FIG --> Calcula-se o limite inferior e superior do diagrama de caixa.\n",
    "\n",
    "#Ordena o dataframe\n",
    "trainingds = trainingd.sort_values('valor',axis=0)\n",
    "\n",
    "trainingds\n",
    "\n",
    "tamanho = len(trainingds)\n",
    "#Calcula o 1Q, ou seja, os primeiros 25% do diagrama de caixa.\n",
    "primeiro_quartil = trainingds.quantile(q=0.25, axis=0, numeric_only=True, interpolation='linear')\n",
    "#Calcula o 3Q, ou seja, 75% do diagrama de caixa.\n",
    "terceiro_quartil = trainingds.quantile(q=0.75, axis=0, numeric_only=True, interpolation='linear')\n",
    "\n",
    "print('primeiro_quartil:',primeiro_quartil)\n",
    "print('terceiro_quartil:',terceiro_quartil)\n",
    "\n",
    "#Calcula-se o interquartil(FIQ).\n",
    "fig = terceiro_quartil - primeiro_quartil\n",
    "print('fig:',fig)\n",
    "\n",
    "#Calcula o limite inferior.\n",
    "inferior = primeiro_quartil - (1.5*fig)\n",
    "#Calcula o limite superior.\n",
    "superior = terceiro_quartil + (1.5*fig)\n",
    "\n",
    "print('Inferior:',inferior)\n",
    "print('Superior:',superior)\n",
    "\n",
    "#Seleciona os valores abaixo  do limite inferior, ou seja, os outlier.\n",
    "outlier = trainingd[(trainingds.valor < inferior.valor)]\n",
    "\n",
    "outlier"
   ]
  },
  {
   "cell_type": "code",
   "execution_count": 18,
   "metadata": {},
   "outputs": [
    {
     "data": {
      "text/html": [
       "<div>\n",
       "<style scoped>\n",
       "    .dataframe tbody tr th:only-of-type {\n",
       "        vertical-align: middle;\n",
       "    }\n",
       "\n",
       "    .dataframe tbody tr th {\n",
       "        vertical-align: top;\n",
       "    }\n",
       "\n",
       "    .dataframe thead th {\n",
       "        text-align: right;\n",
       "    }\n",
       "</style>\n",
       "<table border=\"1\" class=\"dataframe\">\n",
       "  <thead>\n",
       "    <tr style=\"text-align: right;\">\n",
       "      <th></th>\n",
       "      <th>valor</th>\n",
       "    </tr>\n",
       "    <tr>\n",
       "      <th>data_coleta</th>\n",
       "      <th></th>\n",
       "    </tr>\n",
       "  </thead>\n",
       "  <tbody>\n",
       "    <tr>\n",
       "      <td>1978-01-31</td>\n",
       "      <td>6.680000</td>\n",
       "    </tr>\n",
       "    <tr>\n",
       "      <td>1978-03-31</td>\n",
       "      <td>6.680000</td>\n",
       "    </tr>\n",
       "    <tr>\n",
       "      <td>1978-05-31</td>\n",
       "      <td>6.440000</td>\n",
       "    </tr>\n",
       "    <tr>\n",
       "      <td>1978-07-31</td>\n",
       "      <td>6.560000</td>\n",
       "    </tr>\n",
       "    <tr>\n",
       "      <td>1978-09-30</td>\n",
       "      <td>6.110000</td>\n",
       "    </tr>\n",
       "    <tr>\n",
       "      <td>...</td>\n",
       "      <td>...</td>\n",
       "    </tr>\n",
       "    <tr>\n",
       "      <td>2019-01-31</td>\n",
       "      <td>7.056429</td>\n",
       "    </tr>\n",
       "    <tr>\n",
       "      <td>2019-03-31</td>\n",
       "      <td>7.323333</td>\n",
       "    </tr>\n",
       "    <tr>\n",
       "      <td>2019-05-31</td>\n",
       "      <td>7.405000</td>\n",
       "    </tr>\n",
       "    <tr>\n",
       "      <td>2019-07-31</td>\n",
       "      <td>7.345000</td>\n",
       "    </tr>\n",
       "    <tr>\n",
       "      <td>2019-09-30</td>\n",
       "      <td>7.336667</td>\n",
       "    </tr>\n",
       "  </tbody>\n",
       "</table>\n",
       "<p>249 rows × 1 columns</p>\n",
       "</div>"
      ],
      "text/plain": [
       "                valor\n",
       "data_coleta          \n",
       "1978-01-31   6.680000\n",
       "1978-03-31   6.680000\n",
       "1978-05-31   6.440000\n",
       "1978-07-31   6.560000\n",
       "1978-09-30   6.110000\n",
       "...               ...\n",
       "2019-01-31   7.056429\n",
       "2019-03-31   7.323333\n",
       "2019-05-31   7.405000\n",
       "2019-07-31   7.345000\n",
       "2019-09-30   7.336667\n",
       "\n",
       "[249 rows x 1 columns]"
      ]
     },
     "execution_count": 18,
     "metadata": {},
     "output_type": "execute_result"
    }
   ],
   "source": [
    "trainingd"
   ]
  },
  {
   "cell_type": "code",
   "execution_count": 19,
   "metadata": {},
   "outputs": [],
   "source": [
    "#Remove a última linha do dataframe\n",
    "trainingd = trainingd.drop(trainingd[trainingd.index == '2019-09-30'].index)"
   ]
  },
  {
   "cell_type": "code",
   "execution_count": 20,
   "metadata": {},
   "outputs": [
    {
     "data": {
      "text/html": [
       "<div>\n",
       "<style scoped>\n",
       "    .dataframe tbody tr th:only-of-type {\n",
       "        vertical-align: middle;\n",
       "    }\n",
       "\n",
       "    .dataframe tbody tr th {\n",
       "        vertical-align: top;\n",
       "    }\n",
       "\n",
       "    .dataframe thead th {\n",
       "        text-align: right;\n",
       "    }\n",
       "</style>\n",
       "<table border=\"1\" class=\"dataframe\">\n",
       "  <thead>\n",
       "    <tr style=\"text-align: right;\">\n",
       "      <th></th>\n",
       "      <th>valor</th>\n",
       "    </tr>\n",
       "  </thead>\n",
       "  <tbody>\n",
       "    <tr>\n",
       "      <td>count</td>\n",
       "      <td>248.000000</td>\n",
       "    </tr>\n",
       "    <tr>\n",
       "      <td>mean</td>\n",
       "      <td>6.793328</td>\n",
       "    </tr>\n",
       "    <tr>\n",
       "      <td>std</td>\n",
       "      <td>0.294764</td>\n",
       "    </tr>\n",
       "    <tr>\n",
       "      <td>min</td>\n",
       "      <td>5.883333</td>\n",
       "    </tr>\n",
       "    <tr>\n",
       "      <td>25%</td>\n",
       "      <td>6.581944</td>\n",
       "    </tr>\n",
       "    <tr>\n",
       "      <td>50%</td>\n",
       "      <td>6.838095</td>\n",
       "    </tr>\n",
       "    <tr>\n",
       "      <td>75%</td>\n",
       "      <td>7.001821</td>\n",
       "    </tr>\n",
       "    <tr>\n",
       "      <td>max</td>\n",
       "      <td>7.405000</td>\n",
       "    </tr>\n",
       "  </tbody>\n",
       "</table>\n",
       "</div>"
      ],
      "text/plain": [
       "            valor\n",
       "count  248.000000\n",
       "mean     6.793328\n",
       "std      0.294764\n",
       "min      5.883333\n",
       "25%      6.581944\n",
       "50%      6.838095\n",
       "75%      7.001821\n",
       "max      7.405000"
      ]
     },
     "execution_count": 20,
     "metadata": {},
     "output_type": "execute_result"
    }
   ],
   "source": [
    "trainingd.describe()"
   ]
  },
  {
   "cell_type": "code",
   "execution_count": 21,
   "metadata": {},
   "outputs": [
    {
     "data": {
      "text/html": [
       "<div>\n",
       "<style scoped>\n",
       "    .dataframe tbody tr th:only-of-type {\n",
       "        vertical-align: middle;\n",
       "    }\n",
       "\n",
       "    .dataframe tbody tr th {\n",
       "        vertical-align: top;\n",
       "    }\n",
       "\n",
       "    .dataframe thead th {\n",
       "        text-align: right;\n",
       "    }\n",
       "</style>\n",
       "<table border=\"1\" class=\"dataframe\">\n",
       "  <thead>\n",
       "    <tr style=\"text-align: right;\">\n",
       "      <th></th>\n",
       "      <th>valor</th>\n",
       "    </tr>\n",
       "    <tr>\n",
       "      <th>data_coleta</th>\n",
       "      <th></th>\n",
       "    </tr>\n",
       "  </thead>\n",
       "  <tbody>\n",
       "  </tbody>\n",
       "</table>\n",
       "</div>"
      ],
      "text/plain": [
       "Empty DataFrame\n",
       "Columns: [valor]\n",
       "Index: []"
      ]
     },
     "execution_count": 21,
     "metadata": {},
     "output_type": "execute_result"
    }
   ],
   "source": [
    "#Substituição do outlier pelo valor médio da serie dos dados.\n",
    "trainingd.loc[trainingds.valor < inferior.valor] = 6.79\n",
    "\n",
    "ugrhi06 = trainingd\n",
    "\n",
    "outlier = trainingd[(trainingd.valor < inferior.valor)]\n",
    "\n",
    "outlier"
   ]
  },
  {
   "cell_type": "code",
   "execution_count": 22,
   "metadata": {},
   "outputs": [],
   "source": [
    "#Dados completo.\n",
    "#data = trainingd.iloc[:,:].values\n",
    "#treino (70%)\n",
    "train10 = ugrhi10.iloc[0:174,:].values  \n",
    "train06 = ugrhi06.iloc[0:174,:].values\n",
    "#teste (30%)\n",
    "test10 = ugrhi10.iloc[174:,:].values \n",
    "test06 = ugrhi06.iloc[174:,:].values"
   ]
  },
  {
   "cell_type": "code",
   "execution_count": 23,
   "metadata": {},
   "outputs": [],
   "source": [
    "#Normalização dos dados: Normaliza os dados dentro um intervalo (0 a 1).\n",
    "sc = MinMaxScaler()\n",
    "train10 = sc.fit_transform(train10)\n",
    "#train06 = sc.fit_transform(train06)\n",
    "test10 = sc.fit_transform(test10)\n",
    "test06 = sc.fit_transform(test06)"
   ]
  },
  {
   "cell_type": "code",
   "execution_count": 24,
   "metadata": {},
   "outputs": [],
   "source": [
    "#X = ugrhi10\n",
    "#y = ugrhi06\n",
    "\n",
    "#assert X.shape == (len(X),1)\n",
    "#assert y.shape == (len(y),1)"
   ]
  },
  {
   "cell_type": "code",
   "execution_count": 25,
   "metadata": {},
   "outputs": [],
   "source": [
    "def prepara_dados(dados,lags):\n",
    "    X = []\n",
    "    y = []\n",
    "    for i in range(lags, len(dados)):\n",
    "        X.append(dados[i-lags:i, 0])\n",
    "        y.append(dados[i, 0])\n",
    "    return np.array(X), np.array(y)"
   ]
  },
  {
   "cell_type": "code",
   "execution_count": 26,
   "metadata": {},
   "outputs": [],
   "source": [
    "lags = 43 # Equivalente à 25% dos dados de treino.\n",
    "#Prepara os dados de treinamento\n",
    "X_train10, y_train10 = prepara_dados(train10, lags)\n",
    "    \n",
    "#Prepara os dados de teste\n",
    "entradas10 = ugrhi10[len(ugrhi10) - len(test10) - lags:].values\n",
    "entradas10 = entradas10.reshape(-1, 1)\n",
    "entradas10 = sc.fit_transform(entradas10)\n",
    "\n",
    "X_test10 = []\n",
    "for i in range(lags, lags+len(test10)):\n",
    "    X_test10.append(entradas10[i-lags:i, 0])\n",
    "X_test10 = np.array(X_test10)\n",
    "\n",
    "#Prepara os dados de teste06\n",
    "entradas06 = ugrhi06[len(ugrhi06) - len(test06) - lags:].values\n",
    "entradas06 = entradas06.reshape(-1, 1)\n",
    "entradas06 = sc.fit_transform(entradas06)\n",
    "\n",
    "X_test06 = []\n",
    "for i in range(lags, lags+len(test06)):\n",
    "    X_test06.append(entradas06[i-lags:i, 0])\n",
    "X_test06 = np.array(X_test06)"
   ]
  },
  {
   "cell_type": "code",
   "execution_count": 27,
   "metadata": {},
   "outputs": [],
   "source": [
    "#from sklearn.model_selection import train_test_split\n",
    "#X_train,X_test,y_train,y_test = train_test_split(X,y,test_size = 0.3)\n",
    "\n",
    "#y_train"
   ]
  },
  {
   "cell_type": "code",
   "execution_count": 28,
   "metadata": {},
   "outputs": [
    {
     "name": "stderr",
     "output_type": "stream",
     "text": [
      "C:\\Users\\Anderson\\Anaconda3\\lib\\site-packages\\sklearn\\ensemble\\forest.py:245: FutureWarning: The default value of n_estimators will change from 10 in version 0.20 to 100 in 0.22.\n",
      "  \"10 in version 0.20 to 100 in 0.22.\", FutureWarning)\n"
     ]
    }
   ],
   "source": [
    "regression = RandomForestRegressor()\n",
    "regression.fit(X_train10,y_train10)\n",
    "\n",
    "y_pred10 = regression.predict(X_test06)\n",
    "y_pred10 = y_pred10.reshape(-1, 1)\n",
    "y_pred10 = sc.inverse_transform(y_pred10)\n",
    "\n",
    "#X_test = sc.inverse_transform(X_test)\n",
    "#y_test = sc.inverse_transform(y_test)"
   ]
  },
  {
   "cell_type": "code",
   "execution_count": 29,
   "metadata": {},
   "outputs": [],
   "source": [
    "y_pred10t = regression.predict(X_train10)\n",
    "y_pred10t = y_pred10t.reshape(-1, 1)\n",
    "y_pred10t = sc.inverse_transform(y_pred10t)"
   ]
  },
  {
   "cell_type": "code",
   "execution_count": 30,
   "metadata": {},
   "outputs": [],
   "source": [
    "y_train10 = y_train10.reshape(-1, 1)\n",
    "treino = sc.inverse_transform(y_train10)"
   ]
  },
  {
   "cell_type": "code",
   "execution_count": 31,
   "metadata": {},
   "outputs": [
    {
     "data": {
      "image/png": "[encoded data removed]",
      "text/plain": [
       "<Figure size 720x432 with 1 Axes>"
      ]
     },
     "metadata": {
      "needs_background": "light"
     },
     "output_type": "display_data"
    }
   ],
   "source": [
    "test06 = sc.inverse_transform(test06)\n",
    "#Plotagem do gráfico\n",
    "plt.plot(y_pred10, color = 'green', label = 'Observado UGRHI06')\n",
    "plt.plot(test06, color = '#ff0066', label = 'Previsão UGRHI10')\n",
    "plt.title('Predição do pH com lag = 25%')\n",
    "plt.xlabel('Bimestre')\n",
    "plt.ylabel('Valor pH')\n",
    "plt.legend()\n",
    "plt.grid()\n",
    "plt.show()"
   ]
  },
  {
   "cell_type": "code",
   "execution_count": 32,
   "metadata": {},
   "outputs": [],
   "source": [
    "def mape(y_pred,y_true):\n",
    "    mape_sum = 0\n",
    "    for real,prediction in zip(y_true,y_pred):\n",
    "        mape_sum += (abs((real - prediction))/real)\n",
    "        mape = mape_sum/len(real)\n",
    "    return mape\n",
    "\n",
    "def rmse(y_pred,y_true):\n",
    "    mse = mean_squared_error(y_true, y_pred)\n",
    "    rmse = math.sqrt(mse)\n",
    "    return rmse\n",
    "\n",
    "def r2(y_pred,y_true):\n",
    "    rscore = r2_score(y_true,y_pred)\n",
    "    return rscore\n"
   ]
  },
  {
   "cell_type": "code",
   "execution_count": 33,
   "metadata": {},
   "outputs": [
    {
     "name": "stdout",
     "output_type": "stream",
     "text": [
      "Resultados com lag 43\n",
      "\n",
      "\n",
      "MAPE TREINO: 0.77 %\n",
      "RMSE TREINO: 0.06\n",
      "R TREINO: 0.88\n",
      "\n",
      "\n",
      "MAPE TESTE: 1.15 %\n",
      "RMSE TESTE: 0.14\n",
      "R TESTE: 0.24\n",
      "\n",
      "\n"
     ]
    }
   ],
   "source": [
    "print('Resultados com lag', lags)\n",
    "print('\\n')\n",
    "print('MAPE TREINO:',round(mape(y_pred10t,treino)[0],2),'%')\n",
    "print('RMSE TREINO:',round(rmse(y_pred10t,treino),2))\n",
    "print('R TREINO:',round(r2(y_pred10t,treino),2))\n",
    "print('\\n')\n",
    "print('MAPE TESTE:',round(mape(y_pred10,test06)[0],2),'%')\n",
    "print('RMSE TESTE:',round(rmse(y_pred10,test06),2))\n",
    "print('R TESTE:',round(r2(y_pred10,test06),2))\n",
    "print('\\n')\n",
    "\n"
   ]
  },
  {
   "cell_type": "code",
   "execution_count": 34,
   "metadata": {},
   "outputs": [
    {
     "data": {
      "image/png": "[encoded data removed]",
      "text/plain": [
       "<Figure size 720x432 with 1 Axes>"
      ]
     },
     "metadata": {
      "needs_background": "light"
     },
     "output_type": "display_data"
    },
    {
     "data": {
      "image/png": "[encoded data removed]",
      "text/plain": [
       "<Figure size 720x432 with 1 Axes>"
      ]
     },
     "metadata": {
      "needs_background": "light"
     },
     "output_type": "display_data"
    }
   ],
   "source": [
    "#train_y = train_y.reshape(-1, 1)\n",
    "#observado_treino = sc.inverse_transform(train_y)\n",
    "\n",
    "#Plotagem do gráfico\n",
    "#plt.plot(data, color = '#006699',alpha=0.5, label = 'Observado')\n",
    "plt.plot(treino, color = '#006699', alpha=0.5, label = 'Observado UGRHI10')\n",
    "plt.plot(y_pred10t, color = 'red',linestyle = '--', label = 'Previsão UGRHI10')\n",
    "#plt.title('Predição do pH com lag = 10%')\n",
    "plt.xlabel('Tempo (Bimestre)')\n",
    "plt.ylabel('Valor pH')\n",
    "plt.legend()\n",
    "#plt.grid()\n",
    "plt.show()\n",
    "\n",
    "observado_test = test06\n",
    "\n",
    "#Plotagem do gráfico\n",
    "#plt.plot(data, color = '#006699',alpha=0.5, label = 'Observado')\n",
    "plt.plot(observado_test, color = '#006699', alpha=0.5, label = 'Observado UGRHI06')\n",
    "plt.plot(y_pred10, color = 'red',linestyle = '--', label = 'Previsão UGRHI06')\n",
    "#plt.title('Predição do pH com lag = 10%')\n",
    "plt.xlabel('Tempo (Bimestre)')\n",
    "plt.ylabel('Valor pH')\n",
    "plt.legend()\n",
    "#plt.grid()\n",
    "plt.show()"
   ]
  },
  {
   "cell_type": "code",
   "execution_count": null,
   "metadata": {},
   "outputs": [],
   "source": []
  }
 ],
 "metadata": {
  "kernelspec": {
   "display_name": "Python 3",
   "language": "python",
   "name": "python3"
  },
  "language_info": {
   "codemirror_mode": {
    "name": "ipython",
    "version": 3
   },
   "file_extension": ".py",
   "mimetype": "text/x-python",
   "name": "python",
   "nbconvert_exporter": "python",
   "pygments_lexer": "ipython3",
   "version": "3.7.4"
  }
 },
 "nbformat": 4,
 "nbformat_minor": 2
}
