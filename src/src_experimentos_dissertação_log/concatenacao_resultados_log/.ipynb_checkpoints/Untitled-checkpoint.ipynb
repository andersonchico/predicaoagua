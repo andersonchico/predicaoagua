{
 "cells": [
  {
   "cell_type": "code",
   "execution_count": null,
   "metadata": {},
   "outputs": [],
   "source": [
    "import pandas as pd\n",
    "temporal_rf_univariado = pd.read_csv('temporal_rf_univariada.csv',encoding='utf-8',sep=',',index_col=[0])\n",
    "temporal_rf_todas_var  = pd.read_csv('temporal_rf_todas_var.csv',encoding='utf-8',sep=',',index_col=[0])\n",
    "temporal_rf_var_selec  = pd.read_csv('temporal_rf_var_selecionadas.csv',encoding='utf-8',sep=',',index_col=[0])\n",
    "\n",
    "temporal_rl_univariado = pd.read_csv('temporal_rl_univariada.csv',encoding='utf-8',sep=',',index_col=[0])\n",
    "temporal_rl_todas_var  = pd.read_csv('temporal_rl_todas_var.csv',encoding='utf-8',sep=',',index_col=[0])\n",
    "temporal_rl_var_selec  = pd.read_csv('temporal_rl_var_selecionadas.csv',encoding='utf-8',sep=',',index_col=[0])\n",
    "\n",
    "temporal_mlp_univar      = pd.read_csv('temporal_mlp_univariada.csv',encoding='utf-8',sep=',',index_col=[0])\n",
    "temporal_mlp_var_selec   = pd.read_csv('temporal_mlp_var_selecionadas.csv',encoding='utf-8',sep=',',index_col=[0])\n",
    "temporal_mlp_todas_var   = pd.read_csv('temporal_mlp_todas_var.csv',encoding='utf-8',sep=',',index_col=[0])\n",
    "\n",
    "temporal_lstm_univar     = pd.read_csv('temporal_lstm_univariada.csv',encoding='utf-8',sep=',')\n",
    "temporal_lstm_var_selec  = pd.read_csv('temporal_lstm_var_selecionadas.csv',encoding='utf-8',sep=',')\n",
    "temporal_lstm_todas_var  = pd.read_csv('temporal_lstm_todas_var.csv',encoding='utf-8',sep=',')\n",
    "\n",
    "resultados = pd.concat([temporal_rf_univariado, temporal_rf_todas_var,  temporal_rf_var_selec,\n",
    "                       temporal_rl_univariado,  temporal_rl_todas_var,  temporal_rl_var_selec,\n",
    "                       temporal_mlp_univar,     temporal_mlp_var_selec, temporal_mlp_todas_var,\n",
    "                       temporal_lstm_univar,    temporal_lstm_var_selec,temporal_lstm_todas_var])"
   ]
  }
 ],
 "metadata": {
  "kernelspec": {
   "display_name": "Python 3",
   "language": "python",
   "name": "python3"
  },
  "language_info": {
   "codemirror_mode": {
    "name": "ipython",
    "version": 3
   },
   "file_extension": ".py",
   "mimetype": "text/x-python",
   "name": "python",
   "nbconvert_exporter": "python",
   "pygments_lexer": "ipython3",
   "version": "3.8.5"
  }
 },
 "nbformat": 4,
 "nbformat_minor": 4
}
