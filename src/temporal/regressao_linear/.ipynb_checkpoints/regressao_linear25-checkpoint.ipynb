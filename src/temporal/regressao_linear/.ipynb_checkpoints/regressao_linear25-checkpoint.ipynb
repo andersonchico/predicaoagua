{
 "cells": [
  {
   "cell_type": "code",
   "execution_count": 3,
   "metadata": {},
   "outputs": [],
   "source": [
    "import pandas as pd\n",
    "import numpy as np\n",
    "import matplotlib.pyplot as plt\n",
    "from sklearn.preprocessing import MinMaxScaler\n",
    "import math\n",
    "from sklearn.linear_model import LinearRegression\n",
    "from sklearn.metrics import mean_absolute_error\n",
    "from sklearn.metrics import mean_squared_error\n",
    "from sklearn.metrics import r2_score\n",
    "\n",
    "plt.rcParams['xtick.labelsize'] = 24\n",
    "plt.rcParams['ytick.labelsize'] = 24\n",
    "plt.rcParams.update({'font.size':20})\n",
    "plt.rcParams[\"figure.figsize\"] = (10,6)"
   ]
  },
  {
   "cell_type": "code",
   "execution_count": 4,
   "metadata": {},
   "outputs": [],
   "source": [
    "str_files = ''\n",
    "#Carrega os dados do arquivo .csv\n",
    "#df = pd.read_csv(str_files + \"ph.csv\",encoding='utf-8',sep=';')\n",
    "dateparse = lambda dates:pd.datetime.strptime(dates,'%d/%m/%Y')\n",
    "df = pd.read_csv(str_files + 'ph.CSV',encoding='utf-8',sep=';', parse_dates = ['data_coleta'],index_col=['data_coleta'],date_parser=dateparse)"
   ]
  },
  {
   "cell_type": "code",
   "execution_count": 5,
   "metadata": {},
   "outputs": [],
   "source": [
    "#Seleciona os dados da UGRHI 10 - SOROCABA/MEDIO TIETE\n",
    "z = df.loc[df['UGRHI'] == '10 - SOROCABA/MEDIO TIETE']"
   ]
  },
  {
   "cell_type": "code",
   "execution_count": 6,
   "metadata": {},
   "outputs": [],
   "source": [
    "#Agrupa os dados pela media bimestral\n",
    "trainingd = z.resample('2M').mean()"
   ]
  },
  {
   "cell_type": "code",
   "execution_count": 7,
   "metadata": {},
   "outputs": [
    {
     "data": {
      "text/html": [
       "<div>\n",
       "<style scoped>\n",
       "    .dataframe tbody tr th:only-of-type {\n",
       "        vertical-align: middle;\n",
       "    }\n",
       "\n",
       "    .dataframe tbody tr th {\n",
       "        vertical-align: top;\n",
       "    }\n",
       "\n",
       "    .dataframe thead th {\n",
       "        text-align: right;\n",
       "    }\n",
       "</style>\n",
       "<table border=\"1\" class=\"dataframe\">\n",
       "  <thead>\n",
       "    <tr style=\"text-align: right;\">\n",
       "      <th></th>\n",
       "      <th>valor</th>\n",
       "    </tr>\n",
       "    <tr>\n",
       "      <th>data_coleta</th>\n",
       "      <th></th>\n",
       "    </tr>\n",
       "  </thead>\n",
       "  <tbody>\n",
       "    <tr>\n",
       "      <td>1978-01-31</td>\n",
       "      <td>7.100</td>\n",
       "    </tr>\n",
       "    <tr>\n",
       "      <td>1978-03-31</td>\n",
       "      <td>6.625</td>\n",
       "    </tr>\n",
       "    <tr>\n",
       "      <td>1978-05-31</td>\n",
       "      <td>6.650</td>\n",
       "    </tr>\n",
       "    <tr>\n",
       "      <td>1978-07-31</td>\n",
       "      <td>6.625</td>\n",
       "    </tr>\n",
       "    <tr>\n",
       "      <td>1978-09-30</td>\n",
       "      <td>6.575</td>\n",
       "    </tr>\n",
       "    <tr>\n",
       "      <td>...</td>\n",
       "      <td>...</td>\n",
       "    </tr>\n",
       "    <tr>\n",
       "      <td>2018-07-31</td>\n",
       "      <td>7.266</td>\n",
       "    </tr>\n",
       "    <tr>\n",
       "      <td>2018-09-30</td>\n",
       "      <td>7.250</td>\n",
       "    </tr>\n",
       "    <tr>\n",
       "      <td>2018-11-30</td>\n",
       "      <td>7.244</td>\n",
       "    </tr>\n",
       "    <tr>\n",
       "      <td>2019-01-31</td>\n",
       "      <td>7.136</td>\n",
       "    </tr>\n",
       "    <tr>\n",
       "      <td>2019-03-31</td>\n",
       "      <td>7.650</td>\n",
       "    </tr>\n",
       "  </tbody>\n",
       "</table>\n",
       "<p>248 rows × 1 columns</p>\n",
       "</div>"
      ],
      "text/plain": [
       "             valor\n",
       "data_coleta       \n",
       "1978-01-31   7.100\n",
       "1978-03-31   6.625\n",
       "1978-05-31   6.650\n",
       "1978-07-31   6.625\n",
       "1978-09-30   6.575\n",
       "...            ...\n",
       "2018-07-31   7.266\n",
       "2018-09-30   7.250\n",
       "2018-11-30   7.244\n",
       "2019-01-31   7.136\n",
       "2019-03-31   7.650\n",
       "\n",
       "[248 rows x 1 columns]"
      ]
     },
     "execution_count": 7,
     "metadata": {},
     "output_type": "execute_result"
    }
   ],
   "source": [
    "trainingd\n",
    "#Remove as colunas que não serão utilizadas no experimento.\n",
    "trainingd = trainingd.drop(['cod_interaguas', 'sinal','Altitude'], axis=1)\n",
    "trainingd\n"
   ]
  },
  {
   "cell_type": "code",
   "execution_count": 8,
   "metadata": {},
   "outputs": [
    {
     "name": "stdout",
     "output_type": "stream",
     "text": [
      "primeiro_quartil: valor    6.9\n",
      "Name: 0.25, dtype: float64\n",
      "terceiro_quartil: valor    7.2685\n",
      "Name: 0.75, dtype: float64\n",
      "fig: valor    0.3685\n",
      "dtype: float64\n",
      "Inferior: valor    6.34725\n",
      "dtype: float64\n",
      "Superior: valor    7.82125\n",
      "dtype: float64\n"
     ]
    },
    {
     "name": "stderr",
     "output_type": "stream",
     "text": [
      "C:\\Users\\Anderson\\Anaconda3\\lib\\site-packages\\ipykernel_launcher.py:30: UserWarning: Boolean Series key will be reindexed to match DataFrame index.\n"
     ]
    },
    {
     "data": {
      "text/html": [
       "<div>\n",
       "<style scoped>\n",
       "    .dataframe tbody tr th:only-of-type {\n",
       "        vertical-align: middle;\n",
       "    }\n",
       "\n",
       "    .dataframe tbody tr th {\n",
       "        vertical-align: top;\n",
       "    }\n",
       "\n",
       "    .dataframe thead th {\n",
       "        text-align: right;\n",
       "    }\n",
       "</style>\n",
       "<table border=\"1\" class=\"dataframe\">\n",
       "  <thead>\n",
       "    <tr style=\"text-align: right;\">\n",
       "      <th></th>\n",
       "      <th>valor</th>\n",
       "    </tr>\n",
       "    <tr>\n",
       "      <th>data_coleta</th>\n",
       "      <th></th>\n",
       "    </tr>\n",
       "  </thead>\n",
       "  <tbody>\n",
       "    <tr>\n",
       "      <td>1987-01-31</td>\n",
       "      <td>6.2</td>\n",
       "    </tr>\n",
       "  </tbody>\n",
       "</table>\n",
       "</div>"
      ],
      "text/plain": [
       "             valor\n",
       "data_coleta       \n",
       "1987-01-31     6.2"
      ]
     },
     "execution_count": 8,
     "metadata": {},
     "output_type": "execute_result"
    }
   ],
   "source": [
    "#Regra 1.5*FIG --> Calcula-se o limite inferior e superior do diagrama de caixa.\n",
    "\n",
    "#Ordena o dataframe\n",
    "trainingds = trainingd.sort_values('valor',axis=0)\n",
    "\n",
    "trainingds\n",
    "\n",
    "tamanho = len(trainingds)\n",
    "#Calcula o 1Q, ou seja, os primeiros 25% do diagrama de caixa.\n",
    "primeiro_quartil = trainingds.quantile(q=0.25, axis=0, numeric_only=True, interpolation='linear')\n",
    "#Calcula o 3Q, ou seja, 75% do diagrama de caixa.\n",
    "terceiro_quartil = trainingds.quantile(q=0.75, axis=0, numeric_only=True, interpolation='linear')\n",
    "\n",
    "print('primeiro_quartil:',primeiro_quartil)\n",
    "print('terceiro_quartil:',terceiro_quartil)\n",
    "\n",
    "#Calcula-se o interquartil(FIQ).\n",
    "fig = terceiro_quartil - primeiro_quartil\n",
    "print('fig:',fig)\n",
    "\n",
    "#Calcula o limite inferior.\n",
    "inferior = primeiro_quartil - (1.5*fig)\n",
    "#Calcula o limite superior.\n",
    "superior = terceiro_quartil + (1.5*fig)\n",
    "\n",
    "print('Inferior:',inferior)\n",
    "print('Superior:',superior)\n",
    "\n",
    "#Seleciona os valores abaixo  do limite inferior, ou seja, os outlier.\n",
    "outlier = trainingd[(trainingds.valor < 6.34725)]\n",
    "\n",
    "outlier\n"
   ]
  },
  {
   "cell_type": "code",
   "execution_count": 9,
   "metadata": {},
   "outputs": [
    {
     "data": {
      "text/html": [
       "<div>\n",
       "<style scoped>\n",
       "    .dataframe tbody tr th:only-of-type {\n",
       "        vertical-align: middle;\n",
       "    }\n",
       "\n",
       "    .dataframe tbody tr th {\n",
       "        vertical-align: top;\n",
       "    }\n",
       "\n",
       "    .dataframe thead th {\n",
       "        text-align: right;\n",
       "    }\n",
       "</style>\n",
       "<table border=\"1\" class=\"dataframe\">\n",
       "  <thead>\n",
       "    <tr style=\"text-align: right;\">\n",
       "      <th></th>\n",
       "      <th>valor</th>\n",
       "    </tr>\n",
       "    <tr>\n",
       "      <th>data_coleta</th>\n",
       "      <th></th>\n",
       "    </tr>\n",
       "  </thead>\n",
       "  <tbody>\n",
       "  </tbody>\n",
       "</table>\n",
       "</div>"
      ],
      "text/plain": [
       "Empty DataFrame\n",
       "Columns: [valor]\n",
       "Index: []"
      ]
     },
     "execution_count": 9,
     "metadata": {},
     "output_type": "execute_result"
    }
   ],
   "source": [
    "#Substituição do outlier pelo valor médio da serie dos dados.\n",
    "trainingd.loc[trainingd['valor'] == 6.20] = 7.08\n",
    "\n",
    "outlier = trainingd[(trainingd.valor < 6.34725)]\n",
    "\n",
    "outlier"
   ]
  },
  {
   "cell_type": "code",
   "execution_count": 10,
   "metadata": {},
   "outputs": [
    {
     "data": {
      "text/html": [
       "<div>\n",
       "<style scoped>\n",
       "    .dataframe tbody tr th:only-of-type {\n",
       "        vertical-align: middle;\n",
       "    }\n",
       "\n",
       "    .dataframe tbody tr th {\n",
       "        vertical-align: top;\n",
       "    }\n",
       "\n",
       "    .dataframe thead th {\n",
       "        text-align: right;\n",
       "    }\n",
       "</style>\n",
       "<table border=\"1\" class=\"dataframe\">\n",
       "  <thead>\n",
       "    <tr style=\"text-align: right;\">\n",
       "      <th></th>\n",
       "      <th>valor</th>\n",
       "    </tr>\n",
       "    <tr>\n",
       "      <th>data_coleta</th>\n",
       "      <th></th>\n",
       "    </tr>\n",
       "  </thead>\n",
       "  <tbody>\n",
       "    <tr>\n",
       "      <td>1978-01-31</td>\n",
       "      <td>7.100</td>\n",
       "    </tr>\n",
       "    <tr>\n",
       "      <td>1978-03-31</td>\n",
       "      <td>6.625</td>\n",
       "    </tr>\n",
       "    <tr>\n",
       "      <td>1978-05-31</td>\n",
       "      <td>6.650</td>\n",
       "    </tr>\n",
       "    <tr>\n",
       "      <td>1978-07-31</td>\n",
       "      <td>6.625</td>\n",
       "    </tr>\n",
       "    <tr>\n",
       "      <td>1978-09-30</td>\n",
       "      <td>6.575</td>\n",
       "    </tr>\n",
       "    <tr>\n",
       "      <td>...</td>\n",
       "      <td>...</td>\n",
       "    </tr>\n",
       "    <tr>\n",
       "      <td>2018-07-31</td>\n",
       "      <td>7.266</td>\n",
       "    </tr>\n",
       "    <tr>\n",
       "      <td>2018-09-30</td>\n",
       "      <td>7.250</td>\n",
       "    </tr>\n",
       "    <tr>\n",
       "      <td>2018-11-30</td>\n",
       "      <td>7.244</td>\n",
       "    </tr>\n",
       "    <tr>\n",
       "      <td>2019-01-31</td>\n",
       "      <td>7.136</td>\n",
       "    </tr>\n",
       "    <tr>\n",
       "      <td>2019-03-31</td>\n",
       "      <td>7.650</td>\n",
       "    </tr>\n",
       "  </tbody>\n",
       "</table>\n",
       "<p>248 rows × 1 columns</p>\n",
       "</div>"
      ],
      "text/plain": [
       "             valor\n",
       "data_coleta       \n",
       "1978-01-31   7.100\n",
       "1978-03-31   6.625\n",
       "1978-05-31   6.650\n",
       "1978-07-31   6.625\n",
       "1978-09-30   6.575\n",
       "...            ...\n",
       "2018-07-31   7.266\n",
       "2018-09-30   7.250\n",
       "2018-11-30   7.244\n",
       "2019-01-31   7.136\n",
       "2019-03-31   7.650\n",
       "\n",
       "[248 rows x 1 columns]"
      ]
     },
     "execution_count": 10,
     "metadata": {},
     "output_type": "execute_result"
    }
   ],
   "source": [
    "trainingd"
   ]
  },
  {
   "cell_type": "code",
   "execution_count": 11,
   "metadata": {},
   "outputs": [
    {
     "name": "stdout",
     "output_type": "stream",
     "text": [
      "Completo: 248\n",
      "treino: 174\n",
      "teste: 74\n"
     ]
    },
    {
     "data": {
      "text/plain": [
       "(248, 1)"
      ]
     },
     "execution_count": 11,
     "metadata": {},
     "output_type": "execute_result"
    }
   ],
   "source": [
    "#Dados completo.\n",
    "data = trainingd.iloc[:,:].values\n",
    "#treino (70%)\n",
    "train = trainingd.iloc[0:174,:].values  \n",
    "#teste (30%)\n",
    "test = trainingd.iloc[174:,:].values \n",
    "\n",
    "print('Completo:',len(data))\n",
    "print('treino:',len(train))\n",
    "print('teste:',len(test))\n",
    "data.shape"
   ]
  },
  {
   "cell_type": "code",
   "execution_count": 12,
   "metadata": {},
   "outputs": [],
   "source": [
    "#Normalização dos dados: Normaliza os dados dentro um intervalo (-1 a 1).\n",
    "sc = MinMaxScaler()\n",
    "train = sc.fit_transform(train)\n",
    "test = sc.fit_transform(test)\n"
   ]
  },
  {
   "cell_type": "code",
   "execution_count": 13,
   "metadata": {},
   "outputs": [],
   "source": [
    "#Prepara o conjunto de dados em X e y, considerando a janela de visualização (lags).\n",
    "def prepara_dados(dados,lags):\n",
    "    X = []\n",
    "    y = []\n",
    "    for i in range(lags, len(dados)):\n",
    "        X.append(dados[i-lags:i, 0])\n",
    "        y.append(dados[i, 0])\n",
    "    return np.array(X), np.array(y)\n",
    "\n",
    "#Calcula o MAPE\n",
    "#Define função para calcular o MAPE\n",
    "#def mape(y_pred,y_true):\n",
    " #   return np.mean(np.abs((y_true - y_pred) / y_true)) * 100\n",
    "\n",
    "def mape(y_pred,y_true):\n",
    "    mape_sum = 0\n",
    "    for real,prediction in zip(y_true,y_pred):\n",
    "        mape_sum += (abs((real - prediction))/real)\n",
    "        mape = mape_sum/len(real)\n",
    "    return mape\n",
    "\n",
    "def rmse(y_pred,y_true):\n",
    "    mse = mean_squared_error(y_true, y_pred)\n",
    "    rmse = math.sqrt(mse)\n",
    "    return rmse\n",
    "\n",
    "def r2(y_pred,y_true):\n",
    "    rscore = r2_score(y_true,y_pred)\n",
    "    return rscore"
   ]
  },
  {
   "cell_type": "code",
   "execution_count": 14,
   "metadata": {},
   "outputs": [
    {
     "name": "stdout",
     "output_type": "stream",
     "text": [
      "0.47825072222468235\n"
     ]
    },
    {
     "data": {
      "image/png": "[encoded data removed]",
      "text/plain": [
       "<Figure size 720x432 with 1 Axes>"
      ]
     },
     "metadata": {
      "needs_background": "light"
     },
     "output_type": "display_data"
    }
   ],
   "source": [
    "lags = 43 # Equivalente à 25% dos dados de treino.\n",
    "#Prepara os dados de treinamento\n",
    "train_X, train_y = prepara_dados(train, lags)\n",
    "    \n",
    "#Prepara os dados de teste\n",
    "entradas = trainingd[len(trainingd) - len(test) - lags:].values\n",
    "entradas = entradas.reshape(-1, 1)\n",
    "entradas = sc.fit_transform(entradas)\n",
    "\n",
    "test_X = []\n",
    "for i in range(lags, lags+len(test)):\n",
    "    test_X.append(entradas[i-lags:i, 0])\n",
    "test_X = np.array(test_X)\n",
    "    \n",
    "#Cria o modelo\n",
    "model = LinearRegression(normalize=True)\n",
    "\n",
    "#Treina o modelo\n",
    "model.fit(train_X,train_y)\n",
    "score = model.score(train_X,train_y)\n",
    "print(score)\n",
    "\n",
    "\n",
    "#Dados de teste\n",
    "previsoes = model.predict(test_X)\n",
    "previsoes = previsoes.reshape(-1, 1)\n",
    "previsoes = sc.inverse_transform(previsoes)\n",
    "\n",
    "#Dados de treino\n",
    "previsoes_treino = model.predict(train_X)\n",
    "previsoes_treino = previsoes_treino.reshape(-1, 1)\n",
    "previsoes_treino = sc.inverse_transform(previsoes_treino)\n",
    "\n",
    "#Preparação para plotagem\n",
    "train_predict_plot = np.empty_like(data)\n",
    "train_predict_plot[:, :] = np.nan\n",
    "train_predict_plot[lags: len(previsoes_treino) + lags, :] = previsoes_treino\n",
    "train_predict_plot.shape\n",
    "    \n",
    "test_predict_plot = np.empty_like(data)\n",
    "test_predict_plot[:, :] = np.nan\n",
    "test_predict_plot[len(previsoes_treino)+lags:len(data), :] = previsoes\n",
    "\n",
    "#Plotagem do gráfico\n",
    "plt.plot(data, color = '#006699',alpha=0.5, label = 'Observado')\n",
    "plt.plot(train_predict_plot, color = 'green', label = 'Previsão de treino')\n",
    "plt.plot(test_predict_plot, color = '#ff0066', label = 'Previsão de teste')\n",
    "plt.title('Previsão do pH com lag = 25%')\n",
    "plt.xlabel('Bimestre')\n",
    "plt.ylabel('Valor pH')\n",
    "plt.legend()\n",
    "plt.grid()\n",
    "plt.show()\n",
    "    \n",
    "#Calculo do erro da previsão\n",
    "#mape(previsoes.mean(),test.mean())\n",
    "test = sc.inverse_transform(test)\n",
    "treino = sc.inverse_transform(train[lags: len(previsoes_treino) + lags, :])\n",
    "\n",
    "\n"
   ]
  },
  {
   "cell_type": "code",
   "execution_count": 15,
   "metadata": {},
   "outputs": [
    {
     "name": "stdout",
     "output_type": "stream",
     "text": [
      "Resultados com lag 43\n",
      "\n",
      "\n",
      "MAPE TREINO: 1.66 %\n",
      "RMSE TREINO: 0.12\n",
      "R TREINO: 0.48\n",
      "\n",
      "\n",
      "MAPE TESTE: 1.51 %\n",
      "RMSE TESTE: 0.18\n",
      "R TESTE: 0.08\n",
      "\n",
      "\n"
     ]
    }
   ],
   "source": [
    "print('Resultados com lag', lags)\n",
    "print('\\n')\n",
    "print('MAPE TREINO:',round(mape(previsoes_treino,treino)[0],2),'%')\n",
    "print('RMSE TREINO:',round(rmse(previsoes_treino,treino),2))\n",
    "print('R TREINO:',round(r2(previsoes_treino,treino),2))\n",
    "print('\\n')\n",
    "print('MAPE TESTE:',round(mape(previsoes,test)[0],2),'%')\n",
    "print('RMSE TESTE:',round(rmse(previsoes,test),2))\n",
    "print('R TESTE:',round(r2(previsoes,test),2))\n",
    "print('\\n')"
   ]
  },
  {
   "cell_type": "code",
   "execution_count": null,
   "metadata": {},
   "outputs": [],
   "source": []
  },
  {
   "cell_type": "code",
   "execution_count": null,
   "metadata": {},
   "outputs": [],
   "source": []
  },
  {
   "cell_type": "code",
   "execution_count": 238,
   "metadata": {},
   "outputs": [
    {
     "data": {
      "text/plain": [
       "(248, 1)"
      ]
     },
     "execution_count": 238,
     "metadata": {},
     "output_type": "execute_result"
    }
   ],
   "source": []
  },
  {
   "cell_type": "code",
   "execution_count": 251,
   "metadata": {},
   "outputs": [
    {
     "data": {
      "text/plain": [
       "174"
      ]
     },
     "execution_count": 251,
     "metadata": {},
     "output_type": "execute_result"
    }
   ],
   "source": []
  },
  {
   "cell_type": "code",
   "execution_count": null,
   "metadata": {},
   "outputs": [],
   "source": []
  },
  {
   "cell_type": "code",
   "execution_count": null,
   "metadata": {},
   "outputs": [],
   "source": []
  },
  {
   "cell_type": "code",
   "execution_count": null,
   "metadata": {},
   "outputs": [],
   "source": []
  },
  {
   "cell_type": "code",
   "execution_count": null,
   "metadata": {},
   "outputs": [],
   "source": []
  },
  {
   "cell_type": "code",
   "execution_count": null,
   "metadata": {},
   "outputs": [],
   "source": []
  }
 ],
 "metadata": {
  "kernelspec": {
   "display_name": "Python 3",
   "language": "python",
   "name": "python3"
  },
  "language_info": {
   "codemirror_mode": {
    "name": "ipython",
    "version": 3
   },
   "file_extension": ".py",
   "mimetype": "text/x-python",
   "name": "python",
   "nbconvert_exporter": "python",
   "pygments_lexer": "ipython3",
   "version": "3.7.4"
  }
 },
 "nbformat": 4,
 "nbformat_minor": 2
}
