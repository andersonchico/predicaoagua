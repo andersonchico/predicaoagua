{
 "cells": [
  {
   "cell_type": "code",
   "execution_count": 1,
   "metadata": {},
   "outputs": [],
   "source": [
    "import pandas as pd\n",
    "import numpy as np\n",
    "import matplotlib.pyplot as plt\n",
    "from sklearn.preprocessing import MinMaxScaler\n",
    "import math\n",
    "from sklearn.linear_model import LinearRegression\n",
    "from sklearn.metrics import mean_absolute_error\n",
    "from sklearn.metrics import mean_squared_error\n",
    "from sklearn.metrics import r2_score\n",
    "\n",
    "plt.rcParams['xtick.labelsize'] = 24\n",
    "plt.rcParams['ytick.labelsize'] = 24\n",
    "plt.rcParams.update({'font.size':20})\n",
    "plt.rcParams[\"figure.figsize\"] = (10,6)"
   ]
  },
  {
   "cell_type": "code",
   "execution_count": 2,
   "metadata": {},
   "outputs": [],
   "source": [
    "str_files = ''\n",
    "#Carrega os dados do arquivo .csv\n",
    "#df = pd.read_csv(str_files + \"ph.csv\",encoding='utf-8',sep=';')\n",
    "dateparse = lambda dates:pd.datetime.strptime(dates,'%d/%m/%Y')\n",
    "df = pd.read_csv(str_files + 'ph.CSV',encoding='utf-8',sep=';', parse_dates = ['data_coleta'],index_col=['data_coleta'],date_parser=dateparse)"
   ]
  },
  {
   "cell_type": "code",
   "execution_count": 3,
   "metadata": {},
   "outputs": [],
   "source": [
    "#Seleciona os dados da UGRHI 10 - SOROCABA/MEDIO TIETE\n",
    "z = df.loc[df['UGRHI'] == '10 - SOROCABA/MEDIO TIETE']"
   ]
  },
  {
   "cell_type": "code",
   "execution_count": 4,
   "metadata": {},
   "outputs": [],
   "source": [
    "#Agrupa os dados pela media bimestral\n",
    "trainingd = z.resample('2M').mean()"
   ]
  },
  {
   "cell_type": "code",
   "execution_count": 5,
   "metadata": {},
   "outputs": [
    {
     "data": {
      "text/html": [
       "<div>\n",
       "<style scoped>\n",
       "    .dataframe tbody tr th:only-of-type {\n",
       "        vertical-align: middle;\n",
       "    }\n",
       "\n",
       "    .dataframe tbody tr th {\n",
       "        vertical-align: top;\n",
       "    }\n",
       "\n",
       "    .dataframe thead th {\n",
       "        text-align: right;\n",
       "    }\n",
       "</style>\n",
       "<table border=\"1\" class=\"dataframe\">\n",
       "  <thead>\n",
       "    <tr style=\"text-align: right;\">\n",
       "      <th></th>\n",
       "      <th>valor</th>\n",
       "    </tr>\n",
       "    <tr>\n",
       "      <th>data_coleta</th>\n",
       "      <th></th>\n",
       "    </tr>\n",
       "  </thead>\n",
       "  <tbody>\n",
       "    <tr>\n",
       "      <td>1978-01-31</td>\n",
       "      <td>7.100</td>\n",
       "    </tr>\n",
       "    <tr>\n",
       "      <td>1978-03-31</td>\n",
       "      <td>6.625</td>\n",
       "    </tr>\n",
       "    <tr>\n",
       "      <td>1978-05-31</td>\n",
       "      <td>6.650</td>\n",
       "    </tr>\n",
       "    <tr>\n",
       "      <td>1978-07-31</td>\n",
       "      <td>6.625</td>\n",
       "    </tr>\n",
       "    <tr>\n",
       "      <td>1978-09-30</td>\n",
       "      <td>6.575</td>\n",
       "    </tr>\n",
       "    <tr>\n",
       "      <td>...</td>\n",
       "      <td>...</td>\n",
       "    </tr>\n",
       "    <tr>\n",
       "      <td>2018-07-31</td>\n",
       "      <td>7.266</td>\n",
       "    </tr>\n",
       "    <tr>\n",
       "      <td>2018-09-30</td>\n",
       "      <td>7.250</td>\n",
       "    </tr>\n",
       "    <tr>\n",
       "      <td>2018-11-30</td>\n",
       "      <td>7.244</td>\n",
       "    </tr>\n",
       "    <tr>\n",
       "      <td>2019-01-31</td>\n",
       "      <td>7.136</td>\n",
       "    </tr>\n",
       "    <tr>\n",
       "      <td>2019-03-31</td>\n",
       "      <td>7.650</td>\n",
       "    </tr>\n",
       "  </tbody>\n",
       "</table>\n",
       "<p>248 rows × 1 columns</p>\n",
       "</div>"
      ],
      "text/plain": [
       "             valor\n",
       "data_coleta       \n",
       "1978-01-31   7.100\n",
       "1978-03-31   6.625\n",
       "1978-05-31   6.650\n",
       "1978-07-31   6.625\n",
       "1978-09-30   6.575\n",
       "...            ...\n",
       "2018-07-31   7.266\n",
       "2018-09-30   7.250\n",
       "2018-11-30   7.244\n",
       "2019-01-31   7.136\n",
       "2019-03-31   7.650\n",
       "\n",
       "[248 rows x 1 columns]"
      ]
     },
     "execution_count": 5,
     "metadata": {},
     "output_type": "execute_result"
    }
   ],
   "source": [
    "trainingd\n",
    "#Remove as colunas que não serão utilizadas no experimento.\n",
    "trainingd = trainingd.drop(['cod_interaguas', 'sinal','Altitude'], axis=1)\n",
    "trainingd\n"
   ]
  },
  {
   "cell_type": "code",
   "execution_count": 6,
   "metadata": {},
   "outputs": [
    {
     "name": "stdout",
     "output_type": "stream",
     "text": [
      "primeiro_quartil: valor    6.9\n",
      "Name: 0.25, dtype: float64\n",
      "terceiro_quartil: valor    7.2685\n",
      "Name: 0.75, dtype: float64\n",
      "fig: valor    0.3685\n",
      "dtype: float64\n",
      "Inferior: valor    6.34725\n",
      "dtype: float64\n",
      "Superior: valor    7.82125\n",
      "dtype: float64\n"
     ]
    },
    {
     "name": "stderr",
     "output_type": "stream",
     "text": [
      "C:\\Users\\Anderson\\Anaconda3\\lib\\site-packages\\ipykernel_launcher.py:30: UserWarning: Boolean Series key will be reindexed to match DataFrame index.\n"
     ]
    },
    {
     "data": {
      "text/html": [
       "<div>\n",
       "<style scoped>\n",
       "    .dataframe tbody tr th:only-of-type {\n",
       "        vertical-align: middle;\n",
       "    }\n",
       "\n",
       "    .dataframe tbody tr th {\n",
       "        vertical-align: top;\n",
       "    }\n",
       "\n",
       "    .dataframe thead th {\n",
       "        text-align: right;\n",
       "    }\n",
       "</style>\n",
       "<table border=\"1\" class=\"dataframe\">\n",
       "  <thead>\n",
       "    <tr style=\"text-align: right;\">\n",
       "      <th></th>\n",
       "      <th>valor</th>\n",
       "    </tr>\n",
       "    <tr>\n",
       "      <th>data_coleta</th>\n",
       "      <th></th>\n",
       "    </tr>\n",
       "  </thead>\n",
       "  <tbody>\n",
       "    <tr>\n",
       "      <td>1987-01-31</td>\n",
       "      <td>6.2</td>\n",
       "    </tr>\n",
       "  </tbody>\n",
       "</table>\n",
       "</div>"
      ],
      "text/plain": [
       "             valor\n",
       "data_coleta       \n",
       "1987-01-31     6.2"
      ]
     },
     "execution_count": 6,
     "metadata": {},
     "output_type": "execute_result"
    }
   ],
   "source": [
    "#Regra 1.5*FIG --> Calcula-se o limite inferior e superior do diagrama de caixa.\n",
    "\n",
    "#Ordena o dataframe\n",
    "trainingds = trainingd.sort_values('valor',axis=0)\n",
    "\n",
    "trainingds\n",
    "\n",
    "tamanho = len(trainingds)\n",
    "#Calcula o 1Q, ou seja, os primeiros 25% do diagrama de caixa.\n",
    "primeiro_quartil = trainingds.quantile(q=0.25, axis=0, numeric_only=True, interpolation='linear')\n",
    "#Calcula o 3Q, ou seja, 75% do diagrama de caixa.\n",
    "terceiro_quartil = trainingds.quantile(q=0.75, axis=0, numeric_only=True, interpolation='linear')\n",
    "\n",
    "print('primeiro_quartil:',primeiro_quartil)\n",
    "print('terceiro_quartil:',terceiro_quartil)\n",
    "\n",
    "#Calcula-se o interquartil(FIQ).\n",
    "fig = terceiro_quartil - primeiro_quartil\n",
    "print('fig:',fig)\n",
    "\n",
    "#Calcula o limite inferior.\n",
    "inferior = primeiro_quartil - (1.5*fig)\n",
    "#Calcula o limite superior.\n",
    "superior = terceiro_quartil + (1.5*fig)\n",
    "\n",
    "print('Inferior:',inferior)\n",
    "print('Superior:',superior)\n",
    "\n",
    "#Seleciona os valores abaixo  do limite inferior, ou seja, os outlier.\n",
    "outlier = trainingd[(trainingds.valor < 6.34725)]\n",
    "\n",
    "outlier\n"
   ]
  },
  {
   "cell_type": "code",
   "execution_count": 7,
   "metadata": {},
   "outputs": [
    {
     "data": {
      "text/html": [
       "<div>\n",
       "<style scoped>\n",
       "    .dataframe tbody tr th:only-of-type {\n",
       "        vertical-align: middle;\n",
       "    }\n",
       "\n",
       "    .dataframe tbody tr th {\n",
       "        vertical-align: top;\n",
       "    }\n",
       "\n",
       "    .dataframe thead th {\n",
       "        text-align: right;\n",
       "    }\n",
       "</style>\n",
       "<table border=\"1\" class=\"dataframe\">\n",
       "  <thead>\n",
       "    <tr style=\"text-align: right;\">\n",
       "      <th></th>\n",
       "      <th>valor</th>\n",
       "    </tr>\n",
       "    <tr>\n",
       "      <th>data_coleta</th>\n",
       "      <th></th>\n",
       "    </tr>\n",
       "  </thead>\n",
       "  <tbody>\n",
       "  </tbody>\n",
       "</table>\n",
       "</div>"
      ],
      "text/plain": [
       "Empty DataFrame\n",
       "Columns: [valor]\n",
       "Index: []"
      ]
     },
     "execution_count": 7,
     "metadata": {},
     "output_type": "execute_result"
    }
   ],
   "source": [
    "#Substituição do outlier pelo valor médio da serie dos dados.\n",
    "trainingd.loc[trainingd['valor'] == 6.20] = 7.08\n",
    "\n",
    "outlier = trainingd[(trainingd.valor < 6.34725)]\n",
    "\n",
    "outlier"
   ]
  },
  {
   "cell_type": "code",
   "execution_count": 8,
   "metadata": {},
   "outputs": [
    {
     "data": {
      "text/html": [
       "<div>\n",
       "<style scoped>\n",
       "    .dataframe tbody tr th:only-of-type {\n",
       "        vertical-align: middle;\n",
       "    }\n",
       "\n",
       "    .dataframe tbody tr th {\n",
       "        vertical-align: top;\n",
       "    }\n",
       "\n",
       "    .dataframe thead th {\n",
       "        text-align: right;\n",
       "    }\n",
       "</style>\n",
       "<table border=\"1\" class=\"dataframe\">\n",
       "  <thead>\n",
       "    <tr style=\"text-align: right;\">\n",
       "      <th></th>\n",
       "      <th>valor</th>\n",
       "    </tr>\n",
       "    <tr>\n",
       "      <th>data_coleta</th>\n",
       "      <th></th>\n",
       "    </tr>\n",
       "  </thead>\n",
       "  <tbody>\n",
       "    <tr>\n",
       "      <td>1978-01-31</td>\n",
       "      <td>7.100</td>\n",
       "    </tr>\n",
       "    <tr>\n",
       "      <td>1978-03-31</td>\n",
       "      <td>6.625</td>\n",
       "    </tr>\n",
       "    <tr>\n",
       "      <td>1978-05-31</td>\n",
       "      <td>6.650</td>\n",
       "    </tr>\n",
       "    <tr>\n",
       "      <td>1978-07-31</td>\n",
       "      <td>6.625</td>\n",
       "    </tr>\n",
       "    <tr>\n",
       "      <td>1978-09-30</td>\n",
       "      <td>6.575</td>\n",
       "    </tr>\n",
       "    <tr>\n",
       "      <td>...</td>\n",
       "      <td>...</td>\n",
       "    </tr>\n",
       "    <tr>\n",
       "      <td>2018-07-31</td>\n",
       "      <td>7.266</td>\n",
       "    </tr>\n",
       "    <tr>\n",
       "      <td>2018-09-30</td>\n",
       "      <td>7.250</td>\n",
       "    </tr>\n",
       "    <tr>\n",
       "      <td>2018-11-30</td>\n",
       "      <td>7.244</td>\n",
       "    </tr>\n",
       "    <tr>\n",
       "      <td>2019-01-31</td>\n",
       "      <td>7.136</td>\n",
       "    </tr>\n",
       "    <tr>\n",
       "      <td>2019-03-31</td>\n",
       "      <td>7.650</td>\n",
       "    </tr>\n",
       "  </tbody>\n",
       "</table>\n",
       "<p>248 rows × 1 columns</p>\n",
       "</div>"
      ],
      "text/plain": [
       "             valor\n",
       "data_coleta       \n",
       "1978-01-31   7.100\n",
       "1978-03-31   6.625\n",
       "1978-05-31   6.650\n",
       "1978-07-31   6.625\n",
       "1978-09-30   6.575\n",
       "...            ...\n",
       "2018-07-31   7.266\n",
       "2018-09-30   7.250\n",
       "2018-11-30   7.244\n",
       "2019-01-31   7.136\n",
       "2019-03-31   7.650\n",
       "\n",
       "[248 rows x 1 columns]"
      ]
     },
     "execution_count": 8,
     "metadata": {},
     "output_type": "execute_result"
    }
   ],
   "source": [
    "trainingd"
   ]
  },
  {
   "cell_type": "code",
   "execution_count": 9,
   "metadata": {},
   "outputs": [
    {
     "name": "stdout",
     "output_type": "stream",
     "text": [
      "Completo: 248\n",
      "treino: 174\n",
      "teste: 74\n"
     ]
    },
    {
     "data": {
      "text/plain": [
       "(248, 1)"
      ]
     },
     "execution_count": 9,
     "metadata": {},
     "output_type": "execute_result"
    }
   ],
   "source": [
    "#Dados completo.\n",
    "data = trainingd.iloc[:,:].values\n",
    "#treino (70%)\n",
    "train = trainingd.iloc[0:174,:].values  \n",
    "#teste (30%)\n",
    "test = trainingd.iloc[174:,:].values \n",
    "\n",
    "testd = test\n",
    "\n",
    "print('Completo:',len(data))\n",
    "print('treino:',len(train))\n",
    "print('teste:',len(test))\n",
    "#print(testd)\n",
    "data.shape"
   ]
  },
  {
   "cell_type": "code",
   "execution_count": 10,
   "metadata": {},
   "outputs": [],
   "source": [
    "#Normalização dos dados: Normaliza os dados dentro um intervalo (0 a 1).\n",
    "sc = MinMaxScaler()\n",
    "train = sc.fit_transform(train)\n",
    "test = sc.fit_transform(test)\n"
   ]
  },
  {
   "cell_type": "code",
   "execution_count": 13,
   "metadata": {},
   "outputs": [],
   "source": [
    "#Prepara o conjunto de dados em X e y, considerando a janela de visualização (lags).\n",
    "def prepara_dados(dados,lags):\n",
    "    X = []\n",
    "    y = []\n",
    "    for i in range(lags, len(dados)):\n",
    "        X.append(dados[i-lags:i, 0])\n",
    "        y.append(dados[i, 0])\n",
    "    return np.array(X), np.array(y)\n",
    "\n",
    "#Calcula o MAPE\n",
    "#Define função para calcular o MAPE\n",
    "#def mape(y_pred,y_true):\n",
    " #   return np.mean(np.abs((y_true - y_pred) / y_true)) * 100\n",
    "\n",
    "def mape(y_pred,y_true):\n",
    "    mape_sum = 0\n",
    "    for real,prediction in zip(y_true,y_pred):\n",
    "        mape_sum += (abs((real - prediction))/real)\n",
    "        mape = mape_sum/len(real)\n",
    "    return mape\n",
    "\n",
    "def rmse(y_pred,y_true):\n",
    "    mse = mean_squared_error(y_true, y_pred)\n",
    "    rmse = math.sqrt(mse)\n",
    "    return rmse\n",
    "\n",
    "def r2(y_pred,y_true):\n",
    "    rscore = r2_score(y_true,y_pred)\n",
    "    return rscore"
   ]
  },
  {
   "cell_type": "code",
   "execution_count": 26,
   "metadata": {},
   "outputs": [
    {
     "name": "stdout",
     "output_type": "stream",
     "text": [
      "0.5041337228217908\n"
     ]
    },
    {
     "ename": "ValueError",
     "evalue": "setting an array element with a sequence.",
     "output_type": "error",
     "traceback": [
      "\u001b[1;31m---------------------------------------------------------------------------\u001b[0m",
      "\u001b[1;31mValueError\u001b[0m                                Traceback (most recent call last)",
      "\u001b[1;32m<ipython-input-26-8d9602402a8b>\u001b[0m in \u001b[0;36m<module>\u001b[1;34m\u001b[0m\n\u001b[0;32m     22\u001b[0m \u001b[1;33m\u001b[0m\u001b[0m\n\u001b[0;32m     23\u001b[0m \u001b[1;31m#Dados de teste\u001b[0m\u001b[1;33m\u001b[0m\u001b[1;33m\u001b[0m\u001b[1;33m\u001b[0m\u001b[0m\n\u001b[1;32m---> 24\u001b[1;33m \u001b[0mprevisoes\u001b[0m \u001b[1;33m=\u001b[0m \u001b[0mmodel\u001b[0m\u001b[1;33m.\u001b[0m\u001b[0mpredict\u001b[0m\u001b[1;33m(\u001b[0m\u001b[0mtest_X\u001b[0m\u001b[1;33m)\u001b[0m\u001b[1;33m\u001b[0m\u001b[1;33m\u001b[0m\u001b[0m\n\u001b[0m\u001b[0;32m     25\u001b[0m \u001b[0mprevisoes\u001b[0m \u001b[1;33m=\u001b[0m \u001b[0mprevisoes\u001b[0m\u001b[1;33m.\u001b[0m\u001b[0mreshape\u001b[0m\u001b[1;33m(\u001b[0m\u001b[1;33m-\u001b[0m\u001b[1;36m1\u001b[0m\u001b[1;33m,\u001b[0m \u001b[1;36m1\u001b[0m\u001b[1;33m)\u001b[0m\u001b[1;33m\u001b[0m\u001b[1;33m\u001b[0m\u001b[0m\n\u001b[0;32m     26\u001b[0m \u001b[0mprevisoes\u001b[0m \u001b[1;33m=\u001b[0m \u001b[0msc\u001b[0m\u001b[1;33m.\u001b[0m\u001b[0minverse_transform\u001b[0m\u001b[1;33m(\u001b[0m\u001b[0mprevisoes\u001b[0m\u001b[1;33m)\u001b[0m\u001b[1;33m\u001b[0m\u001b[1;33m\u001b[0m\u001b[0m\n",
      "\u001b[1;32m~\\Anaconda3\\lib\\site-packages\\sklearn\\linear_model\\base.py\u001b[0m in \u001b[0;36mpredict\u001b[1;34m(self, X)\u001b[0m\n\u001b[0;32m    219\u001b[0m             \u001b[0mReturns\u001b[0m \u001b[0mpredicted\u001b[0m \u001b[0mvalues\u001b[0m\u001b[1;33m.\u001b[0m\u001b[1;33m\u001b[0m\u001b[1;33m\u001b[0m\u001b[0m\n\u001b[0;32m    220\u001b[0m         \"\"\"\n\u001b[1;32m--> 221\u001b[1;33m         \u001b[1;32mreturn\u001b[0m \u001b[0mself\u001b[0m\u001b[1;33m.\u001b[0m\u001b[0m_decision_function\u001b[0m\u001b[1;33m(\u001b[0m\u001b[0mX\u001b[0m\u001b[1;33m)\u001b[0m\u001b[1;33m\u001b[0m\u001b[1;33m\u001b[0m\u001b[0m\n\u001b[0m\u001b[0;32m    222\u001b[0m \u001b[1;33m\u001b[0m\u001b[0m\n\u001b[0;32m    223\u001b[0m     \u001b[0m_preprocess_data\u001b[0m \u001b[1;33m=\u001b[0m \u001b[0mstaticmethod\u001b[0m\u001b[1;33m(\u001b[0m\u001b[0m_preprocess_data\u001b[0m\u001b[1;33m)\u001b[0m\u001b[1;33m\u001b[0m\u001b[1;33m\u001b[0m\u001b[0m\n",
      "\u001b[1;32m~\\Anaconda3\\lib\\site-packages\\sklearn\\linear_model\\base.py\u001b[0m in \u001b[0;36m_decision_function\u001b[1;34m(self, X)\u001b[0m\n\u001b[0;32m    202\u001b[0m         \u001b[0mcheck_is_fitted\u001b[0m\u001b[1;33m(\u001b[0m\u001b[0mself\u001b[0m\u001b[1;33m,\u001b[0m \u001b[1;34m\"coef_\"\u001b[0m\u001b[1;33m)\u001b[0m\u001b[1;33m\u001b[0m\u001b[1;33m\u001b[0m\u001b[0m\n\u001b[0;32m    203\u001b[0m \u001b[1;33m\u001b[0m\u001b[0m\n\u001b[1;32m--> 204\u001b[1;33m         \u001b[0mX\u001b[0m \u001b[1;33m=\u001b[0m \u001b[0mcheck_array\u001b[0m\u001b[1;33m(\u001b[0m\u001b[0mX\u001b[0m\u001b[1;33m,\u001b[0m \u001b[0maccept_sparse\u001b[0m\u001b[1;33m=\u001b[0m\u001b[1;33m[\u001b[0m\u001b[1;34m'csr'\u001b[0m\u001b[1;33m,\u001b[0m \u001b[1;34m'csc'\u001b[0m\u001b[1;33m,\u001b[0m \u001b[1;34m'coo'\u001b[0m\u001b[1;33m]\u001b[0m\u001b[1;33m)\u001b[0m\u001b[1;33m\u001b[0m\u001b[1;33m\u001b[0m\u001b[0m\n\u001b[0m\u001b[0;32m    205\u001b[0m         return safe_sparse_dot(X, self.coef_.T,\n\u001b[0;32m    206\u001b[0m                                dense_output=True) + self.intercept_\n",
      "\u001b[1;32m~\\Anaconda3\\lib\\site-packages\\sklearn\\utils\\validation.py\u001b[0m in \u001b[0;36mcheck_array\u001b[1;34m(array, accept_sparse, accept_large_sparse, dtype, order, copy, force_all_finite, ensure_2d, allow_nd, ensure_min_samples, ensure_min_features, warn_on_dtype, estimator)\u001b[0m\n\u001b[0;32m    494\u001b[0m             \u001b[1;32mtry\u001b[0m\u001b[1;33m:\u001b[0m\u001b[1;33m\u001b[0m\u001b[1;33m\u001b[0m\u001b[0m\n\u001b[0;32m    495\u001b[0m                 \u001b[0mwarnings\u001b[0m\u001b[1;33m.\u001b[0m\u001b[0msimplefilter\u001b[0m\u001b[1;33m(\u001b[0m\u001b[1;34m'error'\u001b[0m\u001b[1;33m,\u001b[0m \u001b[0mComplexWarning\u001b[0m\u001b[1;33m)\u001b[0m\u001b[1;33m\u001b[0m\u001b[1;33m\u001b[0m\u001b[0m\n\u001b[1;32m--> 496\u001b[1;33m                 \u001b[0marray\u001b[0m \u001b[1;33m=\u001b[0m \u001b[0mnp\u001b[0m\u001b[1;33m.\u001b[0m\u001b[0masarray\u001b[0m\u001b[1;33m(\u001b[0m\u001b[0marray\u001b[0m\u001b[1;33m,\u001b[0m \u001b[0mdtype\u001b[0m\u001b[1;33m=\u001b[0m\u001b[0mdtype\u001b[0m\u001b[1;33m,\u001b[0m \u001b[0morder\u001b[0m\u001b[1;33m=\u001b[0m\u001b[0morder\u001b[0m\u001b[1;33m)\u001b[0m\u001b[1;33m\u001b[0m\u001b[1;33m\u001b[0m\u001b[0m\n\u001b[0m\u001b[0;32m    497\u001b[0m             \u001b[1;32mexcept\u001b[0m \u001b[0mComplexWarning\u001b[0m\u001b[1;33m:\u001b[0m\u001b[1;33m\u001b[0m\u001b[1;33m\u001b[0m\u001b[0m\n\u001b[0;32m    498\u001b[0m                 raise ValueError(\"Complex data not supported\\n\"\n",
      "\u001b[1;32m~\\Anaconda3\\lib\\site-packages\\numpy\\core\\numeric.py\u001b[0m in \u001b[0;36masarray\u001b[1;34m(a, dtype, order)\u001b[0m\n\u001b[0;32m    536\u001b[0m \u001b[1;33m\u001b[0m\u001b[0m\n\u001b[0;32m    537\u001b[0m     \"\"\"\n\u001b[1;32m--> 538\u001b[1;33m     \u001b[1;32mreturn\u001b[0m \u001b[0marray\u001b[0m\u001b[1;33m(\u001b[0m\u001b[0ma\u001b[0m\u001b[1;33m,\u001b[0m \u001b[0mdtype\u001b[0m\u001b[1;33m,\u001b[0m \u001b[0mcopy\u001b[0m\u001b[1;33m=\u001b[0m\u001b[1;32mFalse\u001b[0m\u001b[1;33m,\u001b[0m \u001b[0morder\u001b[0m\u001b[1;33m=\u001b[0m\u001b[0morder\u001b[0m\u001b[1;33m)\u001b[0m\u001b[1;33m\u001b[0m\u001b[1;33m\u001b[0m\u001b[0m\n\u001b[0m\u001b[0;32m    539\u001b[0m \u001b[1;33m\u001b[0m\u001b[0m\n\u001b[0;32m    540\u001b[0m \u001b[1;33m\u001b[0m\u001b[0m\n",
      "\u001b[1;31mValueError\u001b[0m: setting an array element with a sequence."
     ]
    }
   ],
   "source": [
    "lags = 17 # Equivalente à 10% dos dados de treino.\n",
    "#Prepara os dados de treinamento\n",
    "train_X, train_y = prepara_dados(train, lags)\n",
    "    \n",
    "#Prepara os dados de teste\n",
    "entradas = trainingd[len(trainingd) - len(test) - lags:].values\n",
    "entradas = entradas.reshape(-1, 1)\n",
    "entradas = sc.fit_transform(entradas)\n",
    "\n",
    "test_X = []\n",
    "for i in range(lags, lags+len(test)+1): #aqui prever um passo a frente\n",
    "    test_X.append(entradas[i-lags:i, 0])\n",
    "test_X = np.array(test_X)\n",
    "    \n",
    "#Cria o modelo\n",
    "model = LinearRegression(normalize=True)\n",
    "\n",
    "#Treina o modelo\n",
    "model.fit(train_X,train_y)\n",
    "score = model.score(train_X,train_y)\n",
    "print(score)\n",
    "\n",
    "#Dados de teste\n",
    "previsoes = model.predict(test_X)\n",
    "previsoes = previsoes.reshape(-1, 1)\n",
    "previsoes = sc.inverse_transform(previsoes)\n",
    "\n",
    "#Dados de treino\n",
    "previsoes_treino = model.predict(train_X)\n",
    "previsoes_treino = previsoes_treino.reshape(-1, 1)\n",
    "previsoes_treino = sc.inverse_transform(previsoes_treino)\n",
    "\n",
    "#Preparação para plotagem\n",
    "train_predict_plot = np.empty_like(data)\n",
    "train_predict_plot[:, :] = np.nan\n",
    "train_predict_plot[lags: len(previsoes_treino) + lags, :] = previsoes_treino\n",
    "train_predict_plot.shape\n",
    "\n",
    "print(len(previsoes))\n",
    "    \n",
    "test_predict_plot = np.empty_like(data)\n",
    "test_predict_plot[:, :] = np.nan\n",
    "test_predict_plot[len(previsoes_treino)+lags:len(data), :] = previsoes\n",
    "\n",
    "#Plotagem do gráfico\n",
    "plt.plot(data, color = '#006699',alpha=0.5, label = 'Observado')\n",
    "plt.plot(train_predict_plot, color = 'green', label = 'Previsão de treino')\n",
    "plt.plot(test_predict_plot, color = '#ff0066', label = 'Previsão de teste')\n",
    "plt.title('Predição do pH com lag = 10%')\n",
    "plt.xlabel('Bimestre')\n",
    "plt.ylabel('Valor pH')\n",
    "plt.legend()\n",
    "plt.grid()\n",
    "plt.show()\n",
    "    \n",
    "#Calculo do erro da previsão\n",
    "#mape(previsoes.mean(),test.mean())\n",
    "test = sc.inverse_transform(test)\n",
    "treino = sc.inverse_transform(train[lags: len(previsoes_treino) + lags, :])\n",
    "\n",
    "\n"
   ]
  },
  {
   "cell_type": "code",
   "execution_count": 106,
   "metadata": {},
   "outputs": [
    {
     "name": "stdout",
     "output_type": "stream",
     "text": [
      "Resultados com lag 17\n",
      "\n",
      "\n",
      "MAPE TREINO: 2.18 %\n",
      "RMSE TREINO: 0.13\n",
      "R TREINO: 0.5\n",
      "\n",
      "\n",
      "MAPE TESTE: 54.12 %\n",
      "RMSE TESTE: 19.7\n",
      "R TESTE: -33128.11\n",
      "\n",
      "\n"
     ]
    }
   ],
   "source": [
    "print('Resultados com lag', lags)\n",
    "print('\\n')\n",
    "print('MAPE TREINO:',round(mape(previsoes_treino,treino)[0],2),'%')\n",
    "print('RMSE TREINO:',round(rmse(previsoes_treino,treino),2))\n",
    "print('R TREINO:',round(r2(previsoes_treino,treino),2))\n",
    "print('\\n')\n",
    "print('MAPE TESTE:',round(mape(previsoes,test)[0],2),'%')\n",
    "print('RMSE TESTE:',round(rmse(previsoes,test),2))\n",
    "print('R TESTE:',round(r2(previsoes,test),2))\n",
    "print('\\n')"
   ]
  },
  {
   "cell_type": "code",
   "execution_count": 24,
   "metadata": {},
   "outputs": [
    {
     "data": {
      "image/png": "[encoded data removed]",
      "text/plain": [
       "<Figure size 432x288 with 1 Axes>"
      ]
     },
     "metadata": {
      "needs_background": "light"
     },
     "output_type": "display_data"
    },
    {
     "data": {
      "image/png": "[encoded data removed]",
      "text/plain": [
       "<Figure size 432x288 with 1 Axes>"
      ]
     },
     "metadata": {
      "needs_background": "light"
     },
     "output_type": "display_data"
    },
    {
     "name": "stdout",
     "output_type": "stream",
     "text": [
      "[[7.17038457]\n",
      " [7.20373211]\n",
      " [7.26527639]\n",
      " [7.25485832]\n",
      " [7.20564326]\n",
      " [7.17909253]\n",
      " [7.15835128]\n",
      " [7.24951979]\n",
      " [7.10104222]\n",
      " [7.12583729]\n",
      " [7.21354777]\n",
      " [7.16775555]\n",
      " [7.12745082]\n",
      " [7.14373737]\n",
      " [7.07294067]\n",
      " [7.14153484]\n",
      " [7.13391995]\n",
      " [7.10692967]\n",
      " [7.14737063]\n",
      " [7.11508976]\n",
      " [7.06308081]\n",
      " [7.12307234]\n",
      " [7.14423233]\n",
      " [7.09147041]\n",
      " [7.17091295]\n",
      " [7.09609821]\n",
      " [7.1300673 ]\n",
      " [7.16928304]\n",
      " [7.24481556]\n",
      " [7.25748494]\n",
      " [7.10445403]\n",
      " [7.19826318]\n",
      " [7.22546614]\n",
      " [7.32418298]\n",
      " [7.24333233]\n",
      " [7.13711988]\n",
      " [7.21582325]\n",
      " [7.26413795]\n",
      " [7.30113721]\n",
      " [7.22619714]\n",
      " [7.32571201]\n",
      " [7.37031339]\n",
      " [7.18560103]\n",
      " [7.21186789]\n",
      " [7.23094972]\n",
      " [7.25709438]\n",
      " [7.29649475]\n",
      " [7.35585999]\n",
      " [7.32905969]\n",
      " [7.32870568]\n",
      " [7.21748516]\n",
      " [7.24573264]\n",
      " [7.30564447]\n",
      " [7.40057224]\n",
      " [7.26913861]\n",
      " [7.18023264]\n",
      " [7.30780632]\n",
      " [7.30345461]\n",
      " [7.42497678]\n",
      " [7.1709147 ]\n",
      " [7.33288108]\n",
      " [7.2650943 ]\n",
      " [7.33858433]\n",
      " [7.32214282]\n",
      " [7.2865446 ]\n",
      " [7.38071767]\n",
      " [7.21767383]\n",
      " [7.33539793]\n",
      " [7.42313533]\n",
      " [7.43543572]\n",
      " [7.35273885]\n",
      " [7.25272481]\n",
      " [7.32706568]\n",
      " [7.3361145 ]\n",
      " [7.41073562]]\n"
     ]
    },
    {
     "data": {
      "text/plain": [
       "\"\\nprint(len(observado_treino_x))\\nprint(len(observado_treino))\\nprint(len(previsoes_treino))\\n\\n#Plotagem do gráfico\\n#plt.plot(data, color = '#006699',alpha=0.5, label = 'Observado')\\nplt.scatter(observado_treino_x,observado_treino, color = 'red', label = 'Observado pH')\\nplt.scatter(observado_treino_x,previsoes_treino, color = '#006699', label = 'Predição pH')\\nplt.title('Predição do pH com lag = 10%')\\nplt.xlabel('Observado pH')\\nplt.ylabel('Predição pH')\\n#plt.legend()\\n#plt.grid()\\nplt.show()\\n\""
      ]
     },
     "execution_count": 24,
     "metadata": {},
     "output_type": "execute_result"
    }
   ],
   "source": [
    "train_y = train_y.reshape(-1, 1)\n",
    "observado_treino = sc.inverse_transform(train_y)\n",
    "\n",
    "#Plotagem do gráfico\n",
    "#plt.plot(data, color = '#006699',alpha=0.5, label = 'Observado')\n",
    "plt.plot(observado_treino, color = '#006699', alpha=0.5, label = 'Observado pH')\n",
    "plt.plot(previsoes_treino, color = 'red',linestyle = '--', label = 'Predição pH')\n",
    "#plt.title('Predição do pH com lag = 10%')\n",
    "plt.xlabel('Tempo (Bimestre)')\n",
    "plt.ylabel('Valor pH')\n",
    "plt.legend()\n",
    "#plt.grid()\n",
    "plt.show()\n",
    "\n",
    "observado_test = testd\n",
    "\n",
    "#Plotagem do gráfico\n",
    "#plt.plot(data, color = '#006699',alpha=0.5, label = 'Observado')\n",
    "plt.plot(observado_test, color = '#006699', alpha=0.5, label = 'Observado pH')\n",
    "plt.plot(previsoes, color = 'red',linestyle = '--', label = 'Predição pH')\n",
    "#plt.title('Predição do pH com lag = 10%')\n",
    "plt.xlabel('Tempo (Bimestre)')\n",
    "plt.ylabel('Valor pH')\n",
    "plt.legend()\n",
    "#plt.grid()\n",
    "plt.show()\n",
    "\n",
    "print(previsoes)\n",
    "\n",
    "'''\n",
    "print(len(observado_treino_x))\n",
    "print(len(observado_treino))\n",
    "print(len(previsoes_treino))\n",
    "\n",
    "#Plotagem do gráfico\n",
    "#plt.plot(data, color = '#006699',alpha=0.5, label = 'Observado')\n",
    "plt.scatter(observado_treino_x,observado_treino, color = 'red', label = 'Observado pH')\n",
    "plt.scatter(observado_treino_x,previsoes_treino, color = '#006699', label = 'Predição pH')\n",
    "plt.title('Predição do pH com lag = 10%')\n",
    "plt.xlabel('Observado pH')\n",
    "plt.ylabel('Predição pH')\n",
    "#plt.legend()\n",
    "#plt.grid()\n",
    "plt.show()\n",
    "'''"
   ]
  },
  {
   "cell_type": "code",
   "execution_count": null,
   "metadata": {},
   "outputs": [],
   "source": []
  },
  {
   "cell_type": "code",
   "execution_count": 238,
   "metadata": {},
   "outputs": [
    {
     "data": {
      "text/plain": [
       "(248, 1)"
      ]
     },
     "execution_count": 238,
     "metadata": {},
     "output_type": "execute_result"
    }
   ],
   "source": []
  },
  {
   "cell_type": "code",
   "execution_count": 251,
   "metadata": {},
   "outputs": [
    {
     "data": {
      "text/plain": [
       "174"
      ]
     },
     "execution_count": 251,
     "metadata": {},
     "output_type": "execute_result"
    }
   ],
   "source": []
  },
  {
   "cell_type": "code",
   "execution_count": null,
   "metadata": {},
   "outputs": [],
   "source": []
  },
  {
   "cell_type": "code",
   "execution_count": null,
   "metadata": {},
   "outputs": [],
   "source": []
  },
  {
   "cell_type": "code",
   "execution_count": null,
   "metadata": {},
   "outputs": [],
   "source": []
  },
  {
   "cell_type": "code",
   "execution_count": null,
   "metadata": {},
   "outputs": [],
   "source": []
  },
  {
   "cell_type": "code",
   "execution_count": null,
   "metadata": {},
   "outputs": [],
   "source": []
  }
 ],
 "metadata": {
  "kernelspec": {
   "display_name": "Python 3",
   "language": "python",
   "name": "python3"
  },
  "language_info": {
   "codemirror_mode": {
    "name": "ipython",
    "version": 3
   },
   "file_extension": ".py",
   "mimetype": "text/x-python",
   "name": "python",
   "nbconvert_exporter": "python",
   "pygments_lexer": "ipython3",
   "version": "3.7.4"
  }
 },
 "nbformat": 4,
 "nbformat_minor": 2
}
