{
 "cells": [
  {
   "cell_type": "code",
   "execution_count": 26,
   "metadata": {},
   "outputs": [],
   "source": [
    "import pandas as pd\n",
    "import numpy as np\n",
    "import matplotlib.pyplot as plt\n",
    "from sklearn.preprocessing import MinMaxScaler\n",
    "import math\n",
    "from sklearn.linear_model import LinearRegression\n",
    "from sklearn.metrics import mean_absolute_error\n",
    "from sklearn.metrics import mean_squared_error\n",
    "\n",
    "plt.rcParams['xtick.labelsize'] = 24\n",
    "plt.rcParams['ytick.labelsize'] = 24\n",
    "plt.rcParams.update({'font.size':20})\n",
    "plt.rcParams[\"figure.figsize\"] = (10,6)"
   ]
  },
  {
   "cell_type": "code",
   "execution_count": 2,
   "metadata": {},
   "outputs": [],
   "source": [
    "str_files = ''\n",
    "#Carrega os dados do arquivo .csv\n",
    "#df = pd.read_csv(str_files + \"ph.csv\",encoding='utf-8',sep=';')\n",
    "dateparse = lambda dates:pd.datetime.strptime(dates,'%d/%m/%Y')\n",
    "df = pd.read_csv(str_files + 'ph.CSV',encoding='utf-8',sep=';', parse_dates = ['data_coleta'],index_col=['data_coleta'],date_parser=dateparse)"
   ]
  },
  {
   "cell_type": "code",
   "execution_count": 3,
   "metadata": {},
   "outputs": [],
   "source": [
    "#Seleciona os dados da UGRHI 10 - SOROCABA/MEDIO TIETE\n",
    "z = df.loc[df['UGRHI'] == '10 - SOROCABA/MEDIO TIETE']"
   ]
  },
  {
   "cell_type": "code",
   "execution_count": 4,
   "metadata": {},
   "outputs": [],
   "source": [
    "#Agrupa os dados pela media bimestral\n",
    "trainingd = z.resample('2M').mean()"
   ]
  },
  {
   "cell_type": "code",
   "execution_count": 5,
   "metadata": {},
   "outputs": [
    {
     "data": {
      "text/html": [
       "<div>\n",
       "<style scoped>\n",
       "    .dataframe tbody tr th:only-of-type {\n",
       "        vertical-align: middle;\n",
       "    }\n",
       "\n",
       "    .dataframe tbody tr th {\n",
       "        vertical-align: top;\n",
       "    }\n",
       "\n",
       "    .dataframe thead th {\n",
       "        text-align: right;\n",
       "    }\n",
       "</style>\n",
       "<table border=\"1\" class=\"dataframe\">\n",
       "  <thead>\n",
       "    <tr style=\"text-align: right;\">\n",
       "      <th></th>\n",
       "      <th>valor</th>\n",
       "    </tr>\n",
       "    <tr>\n",
       "      <th>data_coleta</th>\n",
       "      <th></th>\n",
       "    </tr>\n",
       "  </thead>\n",
       "  <tbody>\n",
       "    <tr>\n",
       "      <td>1978-01-31</td>\n",
       "      <td>7.100</td>\n",
       "    </tr>\n",
       "    <tr>\n",
       "      <td>1978-03-31</td>\n",
       "      <td>6.625</td>\n",
       "    </tr>\n",
       "    <tr>\n",
       "      <td>1978-05-31</td>\n",
       "      <td>6.650</td>\n",
       "    </tr>\n",
       "    <tr>\n",
       "      <td>1978-07-31</td>\n",
       "      <td>6.625</td>\n",
       "    </tr>\n",
       "    <tr>\n",
       "      <td>1978-09-30</td>\n",
       "      <td>6.575</td>\n",
       "    </tr>\n",
       "    <tr>\n",
       "      <td>...</td>\n",
       "      <td>...</td>\n",
       "    </tr>\n",
       "    <tr>\n",
       "      <td>2018-07-31</td>\n",
       "      <td>7.266</td>\n",
       "    </tr>\n",
       "    <tr>\n",
       "      <td>2018-09-30</td>\n",
       "      <td>7.250</td>\n",
       "    </tr>\n",
       "    <tr>\n",
       "      <td>2018-11-30</td>\n",
       "      <td>7.244</td>\n",
       "    </tr>\n",
       "    <tr>\n",
       "      <td>2019-01-31</td>\n",
       "      <td>7.136</td>\n",
       "    </tr>\n",
       "    <tr>\n",
       "      <td>2019-03-31</td>\n",
       "      <td>7.650</td>\n",
       "    </tr>\n",
       "  </tbody>\n",
       "</table>\n",
       "<p>248 rows × 1 columns</p>\n",
       "</div>"
      ],
      "text/plain": [
       "             valor\n",
       "data_coleta       \n",
       "1978-01-31   7.100\n",
       "1978-03-31   6.625\n",
       "1978-05-31   6.650\n",
       "1978-07-31   6.625\n",
       "1978-09-30   6.575\n",
       "...            ...\n",
       "2018-07-31   7.266\n",
       "2018-09-30   7.250\n",
       "2018-11-30   7.244\n",
       "2019-01-31   7.136\n",
       "2019-03-31   7.650\n",
       "\n",
       "[248 rows x 1 columns]"
      ]
     },
     "execution_count": 5,
     "metadata": {},
     "output_type": "execute_result"
    }
   ],
   "source": [
    "trainingd\n",
    "#Remove as colunas que não serão utilizadas no experimento.\n",
    "trainingd = trainingd.drop(['cod_interaguas', 'sinal','Altitude'], axis=1)\n",
    "trainingd\n"
   ]
  },
  {
   "cell_type": "code",
   "execution_count": 6,
   "metadata": {},
   "outputs": [
    {
     "name": "stdout",
     "output_type": "stream",
     "text": [
      "primeiro_quartil: valor    6.9\n",
      "Name: 0.25, dtype: float64\n",
      "terceiro_quartil: valor    7.2685\n",
      "Name: 0.75, dtype: float64\n",
      "fig: valor    0.3685\n",
      "dtype: float64\n",
      "Inferior: valor    6.34725\n",
      "dtype: float64\n",
      "Superior: valor    7.82125\n",
      "dtype: float64\n"
     ]
    },
    {
     "name": "stderr",
     "output_type": "stream",
     "text": [
      "C:\\Users\\Anderson\\Anaconda3\\lib\\site-packages\\ipykernel_launcher.py:30: UserWarning: Boolean Series key will be reindexed to match DataFrame index.\n"
     ]
    },
    {
     "data": {
      "text/html": [
       "<div>\n",
       "<style scoped>\n",
       "    .dataframe tbody tr th:only-of-type {\n",
       "        vertical-align: middle;\n",
       "    }\n",
       "\n",
       "    .dataframe tbody tr th {\n",
       "        vertical-align: top;\n",
       "    }\n",
       "\n",
       "    .dataframe thead th {\n",
       "        text-align: right;\n",
       "    }\n",
       "</style>\n",
       "<table border=\"1\" class=\"dataframe\">\n",
       "  <thead>\n",
       "    <tr style=\"text-align: right;\">\n",
       "      <th></th>\n",
       "      <th>valor</th>\n",
       "    </tr>\n",
       "    <tr>\n",
       "      <th>data_coleta</th>\n",
       "      <th></th>\n",
       "    </tr>\n",
       "  </thead>\n",
       "  <tbody>\n",
       "    <tr>\n",
       "      <td>1987-01-31</td>\n",
       "      <td>6.2</td>\n",
       "    </tr>\n",
       "  </tbody>\n",
       "</table>\n",
       "</div>"
      ],
      "text/plain": [
       "             valor\n",
       "data_coleta       \n",
       "1987-01-31     6.2"
      ]
     },
     "execution_count": 6,
     "metadata": {},
     "output_type": "execute_result"
    }
   ],
   "source": [
    "#Regra 1.5*FIG --> Calcula-se o limite inferior e superior do diagrama de caixa.\n",
    "\n",
    "#Ordena o dataframe\n",
    "trainingds = trainingd.sort_values('valor',axis=0)\n",
    "\n",
    "trainingds\n",
    "\n",
    "tamanho = len(trainingds)\n",
    "#Calcula o 1Q, ou seja, os primeiros 25% do diagrama de caixa.\n",
    "primeiro_quartil = trainingds.quantile(q=0.25, axis=0, numeric_only=True, interpolation='linear')\n",
    "#Calcula o 3Q, ou seja, 75% do diagrama de caixa.\n",
    "terceiro_quartil = trainingds.quantile(q=0.75, axis=0, numeric_only=True, interpolation='linear')\n",
    "\n",
    "print('primeiro_quartil:',primeiro_quartil)\n",
    "print('terceiro_quartil:',terceiro_quartil)\n",
    "\n",
    "#Calcula-se o interquartil(FIQ).\n",
    "fig = terceiro_quartil - primeiro_quartil\n",
    "print('fig:',fig)\n",
    "\n",
    "#Calcula o limite inferior.\n",
    "inferior = primeiro_quartil - (1.5*fig)\n",
    "#Calcula o limite superior.\n",
    "superior = terceiro_quartil + (1.5*fig)\n",
    "\n",
    "print('Inferior:',inferior)\n",
    "print('Superior:',superior)\n",
    "\n",
    "#Seleciona os valores abaixo  do limite inferior, ou seja, os outlier.\n",
    "outlier = trainingd[(trainingds.valor < 6.34725)]\n",
    "\n",
    "outlier\n"
   ]
  },
  {
   "cell_type": "code",
   "execution_count": 7,
   "metadata": {},
   "outputs": [
    {
     "data": {
      "text/html": [
       "<div>\n",
       "<style scoped>\n",
       "    .dataframe tbody tr th:only-of-type {\n",
       "        vertical-align: middle;\n",
       "    }\n",
       "\n",
       "    .dataframe tbody tr th {\n",
       "        vertical-align: top;\n",
       "    }\n",
       "\n",
       "    .dataframe thead th {\n",
       "        text-align: right;\n",
       "    }\n",
       "</style>\n",
       "<table border=\"1\" class=\"dataframe\">\n",
       "  <thead>\n",
       "    <tr style=\"text-align: right;\">\n",
       "      <th></th>\n",
       "      <th>valor</th>\n",
       "    </tr>\n",
       "    <tr>\n",
       "      <th>data_coleta</th>\n",
       "      <th></th>\n",
       "    </tr>\n",
       "  </thead>\n",
       "  <tbody>\n",
       "  </tbody>\n",
       "</table>\n",
       "</div>"
      ],
      "text/plain": [
       "Empty DataFrame\n",
       "Columns: [valor]\n",
       "Index: []"
      ]
     },
     "execution_count": 7,
     "metadata": {},
     "output_type": "execute_result"
    }
   ],
   "source": [
    "#Substituição do outlier pelo valor médio da serie dos dados.\n",
    "trainingd.loc[trainingd['valor'] == 6.20] = 7.08\n",
    "\n",
    "outlier = trainingd[(trainingd.valor < 6.34725)]\n",
    "\n",
    "outlier"
   ]
  },
  {
   "cell_type": "code",
   "execution_count": 8,
   "metadata": {},
   "outputs": [
    {
     "data": {
      "text/html": [
       "<div>\n",
       "<style scoped>\n",
       "    .dataframe tbody tr th:only-of-type {\n",
       "        vertical-align: middle;\n",
       "    }\n",
       "\n",
       "    .dataframe tbody tr th {\n",
       "        vertical-align: top;\n",
       "    }\n",
       "\n",
       "    .dataframe thead th {\n",
       "        text-align: right;\n",
       "    }\n",
       "</style>\n",
       "<table border=\"1\" class=\"dataframe\">\n",
       "  <thead>\n",
       "    <tr style=\"text-align: right;\">\n",
       "      <th></th>\n",
       "      <th>valor</th>\n",
       "    </tr>\n",
       "    <tr>\n",
       "      <th>data_coleta</th>\n",
       "      <th></th>\n",
       "    </tr>\n",
       "  </thead>\n",
       "  <tbody>\n",
       "    <tr>\n",
       "      <td>1978-01-31</td>\n",
       "      <td>7.100</td>\n",
       "    </tr>\n",
       "    <tr>\n",
       "      <td>1978-03-31</td>\n",
       "      <td>6.625</td>\n",
       "    </tr>\n",
       "    <tr>\n",
       "      <td>1978-05-31</td>\n",
       "      <td>6.650</td>\n",
       "    </tr>\n",
       "    <tr>\n",
       "      <td>1978-07-31</td>\n",
       "      <td>6.625</td>\n",
       "    </tr>\n",
       "    <tr>\n",
       "      <td>1978-09-30</td>\n",
       "      <td>6.575</td>\n",
       "    </tr>\n",
       "    <tr>\n",
       "      <td>...</td>\n",
       "      <td>...</td>\n",
       "    </tr>\n",
       "    <tr>\n",
       "      <td>2018-07-31</td>\n",
       "      <td>7.266</td>\n",
       "    </tr>\n",
       "    <tr>\n",
       "      <td>2018-09-30</td>\n",
       "      <td>7.250</td>\n",
       "    </tr>\n",
       "    <tr>\n",
       "      <td>2018-11-30</td>\n",
       "      <td>7.244</td>\n",
       "    </tr>\n",
       "    <tr>\n",
       "      <td>2019-01-31</td>\n",
       "      <td>7.136</td>\n",
       "    </tr>\n",
       "    <tr>\n",
       "      <td>2019-03-31</td>\n",
       "      <td>7.650</td>\n",
       "    </tr>\n",
       "  </tbody>\n",
       "</table>\n",
       "<p>248 rows × 1 columns</p>\n",
       "</div>"
      ],
      "text/plain": [
       "             valor\n",
       "data_coleta       \n",
       "1978-01-31   7.100\n",
       "1978-03-31   6.625\n",
       "1978-05-31   6.650\n",
       "1978-07-31   6.625\n",
       "1978-09-30   6.575\n",
       "...            ...\n",
       "2018-07-31   7.266\n",
       "2018-09-30   7.250\n",
       "2018-11-30   7.244\n",
       "2019-01-31   7.136\n",
       "2019-03-31   7.650\n",
       "\n",
       "[248 rows x 1 columns]"
      ]
     },
     "execution_count": 8,
     "metadata": {},
     "output_type": "execute_result"
    }
   ],
   "source": [
    "trainingd"
   ]
  },
  {
   "cell_type": "code",
   "execution_count": 48,
   "metadata": {},
   "outputs": [
    {
     "name": "stdout",
     "output_type": "stream",
     "text": [
      "Completo: 248\n",
      "treino: 174\n",
      "teste: 74\n"
     ]
    },
    {
     "data": {
      "text/plain": [
       "(248, 1)"
      ]
     },
     "execution_count": 48,
     "metadata": {},
     "output_type": "execute_result"
    }
   ],
   "source": [
    "#Dados completo.\n",
    "data = trainingd.iloc[:,:].values\n",
    "#treino (70%)\n",
    "train = trainingd.iloc[0:174,:].values  \n",
    "#teste (30%)\n",
    "test = trainingd.iloc[174:,:].values \n",
    "\n",
    "print('Completo:',len(data))\n",
    "print('treino:',len(train))\n",
    "print('teste:',len(test))\n",
    "data.shape"
   ]
  },
  {
   "cell_type": "code",
   "execution_count": 49,
   "metadata": {},
   "outputs": [],
   "source": [
    "#Normalização dos dados: Normaliza os dados dentro um intervalo (-1 a 1).\n",
    "sc = MinMaxScaler()\n",
    "train = sc.fit_transform(train)\n",
    "test = sc.fit_transform(test)\n"
   ]
  },
  {
   "cell_type": "code",
   "execution_count": 50,
   "metadata": {},
   "outputs": [],
   "source": [
    "#Prepara o conjunto de dados em X e y, considerando a janela de visualização (lags).\n",
    "def prepara_dados(dados,lags):\n",
    "    X = []\n",
    "    y = []\n",
    "    for i in range(lags, len(dados)):\n",
    "        X.append(dados[i-lags:i, 0])\n",
    "        y.append(dados[i, 0])\n",
    "    return np.array(X), np.array(y)\n",
    "\n",
    "#Calcula o MAPE\n",
    "#Define função para calcular o MAPE\n",
    "#def mape(y_pred,y_true):\n",
    " #   return np.mean(np.abs((y_true - y_pred) / y_true)) * 100\n",
    "\n",
    "def mape(y_pred,y_true):\n",
    "    mape_sum = 0\n",
    "    for real,prediction in zip(y_true,y_pred):\n",
    "        mape_sum += (abs((real - prediction))/real)\n",
    "        mape = mape_sum/len(real)\n",
    "    return mape\n",
    "\n",
    "def rmse(y_pred,y_true):\n",
    "    mse = mean_squared_error(y_true, y_pred)\n",
    "    rmse = math.sqrt(mse)\n",
    "    return rmse"
   ]
  },
  {
   "cell_type": "code",
   "execution_count": 62,
   "metadata": {},
   "outputs": [
    {
     "data": {
      "image/png": "[encoded data removed]",
      "text/plain": [
       "<Figure size 720x432 with 1 Axes>"
      ]
     },
     "metadata": {
      "needs_background": "light"
     },
     "output_type": "display_data"
    },
    {
     "data": {
      "image/png": "[encoded data removed]",
      "text/plain": [
       "<Figure size 720x432 with 1 Axes>"
      ]
     },
     "metadata": {
      "needs_background": "light"
     },
     "output_type": "display_data"
    }
   ],
   "source": [
    "#lags = 17 # Equivalente à 10% dos dados de treino.\n",
    "#Prepara os dados de treinamento\n",
    "\n",
    "xlags = []\n",
    "\n",
    "mape_treino = []\n",
    "mape_teste  = []\n",
    "    \n",
    "rmse_treino = []\n",
    "rmse_teste  = []\n",
    "\n",
    "score = []\n",
    "inter = []\n",
    "\n",
    "for lags in range(1,87):\n",
    "    \n",
    "    train_X, train_y = prepara_dados(train, lags)\n",
    "    \n",
    "    #Prepara os dados de teste\n",
    "    entradas = trainingd[len(trainingd) - len(test) - lags:].values\n",
    "    entradas = entradas.reshape(-1, 1)\n",
    "    entradas = sc.fit_transform(entradas)\n",
    "\n",
    "    test_X = []\n",
    "    for i in range(lags, lags+len(test)):\n",
    "        test_X.append(entradas[i-lags:i, 0])\n",
    "    test_X = np.array(test_X)\n",
    "    \n",
    "    #Cria o modelo\n",
    "    model = LinearRegression()\n",
    "\n",
    "    #Treina o modelo\n",
    "    model.fit(train_X,train_y)\n",
    "    score.append(model.score(train_X,train_y))\n",
    "    inter.append(model.intercept_)\n",
    "\n",
    "    #Dados de teste\n",
    "    previsoes = model.predict(test_X)\n",
    "    previsoes = previsoes.reshape(-1, 1)\n",
    "    previsoes = sc.inverse_transform(previsoes)\n",
    "    \n",
    "\n",
    "    #Dados de treino\n",
    "    previsoes_treino = model.predict(train_X)\n",
    "    previsoes_treino = previsoes_treino.reshape(-1, 1)\n",
    "    previsoes_treino = sc.inverse_transform(previsoes_treino)\n",
    "    \n",
    "    #Converte os valores de pH normalizados para o valor real de pH.\n",
    "    test = sc.inverse_transform(test)\n",
    "    treino = sc.inverse_transform(train[lags: len(previsoes_treino) + lags, :])\n",
    "    \n",
    "    xlags.append(lags)\n",
    "    \n",
    "    mape_treino.append(mape(previsoes_treino,treino)[0])\n",
    "    mape_teste.append(mape(previsoes,test)[0])\n",
    "    \n",
    "    rmse_treino.append(rmse(previsoes_treino,treino))\n",
    "    rmse_teste.append(rmse(previsoes,test))\n",
    "\n",
    "#print(xlags)\n",
    "#print(mape_treino)\n",
    "#print(mape_teste)\n",
    "#print(len(entradas))\n",
    "#print(inter)\n",
    "    \n",
    "#Plotagem do gráfico MAPE\n",
    "#plt.plot(xlags,mape_treino, color = 'green', label = 'MAPE treino')\n",
    "plt.plot(xlags,score, color = 'green', label = 'score')\n",
    "#plt.title('Desempenho ')\n",
    "plt.xlabel('Janela de visualização (Lags)')\n",
    "plt.ylabel('MAPE')\n",
    "plt.legend()\n",
    "plt.grid()\n",
    "plt.show()\n",
    "    \n",
    "#Plotagem do gráfico RMSE\n",
    "#plt.plot(xlags,rmse_treino, color = 'green', label = 'MAPE treino')\n",
    "plt.plot(xlags,rmse_teste, color = 'green', label = 'RMSE teste')\n",
    "#plt.title('Desempenho ')\n",
    "plt.xlabel('Janela de visualização (Lags)')\n",
    "plt.ylabel('RMSE')\n",
    "plt.legend()\n",
    "plt.grid()\n",
    "plt.show()\n",
    "    \n"
   ]
  },
  {
   "cell_type": "code",
   "execution_count": null,
   "metadata": {},
   "outputs": [],
   "source": []
  },
  {
   "cell_type": "code",
   "execution_count": null,
   "metadata": {},
   "outputs": [],
   "source": []
  },
  {
   "cell_type": "code",
   "execution_count": 238,
   "metadata": {},
   "outputs": [
    {
     "data": {
      "text/plain": [
       "(248, 1)"
      ]
     },
     "execution_count": 238,
     "metadata": {},
     "output_type": "execute_result"
    }
   ],
   "source": []
  },
  {
   "cell_type": "code",
   "execution_count": 251,
   "metadata": {},
   "outputs": [
    {
     "data": {
      "text/plain": [
       "174"
      ]
     },
     "execution_count": 251,
     "metadata": {},
     "output_type": "execute_result"
    }
   ],
   "source": []
  },
  {
   "cell_type": "code",
   "execution_count": null,
   "metadata": {},
   "outputs": [],
   "source": []
  },
  {
   "cell_type": "code",
   "execution_count": null,
   "metadata": {},
   "outputs": [],
   "source": []
  },
  {
   "cell_type": "code",
   "execution_count": null,
   "metadata": {},
   "outputs": [],
   "source": []
  },
  {
   "cell_type": "code",
   "execution_count": null,
   "metadata": {},
   "outputs": [],
   "source": []
  },
  {
   "cell_type": "code",
   "execution_count": null,
   "metadata": {},
   "outputs": [],
   "source": []
  }
 ],
 "metadata": {
  "kernelspec": {
   "display_name": "Python 3",
   "language": "python",
   "name": "python3"
  },
  "language_info": {
   "codemirror_mode": {
    "name": "ipython",
    "version": 3
   },
   "file_extension": ".py",
   "mimetype": "text/x-python",
   "name": "python",
   "nbconvert_exporter": "python",
   "pygments_lexer": "ipython3",
   "version": "3.7.4"
  }
 },
 "nbformat": 4,
 "nbformat_minor": 2
}
